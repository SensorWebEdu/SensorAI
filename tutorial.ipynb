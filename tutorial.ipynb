{
 "cells": [
  {
   "cell_type": "markdown",
   "source": [
    "## Content\n",
    "\n",
    "* Wave Generation\n",
    "    * Sine Wave\n",
    "    * Triangle Wave\n",
    "    * Square Wave\n",
    "    * Chirp Wave\n",
    "    * Pulse Wave\n",
    "\n",
    "* Noises\n",
    "    * White Noise\n",
    "    * Band-Limited White Noise\n",
    "    * Coloured Noise; Pink Noise and Brown Noise\n",
    "    * Impulsive Noise\n",
    "    * Thermal Noise\n",
    "    * Flicker (I/f ) Noise\n",
    "    * Burst Noise\n",
    "    * Echo Noise\n",
    "    * Powerline Noise\n",
    "\n",
    "* Filters\n",
    "    * Linear Filters\n",
    "        * Butterworth Filters: bandpass, bandstop, lowpass, highpass\n",
    "        * Moving Average Filters: Simple, Exponential\n",
    "    * Kalman Filter\n",
    "    * Sample Adaptive Filters\n",
    "        * LMS\n",
    "        * RLS\n",
    "    * Savgol Filter\n",
    "    * Wiener Filter\n",
    "    * Notch Filter\n",
    "    * Matched Filter\n",
    "    * FFT denoising\n",
    "    * Wavelet denoising\n",
    "\n",
    "* Decompose:\n",
    "    * EMD\n",
    "    * EEMD\n",
    "    * CEEMD\n",
    "    * VMD\n",
    "    * Seasonal Decompose\n",
    "    * Singular Spectrum Analysis (SSA)\n",
    "    * Blind source separation\n",
    "        * PCA based\n",
    "        * ICA based (including Fast ICA)\n",
    "\n",
    "* Time Series Averaging by Dynamic Time Warping\n",
    "    * Nonlinear Alignment and Averaging Filter (NLAAF)\n",
    "    * Iterative Cubic-Spline Dynamic Time Warping (ICDTW)\n",
    "    * DTW Barycenter Averaging (DBA)\n",
    "    * Soft DTW Barycenter Averaging (Soft DBA)"
   ],
   "metadata": {
    "collapsed": false,
    "pycharm": {
     "name": "#%% md\n"
    }
   }
  },
  {
   "cell_type": "markdown",
   "source": [
    "### Wave Generation"
   ],
   "metadata": {
    "collapsed": false,
    "pycharm": {
     "name": "#%% md\n"
    }
   }
  },
  {
   "cell_type": "markdown",
   "source": [
    "#### Sine Wave\n",
    "A sine wave is a smooth, repetitive oscillation depicted as\n",
    "$$ y = A \\sin(\\omega t + \\phi) $$\n",
    "\n",
    "It represents a periodic function with a constant amplitude $A$, frequency $ f = \\frac{\\omega}{2\\pi} $, angular frequency $ \\omega $, time $t$, and phase angle $\\phi$. This wave form is fundamental in describing periodic phenomena like sound and light."
   ],
   "metadata": {
    "collapsed": false,
    "pycharm": {
     "name": "#%% md\n"
    }
   }
  },
  {
   "cell_type": "markdown",
   "source": [
    "#### Triangle Wave\n",
    "A triangle wave is a repeating waveform that resembles a series of connected triangles. It is mathematically represented by the equation:\n",
    "$$ y = A \\cdot \\text{tri} \\left( \\frac{t}{T} \\right) $$\n",
    "\n",
    "Here, $ A $ represents the amplitude of the wave, $ t $ is time, and $ T $ is the period of the wave. The \"tri\" function generates a triangular shape as the wave oscillates."
   ],
   "metadata": {
    "collapsed": false,
    "pycharm": {
     "name": "#%% md\n"
    }
   }
  },
  {
   "cell_type": "markdown",
   "source": [
    "\n",
    "#### Square Wave\n",
    "A square wave is a distinct, repetitive waveform characterized by its sharp, square-like shape. It is represented by the mathematical expression:\n",
    "$$ y = A \\, \\text{sign}(\\sin(\\omega t + \\phi)) $$\n",
    "\n",
    "$A$ denotes the amplitude of the wave, $\\omega$ represents the angular frequency, $t$ stands for time, and $\\phi$ is the phase angle. The square wave alternates abruptly between two distinct amplitude levels, creating a waveform that resembles a sequence of square pulses."
   ],
   "metadata": {
    "collapsed": false,
    "pycharm": {
     "name": "#%% md\n"
    }
   }
  },
  {
   "cell_type": "markdown",
   "source": [
    "\n",
    "#### Chirp Wave\n",
    "\n",
    "A chirp wave is a type of signal or waveform that undergoes a continuous change in frequency over time. Mathematically, a chirp wave can be represented by the following equation:\n",
    "\n",
    "$$ y(t) = A \\cdot \\cos\\left[2\\pi \\left(f_0 t + \\frac{1}{2}k t^2\\right) + \\phi \\right] $$\n",
    "\n",
    "Here, $ A $ is the amplitude of the wave, $ f_0 $ is the initial frequency, $ k $ is the rate of frequency change (slope), $t $ represents time, and $ \\phi $ is the phase angle. The term $ \\frac{1}{2}k t^2 $ in the argument of the cosine function indicates the changing frequency over time."
   ],
   "metadata": {
    "collapsed": false,
    "pycharm": {
     "name": "#%% md\n"
    }
   }
  },
  {
   "cell_type": "code",
   "execution_count": null,
   "outputs": [],
   "source": [
    "from dsp import sine_wave, triangle_wave, square_wave, chirp_wave_linear, chirp_wave_hyperbolic, chirp_wave_exponential, pulse_wave\n",
    "\n",
    "sine_ = sine_wave(show=True)\n",
    "triangle_ = triangle_wave(show=True)\n",
    "square_ = square_wave(show=True)\n",
    "chirp_linear_ = chirp_wave_linear(show=True)\n",
    "chirp_hyperbolic_ = chirp_wave_hyperbolic(show=True)\n",
    "chirp_exponential_ = chirp_wave_exponential(show=True)\n",
    "pulse_ = pulse_wave(show=True)"
   ],
   "metadata": {
    "collapsed": false,
    "pycharm": {
     "name": "#%%\n"
    },
    "is_executing": true
   }
  },
  {
   "cell_type": "markdown",
   "source": [
    "### Add Noise"
   ],
   "metadata": {
    "collapsed": false,
    "pycharm": {
     "name": "#%% md\n"
    }
   }
  },
  {
   "cell_type": "markdown",
   "source": [
    " **White Noise:** White noise $ W(t) $ has constant power spectral density: $ S_W(f) = \\text{constant} $\n",
    "\n",
    " **Band-Limited White Noise:** Band-limited white noise $ B(t) $ is confined to a frequency range $[f_1, f_2]$: $ S_B(f) = \\begin{cases} \\text{constant}, & \\text{if } f_1 \\leq |f| \\leq f_2 \\\\ 0, & \\text{otherwise} \\end{cases} $\n",
    "\n",
    " **Impulsive Noise:** Impulsive noise $ I(t) $ is characterized by Dirac delta functions: $ I(t) = \\sum_{n} A_n \\delta(t - t_n) $\n",
    "\n",
    "**Burst Noise:**  Burst noise $ B(t) $ is modeled as a sum of pulses: $ B(t) = \\sum_{n} A_n \\text{sinc}(\\omega t - \\phi_n) $\n",
    "\n",
    "**Brown Noise:** Brown noise $ X(t)$ is integrated white noise: $ X(t) = \\int_{0}^{t} W(\\tau) d\\tau $\n",
    "\n",
    "**Pink Noise:** Pink noise $ P(t) $ has a power spectral density inversely proportional to frequency: $ S_P(f) = \\frac{\\text{constant}}{f} $\n",
    "\n",
    "**Flicker Noise:** Flicker noise $ F(t) $ exhibits a power spectral density proportional to $ \\frac{1}{f} $: $ S_F(f) \\propto \\frac{1}{f} $\n",
    "\n",
    "**Powerline Noise:** Powerline noise $ P(t) $ interferes with signals, often sinusoidal: $ P(t) = A \\sin(2\\pi f_{\\text{power}} t) $\n",
    "\n",
    "**Resonance Noise:** Resonance noise $ R(t) $ arises from resonant frequencies: $ R(t) = \\sum_{n} A_n \\sin(\\omega_n t + \\phi_n) $"
   ],
   "metadata": {
    "collapsed": false,
    "pycharm": {
     "name": "#%% md\n"
    }
   }
  },
  {
   "cell_type": "code",
   "execution_count": null,
   "outputs": [],
   "source": [
    "from dsp import load_demo\n",
    "import matplotlib.pyplot as plt\n",
    "\n",
    "signal, time, duration, sampling_rate = load_demo()\n",
    "\n",
    "plt.plot(time, signal)\n",
    "plt.ylabel('Amplitude')\n",
    "plt.xlabel('Time')\n",
    "plt.title('Clean Signal')\n",
    "plt.show()"
   ],
   "metadata": {
    "collapsed": false,
    "pycharm": {
     "name": "#%%\n"
    },
    "is_executing": true
   }
  },
  {
   "cell_type": "code",
   "execution_count": null,
   "outputs": [],
   "source": [
    "from dsp import add_white_noise, load_demo\n",
    "signal, _, _, _= load_demo()\n",
    "\n",
    "signal_with_white_noise = add_white_noise(signal, show=True)"
   ],
   "metadata": {
    "collapsed": false,
    "pycharm": {
     "name": "#%%\n"
    },
    "is_executing": true
   }
  },
  {
   "cell_type": "code",
   "execution_count": null,
   "outputs": [],
   "source": [
    "from dsp import add_band_limited_white_noise, load_demo\n",
    "signal, _, _, _= load_demo()\n",
    "\n",
    "signal_with_band_limited_white_noise = add_band_limited_white_noise(signal, noise_amplitude=0.3, show=True)"
   ],
   "metadata": {
    "collapsed": false,
    "pycharm": {
     "name": "#%%\n"
    },
    "is_executing": true
   }
  },
  {
   "cell_type": "code",
   "execution_count": null,
   "outputs": [],
   "source": [
    "from dsp import add_impulsive_noise, load_demo\n",
    "signal, _, _, _= load_demo()\n",
    "\n",
    "signal_with_impulsive_noise = add_impulsive_noise(signal, noise_amplitude=1, number=25, show=True)"
   ],
   "metadata": {
    "collapsed": false,
    "pycharm": {
     "name": "#%%\n"
    },
    "is_executing": true
   }
  },
  {
   "cell_type": "code",
   "execution_count": null,
   "outputs": [],
   "source": [
    "from dsp import add_burst_noise, load_demo\n",
    "signal, _, _, _= load_demo()\n",
    "signal_with_burst_noise = add_burst_noise(signal, noise_amplitude=0.3, show=True)"
   ],
   "metadata": {
    "collapsed": false,
    "pycharm": {
     "name": "#%%\n"
    },
    "is_executing": true
   }
  },
  {
   "cell_type": "code",
   "execution_count": null,
   "outputs": [],
   "source": [
    "from dsp import add_colored_noise, load_demo\n",
    "signal, _, _, _= load_demo()\n",
    "signal_with_pink_noise = add_colored_noise(signal, model=0, show=True)\n",
    "signal_with_brown_noise = add_colored_noise(signal, model=1, show=True)"
   ],
   "metadata": {
    "collapsed": false,
    "pycharm": {
     "name": "#%%\n"
    },
    "is_executing": true
   }
  },
  {
   "cell_type": "code",
   "execution_count": null,
   "outputs": [],
   "source": [
    "from dsp import add_flicker_noise, load_demo\n",
    "signal, _, _, _= load_demo()\n",
    "signal_with_flicker_noise = add_flicker_noise(signal, show=True)"
   ],
   "metadata": {
    "collapsed": false,
    "pycharm": {
     "name": "#%%\n"
    },
    "is_executing": true
   }
  },
  {
   "cell_type": "code",
   "execution_count": null,
   "outputs": [],
   "source": [
    "from dsp import add_powerline_noise, load_demo\n",
    "signal, _, _, _= load_demo()\n",
    "# signal_with_thermal_noise = add_thermal_noise(signal, show=True)\n",
    "signal_with_power_line = add_powerline_noise(signal, show=True)"
   ],
   "metadata": {
    "collapsed": false,
    "pycharm": {
     "name": "#%%\n"
    },
    "is_executing": true
   }
  },
  {
   "cell_type": "code",
   "execution_count": null,
   "outputs": [],
   "source": [
    "from dsp import add_echo_noise, load_demo\n",
    "signal, _, _, _= load_demo()\n",
    "\n",
    "attenuation_factor = [0.8, 0.6, 0.4]\n",
    "delay_factor = [10, 25, 40]\n",
    "noisy_signal = add_echo_noise(signal, 3, attenuation_factor, delay_factor, show=True)"
   ],
   "metadata": {
    "collapsed": false,
    "pycharm": {
     "name": "#%%\n"
    },
    "is_executing": true
   }
  },
  {
   "cell_type": "code",
   "execution_count": null,
   "outputs": [],
   "source": [
    "from dsp import add_distort_noise, load_demo\n",
    "signal, _, _, _= load_demo()\n",
    "signal_with_lowfreq_noise = add_distort_noise(signal, n_samples=1000,sampling_rate=100, noise_frequency=5, noise_amplitude=0.3, show=True )\n",
    "\n",
    "signal_with_highfreq_noise = add_distort_noise(signal, n_samples=1000,sampling_rate=100, noise_frequency=40, noise_amplitude=0.3, show=True )"
   ],
   "metadata": {
    "collapsed": false,
    "pycharm": {
     "name": "#%%\n"
    },
    "is_executing": true
   }
  },
  {
   "cell_type": "markdown",
   "source": [
    "### Decompose\n"
   ],
   "metadata": {
    "collapsed": false,
    "pycharm": {
     "name": "#%% md\n"
    }
   }
  },
  {
   "cell_type": "markdown",
   "source": [
    "###### 1. **Seasonal Decomposition:**\n",
    "   Seasonal decomposition is a time series analysis method that separates a time series into its trend, seasonal, and residual components. The model can be expressed as $y(t) = T(t) + S(t) + R(t)$, where $T(t)$ is the trend, $S(t)$ is the seasonal component, and $R(t)$ is the residual."
   ],
   "metadata": {
    "collapsed": false,
    "pycharm": {
     "name": "#%% md\n"
    }
   }
  },
  {
   "cell_type": "markdown",
   "source": [
    "\n",
    "###### 2. **Empirical Mode Decomposition (EMD):**\n",
    "   EMD decomposes a signal into intrinsic mode functions (IMFs) based on local extrema. Each IMF represents a specific oscillatory mode. Mathematically, a signal $x(t)$ is decomposed as $x(t) = \\sum_{i=1}^{n} C_i(t) + R(t)$, where $C_i(t)$ is the $i$-th IMF and $R(t)$ is the residual."
   ],
   "metadata": {
    "collapsed": false,
    "pycharm": {
     "name": "#%% md\n"
    }
   }
  },
  {
   "cell_type": "markdown",
   "source": [
    "\n",
    "###### 3. **Ensemble Empirical Mode Decomposition (EEMD):**\n",
    "   EEMD is an extension of EMD that addresses mode mixing by adding noise and performing multiple decompositions. It aims to improve the decomposition results by providing a more stable representation of the signal's components."
   ],
   "metadata": {
    "collapsed": false,
    "pycharm": {
     "name": "#%% md\n"
    }
   }
  },
  {
   "cell_type": "markdown",
   "source": [
    "\n",
    "###### 4. **Complete Ensemble Empirical Mode Decomposition (CEEMD):**\n",
    "   CEEMD is a further enhancement of EEMD that uses an ensemble of EMD decompositions with different white noise added at each iteration. It improves upon EEMD by reducing the residual error and enhancing the decomposition's accuracy."
   ],
   "metadata": {
    "collapsed": false,
    "pycharm": {
     "name": "#%% md\n"
    }
   }
  },
  {
   "cell_type": "markdown",
   "source": [
    "\n",
    "###### 5. **Variational Mode Decomposition (VMD):**\n",
    "   VMD decomposes a signal into a set of oscillatory modes with varying frequencies. It minimizes the mode mixing problem by solving a variational optimization problem. The decomposition can be expressed as $x(t) = \\sum_{i=1}^{n} u_i(t) + R(t)$, where $u_i(t)$ are the modes and $R(t)$ is the residual."
   ],
   "metadata": {
    "collapsed": false,
    "pycharm": {
     "name": "#%% md\n"
    }
   }
  },
  {
   "cell_type": "code",
   "execution_count": null,
   "outputs": [],
   "source": [
    "from dsp import seasonal_decomposition, load_demo\n",
    "signal, _, _, _= load_demo()\n",
    "_ = seasonal_decomposition(signal, show=True)"
   ],
   "metadata": {
    "collapsed": false,
    "pycharm": {
     "name": "#%%\n"
    },
    "is_executing": true
   }
  },
  {
   "cell_type": "code",
   "execution_count": null,
   "outputs": [],
   "source": [
    "from dsp import emd_decomposition, load_demo\n",
    "signal, _, _, _= load_demo()\n",
    "_ = emd_decomposition(signal, show=True)"
   ],
   "metadata": {
    "collapsed": false,
    "pycharm": {
     "name": "#%%\n"
    },
    "is_executing": true
   }
  },
  {
   "cell_type": "code",
   "execution_count": null,
   "outputs": [],
   "source": [
    "from dsp import eemd_decomposition, load_demo\n",
    "signal, _, _, _= load_demo()\n",
    "_ = eemd_decomposition(signal, show=True)"
   ],
   "metadata": {
    "collapsed": false,
    "pycharm": {
     "name": "#%%\n"
    },
    "is_executing": true
   }
  },
  {
   "cell_type": "code",
   "execution_count": null,
   "outputs": [],
   "source": [
    "from dsp import ceemd_decomposition, load_demo\n",
    "signal, _, _, _= load_demo()\n",
    "_ = ceemd_decomposition(signal, show=True)"
   ],
   "metadata": {
    "collapsed": false,
    "pycharm": {
     "name": "#%%\n"
    },
    "is_executing": true
   }
  },
  {
   "cell_type": "code",
   "execution_count": null,
   "outputs": [],
   "source": [
    "from dsp import vmd_decomposition, load_demo\n",
    "signal, _, _, _= load_demo()\n",
    "_ = vmd_decomposition(signal, show=True)\n",
    "\n",
    "# serial_emd_decomposition(signals[:5, :], num_interval=5)"
   ],
   "metadata": {
    "collapsed": false,
    "pycharm": {
     "name": "#%%\n"
    },
    "is_executing": true
   }
  },
  {
   "cell_type": "code",
   "execution_count": null,
   "outputs": [],
   "source": [
    "# Source code of SSA from https://www.kaggle.com/jdarcy/introducing-ssa-for-time-series-decomposition\n",
    "# you can also check this link for details\n",
    "\n",
    "from dsp import SSA, load_demo\n",
    "signal, time, _, _ = load_demo(noise_level=0.8)\n",
    "\n",
    "# Apply Singular Spectrum Analysis (SSA) to the selected signal\n",
    "ssa_signal = SSA(signal, 100)\n",
    "\n",
    "# Calculate and store the within-correlation matrix\n",
    "ssa_signal.calc_wcorr()\n",
    "Wcorr_matrix = ssa_signal.Wcorr\n",
    "\n",
    "# Plot the within-correlation matrix\n",
    "ssa_signal.plot_wcorr()\n",
    "plt.title(r\"W-Correlation for Components 0–100\")\n",
    "plt.show()\n",
    "\n",
    "# Create subplots to visualize different components of the signal\n",
    "plt.subplots(3, 1)\n",
    "\n",
    "# Plot the original signal and its trend component\n",
    "plt.subplot(3, 1, 1)\n",
    "ssa_signal.orig_TS.plot(alpha=0.3)  # Plot original signal with transparency\n",
    "ssa_signal.reconstruct(slice(0, 10)).plot()  # Plot reconstructed trend component\n",
    "plt.title(\"Trend of signal\")\n",
    "\n",
    "# Plot the original signal and its periodic component\n",
    "plt.subplot(3, 1, 2)\n",
    "ssa_signal.orig_TS.plot(alpha=0.3)\n",
    "ssa_signal.reconstruct(slice(11, 46)).plot()  # Plot reconstructed periodic component\n",
    "plt.title(\"Period of signal\")\n",
    "\n",
    "# Plot the original signal and its noise component\n",
    "plt.subplot(3, 1, 3)\n",
    "# ssa_signal.orig_TS.plot(alpha=0.3)\n",
    "ssa_signal.reconstruct(slice(46, 100)).plot()  # Plot reconstructed noise component\n",
    "plt.title(\"Noise of signal\")\n",
    "\n",
    "# Display the plots\n",
    "plt.show()\n"
   ],
   "metadata": {
    "collapsed": false,
    "pycharm": {
     "name": "#%%\n"
    },
    "is_executing": true
   }
  },
  {
   "cell_type": "markdown",
   "source": [
    "###### Blind Source Separation\n",
    "BSS is a signal processing technique that aims to extract independent source signals from their observed mixtures. Two widely used methods for BSS are Principal Component Analysis (PCA) and Independent Component Analysis (ICA)."
   ],
   "metadata": {
    "collapsed": false,
    "pycharm": {
     "name": "#%% md\n"
    }
   }
  },
  {
   "cell_type": "markdown",
   "source": [
    "\n",
    "###### PCA-Based Blind Source Separation\n",
    "PCA is employed to transform the observed mixed signals into a new set of uncorrelated variables called principal components. In the context of BSS, PCA can be applied to the covariance matrix of the observed signals. The principal components are ordered in terms of their variances, and by selecting a subset of these components, one can achieve a decorrelated representation of the mixed signals. However, PCA does not guarantee independence."
   ],
   "metadata": {
    "collapsed": false,
    "pycharm": {
     "name": "#%% md\n"
    }
   }
  },
  {
   "cell_type": "markdown",
   "source": [
    "\n",
    "###### ICA-Based Blind Source Separation\n",
    "ICA takes the process further by aiming to find a linear transformation of the observed signals such that the resulting components are statistically independent. The key assumption is that the sources are statistically independent, which allows ICA to effectively separate them. Mathematically, given a matrix $ $ representing the observed mixtures, ICA seeks a demixing matrix $ W $ such that $ S = WX $, where $ S $ contains the estimated source signals.\n",
    "\n",
    "The optimization problem in ICA is often formulated as maximizing the non-Gaussianity of the estimated sources. One common approach uses negentropy as a measure of non-Gaussianity, leading to objective functions like:\n",
    "\n",
    "$$ J(W) = \\sum_{i=1}^{n}[E\\{G(u_i)\\} - E\\{G(v_i)\\}] $$\n",
    "\n",
    "where $ u_i $ is the i-th estimated source, $ v_i $ is the i-th component of the observed mixtures, $ G(\\cdot) $ is a nonlinear function, and $ E\\{\\cdot\\} $ denotes expectation.\n",
    "\n",
    "In summary, while PCA focuses on decorrelating signals, ICA goes a step further by exploiting the statistical independence of sources, making it a powerful tool for blind source separation in scenarios where source signals are assumed to be statistically independent."
   ],
   "metadata": {
    "collapsed": false,
    "pycharm": {
     "name": "#%% md\n"
    }
   }
  },
  {
   "cell_type": "code",
   "execution_count": null,
   "outputs": [],
   "source": [
    "from dsp import bss_ica, bss_pca, load_demo\n",
    "import numpy as np\n",
    "# We simulate three people lying in bed, and there are three sensors detecting their SCG signals.\n",
    "# For each sensor, it receives a combination of three SCG signals, each with a certain time delay\n",
    "# and attenuation.\n",
    "s1, _, _, _ = load_demo(noise_level=0, signal_idx=1)\n",
    "s2, _, _, _ = load_demo(noise_level=0, signal_idx=3)\n",
    "s3, _, _, _ = load_demo(noise_level=0, signal_idx=4)\n",
    "\n",
    "\n",
    "S = np.c_[s1, s2, s3]\n",
    "print(S.shape)\n",
    "\n",
    "S /= S.std(axis=0)  # Standardize data\n",
    "\n",
    "# Mix data\n",
    "A = np.array([[0.9, 0.8, 1], [0.5, 0.85, 1.0], [0.9, 0.6, 0.8]])  # Mixing matrix\n",
    "X = np.dot(S, A.T)  # Generate observations\n",
    "\n",
    "S_, A_ = bss_ica(X, 3)\n",
    "H = bss_pca(X, 3)\n",
    "\n",
    "models = [X, S, S_, H]\n",
    "names = ['Observations (mixed signal)', 'True Sources', 'ICA recovered signals', 'PCA recovered signals']\n",
    "colors = ['red', 'steelblue', 'orange']\n",
    "\n",
    "plt.figure(figsize=(12, 8))\n",
    "for ii, (model, name) in enumerate(zip(models, names), 1):\n",
    "    plt.subplot(4, 1, ii)\n",
    "    plt.title(name)\n",
    "    for sig, color in zip(model.T, colors):\n",
    "        plt.plot(sig, color=color)\n",
    "        plt.ylabel('Amplitude')\n",
    "        plt.xlabel('Time')\n",
    "plt.tight_layout();plt.show()"
   ],
   "metadata": {
    "collapsed": false,
    "pycharm": {
     "name": "#%%\n"
    },
    "is_executing": true
   }
  },
  {
   "cell_type": "markdown",
   "source": [
    "#### Linear Filter"
   ],
   "metadata": {
    "collapsed": false,
    "pycharm": {
     "name": "#%% md\n"
    }
   }
  },
  {
   "cell_type": "markdown",
   "source": [
    "\n",
    "\n",
    "##### 1. **Butterworth Filter:**\n",
    "   The Butterworth filter is a popular linear filter designed to pass signals within a specified frequency range while attenuating frequencies outside that range. It is characterized by a smooth frequency response and is commonly used in signal processing and communications. Mathematically, the filter transfer function is given by $H(s) = \\frac{1}{1 + (\\frac{s}{\\omega_c})^{2n}}$, where $s$ is the complex frequency variable, $\\omega_c$ is the cutoff frequency, and $n$ is the filter order.\n",
    "\n",
    "##### 2. **Simple Moving Average (SMA) Filter:**\n",
    "   The SMA filter is a basic time-domain filter that computes the average of a specified number of consecutive data points. It provides a simple means of smoothing a time series to reveal underlying trends. Mathematically, the SMA for a window size $N$ is given by $y(t) = \\frac{1}{N} \\sum_{i=1}^{N} x(t-i+1)$.\n",
    "\n",
    "##### 3. **Exponential Moving Average (EMA) Filter:**\n",
    "   The EMA filter assigns exponentially decreasing weights to past data points, giving more importance to recent observations. It is widely used for trend analysis and noise reduction. Mathematically, the EMA is defined by $y(t) = \\alpha x(t) + (1-\\alpha)y(t-1)$, where $\\alpha$ is the smoothing factor."
   ],
   "metadata": {
    "collapsed": false,
    "pycharm": {
     "name": "#%% md\n"
    }
   }
  },
  {
   "cell_type": "code",
   "execution_count": null,
   "outputs": [],
   "source": [
    "from dsp import butter_highpass_filter\n",
    "from dsp import load_demo\n",
    "signal, _, _, _= load_demo()\n",
    "\n",
    "# signal_with_3Hz_Noise, Add noise with a frequency of 3 to the signal. The amplitude of the noise is noise_amplitude * np.std(signal).\n",
    "signal_with_3Hz_Noise = add_distort_noise(signal, n_samples=1000, sampling_rate=100,noise_frequency=3,  noise_amplitude=0.3, show=True)\n",
    "filtered_signal_1 = butter_highpass_filter(signal_with_3Hz_Noise, cutoff=3.5, show=True)"
   ],
   "metadata": {
    "collapsed": false,
    "pycharm": {
     "name": "#%%\n"
    },
    "is_executing": true
   }
  },
  {
   "cell_type": "code",
   "execution_count": null,
   "outputs": [],
   "source": [
    "from dsp import butter_lowpass_filter\n",
    "from dsp import load_demo\n",
    "signal, _, _, _= load_demo()\n",
    "\n",
    "signal_with_45Hz_sine_noise = signal+sine_wave(frequency=45, amplitude=0.8e-6, show=False)\n",
    "filtered_signal_2 = butter_lowpass_filter(signal_with_45Hz_sine_noise, cutoff=42.5, show=True)"
   ],
   "metadata": {
    "collapsed": false,
    "pycharm": {
     "name": "#%%\n"
    },
    "is_executing": true
   }
  },
  {
   "cell_type": "code",
   "execution_count": null,
   "outputs": [],
   "source": [
    "from dsp import butter_bandpass_filter, load_demo\n",
    "signal, _, _, _= load_demo()\n",
    "\n",
    "signal_with_1Hz_and_45Hz_sine_noise = signal+sine_wave(frequency=45, amplitude=0.8e-6, show=False)+sine_wave(frequency=1, amplitude=1e-6, show=False)\n",
    "filtered_signal_3 = butter_bandpass_filter(signal_with_1Hz_and_45Hz_sine_noise, lowcut=1.5, highcut=42.5, show=True)"
   ],
   "metadata": {
    "collapsed": false,
    "pycharm": {
     "name": "#%%\n"
    },
    "is_executing": true
   }
  },
  {
   "cell_type": "code",
   "execution_count": null,
   "outputs": [],
   "source": [
    "from dsp import butter_bandstop_filter, load_demo, sine_wave\n",
    "signal, _, _, _= load_demo()\n",
    "\n",
    "sine_noise = sine_wave(frequency=10, amplitude=0.8e-6, show=False)\n",
    "signal_with_10Hz_sine_noise = signal + sine_noise\n",
    "plt.plot(signal_with_10Hz_sine_noise)\n",
    "plt.title('Signal with 10Hz Sine Noise');plt.show()\n",
    "filtered_signal_4 = butter_bandstop_filter(signal_with_10Hz_sine_noise, lowcut=9, highcut=11, show=True)"
   ],
   "metadata": {
    "collapsed": false,
    "pycharm": {
     "name": "#%%\n"
    },
    "is_executing": true
   }
  },
  {
   "cell_type": "code",
   "execution_count": null,
   "outputs": [],
   "source": [
    "from dsp import simple_moving_average_filter, exponential_moving_average_filter, load_demo, add_distort_noise\n",
    "signal, _, _, _= load_demo()\n",
    "\n",
    "# signal_with_40Hz_Noise, Add noise with a frequency of 40 to the signal. The amplitude of the noise is noise_amplitude * np.std(signal).\n",
    "signal_with_40Hz_Noise = add_distort_noise(signal, n_samples=1000, sampling_rate=100,noise_frequency=40,  noise_amplitude=0.3, show=True)\n",
    "\n",
    "filtered_signal_5 = simple_moving_average_filter(signal_with_40Hz_Noise, length=5, show=True)\n",
    "filtered_signal_6 = exponential_moving_average_filter(signal_with_40Hz_Noise, length=5, show=True)"
   ],
   "metadata": {
    "collapsed": false,
    "pycharm": {
     "name": "#%%\n"
    },
    "is_executing": true
   }
  },
  {
   "cell_type": "markdown",
   "source": [
    "#### Advanced Filter\n"
   ],
   "metadata": {
    "collapsed": false,
    "pycharm": {
     "name": "#%% md\n"
    }
   }
  },
  {
   "cell_type": "markdown",
   "source": [
    "##### 1. **Savitzky-Golay Filter (savgol_filter):**\n",
    "   The Savitzky-Golay filter is a smoothing algorithm that preserves important features of a signal while reducing noise. It employs polynomial fitting within a sliding window to smooth the data. Mathematically, the filter coefficients are determined by least squares fitting, providing a balance between noise reduction and signal preservation.\n",
    "\n",
    "##### 2. **Wiener Filter:**\n",
    "   The Wiener filter is an optimal linear filter used for signal deconvolution and noise reduction. It minimizes mean-squared error between the estimated signal and the true signal, enhancing signal-to-noise ratio. Mathematically, the Wiener filter in the frequency domain is given by $H(f) = \\frac{S_x(f)}{S_x(f) + S_n(f)}$, where $S_x(f)$ is the signal power spectrum, $S_n(f)$ is the noise power spectrum.\n",
    "\n",
    "##### 3. **Notch Filter:**\n",
    "   The notch filter is designed to suppress specific frequencies, often used to eliminate unwanted interference or noise at a particular frequency. It creates a notch or a dip in the frequency response centered around the target frequency. Mathematically, the transfer function of a notch filter can be represented as $H(f) = \\frac{1}{1 + \\frac{(f/f_0)^2}{Q}}$, where $f_0$ is the center frequency, and $Q$ is the quality factor.\n",
    "\n",
    "##### 4. **Matched Filter:**\n",
    "   The matched filter is a signal processing filter that maximizes the signal-to-noise ratio for a known signal when embedded in noise. It is particularly effective in detecting signals with a known template. Mathematically, the matched filter output is the convolution of the received signal and the time-reversed conjugate of the template signal.\n"
   ],
   "metadata": {
    "collapsed": false,
    "pycharm": {
     "name": "#%% md\n"
    }
   }
  },
  {
   "cell_type": "code",
   "execution_count": null,
   "outputs": [],
   "source": [
    "from dsp import savgol_filter, load_demo, add_distort_noise\n",
    "import matplotlib.pyplot as plt\n",
    "\n",
    "signal, _, _, _= load_demo()\n",
    "\n",
    "# =========== Usage 1 ===========\n",
    "\n",
    "# Construct Data for savgol_filter\n",
    "# it's nice for us to use savgol_filter to get rid of low frequency Noise\n",
    "# signal_with_5Hz_Noise, Add noise with a frequency of 5 to the signal. The amplitude of the noise is noise_amplitude * np.std(signal).\n",
    "signal_with_5Hz_noise = add_distort_noise(signal, n_samples=1000, sampling_rate=100,noise_frequency=5,  noise_amplitude=0.8, show=True)\n",
    "\n",
    "# we can use a savgol filter whose window size is 16 to get the low frequency noise\n",
    "filtered_signal_7 = savgol_filter(signal_with_5Hz_noise, window_length=16, show=False)\n",
    "\n",
    "# filtered signal  = noisy signal - output of savgol filter\n",
    "_, axes = plt.subplots(nrows=1, ncols=2, figsize=(9, 3))\n",
    "\n",
    "axes[0].plot(signal_with_5Hz_noise, label='noisy Signal')\n",
    "axes[0].plot(filtered_signal_7, label='filtered signal')\n",
    "axes[1].plot(signal_with_5Hz_noise, label='noisy signal')\n",
    "axes[1].plot(signal_with_5Hz_noise - filtered_signal_7, label='detrended signal')\n",
    "plt.legend()\n",
    "plt.show()"
   ],
   "metadata": {
    "collapsed": false,
    "pycharm": {
     "name": "#%%\n"
    },
    "is_executing": true
   }
  },
  {
   "cell_type": "code",
   "execution_count": null,
   "outputs": [],
   "source": [
    "from dsp import savgol_filter, load_demo, sine_wave\n",
    "signal, _, _, _= load_demo()\n",
    "\n",
    "# =========== Usage 2 ===========\n",
    "# Use savgol_filter to get derivative of signal\n",
    "\n",
    "filtered_signal_7_2 = savgol_filter(signal, window_length=16, deriv=1, delta=1.0, show=True)\n",
    "\n",
    "sine4sg = sine_wave()\n",
    "filtered_sine4sg = savgol_filter(sine4sg, window_length=16, deriv=1, delta=1.0, show=True)"
   ],
   "metadata": {
    "collapsed": false,
    "pycharm": {
     "name": "#%%\n"
    },
    "is_executing": true
   }
  },
  {
   "cell_type": "code",
   "execution_count": null,
   "outputs": [],
   "source": [
    "from dsp import wiener_filter, load_demo\n",
    "import numpy as np\n",
    "signal, _, _, _= load_demo()\n",
    "\n",
    "# wiener_filter needs to know the statistical feature of noise\n",
    "# construct the data for wiener filter\n",
    "noise_amp = 0.2\n",
    "noise = np.random.normal(loc=0.0, scale=1.0*noise_amp, size=signal.shape) * np.max(signal)\n",
    "filtered_signal_8 = wiener_filter(signal + noise, noise, show=True)"
   ],
   "metadata": {
    "collapsed": false,
    "pycharm": {
     "name": "#%%\n"
    },
    "is_executing": true
   }
  },
  {
   "cell_type": "code",
   "execution_count": null,
   "outputs": [],
   "source": [
    "from dsp import notch_filter, load_demo, add_distort_noise\n",
    "signal, _, _, _= load_demo()\n",
    "\n",
    "# The notch filter is designed to suppress specific frequencies\n",
    "# The 'q' parameter controls the width of the notch; higher 'q' values create narrower notches.\n",
    "\n",
    "signal_with_3Hz_Noise = add_distort_noise(signal, n_samples=1000, sampling_rate=100,noise_frequency=3,  noise_amplitude=0.3, show=True)\n",
    "signal_with_40Hz_Noise = add_distort_noise(signal, n_samples=1000, sampling_rate=100,noise_frequency=40,  noise_amplitude=0.3, show=True)\n",
    "\n",
    "filtered_signal_9_1 = notch_filter(signal_with_3Hz_Noise, cutoff=3, q=8, fs=100, show=True)\n",
    "filtered_signal_9_2 = notch_filter(signal_with_40Hz_Noise, cutoff=40, q=5, fs=100, show=True)"
   ],
   "metadata": {
    "collapsed": false,
    "pycharm": {
     "name": "#%%\n"
    },
    "is_executing": true
   }
  },
  {
   "cell_type": "code",
   "execution_count": null,
   "outputs": [],
   "source": [
    "from dsp import matched_filter, load_demo, add_distort_noise\n",
    "import numpy as np\n",
    "import matplotlib.pyplot as plt\n",
    "\n",
    "signal, _, _, _= load_demo()\n",
    "\n",
    "# construct Data for matched filter\n",
    "# the amplitude of 40Hh noise is very large\n",
    "signal_with_40Hz_Noise_ = add_distort_noise(signal, n_samples=1000, sampling_rate=100,noise_frequency=40, noise_amplitude=0.8, show=True)\n",
    "\n",
    "\n",
    "fig, axes = plt.subplots(nrows=2, ncols=2, figsize=(12, 6))\n",
    "\n",
    "\n",
    "# if we could get a clean template as the input of Matched Filter\n",
    "clean_template = signal[:64]\n",
    "filtered_signal_10_1 = matched_filter(signal_with_40Hz_Noise_, clean_template, show=False)\n",
    "axes[0, 0].plot(filtered_signal_10_1);axes[0, 0].set_title('Filtered Signal with Clean Template')\n",
    "# The pronounced peaks in the output of Matched Filter indicates the likelihood of a signal match\n",
    "\n",
    "# We can make it more prominent by squaring the filtered signal.\n",
    "axes[0, 1].plot(np.square(filtered_signal_10_1));axes[0, 1].set_title('Squared Filtered Signal with Clean Template')\n",
    "\n",
    "# Take a noisy template as the input of Matched Filter\n",
    "noisy_template = signal_with_40Hz_Noise_[:64]\n",
    "filtered_signal_10_2 = matched_filter(signal_with_40Hz_Noise_, noisy_template, show=False)\n",
    "axes[1, 0].plot(filtered_signal_10_2);axes[1, 0].set_title('Filtered Signal with Noisy Template')\n",
    "axes[1, 1].plot(np.square(filtered_signal_10_2));axes[1, 1].set_title('Squared Filtered Signal with Noisy Template')\n",
    "\n",
    "# The effect of using a clean template as input is much better than using a noisy template as input.\n",
    "\n",
    "plt.tight_layout()\n",
    "plt.show()\n"
   ],
   "metadata": {
    "collapsed": false,
    "pycharm": {
     "name": "#%%\n"
    },
    "is_executing": true
   }
  },
  {
   "cell_type": "markdown",
   "source": [
    "#### FFT, Wavelet Denoising"
   ],
   "metadata": {
    "collapsed": false,
    "pycharm": {
     "name": "#%% md\n"
    }
   }
  },
  {
   "cell_type": "markdown",
   "source": [
    "##### 1. **Wavelet Denoising:**\n",
    "   Wavelet denoising is a technique that utilizes wavelet transforms to remove noise from signals or images. It decomposes the signal into different frequency components, thresholds the coefficients, and reconstructs the signal, effectively reducing noise. Mathematically, the denoised signal $y(t)$ is obtained by thresholding wavelet coefficients $W_j$ at a certain level: $y(t) = \\sum_{j} \\text{Threshold}(W_j)$.\n",
    "\n",
    "##### 2. **FFT Denoise:**\n",
    "   FFT denoising employs the Fast Fourier Transform (FFT) to analyze and filter out unwanted frequency components from a signal. By transforming the signal into the frequency domain, one can selectively remove or attenuate specific frequency bands associated with noise. Mathematically, denoising is achieved by zeroing or attenuating certain frequency components in the Fourier-transformed signal, followed by an inverse FFT to obtain the denoised signal."
   ],
   "metadata": {
    "collapsed": false,
    "pycharm": {
     "name": "#%% md\n"
    }
   }
  },
  {
   "cell_type": "code",
   "execution_count": null,
   "outputs": [],
   "source": [
    "from dsp import fft_denoise, load_demo\n",
    "import numpy as np\n",
    "import matplotlib.pyplot as plt\n",
    "\n",
    "signal, t, _, fs= load_demo()\n",
    "\n",
    "# Construct Data for fft denoising\n",
    "# use sin wave to simulate the breath effect\n",
    "\n",
    "omega = 0.4\n",
    "rr = np.sin(2 * np.pi * omega * t) + 2\n",
    "signal_RR = signal * rr\n",
    "\n",
    "\n",
    "_, axes = plt.subplots(nrows=2, ncols=2, figsize=(12, 6))\n",
    "axes[0, 0].plot(signal_RR);axes[0, 0].set_title('Signal with Breath Effect')\n",
    "axes[0, 1].plot(signal);axes[0, 1].set_title('Clean Signal')\n",
    "# Let's look at the difference in frequency domain\n",
    "\n",
    "fft_result_clean = np.fft.fft(signal)\n",
    "fft_freq_clean = np.fft.fftfreq(len(signal), 1/fs)\n",
    "spectrum_clean = np.abs(fft_result_clean)\n",
    "\n",
    "axes[1, 1].plot(fft_freq_clean[:len(fft_freq_clean) // 2], spectrum_clean[:len(fft_result_clean) // 2])\n",
    "axes[1, 1].set_title('Frequency of Clean Signal')\n",
    "\n",
    "#\n",
    "# plt.plot(fft_freq_clean[:len(fft_freq_clean) // 2], spectrum_clean[:len(fft_result_clean) // 2], label='Frequency of Clean Signal')\n",
    "# plt.title('Frequency Domain');plt.xlabel('Frequency (Hz)');plt.ylabel('Magnitude');plt.legend();plt.show()\n",
    "\n",
    "fft_result = np.fft.fft(signal_RR)\n",
    "fft_freq = np.fft.fftfreq(len(signal_RR), 1/fs)\n",
    "spectrum = np.abs(fft_result)\n",
    "\n",
    "axes[1, 0].plot(fft_freq[:len(fft_freq) // 2], spectrum[:len(fft_freq) // 2])\n",
    "axes[1, 0].set_title('Frequency of Signal with RR')\n",
    "\n",
    "plt.tight_layout()\n",
    "plt.show()\n",
    "\n",
    "# use fft to denoise\n",
    "filtered_signal_12 = fft_denoise(signal_RR, threshold = 0.5e-5 ** 2, show=True)"
   ],
   "metadata": {
    "collapsed": false,
    "pycharm": {
     "name": "#%%\n"
    },
    "is_executing": true
   }
  },
  {
   "cell_type": "code",
   "execution_count": null,
   "outputs": [],
   "source": [
    "from dsp import wavelet_denoise, load_demo\n",
    "signal, t, _, fs= load_demo()\n",
    "\n",
    "signal_with_3Hz_Noise = add_distort_noise(signal, n_samples=1000, sampling_rate=100, noise_frequency=20,  noise_amplitude=0.2, show=True)\n",
    "filtered_signal_13 = wavelet_denoise(signal_with_3Hz_Noise, 'db12',  0.1, show=True)"
   ],
   "metadata": {
    "collapsed": false,
    "pycharm": {
     "name": "#%%\n"
    },
    "is_executing": true
   }
  },
  {
   "cell_type": "markdown",
   "source": [
    "##### Adaptive Filter\n",
    "\n",
    "The adaptive filter is a type of digital filter that adjusts its parameters based on the input data it receives. In simpler terms, it's a filter that can change its behavior to better match the characteristics of the signals it processes.\n",
    "\n",
    "Mathematically, an adaptive filter often involves adjusting a set of coefficients. The general form of an adaptive filter output $y$ based on an input signal $x$ and a set of adaptive coefficients $w$ is given by:\n",
    "\n",
    "$$ y[n] = \\sum_{k=0}^{M-1} w[k] \\cdot x[n-k] $$\n",
    "\n",
    "Here,\n",
    "- $y[n]$ is the output signal at time $n$,\n",
    "- $x[n-k]$ represents the input signal delayed by $k$ samples,\n",
    "- $w[k]$ is the adaptive coefficient associated with the $k$-th delayed input, and\n",
    "- $M$ is the number of coefficients in the filter.\n",
    "\n",
    "The key idea is that during operation, the filter adjusts its coefficients $ w[k] $ based on the difference between its output and some desired signal. This adaptation is typically achieved using algorithms like the Least Mean Squares (LMS) or Recursive Least Squares (RLS)."
   ],
   "metadata": {
    "collapsed": false,
    "pycharm": {
     "name": "#%% md\n"
    }
   }
  },
  {
   "cell_type": "code",
   "execution_count": null,
   "outputs": [],
   "source": [
    "from dsp import rls_filter, load_demo\n",
    "signal, _, _, _= load_demo()\n",
    "\n",
    "# x = clean signal + noise\n",
    "# Assuming the noise here is linear.\n",
    "linear_noise = np.linspace(0, 10, 1000, endpoint=False) * 2 * 1e-6\n",
    "x = signal + linear_noise\n",
    "\n",
    "# desired signal is also set to be linear\n",
    "# but desired signal d is not equal to linear noise\n",
    "# Making the input signal x approximate desired signal d  means approximating the portions in d that have high correlation with the input signal.\n",
    "d = np.linspace(0, 10, 1000, endpoint=False) * 1e-6\n",
    "plt.title('Input of the RLS filter')\n",
    "plt.plot(x, label='Input Signal');plt.plot(d, label='Desired Signal');plt.legend();plt.show()\n",
    "y, e, w = rls_filter(x, d, n=1, mu=0.1, show=False)\n",
    "plt.title('Output of the RLS filter')\n",
    "plt.plot(signal, alpha=0.35, label='Clean Signal');plt.plot(e, label='Error');plt.legend();plt.show()"
   ],
   "metadata": {
    "collapsed": false,
    "pycharm": {
     "name": "#%%\n"
    },
    "is_executing": true
   }
  },
  {
   "cell_type": "code",
   "execution_count": null,
   "outputs": [],
   "source": [
    "from dsp import rls_filter, load_demo\n",
    "signal, _, _, _= load_demo()\n",
    "\n",
    "# Polynomial functions are also acceptable.\n",
    "x = signal + np.linspace(0, 10, 1000, endpoint=False) ** 2 * 1e-6\n",
    "d = np.linspace(0, 10, 1000, endpoint=False) ** 2 * 0.2 * 1e-6\n",
    "\n",
    "plt.title('Input of the RLS filter')\n",
    "plt.plot(x, label='Input Signal');plt.plot(d, label='Desired Signal');plt.ylabel('Amplitude');plt.xlabel('Time');plt.legend();plt.show()\n",
    "y, e, w = rls_filter(x, d, n=1, mu=0.1, show=False)\n",
    "plt.title('Output of the RLS filter')\n",
    "plt.plot(signal, alpha=0.35, label='Clean Signal');plt.plot(e, label='Error');plt.ylabel('Amplitude');plt.xlabel('Time');plt.legend();plt.show()"
   ],
   "metadata": {
    "collapsed": false,
    "pycharm": {
     "name": "#%%\n"
    },
    "is_executing": true
   }
  },
  {
   "cell_type": "code",
   "execution_count": null,
   "outputs": [],
   "source": [
    "from dsp import lms_filter, load_demo\n",
    "signal, _, _, _= load_demo()\n",
    "\n",
    "# x = clean signal + noise\n",
    "# Assuming the noise here is linear.\n",
    "linear_noise = np.linspace(0, 10, 1000, endpoint=False) * 2 * 1e-6\n",
    "x = signal + linear_noise\n",
    "\n",
    "# desired signal is also set to be linear\n",
    "# but desired signal d is not equal to linear noise\n",
    "d = np.linspace(0, 10, 1000, endpoint=False) * 1e-6\n",
    "plt.title('Input of the LMS filter')\n",
    "plt.plot(x, label='Input Signal');plt.plot(d, label='Desired Signal');plt.ylabel('Amplitude');plt.xlabel('Time');plt.legend();plt.show()\n",
    "y, e, w = lms_filter(x, d, n=1, mu=0.1, show=False)\n",
    "plt.title('Output of the LMS filter')\n",
    "plt.plot(signal, alpha=0.35, label='Clean Signal');plt.plot(e, label='Error');plt.plot(y, label='y');plt.ylabel('Amplitude');plt.xlabel('Time');plt.legend();plt.show()"
   ],
   "metadata": {
    "collapsed": false,
    "pycharm": {
     "name": "#%%\n"
    },
    "is_executing": true
   }
  },
  {
   "cell_type": "markdown",
   "source": [
    "#### Kalman Filter"
   ],
   "metadata": {
    "collapsed": false,
    "pycharm": {
     "name": "#%% md\n"
    }
   }
  },
  {
   "cell_type": "markdown",
   "source": [
    "Implement an easy one-dimension Kalman Filter to denoise the white noise"
   ],
   "metadata": {
    "collapsed": false,
    "pycharm": {
     "name": "#%% md\n"
    }
   }
  },
  {
   "cell_type": "code",
   "execution_count": null,
   "outputs": [],
   "source": [
    "def kalman_filter(x, x_last=0, p_last=0, Q=0.1, R=0.1):\n",
    "    \"\"\"\n",
    "    Applies the Kalman filter to a sequence of measurements.\n",
    "\n",
    "    Parameters:\n",
    "    - x (list): List of measurements to filter.\n",
    "    - x_last (float): Previous filtered state estimate. Default is 0.\n",
    "    - p_last (float): Previous error covariance estimate. Default is 0.\n",
    "    - Q (float): Process noise covariance. Default is 0.1.\n",
    "    - R (float): Measurement noise covariance. Default is 0.1.\n",
    "\n",
    "    Returns:\n",
    "    - y (list): List of filtered state estimates.\n",
    "    \"\"\"\n",
    "\n",
    "    def kalman(z_measure, x_last, p_last, Q, R):\n",
    "        \"\"\"\n",
    "        Kalman filter implementation for a single measurement.\n",
    "\n",
    "        Parameters:\n",
    "        - z_measure (float): Current measurement.\n",
    "        - x_last (float): Previous filtered state estimate.\n",
    "        - p_last (float): Previous error covariance estimate.\n",
    "        - Q (float): Process noise covariance.\n",
    "        - R (float): Measurement noise covariance.\n",
    "\n",
    "        Returns:\n",
    "        - x_now (float): Current filtered state estimate.\n",
    "        - p_last (float): Updated error covariance estimate.\n",
    "        - x_last (float): Updated filtered state estimate for the next iteration.\n",
    "        \"\"\"\n",
    "        x_mid = x_last\n",
    "        p_mid = p_last + Q\n",
    "        kg = p_mid / (p_mid + R)\n",
    "        x_now = x_mid + kg * (z_measure - x_mid)\n",
    "        p_now = (1-kg) * p_mid\n",
    "        p_last = p_now\n",
    "        x_last = x_now\n",
    "        return x_now, p_last, x_last\n",
    "\n",
    "    y = []\n",
    "    for i in range(len(x)):\n",
    "        pred, p_last, x_last = kalman(x[i], x_last, p_last, Q, R)\n",
    "        y.append(pred)\n",
    "\n",
    "    return y"
   ],
   "metadata": {
    "collapsed": false,
    "pycharm": {
     "name": "#%%\n"
    },
    "is_executing": true
   }
  },
  {
   "cell_type": "code",
   "execution_count": null,
   "outputs": [],
   "source": [
    "import numpy as np\n",
    "from dsp import load_demo\n",
    "signal, _, _, _= load_demo()\n",
    "\n",
    "x_last, p_last = 0, 0\n",
    "Q, R = 0.1, 0.2\n",
    "\n",
    "# construct data for KF\n",
    "clean_signal = signal * 1e6\n",
    "noise = np.random.rand(1000)-0.5\n",
    "x = clean_signal+noise\n",
    "\n",
    "y = kalman_filter(x, x_last, p_last, Q, R)\n",
    "\n",
    "plt.plot(clean_signal,color=\"b\", label='Real Signal')\n",
    "plt.plot(x,color=\"g\", label='Measured Signal')\n",
    "plt.plot(y,color=\"r\", label='Filtered Signal')\n",
    "plt.title('Output of Kalman Filter');plt.ylabel('Amplitude');plt.xlabel('Time');plt.legend();plt.show()"
   ],
   "metadata": {
    "collapsed": false,
    "pycharm": {
     "name": "#%%\n"
    },
    "is_executing": true
   }
  },
  {
   "cell_type": "code",
   "execution_count": null,
   "outputs": [],
   "source": [
    "from dsp import sine_wave\n",
    "import numpy as np\n",
    "\n",
    "x_last, p_last = 0, 0\n",
    "Q, R = 0.1, 0.5\n",
    "\n",
    "# construct data for KF\n",
    "clean_signal = sine_wave()\n",
    "noise = np.random.rand(1000)-0.5\n",
    "x = clean_signal+noise\n",
    "\n",
    "y = kalman_filter(x, x_last, p_last, Q, R)\n",
    "\n",
    "plt.plot(clean_signal,color=\"b\", label='Real Signal')\n",
    "plt.plot(x,color=\"g\", label='Measured Signal')\n",
    "plt.plot(y,color=\"r\", label='Filtered Signal')\n",
    "plt.title('Output of Kalman Filter');plt.ylabel('Amplitude');plt.xlabel('Time');plt.legend();plt.show()"
   ],
   "metadata": {
    "collapsed": false,
    "pycharm": {
     "name": "#%%\n"
    },
    "is_executing": true
   }
  },
  {
   "cell_type": "markdown",
   "source": [
    "#### Averaging by Dynamic Time Warping"
   ],
   "metadata": {
    "collapsed": false,
    "pycharm": {
     "name": "#%% md\n"
    }
   }
  },
  {
   "cell_type": "markdown",
   "source": [
    "Dynamic Time Warping (DTW) is a similarity measure between two temporal sequences, accommodating variations in their alignment and speed. It finds an optimal warping path by minimizing the accumulated distance between corresponding points. Mathematically, given sequences $ A = [a_1, a_2, ..., a_n]$ and $B = [b_1, b_2, ..., b_m]$, DTW constructs a cost matrix $C$ where $C(i, j)$ represents the local distance between $a_i$ and $b_j$.  It then calculates an optimal path from $C(1, 1)$ to $ C(n, m)$ through dynamic programming. DTW is widely used in pattern recognition, speech processing, and signal analysis for aligning time series data."
   ],
   "metadata": {
    "collapsed": false,
    "pycharm": {
     "name": "#%% md\n"
    }
   }
  },
  {
   "cell_type": "code",
   "execution_count": null,
   "outputs": [],
   "source": [
    "#generating synthetic data\n",
    "n_series = 15\n",
    "length = 150\n",
    "\n",
    "series = list()\n",
    "padding_length=30\n",
    "indices = range(0, length-padding_length)\n",
    "main_profile_gen = np.array([np.sin(2*np.pi*j/len(indices)) for j in indices])\n",
    "randomizer = lambda j:np.random.normal(j,0.02)\n",
    "randomizer_fun = np.vectorize(randomizer)\n",
    "for i in range(0,n_series):\n",
    "    n_pad_left = np.random.randint(0,padding_length)\n",
    "    #adding zero at the start or at the end to shif the profile\n",
    "    series_i = np.pad(main_profile_gen,(n_pad_left,padding_length-n_pad_left),mode='constant',constant_values=0)\n",
    "    #chop some of the end to prove it can work with multiple lengths\n",
    "    l = np.random.randint(length-20,length+1)\n",
    "    series_i = series_i[:l]\n",
    "    #randomize a bit\n",
    "    series_i = randomizer_fun(series_i)\n",
    "\n",
    "    series.append(series_i)\n",
    "series = np.array(series)\n",
    "\n",
    "#plotting the synthetic data\n",
    "for s in series:\n",
    "    plt.plot(range(0,len(s)), s)\n",
    "plt.ylabel('Amplitude');plt.xlabel('Time');plt.show()"
   ],
   "metadata": {
    "collapsed": false,
    "pycharm": {
     "name": "#%%\n"
    },
    "is_executing": true
   }
  },
  {
   "cell_type": "code",
   "execution_count": null,
   "outputs": [],
   "source": [
    "from dsp import performNLAAF1, performNLAAF2\n",
    "\n",
    "# the feature of NLAAF: the length of center cannot be controlled\n",
    "# if we want to get the center of 2 time series A (N points) and B (M points) by NLAAF\n",
    "# the length of center is in the range of [max(N, M), N + M - 1]\n",
    "\n",
    "average_series_NLAAF1 = performNLAAF1(list(series), show=True)\n",
    "average_series_NLAAF2 = performNLAAF2(list(series), show=True)"
   ],
   "metadata": {
    "collapsed": false,
    "pycharm": {
     "name": "#%%\n"
    },
    "is_executing": true
   }
  },
  {
   "cell_type": "code",
   "execution_count": null,
   "outputs": [],
   "source": [
    "from dsp import performICDTW\n",
    "\n",
    "# ICDTW is an iterative approach for time series averaging\n",
    "# with ICDTW we can control the length of center\n",
    "average_series_ICDTW = performICDTW(list(series), show=True)"
   ],
   "metadata": {
    "collapsed": false,
    "pycharm": {
     "name": "#%%\n"
    },
    "is_executing": true
   }
  },
  {
   "cell_type": "code",
   "execution_count": null,
   "outputs": [],
   "source": [
    "from dsp import performDBA\n",
    "# DBA is a baseline!\n",
    "# the length of center can also be controlled\n",
    "# an iterative approach\n",
    "average_series_DBA = performDBA(series, show=True)"
   ],
   "metadata": {
    "collapsed": false,
    "pycharm": {
     "name": "#%%\n"
    },
    "is_executing": true
   }
  },
  {
   "cell_type": "code",
   "execution_count": null,
   "outputs": [],
   "source": [
    "from dsp import performSOFTDBA\n",
    "# convert an un-convex problem into an convex optimization\n",
    "average_series_SoftDBA = performSOFTDBA(series, show=True)"
   ],
   "metadata": {
    "collapsed": false,
    "pycharm": {
     "name": "#%%\n"
    },
    "is_executing": true
   }
  },
  {
   "cell_type": "markdown",
   "source": [
    "- Time Domain\n",
    "  - Template of SCG\n",
    "  - Analytic Signal and Hilbert Transform\n",
    "  - Peak Detection\n",
    "    - Peak of Peak Algorithm\n",
    "  - Envelope Extraction\n",
    "    - Envelope from Peaks\n",
    "    - Average Envelope\n",
    "    - Envelope and Phase Extraction using Hilbert Transform\n",
    "  - Singular Spectrum Transform (SST)\n",
    "  - Time Domain Feature\n",
    "    - Petrosian Fractal Dimension (PFD)\n",
    "- Frequency Domain\n",
    "  - Fast Fourier Transform (FFT)\n",
    "  - Frequency Domain Feature\n",
    "    - Power Spectral Density (PSD)\n",
    "    - Skewness and Kurtosis\n",
    "- Time-Frequency Domain\n",
    "  - Short Time Fourier Transform (STFT)\n",
    "  - Wavelet Analysis\n",
    "    - Mexican Hat Wavelet\n",
    "    - Morlet Wavelet\n",
    "    - Continuous Wavelet Transform (CWT)\n",
    "    - Inverse CWT\n",
    "  - Polynomial Chirplet Transform (PCT)\n",
    "    - Chirplet Transform\n",
    "    - Polynomial Chirplet Transform\n",
    "  - Wigner Ville Distribution (WVD)\n",
    "  - SynchroSqueezing Transform (SST)"
   ],
   "metadata": {
    "collapsed": false,
    "pycharm": {
     "name": "#%% md\n"
    }
   }
  },
  {
   "cell_type": "markdown",
   "source": [
    "# Time Domain"
   ],
   "metadata": {
    "collapsed": false,
    "pycharm": {
     "name": "#%% md\n"
    }
   }
  },
  {
   "cell_type": "markdown",
   "source": [
    "## Template of SCG\n",
    "It is a simple method to get the template of the synthesized scg signal, using cluster and average. The algorithm is as follows:\n",
    "1. Use the middle of peaks to segment the signal.\n",
    "2. Add a new segment to the existing clusters, whose middle has the least RMSE distance with the signal. If there is no existing cluster, use the new segment as the middle of a new cluster. If the least RMSE distance is greater than a threshold, create a new cluster too.\n",
    "3. Continue the former step until all the segments belong to a cluster.\n",
    "4. Use the average of the cluster which has the most segments as the template.\n",
    "\n",
    "Note: It is only suitable for the synthesized scg signal and is a simplified version."
   ],
   "metadata": {
    "collapsed": false,
    "pycharm": {
     "name": "#%% md\n"
    }
   }
  },
  {
   "cell_type": "code",
   "execution_count": null,
   "outputs": [],
   "source": [
    "import numpy as np\n",
    "from matplotlib import pyplot as plt\n",
    "from dsp import get_template\n",
    "\n",
    "help(get_template)\n",
    "\n",
    "signal = np.load(\"./data/sim_100_0.1_90_140_train.npy\")[1,:1000]\n",
    "template = get_template(signal)\n",
    "\n",
    "fig, axis = plt.subplots(2,1)\n",
    "axis[0].set_title(\"Orignal signal\")\n",
    "axis[0].set_xlabel(\"Time\")\n",
    "axis[0].set_ylabel(\"Amplitude\")\n",
    "axis[0].plot(signal)\n",
    "\n",
    "axis[1].set_title(\"Template of the input signal\")\n",
    "axis[1].set_xlabel(\"Time\")\n",
    "axis[1].set_ylabel(\"Amplitude\")\n",
    "axis[1].plot(template)\n",
    "\n",
    "plt.tight_layout()\n",
    "plt.show()"
   ],
   "metadata": {
    "collapsed": false,
    "pycharm": {
     "name": "#%%\n"
    },
    "is_executing": true
   }
  },
  {
   "cell_type": "markdown",
   "source": [
    "## Analytic Signal and Hilbert Transform\n",
    "\n",
    "Fourier Transform of a real-valued signal is complex-symmetric whose negative frequencies are redundant with respect to the positive frequencies. To remove the redundancy, the analytic signal is invented. It is complex-valued but its spectrum will be one-sided (only positive frequencies) that preserved the spectral content of the original real-valued signal. Using an analytic signal instead of the original real-valued signal, is useful in many signal processing applications. For example, in spectral analysis, use of analytic signal in-lieu of the original real-valued signal mitigates estimation biases and eliminates cross-term artifacts due to negative and positive frequency components.\n",
    "\n",
    "In the frequency domain, the analytic signal has only the postive part of the original signal and the magnitude is two times of the orignal postive spectrum. In the time domain, the real part of the analytic signal is the same as the original signal, but it has a imaginary part.\n",
    "$$\n",
    "z(t) = z_{r}(t) + z_{i}(t) = x(t) + z_{i}(t)\n",
    "$$\n",
    "where $z(t)$ denotes the time domain analytic singal, and $x(t)$ denotes the original signal. The subscripts $i$ and $r$ mean the imaginary and real.\n",
    "\n",
    "So what's the imaginary part? Hilbert Transformation can be used to find the imaginary part of the orignal real-valude signal.\n",
    "$$\n",
    "z(t) = z_{r}(t) + z_{i}(t) = x(t) + jHT\\{x(t)\\}\n",
    "$$\n",
    "$$\n",
    "HT\\{x(t)\\} = x(t) * \\frac{1}{\\pi t} \\longleftrightarrow F(f)[-jsgn(f)] = \\begin{cases}-jF(f) & f > 0 \\\\ jF(f) & f< 0 \\end{cases}\n",
    "$$\n",
    "where $j$ is an imaginary unit, $HT\\{\\}$ denotes hilbert transform, $F()$ denotes the spectrum of the original signal, * denotes the convolution, $\\longleftrightarrow$ denotes the mutual conversion of signals between the time domain and the frequency domain, $sgn()$ denotes the sign function, which returns -1 for negative numbers, 0 for zero, and 1 for positive numbers.\n",
    "\n",
    "We can take the hilbert transformation as a filter whose impulse response is $\\frac{1}{\\pi t}$. And the HT\\{x(t)\\} has some properties.\n",
    "1. HT\\{HT\\{x(t)\\}\\} = -x(t)\n",
    "2. HT\\{x(t)\\} has the opposite parity of x(t)\n",
    "3. HT\\{x(t)\\} and x(t) are orthogonal"
   ],
   "metadata": {
    "collapsed": false,
    "pycharm": {
     "name": "#%% md\n"
    }
   }
  },
  {
   "cell_type": "code",
   "execution_count": null,
   "outputs": [],
   "source": [
    "import numpy as np\n",
    "from matplotlib import pyplot as plt\n",
    "from dsp import analytic_signal, hilbert_transform, my_fft\n",
    "\n",
    "help(analytic_signal)\n",
    "help(hilbert_transform)\n",
    "\n",
    "signal = np.load(\"./data/sim_100_0.1_90_140_train.npy\")[1,:1000]\n",
    "z = analytic_signal(signal)\n",
    "\n",
    "fig, axis = plt.subplots(3,1)\n",
    "axis[0].set_title(\"Orignal real-valude signal\")\n",
    "axis[0].set_xlabel(\"Time\")\n",
    "axis[0].set_ylabel(\"Amplitude\")\n",
    "axis[0].plot(signal)\n",
    "\n",
    "axis[1].set_title(\"Real part of the analytic signal\")\n",
    "axis[1].set_xlabel(\"Time\")\n",
    "axis[1].set_ylabel(\"Amplitude\")\n",
    "axis[1].plot(z.real)\n",
    "\n",
    "axis[2].set_title(\"Hilbert transformation of the orignal signal\")\n",
    "axis[2].set_xlabel(\"Time\")\n",
    "axis[2].set_ylabel(\"Amplitude\")\n",
    "axis[2].plot(hilbert_transform(signal))\n",
    "plt.tight_layout()\n",
    "plt.show()\n",
    "\n",
    "freq_original, mag_original = my_fft(signal, 100)\n",
    "freq_analytic, mag_analytic = my_fft(z, 100)\n",
    "\n",
    "fig, axis = plt.subplots(2,1)\n",
    "axis[0].set_title(\"Spectrum of original signal\")\n",
    "axis[0].plot(freq_original, np.abs(mag_original))\n",
    "axis[0].set_xlabel(\"Frequency\")\n",
    "axis[0].set_ylabel(\"Magnitude\")\n",
    "\n",
    "axis[1].set_title(\"Spectrum of analytic signal\")\n",
    "axis[1].plot(freq_analytic, np.abs(mag_analytic))\n",
    "axis[1].set_xlabel(\"Frequency\")\n",
    "axis[1].set_ylabel(\"Magnitude\")\n",
    "\n",
    "plt.tight_layout()\n",
    "plt.show()"
   ],
   "metadata": {
    "collapsed": false,
    "pycharm": {
     "name": "#%%\n"
    },
    "is_executing": true
   }
  },
  {
   "cell_type": "markdown",
   "source": [
    "## Peak Detection"
   ],
   "metadata": {
    "collapsed": false,
    "pycharm": {
     "name": "#%% md\n"
    }
   }
  },
  {
   "cell_type": "markdown",
   "source": [
    "### Peak of Peak Algorithm\n",
    "The algorithm first use scipy.signal.find_peaks to detect all the peaks in a signal and perform linear interpolation to obtain an envelope which still preserve the shape of the original signal and the peak location. After getting the envelope, we use scipy.signal.find_peaks to detect the peaks in the envelope and filter the abnormal value to get the time of all peaks.\n",
    "\n",
    "Usage Scenario: There are many high frequency noises and the noises don't influence the shape of the original signal."
   ],
   "metadata": {
    "collapsed": false,
    "pycharm": {
     "name": "#%% md\n"
    }
   }
  },
  {
   "cell_type": "code",
   "execution_count": null,
   "outputs": [],
   "source": [
    "from dsp import get_peaks\n",
    "import numpy as np\n",
    "import matplotlib.pyplot as plt\n",
    "\n",
    "help(get_peaks)\n",
    "\n",
    "signal = np.load(\"./data/sim_100_0.1_90_140_train.npy\")[1,:1000]\n",
    "peaks = get_peaks(signal)\n",
    "plt.figure(figsize=(15,8))\n",
    "plt.plot(signal, label=\"Original signal\")\n",
    "plt.scatter(peaks,signal[peaks],c=\"red\", label=\"Peak of the signal\")\n",
    "plt.xlabel(\"Time\")\n",
    "plt.ylabel(\"Amplitude\")\n",
    "plt.legend()\n",
    "plt.show()"
   ],
   "metadata": {
    "collapsed": false,
    "pycharm": {
     "name": "#%%\n"
    },
    "is_executing": true
   }
  },
  {
   "cell_type": "markdown",
   "source": [
    "## Envelope Extraction"
   ],
   "metadata": {
    "collapsed": false,
    "pycharm": {
     "name": "#%% md\n"
    }
   }
  },
  {
   "cell_type": "markdown",
   "source": [
    "### Envelope from Peaks\n",
    "We can use the first step of peak of peak algorithm as a kind of envelope generation algorithm. We can perform linear interpolation of all peaks to obtain an envelope.\n",
    "\n",
    "Usage Scenario: We only focus on locations of peaks on the envelope."
   ],
   "metadata": {
    "collapsed": false,
    "pycharm": {
     "name": "#%% md\n"
    }
   }
  },
  {
   "cell_type": "code",
   "execution_count": null,
   "outputs": [],
   "source": [
    "from dsp import envelope_from_peaks\n",
    "import numpy as np\n",
    "import matplotlib.pyplot as plt\n",
    "\n",
    "help(envelope_from_peaks)\n",
    "\n",
    "signal = np.load(\"./data/sim_100_0.1_90_140_train.npy\")[1,:1000]\n",
    "envelope = envelope_from_peaks(signal)\n",
    "plt.figure(figsize=(15,8))\n",
    "plt.plot(signal,label=\"Original signal\")\n",
    "plt.plot(envelope,c=\"red\", label=\"Envelope of signal\")\n",
    "plt.xlabel(\"Time\")\n",
    "plt.ylabel(\"Amplitude\")\n",
    "plt.legend()\n",
    "plt.show()"
   ],
   "metadata": {
    "collapsed": false,
    "pycharm": {
     "name": "#%%\n"
    },
    "is_executing": true
   }
  },
  {
   "cell_type": "markdown",
   "source": [
    "### Average Envelope\n",
    "We can also use the average window to get the envelope. The average window will calculate the average value of a region to replace the middle timestamp in the region. The longer the window, the smoother the envelope, but the more serious it will change the shape of the original signal.\n",
    "$$\n",
    "    envelope[i]~=~signal[i-\\frac{window\\_length}{2}]~+~....~+~signal[i]~+~....~+~signal[i+\\frac{window\\_length}{2}]\n",
    "$$\n",
    "\n",
    "Usage Scenario: It is suitable for signals with relatively stable periodicity and slow amplitude variations. This is because the moving average window can eliminate high-frequency noise while preserving the low-frequency characteristics of the signal. However, this envelope will lose the information of peaks' vertical location."
   ],
   "metadata": {
    "collapsed": false,
    "pycharm": {
     "name": "#%% md\n"
    }
   }
  },
  {
   "cell_type": "code",
   "execution_count": null,
   "outputs": [],
   "source": [
    "from dsp import average_envelope\n",
    "import numpy as np\n",
    "import matplotlib.pyplot as plt\n",
    "\n",
    "help(average_envelope)\n",
    "\n",
    "signal = np.load(\"./data/sim_100_0.1_90_140_train.npy\")[1,:1000]\n",
    "envelope = average_envelope(signal, 3)\n",
    "plt.figure(figsize=(15,8))\n",
    "plt.plot(signal,label=\"Original signal\")\n",
    "plt.plot(envelope,c=\"red\",label=\"Envelope of signal\")\n",
    "plt.xlabel(\"Time\")\n",
    "plt.ylabel(\"Amplitude\")\n",
    "plt.legend()\n",
    "plt.show()"
   ],
   "metadata": {
    "collapsed": false,
    "pycharm": {
     "name": "#%%\n"
    },
    "is_executing": true
   }
  },
  {
   "cell_type": "markdown",
   "source": [
    "### Envelope and Phase Extraction using Hilbert Transform\n",
    "\n",
    "If a modulated signal is expressed as $x(t) = a(t) cos[ \\phi (t)]$\n",
    "\n",
    "The instantaneous amplitude or the envelope of the signal is given by $a(t)$\n",
    "\n",
    "The instantaneous phase is given by  $\\phi(t)$\n",
    "\n",
    "The instantaneous angular frequency is derived as $\\omega(t) = \\frac{d}{dt} \\phi(t)$\n",
    "\n",
    "The instantaneous temporal frequency is derived as $f(t) = \\frac{1}{2 \\pi} \\frac{d}{dt} \\phi(t)$\n",
    "\n",
    "We note that the modulated signal is a real-valued signal. We also take note of the fact that amplitude/phase and frequency can be easily computed if the signal is expressed in complex form. So we can use Hilbert transformation to transform the real-valued signal to a complex version.\n",
    "\n",
    "The analytic signal is\n",
    "$$\n",
    "z(t) = z_{r}(t) + z_{i}(t) = x(t) + jHT\\{x(t)\\}\n",
    "$$\n",
    "So\n",
    "$$\n",
    "a(t) = |z(t)| = \\sqrt{z_r^2(t) + z_i^2(t)}\n",
    "$$\n",
    "$$\n",
    "\\phi(t) = \\angle z(t) = arctan \\left[ \\frac{z_i(t)}{z_r(t)} \\right]\n",
    "$$\n",
    "$$\n",
    "f(t) = \\frac{1}{2 \\pi} \\frac{d}{dt} \\phi(t)\n",
    "$$\n",
    "\n",
    "where $z(t)$ denotes the analytic signal, the subscripts $i$ and $r$ mean the imaginary and real, $j$ is an imaginary unit, and $HT\\{\\}$ denotes hilbert transform.\n",
    "\n",
    "Usage Scenario: It is suitable for signals with non-stationary and rapidly varying amplitudes. It is particularly effective for signals with high-frequency components, as it can accurately capture the envelope by estimating the instantaneous amplitude of the signal."
   ],
   "metadata": {
    "collapsed": false,
    "pycharm": {
     "name": "#%% md\n"
    }
   }
  },
  {
   "cell_type": "code",
   "execution_count": null,
   "outputs": [],
   "source": [
    "import numpy as np\n",
    "import matplotlib.pyplot as plt\n",
    "from dsp import inst_amplitude, inst_phase, inst_freq\n",
    "\n",
    "help(inst_amplitude)\n",
    "help(inst_phase)\n",
    "help(inst_freq)\n",
    "\n",
    "signal = np.load(\"./data/sim_100_0.1_90_140_train.npy\")[1,:1000]\n",
    "\n",
    "plt.figure(figsize=(15, 8))\n",
    "plt.plot(signal,label=\"Original signal\")\n",
    "plt.plot(inst_amplitude(signal),label=\"Envelope of signal\")\n",
    "plt.xlabel(\"Time\")\n",
    "plt.ylabel(\"Amplitude\")\n",
    "plt.legend()\n",
    "plt.show()"
   ],
   "metadata": {
    "collapsed": false,
    "pycharm": {
     "name": "#%%\n"
    },
    "is_executing": true
   }
  },
  {
   "cell_type": "markdown",
   "source": [
    "## Singular Spectrum Transform (SST)\n",
    "\n",
    "SST is a signal processing technique based on singular spectrum analysis, used for extracting trends and periodic components in a signal. SST is primarily employed for decomposing signals and reconstructing their components to better understand the structure and features of the signal. This technique is usually used for the change point detection. In the example, we can find that where the signal changes a lot has a relative high score.\n",
    "\n",
    "The main steps of SST include:\n",
    "\n",
    "1. **Embedding**:\n",
    "   Convert the original signal into matrix form. This often involves creating a Hankel matrix where rows and columns consist of subsequences of the original signal. This embedding process helps capture local structures in the signal.\n",
    "\n",
    "2. **Singular Value Decomposition (SVD)**:\n",
    "   Perform singular value decomposition on the embedded matrix, breaking it down into three matrices: U, Σ, and V^T. Here, U contains the left singular vectors, Σ contains the singular values in a diagonal matrix, and V^T contains the right singular vectors.\n",
    "\n",
    "3. **Grouping and Reconstruction**:\n",
    "   Group the singular values based on their magnitudes into several subsequences. These subsequences correspond to different frequency and trend components of the signal. By selecting relevant combinations of singular values, different components of the original signal can be reconstructed.\n",
    "\n",
    "4. **Back-Transformation**:\n",
    "   Perform the inverse transformation on the decomposed subsequences to obtain an estimate of the original signal. This step involves reversing the embedding operation on the reconstructed subsequences."
   ],
   "metadata": {
    "collapsed": false,
    "pycharm": {
     "name": "#%% md\n"
    }
   }
  },
  {
   "cell_type": "code",
   "execution_count": null,
   "outputs": [],
   "source": [
    "from dsp import sst\n",
    "import numpy as np\n",
    "import matplotlib.pyplot as plt\n",
    "\n",
    "help(sst)\n",
    "\n",
    "x0 = 1 * np.ones(1000) + np.random.rand(1000) * 1\n",
    "x1 = 3 * np.ones(1000) + np.random.rand(1000) * 2\n",
    "x2 = 5 * np.ones(1000) + np.random.rand(1000) * 1.5\n",
    "signal = np.hstack([x0, x1, x2])\n",
    "signal +=  np.random.rand(signal.size)\n",
    "\n",
    "score = sst(signal, win_length=50)\n",
    "\n",
    "plt.title(\"Original signal\")\n",
    "plt.xlabel(\"Time\")\n",
    "plt.ylabel(\"Amplitude\")\n",
    "plt.plot(signal)\n",
    "plt.show()\n",
    "\n",
    "plt.title(\"Result of SST\")\n",
    "plt.plot(score)\n",
    "plt.xlabel(\"Time\")\n",
    "plt.ylabel(\"Score of changing\")\n",
    "plt.show()"
   ],
   "metadata": {
    "collapsed": false,
    "pycharm": {
     "name": "#%%\n"
    },
    "is_executing": true
   }
  },
  {
   "cell_type": "markdown",
   "source": [
    "## Time Domain Feature"
   ],
   "metadata": {
    "collapsed": false,
    "pycharm": {
     "name": "#%% md\n"
    }
   }
  },
  {
   "cell_type": "markdown",
   "source": [
    "### Petrosian Fractal Dimension (PFD)\n",
    "\n",
    "Petrosian Fractal Dimension (PFD) is a method used to measure the complexity of time-series signals, particularly applicable in biomedical signals such as electrocardiograms (ECG). It calculates the fractal dimension of a signal to describe its complexity and irregularity. A higher Petrosian Fractal Dimension value indicates a more complex signal.\n",
    "$$\n",
    "PFD = \\frac{\\log_{10}(N)}{\\log_{10}(N) + \\log_{10}\\left(\\frac{N}{N + 0.4N_{\\text{zc}}}\\right)}\n",
    "$$\n",
    "where $N$ is the length of the signal and $N_{zc}$ is the number of zero crossings in the signal derivative.\n",
    "\n",
    "The example shows that the signal with noise is more complex than the original signal, so that the noisy signal has a bigger PFD than the orignal signal."
   ],
   "metadata": {
    "collapsed": false,
    "pycharm": {
     "name": "#%% md\n"
    }
   }
  },
  {
   "cell_type": "code",
   "execution_count": null,
   "outputs": [],
   "source": [
    "import numpy as np\n",
    "from dsp import get_template, pfd, average_envelope\n",
    "import matplotlib.pyplot as plt\n",
    "\n",
    "help(pfd)\n",
    "\n",
    "t = np.linspace(0,1,1000)\n",
    "\n",
    "# Generate a signal\n",
    "signal1 = 10 * np.sin(2*np.pi*t)\n",
    "\n",
    "# Add noise to the signal\n",
    "signal2 = 10 * np.sin(2*np.pi*t) + np.random.randn(1000)\n",
    "\n",
    "fig, axis = plt.subplots(2,1)\n",
    "axis[0].plot(signal1)\n",
    "axis[0].set_title(\"Original signal\")\n",
    "axis[0].set_xlabel(\"Time\")\n",
    "axis[0].set_ylabel(\"Amplitude\")\n",
    "\n",
    "axis[1].plot(signal2)\n",
    "axis[1].set_title(\"Original signal with noise\")\n",
    "axis[1].set_xlabel(\"Time\")\n",
    "axis[1].set_ylabel(\"Amplitude\")\n",
    "\n",
    "plt.tight_layout()\n",
    "plt.show()\n",
    "\n",
    "print(\"PFD of original signal: \",pfd(signal1))\n",
    "print(\"PFD of original signal with noise: \", pfd(signal2))"
   ],
   "metadata": {
    "collapsed": false,
    "pycharm": {
     "name": "#%%\n"
    },
    "is_executing": true
   }
  },
  {
   "cell_type": "markdown",
   "source": [
    "### Skewness and Kurtosis\n",
    "Skewness is a statistical measure that describes the degree of asymmetry of a distribution. It quantifies the extent to which a distribution deviates from symmetry around its mean.\n",
    "$$\n",
    "Skewness = E[(X - μ)^3] / σ^3\n",
    "$$\n",
    "where $E$ is the expected value operator,$X$ is the random variable, $μ$ is the mean of the distribution, $σ$ is the standard deviation of the distribution. A skewness value > 0 means there is more weight in the right tail of the distribution. A skewness value < 0 means there is more weight in the left tail of the distribution.\n",
    "\n",
    "Kurtosis is a statistical measure that describes the \"tailedness\" of a distribution. It measures the thickness of the tails of a distribution relative to the rest of the data.\n",
    "$$\n",
    "Kurtosis = E[(X - μ)^4] / σ^4 - 3\n",
    "$$\n",
    "where $E$ is the expected value operator, $X$ is the random variable, $μ$ is the mean of the distribution, $σ$ is the standard deviation of the distribution. The subtraction of 3 in Fisher's definition adjusts the kurtosis so that the normal distribution has a kurtosis of zero. Positive kurtosis indicates a \"leptokurtic\" distribution with heavier tails and a sharper peak. Negative kurtosis indicates a \"platykurtic\" distribution with lighter tails and a flatter peak.\n",
    "\n",
    "From the example below we can find that if the distribution is left-skewed, the skewness is positive and the more left-skewed, the greater is skewness is. And the skewness of right-skewed distribution is negative. And, the shaper the peak of distribution is, the greater the kurtosis is.\n",
    "\n",
    "Note: the two statistic feature measures the distribution of an array, not the shape of the array itself."
   ],
   "metadata": {
    "collapsed": false,
    "pycharm": {
     "name": "#%% md\n"
    }
   }
  },
  {
   "cell_type": "code",
   "execution_count": null,
   "outputs": [],
   "source": [
    "from scipy.stats import kurtosis, skew\n",
    "import numpy as np\n",
    "import matplotlib.pyplot as plt\n",
    "\n",
    "array1 = np.random.gamma(shape=2, scale=1, size=10000)  # Generate a left-skewed distribution\n",
    "array2 = 1-array1  # Generate a right-skewned distribution\n",
    "array3 = np.random.normal(loc=0, scale=0.5, size=10000) # Generate a distribution whose peak is flat\n",
    "array4 = np.random.normal(loc=0, scale=0.5, size=98000) # Generate a distribution whose peak is sharp\n",
    "array4 = np.append(array4,np.zeros(2000))\n",
    "\n",
    "fig, axis = plt.subplots(2,1)\n",
    "fig.suptitle(\"Example of Skewness\")\n",
    "axis[0].hist(array1, bins=70)\n",
    "axis[0].set_title('The left-skewed distribution')\n",
    "axis[0].set_xlabel('Value')\n",
    "axis[0].set_ylabel('Frequency')\n",
    "axis[0].set_xlim(0,7)\n",
    "axis[1].hist(7-array1, bins=70)\n",
    "axis[1].set_title('The right-skewed distribution')\n",
    "axis[1].set_xlabel('Value')\n",
    "axis[1].set_ylabel('Frequency')\n",
    "axis[1].set_xlim(0,7)\n",
    "plt.tight_layout()\n",
    "plt.show()\n",
    "\n",
    "print(\"Skewness of left-skewed distribution is: \", skew(array1))\n",
    "print(\"Skewness of right-skewed distribution is: \", skew(array2))\n",
    "\n",
    "\n",
    "fig, axis = plt.subplots(2,1)\n",
    "fig.suptitle(\"Example of Kurtosis\")\n",
    "axis[0].hist(array3, bins=50)\n",
    "axis[0].set_title('The distribution whose peak is flatter')\n",
    "axis[0].set_xlabel('Value')\n",
    "axis[0].set_ylabel('Frequency')\n",
    "axis[0].set_xlim(-2,2)\n",
    "axis[1].hist(array4, bins=50)\n",
    "axis[1].set_title('The distribution whose peak is sharper')\n",
    "axis[1].set_xlabel('Value')\n",
    "axis[1].set_ylabel('Frequency')\n",
    "axis[1].set_xlim(-2,2)\n",
    "plt.tight_layout()\n",
    "plt.show()\n",
    "\n",
    "print(\"Kurtosis of distribution with flatter peak: \", kurtosis(array3))\n",
    "print(\"Kurtosis of distribution with sharper peak: \", kurtosis(array4))"
   ],
   "metadata": {
    "collapsed": false,
    "pycharm": {
     "name": "#%%\n"
    },
    "is_executing": true
   }
  },
  {
   "cell_type": "markdown",
   "source": [
    "# Frequency Domain"
   ],
   "metadata": {
    "collapsed": false,
    "pycharm": {
     "name": "#%% md\n"
    }
   }
  },
  {
   "cell_type": "markdown",
   "source": [
    "## Fast Fourier Transform (FFT)\n",
    "\n",
    "A fast algorithm to calculate the DFT\n",
    "\n",
    "$$\n",
    "X[k] = \\sum_{n=0}^{N-1}x[n]e^{-j2\\pi kn/N}\n",
    "$$\n",
    "$$\n",
    "x[n] = \\frac{1}{2\\pi}\\sum_{k=0}^{N-1}X[k]e^{j2\\pi kn/N}\n",
    "$$\n",
    "where $X$ denotes the result of FFT which is the spectrum, $x$ denotes the time-domain signal and $j$ is the imaginary unit.\n",
    "\n",
    "$my\\_fft$ gets the original signal and the sampling rate as input and outputs the frequency and corresponding mag which is a complex number. The length of the frequency is the half of the fs.\n",
    "\n",
    "$my\\_ifft$ gets the mag of the $my\\_fft$ as input and outputs the original signal.\n",
    "\n",
    "The basic function of the fft is orthogonal. Why orthogonal is important? Because it can help us determine the cofficient conveniently. We can only multiple the signal and the basic function to get the cofficient of the basic funtion."
   ],
   "metadata": {
    "collapsed": false,
    "pycharm": {
     "name": "#%% md\n"
    }
   }
  },
  {
   "cell_type": "code",
   "execution_count": null,
   "outputs": [],
   "source": [
    "import numpy as np\n",
    "from matplotlib import pyplot as plt\n",
    "from dsp import my_fft, my_ifft\n",
    "\n",
    "help(my_fft)\n",
    "help(my_ifft)\n",
    "\n",
    "signal = np.load(\"./data/sim_100_0.1_90_140_train.npy\")[1,:1000]\n",
    "fs = 100\n",
    "\n",
    "freq, mag = my_fft(signal, fs)\n",
    "plt.plot(freq, np.abs(mag))\n",
    "plt.xlabel(\"Frequency\")\n",
    "plt.ylabel(\"Magnitude\")\n",
    "plt.show()\n",
    "\n",
    "signal_recovered = my_ifft(mag)\n",
    "\n",
    "fig, axis = plt.subplots(2,1)\n",
    "axis[0].set_title(\"Original signal\")\n",
    "axis[0].set_xlabel(\"Time\")\n",
    "axis[0].set_ylabel(\"Amplitude\")\n",
    "axis[0].plot(signal)\n",
    "\n",
    "axis[1].set_title(\"Signal recovered from Spectrum\")\n",
    "axis[1].plot(signal_recovered.real)\n",
    "axis[1].set_xlabel(\"Time\")\n",
    "axis[1].set_ylabel(\"Amplitude\")\n",
    "plt.tight_layout()\n",
    "plt.show()"
   ],
   "metadata": {
    "collapsed": false,
    "pycharm": {
     "name": "#%%\n"
    },
    "is_executing": true
   }
  },
  {
   "cell_type": "markdown",
   "source": [
    "## Frequency Domain Feature"
   ],
   "metadata": {
    "collapsed": false,
    "pycharm": {
     "name": "#%% md\n"
    }
   }
  },
  {
   "cell_type": "markdown",
   "source": [
    "### Power Spectral Density (PSD)\n",
    "It is a tool used for frequency spectrum analysis to describe how the power of a signal varies with frequency.\n",
    "\n",
    "The PSD represents the distribution of power across different frequencies in a signal, typically measured in power per Hertz (Hz). It can be computed by taking the squared magnitude of the Fourier transform of the signal. Specifically, for a time-domain signal x(t), the Power Spectral Density $S_{xx}(f)$ at frequency $f$ is calculated as:\n",
    "$$\n",
    "S_{xx}(f) = \\lim_{{T \\to \\infty}} \\frac{1}{T} \\left| \\int_{-T/2}^{T/2} x(t) e^{-j 2 \\pi f t} \\,dt \\right|^2\n",
    "$$\n",
    "where $x$ denotes the time-domain signal and $j$ denotes the imaginary unit."
   ],
   "metadata": {
    "collapsed": false,
    "pycharm": {
     "name": "#%% md\n"
    }
   }
  },
  {
   "cell_type": "code",
   "execution_count": null,
   "outputs": [],
   "source": [
    "import numpy as np\n",
    "from dsp import psd\n",
    "import matplotlib.pyplot as plt\n",
    "\n",
    "help(psd)\n",
    "\n",
    "fs = 100\n",
    "signal = np.load(\"./data/sim_100_0.1_90_140_train.npy\")[1,:1000]\n",
    "f,p = psd(signal, fs)\n",
    "\n",
    "plt.title(\"Input signal\")\n",
    "plt.plot(signal)\n",
    "plt.xlabel(\"Time\")\n",
    "plt.ylabel(\"Amplitude\")\n",
    "plt.show()\n",
    "\n",
    "plt.title(\"PSD of input signal\")\n",
    "plt.plot(f,p)\n",
    "plt.xlabel(\"Frequency\")\n",
    "plt.ylabel(\"Power\")\n",
    "plt.show()"
   ],
   "metadata": {
    "collapsed": false,
    "pycharm": {
     "name": "#%%\n"
    },
    "is_executing": true
   }
  },
  {
   "cell_type": "markdown",
   "source": [
    "# Time-Frequency domain"
   ],
   "metadata": {
    "collapsed": false,
    "pycharm": {
     "name": "#%% md\n"
    }
   }
  },
  {
   "cell_type": "markdown",
   "source": [
    "## Short Time Fourier Transform (STFT)\n",
    "\n",
    "To get the time information of the signal, we segment the signal and view the signal in the segment as stationary signal. However, when the signal does not complete an integer number of cycles, an issue known as Frequency Leakage may occur which can pose challenges in reconstructing the original signal based on the spectrum. To minimize the impact of Frequency Leakage, the original signal can be multiplied by a window function. After framing, we get many framed segment. Then we do the DFT to get frequency information of each frame. The scale of y axis is frequency. Then we concatenate the spectrum horizontally to get the spectrogram. The spectrogram has both the frequency and time frequency of a signal.\n",
    "\n",
    "The longer the frame, the frequency information is more accurate, the time information is less accurate. The above is what we call heisenberg uncertainty principle.\n",
    "\n",
    "The output of the stft is y-axis (frequency), x-axis (time) and the value of each point (magnitude). The max number of y-axis (frequency) is the half of the fs which is based on the Nyquist sampling princple, but the number of frequency in y-axis is the half of the nperseg. The number of the x-axis depends on the nperseg and the noverlap and the max number of the x-axis is (length of signal / fs). The output Z is complex-valued."
   ],
   "metadata": {
    "collapsed": false,
    "pycharm": {
     "name": "#%% md\n"
    }
   }
  },
  {
   "cell_type": "code",
   "execution_count": null,
   "outputs": [],
   "source": [
    "import numpy as np\n",
    "from dsp import my_stft\n",
    "import matplotlib.pyplot as plt\n",
    "\n",
    "help(my_stft)\n",
    "\n",
    "signal = np.load(\"./data/sim_100_0.1_90_140_train.npy\")[1,:1000]\n",
    "\n",
    "\n",
    "plt.title(\"Input siganl\")\n",
    "plt.plot(signal)\n",
    "plt.xlabel(\"Time\")\n",
    "plt.ylabel(\"Amplitude\")\n",
    "plt.show()\n",
    "\n",
    "fs = 100 # sampling frequency\n",
    "window = 'hann' # window type\n",
    "nperseg = 64 # length of frame\n",
    "\n",
    "# STFT\n",
    "f, t, Z = my_stft(signal, plot=True, fs=fs, window=window, nperseg=nperseg)"
   ],
   "metadata": {
    "collapsed": false,
    "pycharm": {
     "name": "#%%\n"
    },
    "is_executing": true
   }
  },
  {
   "cell_type": "markdown",
   "source": [
    "## Wavelet Analysis\n",
    "\n",
    "STFT has a serious problem, that is we can't get a good time and frequency resolution. The bigger the nperseg, the better the frequency resolution, but the worse time resolution, vice versa. The above problem is caused by the fact that the nperseg is fixed. So we introduce the wavelet analysis which is a MRA method. MRA (multiresolution analysis) is designed to give good time resolution and poor frequency resolution at high frequencies and good frequency resolution and poor time resolution at low frequencies.Generally, the basic function of wavelet transform is orthogonal and normalized (normalized makes the transformed signal have the same energy at every scale)."
   ],
   "metadata": {
    "collapsed": false,
    "pycharm": {
     "name": "#%% md\n"
    }
   }
  },
  {
   "cell_type": "markdown",
   "source": [
    "### Mexican Hat Wavelet\n",
    "\n",
    "It is the second derivative of the Gaussian function.\n",
    "\n",
    "Gaussian function:\n",
    "$$\n",
    "w(t) = \\frac{1}{\\sqrt{2\\pi} \\cdot \\sigma} e^{\\frac{-t^2}{2 \\sigma^2}}\n",
    "$$\n",
    "where $\\sigma$ is the standard deviation and $t$ is time.\n",
    "\n",
    "Second derivative of the Gaussian function:\n",
    "$$\n",
    "\\psi(t) = \\frac{1}{\\sqrt{2 \\pi} \\cdot \\sigma^3} \\left( e^{\\frac{-t^2}{2 \\sigma^2}} \\cdot \\left( \\frac{t^2}{\\sigma^2} - 1 \\right) \\right)\n",
    "$$"
   ],
   "metadata": {
    "collapsed": false,
    "pycharm": {
     "name": "#%% md\n"
    }
   }
  },
  {
   "cell_type": "code",
   "execution_count": null,
   "outputs": [],
   "source": [
    "import matplotlib.pyplot as plt\n",
    "from dsp import mexican_hat_wavelet\n",
    "\n",
    "help(mexican_hat_wavelet)\n",
    "\n",
    "sigma = 1\n",
    "length = 50\n",
    "psi = mexican_hat_wavelet(sigma, length)\n",
    "plt.plot(psi)\n",
    "plt.xlabel(\"Time\")\n",
    "plt.ylabel(\"Amplitude\")\n",
    "plt.show()"
   ],
   "metadata": {
    "collapsed": false,
    "pycharm": {
     "name": "#%%\n"
    },
    "is_executing": true
   }
  },
  {
   "cell_type": "markdown",
   "source": [
    "### Morlet Wavelet\n",
    "\n",
    "It is defined as follows:\n",
    "$$\n",
    "w(t) = e^{i a t} \\cdot e^{-\\frac{t^2}{2\\sigma}}\n",
    "$$\n",
    "where $t$ is the time variable, $a$ controls the frequency of the sinusoidal oscillation, and $\\sigma$ controls the width of the Gaussian envelope."
   ],
   "metadata": {
    "collapsed": false,
    "pycharm": {
     "name": "#%% md\n"
    }
   }
  },
  {
   "cell_type": "code",
   "execution_count": null,
   "outputs": [],
   "source": [
    "import matplotlib.pyplot as plt\n",
    "from dsp import morlet_wavelet\n",
    "\n",
    "help(morlet_wavelet)\n",
    "\n",
    "length = 100\n",
    "sigma = 2\n",
    "a = 5\n",
    "omega = morlet_wavelet(length, sigma, a)\n",
    "plt.plot(omega.real)\n",
    "plt.xlabel(\"Time\")\n",
    "plt.ylabel(\"Amplitude\")\n",
    "plt.show()"
   ],
   "metadata": {
    "collapsed": false,
    "pycharm": {
     "name": "#%%\n"
    },
    "is_executing": true
   }
  },
  {
   "cell_type": "markdown",
   "source": [
    "### Continuous Wavelet Transform (CWT)\n",
    "\n",
    "In CWT, the signal can be transformed by:\n",
    "\n",
    "$$\n",
    "CWT_x^\\psi(\\tau,s) = \\Psi_x^\\psi(\\tau,s) = \\frac{1}{\\sqrt{|s|}} \\int x(t) \\psi^* \\left( \\frac{t - \\tau}{s} \\right) dt\n",
    "$$\n",
    "\n",
    "where the $\\psi$ denotes the mother wavelet, $\\tau$ denotes the translation of the wavelet, and $s$ denotes the sacle of the wavelet. $\\tau$ and $s$ are all incremented continuously. However, if this transform needs to be computed by a computer, then both parameters are increased by a sufficiently small step size. This corresponds to sampling the time-scale plane."
   ],
   "metadata": {
    "collapsed": false,
    "pycharm": {
     "name": "#%% md\n"
    }
   }
  },
  {
   "cell_type": "markdown",
   "source": [
    "### Inverse CWT\n",
    "\n",
    "$$\n",
    "x(t)=\\frac{1}{c_{\\psi}^{2}} \\int_{s} \\int_{\\tau} \\Psi_{x}^{\\psi}(\\tau, s) \\frac{1}{s^{2}} \\psi\\left(\\frac{t-\\tau}{s}\\right) d \\tau d s\n",
    "$$\n",
    "\n",
    "where $c_{\\psi}$ is a constant that depends on the wavelet used and the other symbols are described in above cell. $c_{\\psi}$ can be calculated as follows:\n",
    "$$\n",
    "c_{\\psi}=\\left\\{2 \\pi \\int_{-\\infty}^{\\infty} \\frac{|\\hat{\\psi}(\\xi)|^{2}}{|\\xi|} d \\xi\\right\\}^{1 / 2}\n",
    "$$\n",
    "\n",
    "where $\\hat{\\psi(\\xi)}$ is the FT of $\\psi(t)$"
   ],
   "metadata": {
    "collapsed": false,
    "pycharm": {
     "name": "#%% md\n"
    }
   }
  },
  {
   "cell_type": "code",
   "execution_count": null,
   "outputs": [],
   "source": [
    "from dsp import my_cwt\n",
    "import numpy as np\n",
    "import matplotlib.pyplot as plt\n",
    "\n",
    "help(my_cwt)\n",
    "\n",
    "fs = 100\n",
    "signal = np.load(\"./data/sim_100_0.1_90_140_train.npy\")[1,:1000]\n",
    "plt.title(\"Input signal\")\n",
    "\n",
    "plt.plot(signal)\n",
    "plt.xlabel(\"Time\")\n",
    "plt.ylabel(\"Amplitude\")\n",
    "plt.show()\n",
    "\n",
    "scales = np.array([2,4,8,16])\n",
    "wavelet = 'morl'\n",
    "\n",
    "coefficients, frequencies = my_cwt(signal, scales, wavelet, fs, True)"
   ],
   "metadata": {
    "collapsed": false,
    "pycharm": {
     "name": "#%%\n"
    },
    "is_executing": true
   }
  },
  {
   "cell_type": "markdown",
   "source": [
    "## Polynomial Chirplet Transform (PCT)\n",
    "PCT is a signal processing technique and a variant of the Chirplet Transform. The Chirplet Transform is a method used to analyze non-stationary modulations in signals, and PCT further introduces polynomial functions to enhance its analytical capabilities.\n",
    "\n",
    "In the Chirplet Transform, \"Chirp\" refers to a signal with a frequency that varies over time, and a \"Chirplet\" is a wavelet associated with a Chirp. PCT introduces polynomial modulation functions, allowing the frequency, phase, and amplitude of Chirplets to vary according to the shape of the polynomial.\n",
    "\n",
    "The core idea of PCT is to use polynomials to describe the nonlinear modulation characteristics of a signal, thereby better capturing the complex structures and non-stationary nature of the signal. This method is effective for analyzing signals where frequency, phase, and amplitude change over time.\n",
    "\n",
    "### Chirplet Transform\n",
    "\n",
    "The Chirplet Transform of a signal $x(t)$ is often represented as:\n",
    "$$\n",
    "C(a, b, \\omega, \\tau) = \\int_{-\\infty}^{\\infty} x(t) \\psi_{a, b, \\omega, \\tau}^*(t) \\, dt\n",
    "$$\n",
    "where * denotes the complex conjugate and $\\psi_{a, b, \\omega, \\tau}(t)$ is the Chirplet defined as:\n",
    "$$\n",
    "\\psi_{a, b, \\omega, \\tau}(t) = e^{j(\\omega t + \\frac{a}{2}t^2 + b t + \\tau)}\n",
    "$$\n",
    "### Polynomial Chirplet Transform\n",
    "\n",
    "The Polynomial Chirplet Transform extends the Chirplet Transform by introducing a polynomial modulation. The general form is:\n",
    "$$\n",
    "C(a, b, \\omega, \\tau, P(t)) = \\int_{-\\infty}^{\\infty} x(t) \\psi_{a, b, \\omega, \\tau, P(t)}^*(t) \\, dt\n",
    "$$\n",
    "Here, $P(t)$ is a polynomial function that modulates the Chirplet parameters.\n",
    "$$\n",
    "\\psi_{a, b, \\omega, \\tau, P(t)}(t) = e^{j(\\omega t + \\frac{a}{2}t^2 + b t + \\tau + P(t))}\n",
    "$$"
   ],
   "metadata": {
    "collapsed": false,
    "pycharm": {
     "name": "#%% md\n"
    }
   }
  },
  {
   "cell_type": "code",
   "execution_count": null,
   "outputs": [],
   "source": [
    "import numpy as np\n",
    "from dsp import chirplet_transform\n",
    "import matplotlib.pyplot as plt\n",
    "\n",
    "help(chirplet_transform)\n",
    "\n",
    "signal = np.load(\"./data/sim_100_0.1_90_140_train.npy\")[1,:1000]\n",
    "plt.title(\"Input signal\")\n",
    "plt.plot(signal)\n",
    "plt.xlabel(\"Time\")\n",
    "plt.ylabel(\"Amplitude\")\n",
    "plt.show()\n",
    "\n",
    "ct_matrix = chirplet_transform(signal, show=True)"
   ],
   "metadata": {
    "collapsed": false,
    "pycharm": {
     "name": "#%%\n"
    },
    "is_executing": true
   }
  },
  {
   "cell_type": "markdown",
   "source": [
    "## Wigner Ville Distribution (WVD)\n",
    "\n",
    "\n",
    "WVD is a time-frequency representation method widely used in signal processing and analysis. The primary goal of the Wigner-Ville Distribution is to provide a representation of the instantaneous frequency distribution of a signal. Unlike traditional methods such as Fourier transform and short-time Fourier transform, the Wigner-Ville Distribution offers more detailed information in both time and frequency domains, simultaneously depicting the variations of a signal over time and frequency.\n",
    "\n",
    "The definition of WVD is as follows:\n",
    "$$\n",
    "W_x(t, f) = \\int_{-\\infty}^{\\infty} x\\left(t + \\frac{\\tau}{2}\\right) \\cdot \\overline{x\\left(t - \\frac{\\tau}{2}\\right)} \\cdot e^{-2\\pi i f \\tau} \\,d\\tau\n",
    "$$\n",
    "Here, $W_x(t, f)$ represents the WVD, $x(t)$ is the input signal, $\\overline{x(t)}$ denotes the complex conjugate of $x(t)$, $t$ is time, and $f$ is frequency. The WVD describes the transient characteristics of a signal by computing the autocorrelation of the signal at different time windows.\n",
    "\n",
    "The advantages of WVD include its adaptability to non-stationary signals and its ability to capture the transient features of a signal. However, WVD also has some drawbacks, such as the presence of cross terms that may introduce additional complexity to the analysis."
   ],
   "metadata": {
    "collapsed": false,
    "pycharm": {
     "name": "#%% md\n"
    }
   }
  },
  {
   "cell_type": "code",
   "execution_count": null,
   "outputs": [],
   "source": [
    "import numpy as np\n",
    "import matplotlib.pyplot as plt\n",
    "from dsp import my_wvd\n",
    "\n",
    "help(my_wvd)\n",
    "\n",
    "signal = np.load(\"./data/sim_100_0.1_90_140_train.npy\")[1,:1000]\n",
    "plt.title(\"Input signal\")\n",
    "plt.plot(signal)\n",
    "plt.xlabel(\"Time\")\n",
    "plt.ylabel(\"Amplitude\")\n",
    "plt.show()\n",
    "\n",
    "matrix, t, f = my_wvd(signal, show=True)"
   ],
   "metadata": {
    "collapsed": false,
    "pycharm": {
     "name": "#%%\n"
    },
    "is_executing": true
   }
  },
  {
   "cell_type": "markdown",
   "source": [
    "## SynchroSqueezing Transform (SST)\n",
    "\n",
    "SST is a signal processing technique designed to analyze the time-frequency structure in non-stationary and non-linear signals. SST aims to enhance the resolution of signals in the time-frequency domain, particularly when dealing with non-linear and non-stationary conditions.\n",
    "\n",
    "\n",
    "1. **Time-Frequency Localization:** SST seeks to capture the instantaneous frequency information of a signal by localizing it on the time-frequency plane. This allows for a more accurate analysis of the time and frequency characteristics of non-stationary signals.\n",
    "\n",
    "2. **Reassignment Representation:** SST employs a technique known as reassignment representation, redistributing the signal on the time-frequency plane. This helps improve the resolution of local structures in the signal, making it easier to identify and analyze features in the time-frequency domain.\n",
    "\n",
    "3. **Sync Reassignment:** The core idea of SST involves remapping the spectral information of the Fourier transform onto the time-frequency plane, obtaining a more refined and accurate time-frequency analysis of the signal. This sync reassessment allows for better detection of instantaneous frequency changes in the signal.\n"
   ],
   "metadata": {
    "collapsed": false,
    "pycharm": {
     "name": "#%% md\n"
    }
   }
  },
  {
   "cell_type": "code",
   "execution_count": null,
   "outputs": [],
   "source": [
    "from dsp import sst_stft\n",
    "import numpy as np\n",
    "import matplotlib.pyplot as plt\n",
    "\n",
    "help(sst_stft)\n",
    "\n",
    "fs = 100\n",
    "signal = np.load(\"./data/sim_100_0.1_90_140_train.npy\")[2,:1000]\n",
    "plt.title(\"Input signal\")\n",
    "plt.plot(signal)\n",
    "plt.xlabel(\"Time\")\n",
    "plt.ylabel(\"Amplitude\")\n",
    "plt.show()\n",
    "\n",
    "Tx, Sx, ssq_freqs, Sfs= sst_stft(signal, window=\"ham\", nperseg = 128, fs = fs, show=True)"
   ],
   "metadata": {
    "collapsed": false,
    "pycharm": {
     "name": "#%%\n"
    },
    "is_executing": true
   }
  },
  {
   "cell_type": "code",
   "execution_count": null,
   "outputs": [],
   "source": [
    "from dsp import sst_cwt\n",
    "import numpy as np\n",
    "import matplotlib.pyplot as plt\n",
    "\n",
    "help(sst_cwt)\n",
    "\n",
    "fs = 100\n",
    "signal = np.load(\"./data/sim_100_0.1_90_140_train.npy\")[2,:1000]\n",
    "plt.title(\"Input signal\")\n",
    "plt.plot(signal)\n",
    "plt.xlabel(\"Time\")\n",
    "plt.ylabel(\"Amplitude\")\n",
    "plt.show()\n",
    "\n",
    "Tx, Wx, ssq_freqs, scale= sst_cwt(signal, wavelet=\"morlet\", scales=\"log\", nv=20, fs = fs,gamma = 3e-7, show=True)"
   ],
   "metadata": {
    "collapsed": false,
    "pycharm": {
     "name": "#%%\n"
    },
    "is_executing": true
   }
  }
 ],
 "metadata": {
  "kernelspec": {
   "display_name": "Python 3",
   "language": "python",
   "name": "python3"
  },
  "language_info": {
   "codemirror_mode": {
    "name": "ipython",
    "version": 2
   },
   "file_extension": ".py",
   "mimetype": "text/x-python",
   "name": "python",
   "nbconvert_exporter": "python",
   "pygments_lexer": "ipython2",
   "version": "2.7.6"
  }
 },
 "nbformat": 4,
 "nbformat_minor": 0
}
