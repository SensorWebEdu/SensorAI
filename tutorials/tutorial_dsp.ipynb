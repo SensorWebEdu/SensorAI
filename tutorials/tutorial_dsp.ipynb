{
  "cells": [
    {
      "cell_type": "markdown",
      "metadata": {
        "id": "view-in-github",
        "colab_type": "text"
      },
      "source": [
        "<a href=\"https://colab.research.google.com/github/wsonguga/SensorAI/blob/main/tutorials/tutorial_dsp.ipynb\" target=\"_parent\"><img src=\"https://colab.research.google.com/assets/colab-badge.svg\" alt=\"Open In Colab\"/></a>"
      ]
    },
    {
      "cell_type": "markdown",
      "metadata": {
        "id": "s8RHkFSouGyh",
        "jupyter": {
          "outputs_hidden": false
        },
        "pycharm": {
          "name": "#%% md\n"
        }
      },
      "source": [
        "## Content\n",
        "\n",
        "- Wave Generation\n",
        "    - Sine Wave\n",
        "    - Triangle Wave\n",
        "    - Square Wave\n",
        "    - Chirp Wave\n",
        "    - Pulse Wave\n",
        "\n",
        "- Noises\n",
        "    - White Noise\n",
        "    - Band-Limited White Noise\n",
        "    - Impulsive Noise\n",
        "    - Burst Noise\n",
        "    - Brown Noise\n",
        "    - Pink Noise\n",
        "    - Flicker Noise\n",
        "    - Powerline Noise\n",
        "    - Resonance Noise\n",
        "\n",
        "- Complex Wave Generation\n",
        "    - SCG\n",
        "\n",
        "- Filters\n",
        "    - Butterworth Filters\n",
        "    - Moving Average Filters\n",
        "        - Simple\n",
        "        - Exponential\n",
        "    - Savgol Filter\n",
        "    - Wiener Filter\n",
        "    - Notch Filter\n",
        "    - Matched Filter\n",
        "    - Wavelet denoising\n",
        "    - FFT denoising\n",
        "    - Adaptive Filters\n",
        "        - LMS\n",
        "        - RLS\n",
        "    - Kalman Filter\n",
        "    - Averageing by Dynamic Time Warping\n",
        "\n",
        "- Decompose:\n",
        "    - Seasonal Decompose\n",
        "    - EMD\n",
        "    - EEMD\n",
        "    - CEEMD\n",
        "    - VMD\n",
        "    - Blind source separation\n",
        "        - PCA based\n",
        "        - ICA based (including Fast ICA)\n",
        "\n",
        "- Time Domain\n",
        "  - Template of SCG\n",
        "  - Analytic Signal and Hilbert Transform\n",
        "  - Peak Detection\n",
        "    - Peak of Peak Algorithm\n",
        "  - Envelope Extraction\n",
        "    - Envelope from Peaks\n",
        "    - Average Envelope\n",
        "    - Envelope and Phase Extraction using Hilbert Transform\n",
        "  - Singular Spectrum Transform (SST)\n",
        "  - Time Domain Feature\n",
        "    - Petrosian Fractal Dimension (PFD)\n",
        "    - Skewness and Kurtosis\n",
        "- Frequency Domain\n",
        "  - Fast Fourier Transform (FFT)\n",
        "  - Frequency Domain Feature\n",
        "    - Power Spectral Density (PSD)\n",
        "    - Skewness and Kurtosis\n",
        "- Time-Frequency Domain\n",
        "  - Short Time Fourier Transform (STFT)\n",
        "  - Wavelet Analysis\n",
        "    - Mexican Hat Wavelet\n",
        "    - Morlet Wavelet\n",
        "    - Continuous Wavelet Transform (CWT)\n",
        "    - Inverse CWT\n",
        "  - Polynomial Chirplet Transform (PCT)\n",
        "    - Chirplet Transform\n",
        "    - Polynomial Chirplet Transform\n",
        "  - Wigner Ville Distribution (WVD)\n",
        "  - SynchroSqueezing Transform (SST)\n",
        "\n",
        "**- Using Google Colab with Tutorial**"
      ]
    },
    {
      "cell_type": "markdown",
      "metadata": {
        "id": "e2WrUCNBuQsa",
        "pycharm": {
          "name": "#%% md\n"
        }
      },
      "source": [
        "# Using Google Colab with Tutorial\n",
        "\n",
        "If using Google Colab, run the following code prior to running any tutorial code.  If running code locally, ignore this section"
      ]
    },
    {
      "cell_type": "code",
      "execution_count": null,
      "metadata": {
        "id": "kSvFnlgcu3Lo",
        "pycharm": {
          "name": "#%%\n"
        }
      },
      "outputs": [],
      "source": [
        "# This code clones the SensorAI github repository to colab\n",
        "  # Note: rerunning this code segment will give an error if the repository currently exists in your colab\n",
        "!git clone https://github.com/wsonguga/SensorAI.git\n",
        "\n",
        "# Once this code is executed, click the file icon to the left to verify all files have been cloned"
      ]
    },
    {
      "cell_type": "code",
      "execution_count": null,
      "metadata": {
        "id": "tgRbVaTjvET2",
        "pycharm": {
          "name": "#%%\n"
        }
      },
      "outputs": [],
      "source": [
        "# Set the root path to github repository\n",
        "import os\n",
        "\n",
        "root_path = \"/content/SensorAI\"\n",
        "\n",
        "repo_root = os.path.join(\"/content/SensorAI\")\n",
        "\n",
        "!ls"
      ]
    },
    {
      "cell_type": "code",
      "execution_count": null,
      "metadata": {
        "id": "XpYGcSv6zsUQ",
        "pycharm": {
          "name": "#%%\n"
        }
      },
      "outputs": [],
      "source": [
        "# Change to the tutorial repository\n",
        "import os\n",
        "\n",
        "os.chdir('SensorAI')\n",
        "\n",
        "%ls             # display directory content"
      ]
    },
    {
      "cell_type": "code",
      "execution_count": null,
      "metadata": {
        "id": "VXuP9su6zuoe",
        "pycharm": {
          "name": "#%%\n"
        }
      },
      "outputs": [],
      "source": [
        "# This command pulls any updated files from the repository\n",
        "# This code segment may be re-executed at any point if there have been updates to the repository\n",
        "!git pull https://github.com/wsonguga/SensorAI.git"
      ]
    },
    {
      "cell_type": "code",
      "source": [
        "# INSTALL REQUIRED PACKAGES\n",
        "\n",
        "!chmod +x install.sh  # Make the script executable\n",
        "!./install.sh"
      ],
      "metadata": {
        "id": "EISt5H0bvvHY"
      },
      "execution_count": null,
      "outputs": []
    },
    {
      "cell_type": "markdown",
      "metadata": {
        "id": "XIZG4X8_uGyo",
        "jupyter": {
          "outputs_hidden": false
        },
        "pycharm": {
          "name": "#%% md\n"
        }
      },
      "source": [
        "# Wave Generation"
      ]
    },
    {
      "cell_type": "code",
      "execution_count": null,
      "metadata": {
        "jupyter": {
          "outputs_hidden": false
        },
        "pycharm": {
          "name": "#%%\n"
        },
        "id": "X80GozZW63ei"
      },
      "outputs": [],
      "source": [
        "from lib.dsp import sine_wave\n",
        "sine_ = sine_wave(duration=10, sampling_rate=100, amplitude=1.5, frequency=0.3, show=True)"
      ]
    },
    {
      "cell_type": "markdown",
      "metadata": {
        "id": "RwaWg5k1uGyp",
        "jupyter": {
          "outputs_hidden": false
        },
        "pycharm": {
          "name": "#%% md\n"
        }
      },
      "source": [
        "## Triangle Wave\n",
        "\n",
        "**References:**\n",
        "1. https://en.wikipedia.org/wiki/Triangle_wave\n",
        "\n",
        "</br>\n",
        "\n",
        "A triangle wave, also known as a triangular wave, is a periodic waveform commonly encountered in signal processing, audio synthesis, and various other fields. It derives its name from its characteristic shape, which resembles a series of connected triangles due to its linear rise and fall over time.\n",
        "\n",
        "A more general equation for a triangle wave, incorporating both amplitude $ a $ and period $ p $, can be expressed using the modulo operation and absolute value:\n",
        "\n",
        "$$ y(t) = \\frac{4a}{p} \\cdot \\left|\n",
        "\\left( \\left( x - \\frac{p}{4} \\right) \\bmod p \\right)- \\frac{p}{2}\n",
        "\\right| - a $$\n",
        "\n",
        "In this equation:\n",
        "\n",
        "- $ y(t) $ represents the amplitude of the triangle wave at time $ t $\n",
        "- $ a $ denotes the amplitude of the wave, determining its peak-to-peak height.\n",
        "- $ p $ is the period of the wave, defining the duration of one complete cycle."
      ]
    },
    {
      "cell_type": "code",
      "execution_count": null,
      "metadata": {
        "jupyter": {
          "outputs_hidden": false
        },
        "pycharm": {
          "name": "#%%\n"
        },
        "id": "c6s9oJve63ek"
      },
      "outputs": [],
      "source": [
        "from lib.dsp import triangle_wave\n",
        "triangle_ = triangle_wave(duration=10, sampling_rate=100, amplitude=1, frequency=0.5, show=True)"
      ]
    },
    {
      "cell_type": "markdown",
      "metadata": {
        "id": "X_X9ysZ-uGyq",
        "jupyter": {
          "outputs_hidden": false
        },
        "pycharm": {
          "name": "#%% md\n"
        }
      },
      "source": [
        "\n",
        "## Square Wave\n",
        "\n",
        "**References:**\n",
        "1. https://en.wikipedia.org/wiki/Square_wave\n",
        "\n",
        "</br>\n",
        "\n",
        "A square wave is a distinct, repetitive waveform characterized by its sharp, square-like shape. It is represented by the mathematical expression:\n",
        "$$ y = A \\, \\text{sign}(\\sin(\\omega t + \\phi)) $$\n",
        "\n",
        "$A$ denotes the amplitude of the wave, $\\omega$ represents the angular frequency, $t$ stands for time, and $\\phi$ is the phase angle. The square wave alternates abruptly between two distinct amplitude levels, creating a waveform that resembles a sequence of square pulses.\n",
        "\n",
        "</br>\n",
        "\n",
        "In fact, a square wave can also be generated using the floor function directly:\n",
        "$$ y = A \\cdot \\left( 2 \\left( 2 \\left\\lfloor ft \\right\\rfloor - \\left\\lfloor 2ft \\right\\rfloor\\right) + 1 \\right)  $$\n",
        "In this equation, $ \\left\\lfloor \\cdot \\right\\rfloor $ denotes the floor function, which rounds down to the nearest integer.\n"
      ]
    },
    {
      "cell_type": "code",
      "execution_count": null,
      "metadata": {
        "jupyter": {
          "outputs_hidden": false
        },
        "pycharm": {
          "name": "#%%\n"
        },
        "id": "ZDY_9E8t63el"
      },
      "outputs": [],
      "source": [
        "from lib.dsp import square_wave\n",
        "square_ = square_wave(duration=10, sampling_rate=100, amplitude=1.5, frequency=.5, show=True)"
      ]
    },
    {
      "cell_type": "markdown",
      "metadata": {
        "id": "SGAMVJJQuGyr",
        "jupyter": {
          "outputs_hidden": false
        },
        "pycharm": {
          "name": "#%% md\n"
        }
      },
      "source": [
        "\n",
        "## Chirp Wave\n",
        "\n",
        "Chirp waves are waveforms whose frequency changes over time. Chirp waves are characterized by their continuous frequency sweep, which distinguishes them from other waveforms with fixed frequencies.\n",
        "\n",
        "Here's a brief description of three common types of chirp waves:\n",
        "\n",
        "1. **Linear Chirp Wave (Chirp_wave_linear):**\n",
        "   A linear chirp wave is one in which the frequency increases or decreases linearly with time. It can be described mathematically as:\n",
        "\n",
        "   $$ f(t) = f_0 + c t $$\n",
        "\n",
        "   - $ f(t) $ represents the frequency of the chirp wave at time $ t $.\n",
        "   - $ f_0 $ is the initial frequency of the chirp wave.\n",
        "   - $ c $ is the chirp rate, indicating the rate of change of frequency with time.\n",
        "\n",
        "2. **Hyperbolic Chirp Wave (Chirp_wave_hyperbolic):**\n",
        "   A hyperbolic chirp wave is characterized by a frequency that changes according to a hyperbolic function. Its mathematical representation is:\n",
        "\n",
        "   $$ f(t) = \\frac{f_0 f_1 T}{\\left(f_0 - f_1 \\right) t + f_1 T} $$\n",
        "\n",
        "   - $ f(t) $ represents the frequency of the chirp wave at time $ t $.\n",
        "   - $ f_0 $ is the initial frequency of the chirp wave.\n",
        "   - $ f_1 $ is the final frequency of the chirp wave.\n",
        "   - $ T $ is the time it takes to sweep from $f_0$ to $f_1$\n",
        "\n",
        "3. **Exponential Chirp Wave (Chirp_wave_exponential):**\n",
        "   An exponential chirp wave exhibits frequency variation following an exponential function. Its mathematical form is:\n",
        "\n",
        "   $$ f(t) = f_0 \\cdot k^{ t } $$\n",
        "\n",
        "   - $ f(t) $ represents the frequency of the chirp wave at time $ t $.\n",
        "   - $ f_0 $ is the initial frequency of the chirp wave.\n",
        "   - $ k $ is a parameter determining the rate of change of frequency over time.\n",
        "\n",
        "These different types of chirp waves offer distinct frequency behaviors, making them suitable for various applications depending on the desired modulation characteristics and signal processing requirements. Linear chirps provide simple frequency sweep patterns, while hyperbolic and exponential chirps offer more complex frequency modulations suitable for specific signal processing tasks."
      ]
    },
    {
      "cell_type": "code",
      "execution_count": null,
      "metadata": {
        "jupyter": {
          "outputs_hidden": false
        },
        "pycharm": {
          "name": "#%%\n"
        },
        "id": "WE5Qbulc63em"
      },
      "outputs": [],
      "source": [
        "from lib.dsp import chirp_wave_linear, chirp_wave_hyperbolic, chirp_wave_exponential\n",
        "\n",
        "\"\"\"\n",
        "The frequencies of the chirp_linear_ and the chirp_hyperbolic_ both range from 0.1 Hz to 2.6 Hz\n",
        "The frequency of the chirp_exponential_ ranges from 0.1 Hz to (0.1 + 1.5^10) Hz (as the default value of duration is 10 seconds)\n",
        "\"\"\"\n",
        "chirp_linear_ = chirp_wave_linear(f0=0.1, c=0.25, show=True)\n",
        "chirp_hyperbolic_ = chirp_wave_hyperbolic(f0=0.1, f1=2.6, show=True)\n",
        "chirp_exponential_ = chirp_wave_exponential(f0=0.1, k=1.5, show=True)"
      ]
    },
    {
      "cell_type": "markdown",
      "metadata": {
        "id": "AgfjDfFuBUpS",
        "pycharm": {
          "name": "#%% md\n"
        }
      },
      "source": [
        "## Pulses\n",
        "\n",
        "A pulse in signal processing is a rapid, transient change in the amplitude of a signal from a baseline value to a higher or lower value, followed by a rapid return to the baseline value.[1]\n",
        "\n",
        "</br>\n",
        "\n",
        "**Reference 1:** *Ángela Molina, Joaquín González, Pulse Voltammetry in Physical Electrochemistry and Electroanalysis, Springer, 2015 ISBN 3319212516.*"
      ]
    },
    {
      "cell_type": "code",
      "source": [
        "# Gaussian Pulse\n",
        "from lib.dsp import gaussian_pulse\n",
        "\n",
        "_ = gaussian_pulse(duration=100, sampling_rate=50, amplitude=1, frequency=2, bandwidth=0.6, show=True)"
      ],
      "metadata": {
        "id": "nqy3YfvMNbM1"
      },
      "execution_count": null,
      "outputs": []
    },
    {
      "cell_type": "code",
      "source": [
        "# Impulse\n",
        "from lib.dsp import impulse\n",
        "\n",
        "_ = impulse(duration=100, amplitude=1, show=True)"
      ],
      "metadata": {
        "id": "8MtG3wfoSiYj"
      },
      "execution_count": null,
      "outputs": []
    },
    {
      "cell_type": "code",
      "execution_count": null,
      "metadata": {
        "id": "qEmL00kCuGys",
        "is_executing": true,
        "jupyter": {
          "outputs_hidden": false
        },
        "pycharm": {
          "name": "#%%\n"
        }
      },
      "outputs": [],
      "source": [
        "# Gaussian Pulse Wave\n",
        "from lib.dsp import pulse_wave\n",
        "\n",
        "\"\"\"\n",
        "the parameter \"expansion\" means the number of sine waves used in the expansion for generating the pulse wave.\n",
        "As the value of \"expansion\" increases, the pulse wave becomes closer to a square wave\"\n",
        "\"\"\"\n",
        "pulse_3 = pulse_wave(duration=10, sampling_rate=100, amplitude=1, d=0.5, frequency=0.3, expansion=3, show=True)\n",
        "pulse_10 = pulse_wave(duration=10, sampling_rate=100, amplitude=1, d=0.5, frequency=0.3, expansion=10, show=True)\n",
        "pulse_25 = pulse_wave(duration=10, sampling_rate=100, amplitude=1, d=0.5, frequency=0.3, expansion=25, show=True)"
      ]
    },
    {
      "cell_type": "code",
      "execution_count": null,
      "metadata": {
        "jupyter": {
          "outputs_hidden": false
        },
        "pycharm": {
          "name": "#%%\n"
        },
        "id": "oqEY6_lM63eo"
      },
      "outputs": [],
      "source": [
        "from lib.dsp import pulse_wave\n",
        "\n",
        "\"\"\"\n",
        "the parameter \"d\" means the radio between the pulse duration and the period.\n",
        "\n",
        "Although using more harmonics will make the pulse wave closer to the shape of a square wave, oscillations will occur at the turning points of the square wave. These oscillations are called the \"Gibbs phenomenon\".\n",
        "\"\"\"\n",
        "pulse_25 = pulse_wave(duration=10, sampling_rate=100, amplitude=1, d=0.6, frequency=0.3, expansion=25, show=True)\n",
        "pulse_25_ = pulse_wave(duration=10, sampling_rate=100, amplitude=1, d=0.3, frequency=0.3, expansion=25, show=True)"
      ]
    },
    {
      "cell_type": "markdown",
      "metadata": {
        "id": "wEBvpW7CuGyv",
        "jupyter": {
          "outputs_hidden": false
        },
        "pycharm": {
          "name": "#%% md\n"
        }
      },
      "source": [
        "## Noise"
      ]
    },
    {
      "cell_type": "code",
      "execution_count": null,
      "metadata": {
        "jupyter": {
          "outputs_hidden": false
        },
        "pycharm": {
          "name": "#%%\n"
        },
        "id": "9ppeyM_I63ep"
      },
      "outputs": [],
      "source": [
        "\"\"\"\n",
        "Clean Data: SCG Signals (Seismocardiography)\n",
        "\n",
        "SCG signals are a type of bio-signal that measures the vibrations of the chest wall caused by the beating heart.\n",
        "\n",
        "Think of SCG signals as a way to \"listen\" to the heart's movements from outside the body. The signals captured can provide valuable information about the heart's activity. SCG signals are often analyzed to identify various parameters such as the timing of cardiac events (like systole and diastole).\n",
        "\"\"\"\n",
        "from lib.dsp import scg_simulate\n",
        "import matplotlib.pyplot as plt\n",
        "\n",
        "signal = scg_simulate()[:1000]\n",
        "\n",
        "plt.figure(figsize=(8, 3))\n",
        "plt.plot(signal)\n",
        "plt.ylabel('Amplitude')\n",
        "plt.xlabel('Time')\n",
        "plt.title('Clean Signal')\n",
        "plt.show()"
      ]
    },
    {
      "cell_type": "markdown",
      "metadata": {
        "id": "XQoP60UHuGyv",
        "jupyter": {
          "outputs_hidden": false
        },
        "pycharm": {
          "name": "#%% md\n"
        }
      },
      "source": [
        "### White Noise:\n",
        "White noise is a random signal where all frequencies have equal power (flat power spectral density).  White noise $ W(t) $ has constant power spectral density: $ S_W(f) = \\text{constant} $\n",
        "\n",
        "</br>\n",
        "\n",
        "Gaussian noise is a random signal where values follow a Gaussian (normal) distribution\n",
        "\n",
        "</br>\n",
        "\n",
        "Gaussian white noise is simply a noise signal that combines both the characteristics of white noise (flat power spectrum) and Gaussian noise (normal distribution).\n",
        "\n",
        "</br>\n",
        "\n",
        "Gaussian white noise and Laplacian white noise are two different types of random signals, and their main difference lies in their probability distribution functions.\n",
        "\n",
        "</br>\n",
        "\n",
        "1. **Gaussian White Noise:**\n",
        "   - In the time domain, the sample values of Gaussian white noise are **independently and identically distributed, with amplitudes following a normal distribution**.\n",
        "   - In the frequency domain, the power spectral density of Gaussian white noise is constant, meaning it has equal power at all frequencies.\n",
        "\n",
        "2. **Laplacian White Noise:**\n",
        "   - Unlike the normal distribution, because of the Laplace distribution, **extreme values are more likely to be observed in the noise**. This means that compared to Gaussian white noise, sudden and significant deviations from the mean are more likely to occur in Laplace white noise.\n",
        "   - The power spectral density of Laplacian white noise is also constant in the frequency domain, meaning it has equal power at all frequencies.\n",
        "\n",
        "</br>\n",
        "\n",
        "In summary, although both types of white noise share some similarities (such as having a constant power spectral density in the frequency domain), their probability distribution functions differ, leading to some differences in signal properties and statistical characteristics.\n",
        "\n",
        "In many cases, **directly adding random numbers can simulate the characteristics of white noise**, especially in digital signal processing and analog simulation. By directly adding random numbers, it is easy to generate random signals with similar statistical properties without the need for strict control of power density. This method is often more convenient in practice, especially for general purposes."
      ]
    },
    {
      "cell_type": "code",
      "execution_count": null,
      "metadata": {
        "jupyter": {
          "outputs_hidden": false
        },
        "pycharm": {
          "name": "#%%\n"
        },
        "id": "PXi-v_Ta63eq"
      },
      "outputs": [],
      "source": [
        "from lib.dsp import add_white_noise, scg_simulate, my_stft, plot_psd\n",
        "\n",
        "\"\"\"\n",
        "When mode is 0, Gaussian white noise is added.\n",
        "When mode is 1, Laplace white noise is added.\n",
        "\n",
        "Compared with Gaussian White Noise, Laplacian White Noise is more likely to contain extreme values when their noise amplitudes are the same.\n",
        "This phenomenon could be observed in below 2 figures.\n",
        "\n",
        "The results of STFT and PSD will be shown, if you set show is equal to True.\n",
        "\"\"\"\n",
        "\n",
        "show = True\n",
        "\n",
        "signal = scg_simulate()[:1000]\n",
        "\n",
        "signal_with_Gaussian_white_noise = add_white_noise(signal, noise_amplitude=0.3, model=0, show=True)\n",
        "if show:\n",
        "    Gaussian_white_noise = signal_with_Gaussian_white_noise - signal\n",
        "    _, _, _ = my_stft(Gaussian_white_noise, plot=True, fs=100)\n",
        "    plot_psd(Gaussian_white_noise)\n",
        "\n",
        "\n",
        "signal_with_Laplace_white_noise = add_white_noise(signal, noise_amplitude=0.3, model=1, show=True)\n",
        "if show:\n",
        "    Laplace_white_noise = signal_with_Laplace_white_noise - signal\n",
        "    _, _, _ = my_stft(Laplace_white_noise, plot=True, fs=100)\n",
        "    plot_psd(Laplace_white_noise)"
      ]
    },
    {
      "cell_type": "markdown",
      "metadata": {
        "id": "ugPR7fd_NrqM",
        "pycharm": {
          "name": "#%% md\n"
        }
      },
      "source": [
        "### Band-Limited White Noise:\n",
        "\n",
        " Band-limited white noise $ B(t) $ is confined to a frequency range $[f_1, f_2]$: $ S_B(f) = \\begin{cases} \\text{constant}, & \\text{if } f_1 \\leq |f| \\leq f_2 \\\\ 0, & \\text{otherwise} \\end{cases} $"
      ]
    },
    {
      "cell_type": "code",
      "execution_count": null,
      "metadata": {
        "jupyter": {
          "outputs_hidden": false
        },
        "pycharm": {
          "name": "#%%\n"
        },
        "id": "5TWR6gmz63eq"
      },
      "outputs": [],
      "source": [
        "from lib.dsp import add_band_limited_white_noise, scg_simulate, my_stft\n",
        "\n",
        "\n",
        "signal = scg_simulate()[:1000]\n",
        "\n",
        "\"\"\"\n",
        "In this example, the frequency of band-limited white noise is set ranging from 1Hz to 5Hz.\n",
        "The results of STFT and PSD will be shown, if you set show is equal to True.\n",
        "\"\"\"\n",
        "show = True\n",
        "\n",
        "signal_with_band_limited_white_noise = add_band_limited_white_noise(signal, noise_amplitude=1, lowcut=1, highcut=5, show=True)\n",
        "if show:\n",
        "    band_limited_white_noise = signal_with_band_limited_white_noise - signal\n",
        "    _, _, _ = my_stft(band_limited_white_noise, plot=True, fs=100)\n",
        "    plot_psd(band_limited_white_noise)"
      ]
    },
    {
      "cell_type": "markdown",
      "metadata": {
        "id": "MEDIHixTNsGg",
        "pycharm": {
          "name": "#%% md\n"
        }
      },
      "source": [
        "### Impulsive Noise\n",
        "\n",
        "Impulsive noise is like sudden bursts of random interference or disturbances in a signal. Picture it as unexpected spikes or jumps that disrupt the normal flow of a signal. These disturbances are usually short-lived but can be strong enough to affect the quality of the signal. Impulsive noise can come from various sources like electrical interference, equipment malfunction, or even natural phenomena like lightning strikes.\n",
        "\n",
        "Impulsive noise $ I(t) $ is characterized by Dirac delta functions: $$ I(t) = \\sum_{n} A_n \\delta(t - t_n) $$"
      ]
    },
    {
      "cell_type": "code",
      "execution_count": null,
      "metadata": {
        "jupyter": {
          "outputs_hidden": false
        },
        "pycharm": {
          "name": "#%%\n"
        },
        "id": "32IEocC563es"
      },
      "outputs": [],
      "source": [
        "from lib.dsp import add_impulsive_noise, scg_simulate, my_stft, plot_psd\n",
        "signal = scg_simulate()[:1000]\n",
        "\n",
        "\"\"\"\n",
        "The Variable \"number\" can control the number of spikes generated in the Impulsive Noise.\n",
        "The Variable \"rate\" can control the ratio of spike numbers generated in the Impulsive Noise to the total signal length.\n",
        "\"\"\"\n",
        "show = True\n",
        "\n",
        "signal_with_impulsive_noise = add_impulsive_noise(signal, noise_amplitude=1.5, number=50, show=True)\n",
        "# signal_with_impulsive_noise = add_impulsive_noise(signal, noise_amplitude=1.5, rate=0.05, show=True)\n",
        "if show:\n",
        "    impulsive_noise = signal_with_impulsive_noise - signal\n",
        "    _, _, _ = my_stft(impulsive_noise, plot=True, fs=100)\n",
        "    plot_psd(impulsive_noise)"
      ]
    },
    {
      "cell_type": "markdown",
      "metadata": {
        "id": "QrwVi0muNsSo",
        "pycharm": {
          "name": "#%% md\n"
        }
      },
      "source": [
        "### Burst Noise:\n",
        "Burst noise, also known as popcorn noise, is a type of noise characterized by sudden and intermittent bursts or groups of spikes in a signal. These bursts can\n",
        "occur randomly or periodically and typically last for a short duration. Burst noise can be caused by various factors such as fluctuations in voltage or current electronic component defects, or electromagnetic interference.\n",
        "\n",
        "Burst noise $ B(t) $ is modeled as a sum of pulses: $ B(t) = \\sum_{n} A_n \\text{sinc}(\\omega t - \\phi_n) $"
      ]
    },
    {
      "cell_type": "code",
      "execution_count": null,
      "metadata": {
        "jupyter": {
          "outputs_hidden": false
        },
        "pycharm": {
          "name": "#%%\n"
        },
        "id": "xHWRL_u463et"
      },
      "outputs": [],
      "source": [
        "from lib.dsp import add_burst_noise, scg_simulate, my_stft, plot_psd\n",
        "signal = scg_simulate()[:1000]\n",
        "\"\"\"\n",
        "The Variable burst_num_max can control the max number of bursts or groups of spikes.\n",
        "\"\"\"\n",
        "show = True\n",
        "\n",
        "signal_with_burst_noise = add_burst_noise(signal, burst_num_max=4, noise_amplitude=0.6, show=True)\n",
        "if show:\n",
        "    burst_noise = signal_with_burst_noise - signal\n",
        "    _, _, _ = my_stft(burst_noise, plot=True, fs=100)\n",
        "    plot_psd(burst_noise)"
      ]
    },
    {
      "cell_type": "markdown",
      "metadata": {
        "id": "wqW3CTLoNsfI",
        "pycharm": {
          "name": "#%% md\n"
        }
      },
      "source": [
        "### Colored Noise:\n",
        "Brown noise, pink noise, and blue noise are all types of random signals with different frequency distributions.\n",
        "\n",
        "1. **Brown Noise**:\n",
        "   - Brown noise, also known as Brownian noise or red noise, has a power spectral density inversely proportional to the square of the frequency.\n",
        "   - Mathematically, its power spectral density $ S(f) $ can be represented as:\n",
        "     **$ S(f) \\propto \\frac{1}{f^2} $**\n",
        "\n",
        "2. **Pink Noise**:\n",
        "   - Pink noise has equal power in each octave, meaning it has a consistent power per frequency interval.\n",
        "   - Mathematically, its power spectral density $ S(f) $ decreases by 3 decibels (dB) per octave.\n",
        "   - It can be represented as: **$ S(f) \\propto \\frac{1}{f} $**\n",
        "\n",
        "3. **Blue Noise**:\n",
        "   - Blue noise, also known as azure noise, has a power spectral density directly proportional to the frequency.\n",
        "   - Mathematically, its power spectral density $ S(f) $ can be represented as:\n",
        "     **$ S(f) \\propto f $**\n"
      ]
    },
    {
      "cell_type": "code",
      "execution_count": null,
      "metadata": {
        "jupyter": {
          "outputs_hidden": false
        },
        "pycharm": {
          "name": "#%%\n"
        },
        "id": "v1R9OxzR63et"
      },
      "outputs": [],
      "source": [
        "from lib.dsp import add_colored_noise, scg_simulate\n",
        "import matplotlib.pyplot as plt\n",
        "from scipy.signal import welch\n",
        "\n",
        "signal = scg_simulate()[:1000]\n",
        "\n",
        "show = True\n",
        "\n",
        "signal_with_blue_noise = add_colored_noise(signal, model='blue', show=True)\n",
        "if show:\n",
        "    blue_noise = signal_with_blue_noise - signal\n",
        "    _, _, _ = my_stft(blue_noise, plot=True, fs=100)\n",
        "    plot_psd(blue_noise)\n",
        "\n",
        "signal_with_pink_noise = add_colored_noise(signal, model='pink', show=True)\n",
        "if show:\n",
        "    pink_noise = signal_with_pink_noise - signal\n",
        "    _, _, _ = my_stft(pink_noise, plot=True, fs=100)\n",
        "    plot_psd(pink_noise)\n",
        "\n",
        "signal_with_brown_noise = add_colored_noise(signal, model='brown', show=True)\n",
        "if show:\n",
        "    brown_noise = signal_with_brown_noise - signal\n",
        "    _, _, _ = my_stft(brown_noise, plot=True, fs=100)\n",
        "    plot_psd(brown_noise)\n",
        "\n",
        "fs = 100\n",
        "frequencies_blue, psd_blue = welch(signal_with_blue_noise-signal, fs=fs)\n",
        "frequencies_pink, psd_pink = welch(signal_with_pink_noise-signal, fs=fs)\n",
        "frequencies_brown, psd_brown = welch(signal_with_brown_noise-signal, fs=fs)\n",
        "\n",
        "plt.figure(figsize=(8, 3))\n",
        "plt.semilogy(frequencies_blue, psd_blue, label='Blue')\n",
        "plt.semilogy(frequencies_pink, psd_pink, label='Pink')\n",
        "plt.semilogy(frequencies_brown, psd_brown, label='Brown')\n",
        "plt.xlabel('Frequency (Hz)');plt.ylabel('PSD (V^2/Hz)');plt.title('Power Spectral Density (PSD)')\n",
        "plt.grid(True);plt.legend();plt.show()"
      ]
    },
    {
      "cell_type": "markdown",
      "metadata": {
        "id": "Y2Gu5Xi_Ns5C",
        "pycharm": {
          "name": "#%% md\n"
        }
      },
      "source": [
        "### Flicker Noise:\n",
        "https://en.wikipedia.org/wiki/Flicker_noise\n",
        "\n",
        "Flicker noise $ F(t) $ exhibits a power spectral density proportional to $ \\frac{1}{f} $: $ S_F(f) \\propto \\frac{1}{f} $. And Flicker noise is also known as pink noise!"
      ]
    },
    {
      "cell_type": "code",
      "execution_count": null,
      "metadata": {
        "jupyter": {
          "outputs_hidden": false
        },
        "pycharm": {
          "name": "#%%\n"
        },
        "id": "U_kMkqPA63eu"
      },
      "outputs": [],
      "source": [
        "from lib.dsp import add_flicker_noise, scg_simulate, my_stft, plot_psd\n",
        "\n",
        "show = True\n",
        "\n",
        "signal = scg_simulate()[:1000]\n",
        "signal_with_flicker_noise = add_flicker_noise(signal, show=True)\n",
        "\n",
        "if show:\n",
        "    flicker_noise = signal_with_flicker_noise - signal\n",
        "    _, _, _ = my_stft(flicker_noise, plot=True, fs=100)\n",
        "    plot_psd(flicker_noise)"
      ]
    },
    {
      "cell_type": "markdown",
      "metadata": {
        "id": "Vxn1TmQONtIp",
        "pycharm": {
          "name": "#%% md\n"
        }
      },
      "source": [
        "### Powerline Noise:\n",
        "Powerline noise, also known as electrical line noise, refers to unwanted electrical interference that occurs in power lines. It typically manifests as a humming or buzzing sound in audio equipment or as interference in electronic signals. Powerline noise is caused by various factors such as electromagnetic interference (EMI) from nearby electrical devices,or fluctuations in the power grid. It can affect the performance of audio systems, communication devices, and other electronic equipment by introducing unwanted signals or disturbances. Filtering and shielding techniques are often used to mitigate powerline noise in electronic systems.\n",
        "\n",
        "Powerline noise $ P(t) $ interferes with signals, often sinusoidal: $ P(t) = A \\sin(2\\pi f_{\\text{power}} t) $\n"
      ]
    },
    {
      "cell_type": "code",
      "execution_count": null,
      "metadata": {
        "jupyter": {
          "outputs_hidden": false
        },
        "pycharm": {
          "name": "#%%\n"
        },
        "id": "M9NLM8X_63ev"
      },
      "outputs": [],
      "source": [
        "from lib.dsp import add_powerline_noise, scg_simulate, my_stft, plot_psd\n",
        "\n",
        "show = True\n",
        "\n",
        "signal = scg_simulate(sampling_rate=1000)[:10000]\n",
        "signal_with_power_line = add_powerline_noise(signal,sampling_rate=1000, duration=10, powerline_amplitude=0.3, show=True)\n",
        "if show:\n",
        "    power_line = signal_with_power_line - signal\n",
        "    _, _, _ = my_stft(power_line , plot=True, fs=1000)\n",
        "    plot_psd(power_line )"
      ]
    },
    {
      "cell_type": "markdown",
      "metadata": {
        "id": "i5sXbnHnOOQT",
        "pycharm": {
          "name": "#%% md\n"
        }
      },
      "source": [
        "### Echo Noise:\n",
        "\n",
        "reference： adsp\n",
        "\n",
        "Multipath and echo are distortions arising from signal reflections at points where the medium's properties change. Both acoustic and electromagnetic signals can experience these phenomena.\n",
        "\n",
        "Echo occurs when a portion of the signal reflects back to the source. Acoustic echoes result from feedback between speakers and microphones. Addressing echo cancellation remains crucial in modern communication systems.\n",
        "\n",
        "Multipath signifies that the transmitted signal reaches the destination after reflecting off various points or surfaces through different paths. In room acoustics, multipath propagation causes sound reverberation. In cellular mobile communication, unmodeled multipath propagation can distort signals significantly."
      ]
    },
    {
      "cell_type": "code",
      "execution_count": null,
      "metadata": {
        "id": "SYP0pCRRuGy2",
        "jupyter": {
          "outputs_hidden": false
        },
        "pycharm": {
          "name": "#%%\n"
        }
      },
      "outputs": [],
      "source": [
        "from lib.dsp import add_echo_noise, scg_simulate, my_stft, plot_psd\n",
        "signal = scg_simulate()[:1000]\n",
        "\n",
        "show=True\n",
        "\n",
        "attenuation_factor = [0.8, 0.6, 0.4]\n",
        "delay_factor = [10, 25, 40]\n",
        "noisy_signal = add_echo_noise(signal, 3, attenuation_factor, delay_factor, show=True)\n",
        "if show:\n",
        "    echo_noise = noisy_signal - signal\n",
        "    _, _, _ = my_stft(echo_noise , plot=True, fs=100)\n",
        "    plot_psd(echo_noise)"
      ]
    },
    {
      "cell_type": "markdown",
      "metadata": {
        "pycharm": {
          "name": "#%% md\n"
        },
        "id": "SobppDDS63e_"
      },
      "source": [
        "## Complex Wave Generation"
      ]
    },
    {
      "cell_type": "markdown",
      "metadata": {
        "pycharm": {
          "name": "#%% md\n"
        },
        "id": "m07SFKZG63fA"
      },
      "source": [
        "### SCG generation\n",
        "A function to generate different types of synthetic scg signal. We can specify different params to change the pulse type, noise type, range of systolic and diastolic and so on. Use \"help(dsp.scg_simulate)\" to get the information of the params."
      ]
    },
    {
      "cell_type": "code",
      "execution_count": null,
      "metadata": {
        "scrolled": true,
        "pycharm": {
          "name": "#%%\n"
        },
        "id": "YzsORjn363fA"
      },
      "outputs": [],
      "source": [
        "import lib.dsp\n",
        "print(help(lib.dsp.scg_simulate))"
      ]
    },
    {
      "cell_type": "markdown",
      "metadata": {
        "pycharm": {
          "name": "#%% md\n"
        },
        "id": "zYnSE6cJ63fB"
      },
      "source": [
        "#### pulse_type\n",
        "First, we illustrate the parameter of \"pulse_type\". It determines which wavelet to use to form the basic waveform of a scg cycle. Now we can choose \"db\", \"mor\", \"sym\" and \"ricker\". The pulse_type choices will be added gradually in the future."
      ]
    },
    {
      "cell_type": "code",
      "execution_count": null,
      "metadata": {
        "pycharm": {
          "name": "#%%\n"
        },
        "id": "vuI8lAdU63fC"
      },
      "outputs": [],
      "source": [
        "import numpy as np\n",
        "import matplotlib.pyplot as plt\n",
        "import lib.dsp\n",
        "\n",
        "signal_db = lib.dsp.scg_simulate(\n",
        "    num_rows=1,\n",
        "    duration=10,\n",
        "    sampling_rate=100,\n",
        "    pulse_type=\"db\",\n",
        "    # set the parameters below to make sure the other parameters are the same\n",
        "    heart_rate=(70,71),\n",
        "    respiratory_rate=(15,16),\n",
        "    systolic=(120,121),\n",
        "    diastolic=(90,91)\n",
        ")\n",
        "\n",
        "signal_mor = lib.dsp.scg_simulate(\n",
        "    num_rows=1,\n",
        "    duration=10,\n",
        "    sampling_rate=100,\n",
        "    pulse_type=\"mor\",\n",
        "    heart_rate=(70,71),\n",
        "    respiratory_rate=(15,16),\n",
        "    systolic=(120,121),\n",
        "    diastolic=(90,91)\n",
        ")\n",
        "\n",
        "plt.figure(figsize=(8,6))\n",
        "plt.subplot(2,1,1)\n",
        "plt.plot(signal_db[:1000])\n",
        "plt.title(\"SCG generated by daubechies wavelet\")\n",
        "plt.xlabel(\"Time\")\n",
        "plt.ylabel(\"Amplitude\")\n",
        "plt.subplot(2,1,2)\n",
        "plt.plot(signal_mor[:1000])\n",
        "plt.title(\"SCG generated by morlet wavelet\")\n",
        "plt.xlabel(\"Time\")\n",
        "plt.ylabel(\"Amplitude\")\n",
        "plt.tight_layout()\n",
        "plt.show()"
      ]
    },
    {
      "cell_type": "markdown",
      "metadata": {
        "pycharm": {
          "name": "#%% md\n"
        },
        "id": "u2xiYjtG63fE"
      },
      "source": [
        "#### add_respiratory\n",
        "The parameter control whether add respiratory. If True, we can also specify the range of the respiratory rate."
      ]
    },
    {
      "cell_type": "code",
      "execution_count": null,
      "metadata": {
        "pycharm": {
          "name": "#%%\n"
        },
        "id": "OWffb9xH63fF"
      },
      "outputs": [],
      "source": [
        "import numpy as np\n",
        "import matplotlib.pyplot as plt\n",
        "import lib.dsp\n",
        "\n",
        "signal_with_respiratory = lib.dsp.scg_simulate(\n",
        "    num_rows=1,\n",
        "    duration=10,\n",
        "    sampling_rate=100,\n",
        "    pulse_type=\"db\",\n",
        "    heart_rate=(70,71),\n",
        "    add_respiratory=True,\n",
        "    systolic=(120,121),\n",
        "    diastolic=(90,91)\n",
        ")\n",
        "\n",
        "signal_without_respiratory = lib.dsp.scg_simulate(\n",
        "    num_rows=1,\n",
        "    duration=10,\n",
        "    sampling_rate=100,\n",
        "    pulse_type=\"db\",\n",
        "    heart_rate=(70,71),\n",
        "    add_respiratory = False,\n",
        "    systolic=(120,121),\n",
        "    diastolic=(90,91)\n",
        ")\n",
        "\n",
        "plt.figure(figsize=(8,6))\n",
        "plt.subplot(2,1,1)\n",
        "plt.plot(signal_without_respiratory[:1000])\n",
        "plt.title(\"SCG without respiratory\")\n",
        "plt.xlabel(\"Time\")\n",
        "plt.ylabel(\"Amplitude\")\n",
        "plt.subplot(2,1,2)\n",
        "plt.plot(signal_with_respiratory[:1000])\n",
        "plt.title(\"SCG with respiratory\")\n",
        "plt.xlabel(\"Time\")\n",
        "plt.ylabel(\"Amplitude\")\n",
        "plt.tight_layout()\n",
        "plt.show()"
      ]
    },
    {
      "cell_type": "markdown",
      "metadata": {
        "pycharm": {
          "name": "#%% md\n"
        },
        "id": "WinWGOOC63fF"
      },
      "source": [
        "#### systolic/diastolic/heart_rate\n",
        "\n",
        "These parameters control the shape of the scg. Here, for the convenience, we only illustrate the systolic which control the length of gap between peaks. It is obvious that in one cycle, the gap between high peak and low peak is smaller with bigger systolic."
      ]
    },
    {
      "cell_type": "code",
      "execution_count": null,
      "metadata": {
        "scrolled": true,
        "pycharm": {
          "name": "#%%\n"
        },
        "id": "riWSmpaZ63fG"
      },
      "outputs": [],
      "source": [
        "import numpy as np\n",
        "import matplotlib.pyplot as plt\n",
        "import lib.dsp\n",
        "\n",
        "signal_90 = lib.dsp.scg_simulate(\n",
        "    num_rows=1,\n",
        "    duration=10,\n",
        "    sampling_rate=100,\n",
        "    pulse_type=\"db\",\n",
        "    heart_rate=(70,71),\n",
        "    respiratory_rate=(15,16),\n",
        "    systolic=(90,91),\n",
        "    diastolic=(90,91)\n",
        ")\n",
        "\n",
        "signal_170 = lib.dsp.scg_simulate(\n",
        "    num_rows=1,\n",
        "    duration=10,\n",
        "    sampling_rate=100,\n",
        "    pulse_type=\"db\",\n",
        "    heart_rate=(70,71),\n",
        "    respiratory_rate=(15,16),\n",
        "    systolic=(170,171),\n",
        "    diastolic=(90,91)\n",
        ")\n",
        "\n",
        "plt.figure(figsize=(8,6))\n",
        "plt.subplot(2,1,1)\n",
        "plt.plot(signal_90[:1000])\n",
        "plt.title(\"SCG with 90 systolic\")\n",
        "plt.xlabel(\"Time\")\n",
        "plt.ylabel(\"Amplitude\")\n",
        "plt.subplot(2,1,2)\n",
        "plt.plot(signal_170[:1000])\n",
        "plt.title(\"SCG with 170 systolic\")\n",
        "plt.xlabel(\"Time\")\n",
        "plt.ylabel(\"Amplitude\")\n",
        "plt.tight_layout()\n",
        "plt.show()"
      ]
    },
    {
      "cell_type": "markdown",
      "metadata": {
        "id": "mJiZNLu3uDIo",
        "pycharm": {
          "name": "#%% md\n"
        }
      },
      "source": [
        "# Filters"
      ]
    },
    {
      "cell_type": "markdown",
      "metadata": {
        "id": "CQA4TslEuGy-",
        "jupyter": {
          "outputs_hidden": false
        },
        "pycharm": {
          "name": "#%% md\n"
        }
      },
      "source": [
        "## **Butterworth Filters**\n",
        "\n",
        "   The Butterworth filter is a popular linear filter designed to pass signals within a specified frequency range while attenuating frequencies outside that range. It is characterized by **a smooth frequency response** and is commonly used in signal processing and communications. Mathematically, the filter transfer function is given by $H(s) = \\frac{1}{1 + (\\frac{s}{\\omega_c})^{2n}}$ where $s$ is the complex frequency variable, $\\omega_c$ is the cutoff frequency, and $n$ is the filter order.\n",
        "\n",
        "\n",
        "The \"order\" parameter in a Butterworth filter specifies the filter's degree. It determines the filter's frequency response characteristics, affecting its cutoff frequency and slope. Higher orders result in steeper cutoffs, effectively filtering out frequencies beyond the desired range. Lower orders have wider transition regions but lower phase distortion. The choice of order balances filter performance and computational complexity based on specific application requirements."
      ]
    },
    {
      "cell_type": "markdown",
      "source": [
        "**FEATURES:**\n",
        "\n",
        "**Maximally Flat Frequency Response:**\n",
        "\n",
        "* The Butterworth filter is characterized by a frequency response that is as flat as possible in the passband (the range of frequencies that are allowed to pass through the filter) and then rolls off gradually in the stopband (the range of frequencies that are attenuated).\n",
        "\n",
        "* Unlike other filters (like Chebyshev or elliptic filters), it doesn’t have ripples in the passband.\n",
        "\n",
        "**Roll-Off:**\n",
        "\n",
        "* While the Butterworth filter provides a flat passband, its transition from the passband to the stopband is smooth. The cutoff frequency is the point at which the filter begins to attenuate frequencies.\n",
        "\n",
        "* The roll-off is not as steep as other filters like Chebyshev, but it is smooth and gradual. The rate of roll-off depends on the order of the filter. A higher-order Butterworth filter has a steeper roll-off.\n",
        "\n",
        "**Phase Response:**\n",
        "\n",
        "* The Butterworth filter also has a relatively linear phase response, which means that the phase shift introduced by the filter does not distort the signal too much.\n",
        "\n",
        "**Filter Types:**\n",
        "\n",
        "* The Butterworth filter can be implemented as low-pass, high-pass, band-pass, or band-stop filters. The choice of filter type depends on the application and the frequencies you want to pass or reject.\n",
        "\n",
        "**Order of the Filter:**\n",
        "\n",
        "* The order of the Butterworth filter determines how sharp the transition is between the passband and the stopband. A higher-order filter results in a sharper transition but can also be more complex to implement.\n",
        "\n",
        "* The filter's behavior is defined by the following:\n",
        "\n",
        "    * **First-order filter:** Has a roll-off of 20 dB per decade.\n",
        "    * **Second-order filter:** Has a roll-off of 40 dB per decade.\n",
        "    * **Nth-order filter:** Has a roll-off of 20 * N dB per decade."
      ],
      "metadata": {
        "id": "sStI06rfm3Qc"
      }
    },
    {
      "cell_type": "markdown",
      "source": [
        "**Pros:**\n",
        "\n",
        "* **Flat Passband:** The Butterworth filter has no ripples in the passband, which makes it ideal when preserving the signal in the passband is critical.\n",
        "\n",
        "* **Simple Design:** It has a straightforward design and is easy to implement in both analog and digital domains.\n",
        "\n",
        "* **Well-Behaved Roll-Off:** The filter's roll-off is smooth, avoiding sudden changes in the signal's frequency response.\n",
        "\n",
        "**Cons:**\n",
        "\n",
        "* **Gradual Roll-Off:** The Butterworth filter's roll-off is not as steep as that of other filters like Chebyshev or elliptic filters, meaning that the stopband may not be completely attenuated as quickly.\n",
        "\n",
        "* **Higher Order Filters:** To achieve a sharper roll-off, higher-order filters are required, which increases the complexity and can introduce more delay or distortion."
      ],
      "metadata": {
        "id": "iSnzRoIJm-sT"
      }
    },
    {
      "cell_type": "code",
      "execution_count": null,
      "metadata": {
        "id": "HTByR_5BuGy_",
        "jupyter": {
          "outputs_hidden": false
        },
        "pycharm": {
          "name": "#%%\n"
        }
      },
      "outputs": [],
      "source": [
        "from lib.dsp import butter_highpass_filter, scg_simulate, my_stft, add_distort_noise\n",
        "signal = scg_simulate()[:1000]\n",
        "\n",
        "\"\"\"\n",
        "Add low-frequency noise (below 3Hz) to the signal. Then apply a Butterworth high-pass filter to the remove signals below 5Hz. The output of the STFT indicates few energy in the signal below 5Hz.\n",
        "\"\"\"\n",
        "# signal_with_3Hz_Noise, Add noise with a frequency of 3 to the signal. The amplitude of the noise is noise_amplitude * np.std(signal).\n",
        "\n",
        "show = True\n",
        "signal_with_3Hz_Noise = add_distort_noise(signal, n_samples=1000, sampling_rate=100,noise_frequency=3,  noise_amplitude=0.5, show=True)\n",
        "filtered_signal_1 = butter_highpass_filter(signal_with_3Hz_Noise, cutoff=5, order=10, show=True)\n",
        "if show:\n",
        "    \"show the comparison of Noisy Signal and Filtered Signal\"\n",
        "    _, _, _ = my_stft(signal_with_3Hz_Noise, plot=True, fs=100)\n",
        "    _, _, _ = my_stft(filtered_signal_1, plot=True, fs=100)\n",
        "\n",
        "# Plot the effectiveness of the results\n",
        "plt.figure(figsize=(10, 6))\n",
        "t = np.linspace(0, 1000, len(signal))\n",
        "\n",
        "# Plot original signal\n",
        "plt.plot(t, signal_with_3Hz_Noise, label=\"Noisy Signal\", color='red', alpha=0.6)\n",
        "\n",
        "# Plot the smoothed signal\n",
        "plt.plot(t, filtered_signal_1, label=f\"Filtered Signal\", color='blue', linewidth=2)\n",
        "\n",
        "# Plot the true signal\n",
        "plt.plot(t, signal, label=\"True Signal\", color='green', linestyle='--', alpha=0.8)\n",
        "\n",
        "# Labels and legend\n",
        "plt.title(\"Effectiveness of Simple Moving Average Filter\")\n",
        "plt.xlabel(\"Time\")\n",
        "plt.ylabel(\"Amplitude\")\n",
        "plt.legend()\n",
        "\n",
        "plt.grid(True)\n",
        "plt.show()"
      ]
    },
    {
      "cell_type": "code",
      "execution_count": null,
      "metadata": {
        "id": "cijhPU5quGy_",
        "jupyter": {
          "outputs_hidden": false
        },
        "pycharm": {
          "name": "#%%\n"
        }
      },
      "outputs": [],
      "source": [
        "from lib.dsp import butter_lowpass_filter, scg_simulate, my_stft, sine_wave\n",
        "signal = scg_simulate()[:1000]\n",
        "\"\"\"\n",
        "Add high-frequency sine wave (45Hz) to the signal. Then apply a Butterworth low-pass filter to the remove signals above 42.5Hz. The output of the STFT indicates few energy in the signal above 42.5Hz. However, there are still some residual components remaining.\n",
        "\"\"\"\n",
        "show = True\n",
        "\n",
        "signal_with_45Hz_sine_noise = signal+sine_wave(frequency=45, amplitude=0.8e-6, show=False)\n",
        "filtered_signal_2 = butter_lowpass_filter(signal_with_45Hz_sine_noise, cutoff=42.5, show=True)\n",
        "\n",
        "if show:\n",
        "    \"show the comparison of Noisy Signal and Filtered Signal\"\n",
        "    _, _, _ = my_stft(signal_with_45Hz_sine_noise, plot=True, fs=100)\n",
        "    _, _, _ = my_stft(filtered_signal_2, plot=True, fs=100)\n",
        "\n",
        "\n",
        "# Plot the effectiveness of the results\n",
        "plt.figure(figsize=(10, 6))\n",
        "t = np.linspace(0, 1000, len(signal))\n",
        "\n",
        "# Plot original signal\n",
        "plt.plot(t, signal_with_45Hz_sine_noise, label=\"Noisy Signal\", color='red', alpha=0.6)\n",
        "\n",
        "# Plot the smoothed signal\n",
        "plt.plot(t, filtered_signal_2, label=f\"Filtered Signal\", color='blue', linewidth=2)\n",
        "\n",
        "# Plot the true signal\n",
        "plt.plot(t, signal, label=\"True Signal\", color='green', linestyle='--', alpha=0.8)\n",
        "\n",
        "# Labels and legend\n",
        "plt.title(\"Effectiveness of Simple Moving Average Filter\")\n",
        "plt.xlabel(\"Time\")\n",
        "plt.ylabel(\"Amplitude\")\n",
        "plt.legend()\n",
        "\n",
        "plt.grid(True)\n",
        "plt.show()"
      ]
    },
    {
      "cell_type": "code",
      "execution_count": null,
      "metadata": {
        "id": "e1XTsfwbuGzS",
        "jupyter": {
          "outputs_hidden": false
        },
        "pycharm": {
          "name": "#%%\n"
        }
      },
      "outputs": [],
      "source": [
        "from lib.dsp import butter_bandpass_filter, scg_simulate, my_stft\n",
        "signal = scg_simulate()[:1000]\n",
        "\"\"\"\n",
        "Add a high-frequency sine wave (45Hz) and a low-frequency sine wave (3Hz) to the signal. Then apply a Butterworth bandpass filter to the remove signals above 42.5Hz and below 5Hz. The output of the STFT indicates most of energy in the signal in the range of 5Hz to 42.5Hz.\n",
        "\"\"\"\n",
        "show = True\n",
        "signal_with_3Hz_and_45Hz_sine_noise = signal+sine_wave(frequency=45, amplitude=0.8e-6, show=False)+sine_wave(frequency=3, amplitude=1e-6, show=False)\n",
        "filtered_signal_3 = butter_bandpass_filter(signal_with_3Hz_and_45Hz_sine_noise, lowcut=5, highcut=42.5, order=10, show=True)\n",
        "if show:\n",
        "    \"show the comparison of Noisy Signal and Filtered Signal\"\n",
        "    _, _, _ = my_stft(signal_with_3Hz_and_45Hz_sine_noise, plot=True, fs=100)\n",
        "    _, _, _ = my_stft(filtered_signal_3, plot=True, fs=100)\n",
        "\n",
        "\n",
        "# Plot the effectiveness of the results\n",
        "plt.figure(figsize=(10, 6))\n",
        "t = np.linspace(0, 1000, len(signal))\n",
        "\n",
        "# Plot original signal\n",
        "plt.plot(t, signal_with_3Hz_and_45Hz_sine_noise, label=\"Noisy Signal\", color='red', alpha=0.6)\n",
        "\n",
        "# Plot the smoothed signal\n",
        "plt.plot(t, filtered_signal_3, label=f\"Filtered Signal\", color='blue', linewidth=2)\n",
        "\n",
        "# Plot the true signal\n",
        "plt.plot(t, signal, label=\"True Signal\", color='green', linestyle='--', alpha=0.8)\n",
        "\n",
        "# Labels and legend\n",
        "plt.title(\"Effectiveness of Simple Moving Average Filter\")\n",
        "plt.xlabel(\"Time\")\n",
        "plt.ylabel(\"Amplitude\")\n",
        "plt.legend()\n",
        "\n",
        "plt.grid(True)\n",
        "plt.show()"
      ]
    },
    {
      "cell_type": "code",
      "execution_count": null,
      "metadata": {
        "id": "OdheQIRduGzT",
        "jupyter": {
          "outputs_hidden": false
        },
        "pycharm": {
          "name": "#%%\n"
        }
      },
      "outputs": [],
      "source": [
        "import matplotlib.pyplot as plt\n",
        "from lib.dsp import butter_bandstop_filter, sine_wave, scg_simulate, my_stft\n",
        "signal = scg_simulate()[:1000]\n",
        "\"\"\"\n",
        "Add a 10Hz sine wave to the signal. Then apply a Butterworth band-stop filter to the remove signals in the range of 9Hz to 11Hz. The output of the STFT indicates few energy in the signal in the range of 9Hz to 11Hz.\n",
        "\"\"\"\n",
        "show=True\n",
        "sine_noise = sine_wave(frequency=10, amplitude=0.8e-6, show=False)\n",
        "signal_with_10Hz_sine_noise = signal + sine_noise\n",
        "plt.figure(figsize=(8,3))\n",
        "plt.plot(signal_with_10Hz_sine_noise)\n",
        "plt.title('Signal with 10Hz Sine Noise');plt.show()\n",
        "filtered_signal_4 = butter_bandstop_filter(signal_with_10Hz_sine_noise, lowcut=9, highcut=11, show=True)\n",
        "\n",
        "if show:\n",
        "    \"show the comparison of Noisy Signal and Filtered Signal\"\n",
        "    _, _, _ = my_stft(signal_with_10Hz_sine_noise, plot=True, fs=100)\n",
        "    _, _, _ = my_stft(filtered_signal_4, plot=True, fs=100)\n",
        "\n",
        "# Plot the effectiveness of the results\n",
        "plt.figure(figsize=(10, 6))\n",
        "t = np.linspace(0, 1000, len(signal))\n",
        "\n",
        "# Plot original signal\n",
        "plt.plot(t, signal_with_10Hz_sine_noise, label=\"Noisy Signal\", color='red', alpha=0.6)\n",
        "\n",
        "# Plot the smoothed signal\n",
        "plt.plot(t, filtered_signal_4, label=f\"Filtered Signal\", color='blue', linewidth=2)\n",
        "\n",
        "# Plot the true signal\n",
        "plt.plot(t, signal, label=\"True Signal\", color='green', linestyle='--', alpha=0.8)\n",
        "\n",
        "# Labels and legend\n",
        "plt.title(\"Effectiveness of Simple Moving Average Filter\")\n",
        "plt.xlabel(\"Time\")\n",
        "plt.ylabel(\"Amplitude\")\n",
        "plt.legend()\n",
        "\n",
        "plt.grid(True)\n",
        "plt.show()"
      ]
    },
    {
      "cell_type": "markdown",
      "metadata": {
        "id": "7neAAygVwpDZ",
        "pycharm": {
          "name": "#%% md\n"
        }
      },
      "source": [
        "## Moving Average Filters\n",
        "\n",
        "A moving average filter is a simple and widely used signal processing technique that smooths out fluctuations or noise in data by averaging a sliding window of values from the input data over time. It's commonly used in time series data, such as stock prices, sensor readings, or audio signals, to help highlight trends or patterns by reducing short-term variations.\n",
        "\n",
        "</br>\n",
        "\n",
        "**Steps:**\n",
        "\n",
        "\n",
        "1. **Define window size:** This is the number of consecutive data points considered at a time. For example, in a moving average with a window size of 3, each value in the output is the average of the previous three data points from the input.\n",
        "\n",
        "2. **Slide the window across the data:** For each point in the data, the window shifts one position forward, and a new average is calculated for the new set of data points within the window.\n",
        "\n",
        "3. **Output:** The result is a smoother version of the input data, where the short-term fluctuations are reduced.\n",
        "\n",
        "</br>\n",
        "\n",
        "**Types:**\n",
        "\n",
        "</br>\n",
        "\n",
        "* **Simple Moving Average (SMA):** Each data point in the window is given equal weight.\n",
        "\n",
        "* **Weighted Moving Average (WMA):** More recent data points are given higher weight than older ones.\n",
        "\n",
        "* **Exponential Moving Average (EMA):** The weight decreases exponentially with time, giving more importance to recent data points.  It is a special case of the WMA.\n",
        "\n",
        "</br>\n",
        "\n",
        "The moving average filter is widely used for data smoothing, noise reduction, and trend identification in fields like finance, engineering, and signal processing."
      ]
    },
    {
      "cell_type": "markdown",
      "source": [
        "**Pros:**\n",
        "\n",
        "1. **Simplicity:** Moving average filters are easy to implement and understand. They involve simple arithmetic (averaging) and are computationally inexpensive.\n",
        "\n",
        "2. **Noise Reduction:** These filters are effective at removing random noise, especially in cases where the noise is high-frequency, making the signal smoother.\n",
        "\n",
        "3. **Stability:** They are stable and do not introduce any complex artifacts. The output is typically smooth, which is useful for many applications like signal filtering or trend analysis.\n",
        "\n",
        "4. **Effective for Low-Frequency Signals:** Moving averages are well-suited to data that exhibits low-frequency variations or trends, as they preserve the signal while removing rapid fluctuations.\n",
        "\n",
        "5. **Widely Used:** They are commonly used in various fields such as stock market analysis (e.g., moving average of stock prices), sensor data smoothing, and image processing (e.g., blurring).\n",
        "\n",
        "</br>\n",
        "\n",
        "**Cons:**\n",
        "\n",
        "1. **Delay/Phase Shift:** Moving average filters introduce a delay in the signal, especially for long window sizes. This is problematic for real-time systems or time-sensitive applications. The output may lag behind the actual data.\n",
        "\n",
        "2. **Loss of High-Frequency Information:** These filters can attenuate high-frequency signals or rapid changes in data, which may be undesirable in applications that require preserving sharp transitions (e.g., edge detection in images).\n",
        "\n",
        "3. **Window Size Sensitivity:** The performance of a moving average filter heavily depends on the window size. A too-small window might not filter enough noise, while a too-large window may overly smooth the signal, losing important details.\n",
        "\n",
        "4. **Edge Effects:** For data at the boundaries (e.g., the start or end of a time series or image), moving averages may produce unreliable results because the filter may not have enough data points on one side of the window.\n",
        "\n",
        "5. **Not Ideal for Non-Stationary Data:** Moving average filters are better suited for stationary or slow-varying signals. They may not perform well with non-stationary signals (i.e., signals that have trends or abrupt changes).\n",
        "\n",
        "6. **Over-Smoothing:** In some cases, particularly with larger window sizes, the filter can over-smooth the signal, removing important variations or trends in the data."
      ],
      "metadata": {
        "id": "zktO8Xk7Ry5C"
      }
    },
    {
      "cell_type": "markdown",
      "metadata": {
        "id": "-GCOMbEzw24E",
        "pycharm": {
          "name": "#%% md\n"
        }
      },
      "source": [
        "### **Simple Moving Average (SMA) Filter:**\n",
        "   The SMA filter is a basic time-domain filter that computes the average of a specified number of consecutive data points. It provides a simple means of smoothing a time series to reveal underlying trends. Mathematically, the SMA for a window size $N$ is given by $y(t) = \\frac{1}{N} \\sum_{i=1}^{N} x(t-i+1)$. Essentially, the SMA filter is a type of **low-pass filter**."
      ]
    },
    {
      "cell_type": "code",
      "execution_count": null,
      "metadata": {
        "jupyter": {
          "outputs_hidden": false
        },
        "pycharm": {
          "name": "#%%\n"
        },
        "id": "1UVDr3Ln63fI"
      },
      "outputs": [],
      "source": [
        "from lib.dsp import simple_moving_average_filter, add_distort_noise, my_stft, sine_wave\n",
        "\"\"\"\n",
        "Regarding the moving averaging filter, the most important parameter is \"len\", which determines the length of the signal over which the average it taken.\n",
        "A larger \"len\" results in better smoothing effects. By setting \"show\" to True and observe the STFT plot output, it's noticeable that \"filtered_signal_5_5\" still contains considerable high-frequency components, while \"filtered_signal_5_20\" has almost no high-frequency energy.\n",
        "\"\"\"\n",
        "show=True\n",
        "signal = sine_wave(duration=10, sampling_rate=100, frequency=0.5)\n",
        "signal_with_40Hz_Noise = add_distort_noise(signal, n_samples=1000, sampling_rate=100,noise_frequency=40,  noise_amplitude=0.3, show=True)\n",
        "\n",
        "filtered_signal_5_5 = simple_moving_average_filter(signal_with_40Hz_Noise, length=5, show=True)\n",
        "if show:\n",
        "    _, _, _ = my_stft(filtered_signal_5_5, plot=True, fs=100)\n",
        "\n",
        "filtered_signal_5_25 = simple_moving_average_filter(signal_with_40Hz_Noise, length=25, show=True)\n",
        "if show:\n",
        "    _, _, _ = my_stft(filtered_signal_5_25, plot=True, fs=100)\n",
        "\n",
        "\n",
        "# Plot the effectiveness of the results\n",
        "plt.figure(figsize=(10, 6))\n",
        "t = np.linspace(0, 1000, len(signal))\n",
        "\n",
        "# Plot original signal\n",
        "plt.plot(t, signal_with_40Hz_Noise, label=\"Noisy Signal\", color='red', alpha=0.6)\n",
        "\n",
        "# Plot the smoothed signal with Window Size 5\n",
        "plt.plot(t, filtered_signal_5_5, label=f\"Smoothed Signal (Window size={5})\", color='purple', linewidth=2)\n",
        "\n",
        "# Plot the smoothed signal with Window Size 25\n",
        "plt.plot(t, filtered_signal_5_25, label=f\"Smoothed Signal (Window size={25})\", color='blue', linewidth=2)\n",
        "\n",
        "# Plot the true signal\n",
        "plt.plot(t, signal, label=\"True Signal\", color='green', linestyle='--', alpha=0.8)\n",
        "\n",
        "# Labels and legend\n",
        "plt.title(\"Effectiveness of Filter\")\n",
        "plt.xlabel(\"Time\")\n",
        "plt.ylabel(\"Amplitude\")\n",
        "plt.legend()\n",
        "\n",
        "plt.grid(True)\n",
        "plt.show()\n"
      ]
    },
    {
      "cell_type": "markdown",
      "metadata": {
        "id": "uSJfPpwRw3JR",
        "pycharm": {
          "name": "#%% md\n"
        }
      },
      "source": [
        "### **Exponential Moving Average (EMA) Filter:**\n",
        "   The EMA filter assigns exponentially decreasing weights to past data points, **giving more importance to recent observations**. It is widely used for trend analysis and noise reduction. Mathematically, the EMA is defined by $y(t) = \\alpha x(t) + (1-\\alpha)y(t-1)$, where $\\alpha$ is the smoothing factor. Essentially, the EMA filter is a type of **low-pass filter** too."
      ]
    },
    {
      "cell_type": "code",
      "execution_count": null,
      "metadata": {
        "jupyter": {
          "outputs_hidden": false
        },
        "pycharm": {
          "name": "#%%\n"
        },
        "id": "PpekMt2w63fJ"
      },
      "outputs": [],
      "source": [
        "from lib.dsp import exponential_moving_average_filter, add_distort_noise, my_stft, sine_wave\n",
        "\"\"\"\n",
        "The \"alpha\" parameter in an Exponential Moving Average (EMA) filter controls the weighting of each data point, determining how much emphasis is placed on recent data versus past data. A smaller alpha results in faster decay and higher emphasis on recent data, while a larger alpha leads to slower decay and more emphasis on past data.\n",
        "\"\"\"\n",
        "show=True\n",
        "signal = sine_wave(duration=10, sampling_rate=100, frequency=0.5)\n",
        "\n",
        "signal_with_40Hz_Noise = add_distort_noise(signal, n_samples=1000, sampling_rate=100,noise_frequency=40,  noise_amplitude=0.3, show=True)\n",
        "\n",
        "filtered_signal_6 = exponential_moving_average_filter(signal_with_40Hz_Noise, length=25, alpha=0.2, show=True)\n",
        "if show:\n",
        "    _, _, _ = my_stft(filtered_signal_6, plot=True, fs=100)\n",
        "\n",
        "filtered_signal_6_ = exponential_moving_average_filter(signal_with_40Hz_Noise, length=25, alpha=0.8, show=True)\n",
        "if show:\n",
        "    _, _, _ = my_stft(filtered_signal_6_, plot=True, fs=100)\n",
        "\n",
        "\n",
        "# Plot the effectiveness of the results\n",
        "plt.figure(figsize=(10, 6))\n",
        "t = np.linspace(0, 1000, len(signal))\n",
        "\n",
        "# Plot original signal\n",
        "plt.plot(t, signal_with_40Hz_Noise, label=\"Noisy Signal\", color='red', alpha=0.6)\n",
        "\n",
        "# Plot the smoothed signal with Window Size 5\n",
        "plt.plot(t, filtered_signal_6, label=f\"Smoothed Signal (Window size={5})\", color='purple', linewidth=2)\n",
        "\n",
        "# Plot the smoothed signal with Window Size 25\n",
        "plt.plot(t, filtered_signal_6_, label=f\"Smoothed Signal (Window size={25})\", color='blue', linewidth=2)\n",
        "\n",
        "# Plot the true signal\n",
        "plt.plot(t, signal, label=\"True Signal\", color='green', linestyle='--', alpha=0.8)\n",
        "\n",
        "# Labels and legend\n",
        "plt.title(\"Effectiveness of Filter\")\n",
        "plt.xlabel(\"Time\")\n",
        "plt.ylabel(\"Amplitude\")\n",
        "plt.legend()\n",
        "\n",
        "plt.grid(True)\n",
        "plt.show()"
      ]
    },
    {
      "cell_type": "markdown",
      "metadata": {
        "id": "fNhYCy8iuGzU",
        "jupyter": {
          "outputs_hidden": false
        },
        "pycharm": {
          "name": "#%% md\n"
        }
      },
      "source": [
        "## Advanced Filter\n"
      ]
    },
    {
      "cell_type": "markdown",
      "metadata": {
        "id": "le35HMuIuGzU",
        "jupyter": {
          "outputs_hidden": false
        },
        "pycharm": {
          "name": "#%% md\n"
        }
      },
      "source": [
        "### 1. **Savitzky-Golay Filter (savgol_filter):**\n",
        "   The Savitzky-Golay filter is a smoothing algorithm that preserves important features of a signal while reducing noise. It employs polynomial fitting within a sliding window to smooth the data.\n",
        "\n",
        "   </br>\n",
        "\n",
        "   It's particularly useful in signal processing and data analysis to reduce noise while retaining the shape and characteristics of the original data. The Savitzky-Golay filter is a type of polynomial smoothing filter, and it works by fitting successive polynomials to the data.\n",
        "   \n",
        "   </br>\n",
        "   \n",
        "   Mathematically, the filter coefficients are determined by least squares fitting, providing a balance between noise reduction and signal preservation.\n",
        "\n",
        "   </br>\n",
        "   \n",
        "   $Minimize \\text{ } \\sum_{i=-m}^{m} (y_{k+i} - \\sum_{j=0}^{p} a_j x_{k+i}^2)^2$\n",
        "\n",
        "   </br>\n",
        "\n",
        "  The Savitzky-Golay filter smooths a set of data points by fitting a polynomial of degree ***k*** to a window of ***2m+1*** data points (where ***m*** is half the window size). The polynomial coefficients are calculated through least squares fitting, and the output at each point is the value of the polynomial at the center of the window.\n",
        "\n",
        "  </br>\n",
        "\n",
        "  **Example:**\n",
        "\n",
        "  If polynomial is $y=a_0+a_1x+a_2x^2$\n",
        "\n",
        "  then $Minimize \\text{ } \\sum_{i=-2}^2 (y_{k+i}-(a_0+a_1x_{k+i}+a_2x_{k+i}^2))^2$\n",
        "\n",
        "  <br> <br> **Reference:** https://medium.com/pythoneers/introduction-to-the-savitzky-golay-filter-a-comprehensive-guide-using-python-b2dd07a8e2ce\n"
      ]
    },
    {
      "cell_type": "markdown",
      "source": [
        "**Features:**\n",
        "\n",
        "</br>\n",
        "\n",
        "* **Polynomial Fitting:** The Savitzky-Golay filter fits a polynomial of a specified degree to a sliding window of data points. This helps smooth the data while keeping the underlying trend intact.\n",
        "\n",
        "* **Window Size:** The filter operates on a window of data points, and the window size (usually an odd number) determines how much data the filter uses to fit the polynomial.\n",
        "\n",
        "* **Preserves Features**: Unlike a simple moving average filter that can distort peaks and valleys, the Savitzky-Golay filter preserves these features better, especially with higher-degree polynomials.\n",
        "\n",
        "* **Differentiation:** The Savitzky-Golay filter can also be used for differentiating data (i.e., calculating derivatives), making it useful in many applications like spectroscopy, where you might want to find the rate of change of a signal."
      ],
      "metadata": {
        "id": "SGTWcmd4eLRW"
      }
    },
    {
      "cell_type": "markdown",
      "source": [
        "**Steps:**\n",
        "\n",
        "</br>\n",
        "\n",
        "1. **Window:** The data is divided into overlapping windows, and in each window, a polynomial is fitted to the data points.\n",
        "\n",
        "2. **Polynomial Fitting:** The polynomial is fitted using least squares to minimize the error between the polynomial and the data points in that window.\n",
        "\n",
        "3. **Smoothing:** The smoothed value for each data point is the value of the fitted polynomial at the center of the window."
      ],
      "metadata": {
        "id": "H0VC5l6dfJCJ"
      }
    },
    {
      "cell_type": "markdown",
      "source": [
        "**Pros:**\n",
        "\n",
        "* **Preserves Peaks and Valleys:** Unlike moving averages, it does not distort sharp features like peaks, valleys, or edges.\n",
        "\n",
        "* **Works for Differentiation:** Can be used for derivative calculations, making it useful for identifying slopes or rates of change in data.\n",
        "\n",
        "* **Flexibility:** The window size and polynomial degree can be adjusted to balance smoothing and feature preservation.\n",
        "\n",
        "**Cons:**\n",
        "\n",
        "* **Edge Effects:** Like other filters, Savitzky-Golay can produce unreliable results at the boundaries of the data (near the edges).\n",
        "\n",
        "* **Computational Cost:** It can be more computationally intensive than simpler filters like moving averages, especially for large datasets."
      ],
      "metadata": {
        "id": "uTRByBMZgOk9"
      }
    },
    {
      "cell_type": "code",
      "execution_count": null,
      "metadata": {
        "jupyter": {
          "outputs_hidden": false
        },
        "pycharm": {
          "name": "#%%\n"
        },
        "id": "ecfdr5Aa63fK"
      },
      "outputs": [],
      "source": [
        "from lib.dsp import savgol_filter, scg_simulate, add_distort_noise, my_stft\n",
        "import matplotlib.pyplot as plt\n",
        "\n",
        "signal = scg_simulate()[:1000]\n",
        "\n",
        "# =========== Usage 1 ===========\n",
        "\"\"\"\n",
        "It's nice for us to use savgol filter to get rid of low-frequency noise.\n",
        "We can use a savgol filter whose window size is 16 to get the low frequency noise.\n",
        "A larger window size results in larger smoothing effects.\n",
        "\"\"\"\n",
        "\n",
        "show=True\n",
        "signal_with_5Hz_noise = add_distort_noise(signal, n_samples=1000, sampling_rate=100,noise_frequency=5,  noise_amplitude=0.8, show=True)\n",
        "\n",
        "filtered_signal_7 = savgol_filter(signal_with_5Hz_noise, window_length=15, show=False)\n",
        "if show:\n",
        "    _, _, _ = my_stft(signal_with_5Hz_noise, plot=True, fs=100)\n",
        "    _, _, _ = my_stft(filtered_signal_7, plot=True, fs=100)\n",
        "\n",
        "# filtered signal  = noisy signal - output of savgol filter\n",
        "_, axes = plt.subplots(nrows=2, ncols=1, figsize=(8,6))\n",
        "\n",
        "axes[0].plot(signal_with_5Hz_noise, label='noisy Signal')\n",
        "axes[0].plot(filtered_signal_7, label='filtered signal')\n",
        "axes[1].plot(signal_with_5Hz_noise, label='noisy signal')\n",
        "axes[1].plot(signal_with_5Hz_noise - filtered_signal_7, label='detrended signal')\n",
        "plt.tight_layout()\n",
        "plt.legend()\n",
        "plt.show()\n",
        "\n",
        "\n",
        "# Plot the effectiveness of the results\n",
        "plt.figure(figsize=(10, 6))\n",
        "t = np.linspace(0, 1000, len(signal))\n",
        "\n",
        "# Plot original signal\n",
        "plt.plot(t, signal_with_5Hz_noise, label=\"Noisy Signal\", color='red', alpha=0.6)\n",
        "\n",
        "# Plot the smoothed signal\n",
        "plt.plot(t, filtered_signal_7, label=f\"Smoothed Signal (Window size={15})\", color='blue', linewidth=2)\n",
        "\n",
        "# Plot the true signal\n",
        "plt.plot(t, signal, label=\"True Signal\", color='green', linestyle='--', alpha=0.8)\n",
        "\n",
        "# Labels and legend\n",
        "plt.title(\"Effectiveness of Simple Moving Average Filter\")\n",
        "plt.xlabel(\"Time\")\n",
        "plt.ylabel(\"Amplitude\")\n",
        "plt.legend()\n",
        "\n",
        "plt.grid(True)\n",
        "plt.show()"
      ]
    },
    {
      "cell_type": "code",
      "execution_count": null,
      "metadata": {
        "jupyter": {
          "outputs_hidden": false
        },
        "pycharm": {
          "name": "#%%\n"
        },
        "id": "Fhtzlipt63fK"
      },
      "outputs": [],
      "source": [
        "from lib.dsp import savgol_filter, sine_wave, add_distort_noise\n",
        "import numpy as np\n",
        "# =========== Usage 2 ===========\n",
        "\"\"\"\n",
        "Use savgol_filter to get derivative of signal.\n",
        "The main purpose of using the Savitzky-Golay (SG) filter to compute derivatives is to simultaneously smooth and denoise the data while estimating its derivatives. This method is particularly useful when dealing with noisy signals. Computing derivatives using the SG filter helps extract the trend of the signal and provides more reliable estimates, especially in the presence of noise.\n",
        "\n",
        "We generate a sine wave with high-frequency noise and compare the derivatives obtained by using the SG filter with those computed directly.\n",
        "\n",
        "The `deriv` parameter specifies the order of derivative to compute using the SG filter, while the `delta` parameter specifies the spacing between adjacent elements in the input array.\n",
        "\"\"\"\n",
        "\n",
        "sine4sg = sine_wave(duration=10, sampling_rate=100, frequency=0.5)\n",
        "sine4sg_with_5Hz_noise = add_distort_noise(sine4sg, n_samples=1000, sampling_rate=100,noise_frequency=40,  noise_amplitude=0.15, show=True)\n",
        "filtered_sine4sg = savgol_filter(sine4sg_with_5Hz_noise, window_length=5, deriv=0, delta=1.0, show=True)\n",
        "\n",
        "show=True\n",
        "if show:\n",
        "    _, _, _ = my_stft(signal_with_5Hz_noise, plot=True, fs=100)\n",
        "    _, _, _ = my_stft(filtered_sine4sg, plot=True, fs=100)\n",
        "\n",
        "# Plot the effectiveness of the results\n",
        "plt.figure(figsize=(10, 6))\n",
        "t = np.linspace(0, 1000, len(sine4sg))\n",
        "\n",
        "# Plot original signal\n",
        "plt.plot(t, sine4sg_with_5Hz_noise, label=\"Noisy Signal\", color='red', alpha=0.6)\n",
        "\n",
        "# Plot the smoothed signal\n",
        "plt.plot(t, filtered_sine4sg, label=f\"Smoothed Signal (Window size={5})\", color='blue', linewidth=2)\n",
        "\n",
        "# Plot the true signal\n",
        "plt.plot(t, sine4sg, label=\"True Signal\", color='green', linestyle='--', alpha=0.8)\n",
        "\n",
        "# Labels and legend\n",
        "plt.title(\"Effectiveness of Filter\")\n",
        "plt.xlabel(\"Time\")\n",
        "plt.ylabel(\"Amplitude\")\n",
        "plt.legend()\n",
        "\n",
        "plt.grid(True)\n",
        "plt.show()"
      ]
    },
    {
      "cell_type": "code",
      "source": [
        "import numpy as np\n",
        "import matplotlib.pyplot as plt\n",
        "from scipy.signal import savgol_filter\n",
        "\n",
        "# Generate synthetic noisy data (sine wave with noise)\n",
        "np.random.seed(42)\n",
        "t = np.linspace(0, 10, 500)\n",
        "signal = np.sin(t)\n",
        "noise = np.random.normal(0, 0.5, len(t))\n",
        "noisy_signal = signal + noise\n",
        "\n",
        "# Apply Savitzky-Golay filter\n",
        "window_size = 51  # Odd number for the window size\n",
        "polynomial_order = 3  # Polynomial order\n",
        "smoothed_signal = savgol_filter(noisy_signal, window_size, polynomial_order)\n",
        "\n",
        "# Plot results\n",
        "plt.figure(figsize=(10, 6))\n",
        "\n",
        "# Plot original noisy signal\n",
        "plt.plot(t, noisy_signal, label=\"Noisy Signal\", color='red', alpha=0.6)\n",
        "\n",
        "# Plot smoothed signal\n",
        "plt.plot(t, smoothed_signal, label=f\"Smoothed Signal (Savitzky-Golay)\", color='blue', linewidth=2)\n",
        "\n",
        "# Plot the true signal\n",
        "plt.plot(t, signal, label=\"True Signal\", color='green', linestyle='--', alpha=0.8)\n",
        "\n",
        "# Labels and legend\n",
        "plt.title(\"Savitzky-Golay Filter for Smoothing Data\")\n",
        "plt.xlabel(\"Time\")\n",
        "plt.ylabel(\"Amplitude\")\n",
        "plt.legend()\n",
        "\n",
        "plt.grid(True)\n",
        "plt.show()"
      ],
      "metadata": {
        "id": "lzSOMZBxjA1-"
      },
      "execution_count": null,
      "outputs": []
    },
    {
      "cell_type": "markdown",
      "metadata": {
        "id": "LIJg-e_rP7YD",
        "pycharm": {
          "name": "#%% md\n"
        }
      },
      "source": [
        "### 2. **Wiener Filter:**\n",
        "\n",
        "**Reference:**\n",
        "https://en.wikipedia.org/wiki/Wiener_filter\n",
        "\n",
        "The Wiener filter is an optimal linear filter used for signal deconvolution and noise reduction. It minimizes mean-squared error between the estimated signal and the true signal, enhancing signal-to-noise ratio. Mathematically, the Wiener filter in the frequency domain is given by $H(f) = \\frac{S_x(f)}{S_x(f) + S_n(f)}$, where $S_x(f)$ is the signal power spectrum, $S_n(f)$ is the noise power spectrum.\n",
        "\n",
        "The goal of the Wiener filter is to compute a statistical estimate of an unknown signal using a related signal as an input and filtering that known signal to produce the estimate as an output. For example, the known signal might consist of an unknown signal of interest that has been corrupted by additive noise. The Wiener filter can be used to filter out the noise from the corrupted signal to provide an estimate of the underlying signal of interest. The Wiener filter is based on a statistical approach.\n",
        "\n",
        "Typical deterministic filters are designed for a desired frequency response. However, the design of the Wiener filter takes a different approach. One is assumed to have knowledge of the spectral properties of the original signal and the noise, and one seeks the linear time-invariant filter whose output would come as close to the original signal as possible. Wiener filters are characterized by the following:\n",
        "\n",
        "* **Assumption:** signal and (additive) noise are stationary linear stochastic processes with known spectral characteristics or known autocorrelation and cross-correlation\n",
        "* **Requirement**: the filter must be physically realizable/causal (this requirement can be dropped, resulting in a non-causal solution)\n",
        "* **Performance criterion:** minimum mean-square error (MMSE)."
      ]
    },
    {
      "cell_type": "code",
      "execution_count": null,
      "metadata": {
        "jupyter": {
          "outputs_hidden": false
        },
        "pycharm": {
          "name": "#%%\n"
        },
        "id": "Wz9ibV4G63fQ"
      },
      "outputs": [],
      "source": [
        "from lib.dsp import wiener_filter, scg_simulate, my_stft\n",
        "signal = scg_simulate()[:1000]\n",
        "import numpy as np\n",
        "# wiener_filter needs to know the statistical feature of noise\n",
        "# construct the data for wiener filter\n",
        "noise_amp = 0.2\n",
        "noise = np.random.normal(loc=0.0, scale=1.0*noise_amp, size=signal.shape) * np.max(signal)\n",
        "filtered_signal_8 = wiener_filter(signal + noise, noise, show=True)\n",
        "\n",
        "show=True\n",
        "if show :\n",
        "    _, _, _ = my_stft(noise, plot=True, fs=100)\n",
        "    _, _, _ = my_stft(filtered_signal_8, plot=True, fs=100)\n"
      ]
    },
    {
      "cell_type": "markdown",
      "metadata": {
        "id": "yehMuDgyP7nC",
        "pycharm": {
          "name": "#%% md\n"
        }
      },
      "source": [
        "### 3. **Notch Filter:**\n",
        "\n",
        "The notch filter is designed to suppress specific frequencies, often used to eliminate unwanted interference or noise at a particular frequency. It creates a notch or a dip in the frequency response centered around the target frequency. Mathematically, the transfer function of a notch filter can be represented as $H(f) = \\frac{1}{1 + \\frac{(f/f_0)^2}{Q}}$, where $f_0$ is the center frequency, and $Q$ is the quality factor.\n",
        "\n",
        "Notch filters and bandstop filters are similar in that they both attenuate specific frequency ranges within a signal. However, they are not exactly the same.\n",
        "\n",
        "* A notch filter is a type of bandstop filter specifically designed to attenuate a narrow range of frequencies, typically centered around a single frequency. It creates a \"notch\" in the frequency response curve, effectively reducing the amplitude of signals within that narrow frequency band while allowing all other frequencies to pass through relatively unaffected.\n",
        "\n",
        "* On the other hand, a bandstop filter, also known as a band-rejection filter, attenuates a broader range of frequencies within the specified stopband. While a notch filter is essentially a specialized case of a bandstop filter with a very narrow stopband, a bandstop filter can target a wider range of frequencies.\n",
        "\n",
        "In summary, while both notch filters and bandstop filters attenuate certain frequencies, a notch filter is a specific type of bandstop filter designed to target a very narrow frequency range.\n"
      ]
    },
    {
      "cell_type": "code",
      "execution_count": null,
      "metadata": {
        "jupyter": {
          "outputs_hidden": false
        },
        "pycharm": {
          "name": "#%%\n"
        },
        "id": "Gctc8qj563fR"
      },
      "outputs": [],
      "source": [
        "from lib.dsp import notch_filter, sine_wave, my_stft\n",
        "\n",
        "\"\"\"\n",
        "The notch filter is designed to suppress specific frequencies\n",
        "The 'q' parameter controls the width of the notch; higher 'q' values create narrower notches.\n",
        "\"\"\"\n",
        "\n",
        "show = True\n",
        "signal = sine_wave(duration=10, sampling_rate=100, amplitude=1.2e-6, frequency=0.5)\n",
        "noise = sine_wave(duration=10, sampling_rate=100, amplitude=0.25e-6, frequency=5)\n",
        "signal_with_5Hz_Noise = signal + noise\n",
        "\n",
        "filtered_signal_9 = notch_filter(signal_with_5Hz_Noise, cutoff=5, q=3, fs=100, show=True)\n",
        "\n",
        "if show :\n",
        "    _, _, _ = my_stft(signal_with_5Hz_Noise, plot=True, fs=100)\n",
        "    _, _, _ = my_stft(filtered_signal_9, plot=True, fs=100)"
      ]
    },
    {
      "cell_type": "markdown",
      "metadata": {
        "id": "G-7uaBxIP70N",
        "pycharm": {
          "name": "#%% md\n"
        }
      },
      "source": [
        "### 4. **Matched Filter:**\n",
        "   The matched filter is a signal processing filter that maximizes the signal-to-noise ratio for a known signal when embedded in noise. It is particularly effective in detecting signals with a known template. Mathematically, the matched filter output is the convolution of the received signal and the time-reversed conjugate of the template signal. <br> <br>\n",
        "\n",
        "   $y[n] = \\sum_{k=-\\infty}^{\\infty} h[n-k] x[k]$\n",
        "\n",
        "<br> **Where:** $x[k]$ is the input function of $k$, and $y[n]$ is the filtered output"
      ]
    },
    {
      "cell_type": "code",
      "execution_count": null,
      "metadata": {
        "jupyter": {
          "outputs_hidden": false
        },
        "pycharm": {
          "name": "#%%\n"
        },
        "id": "9znciJTQ63fS"
      },
      "outputs": [],
      "source": [
        "from lib.dsp import matched_filter, scg_simulate, add_distort_noise, my_stft\n",
        "import numpy as np\n",
        "import matplotlib.pyplot as plt\n",
        "\n",
        "show=True\n",
        "signal = scg_simulate(add_respiratory = False)[:1000]\n",
        "# construct Data for matched filter\n",
        "# the amplitude of 40Hh noise is very large\n",
        "signal_with_40Hz_Noise_ = add_distort_noise(signal, n_samples=1000, sampling_rate=100,noise_frequency=40, noise_amplitude=0.8, show=True)\n",
        "\n",
        "fig, axes = plt.subplots(nrows=2, ncols=2, figsize=(16, 6))\n",
        "# if we could get a clean template as the input of Matched Filter\n",
        "clean_template = signal[:64]\n",
        "filtered_signal_10_1 = matched_filter(signal_with_40Hz_Noise_, clean_template, show=False)\n",
        "axes[0, 0].plot(filtered_signal_10_1);axes[0, 0].set_title('Filtered Signal with Clean Template')\n",
        "# The pronounced peaks in the output of Matched Filter indicates the likelihood of a signal match.\n",
        "\n",
        "# We can make it more prominent by squaring the filtered signal.\n",
        "axes[0, 1].plot(np.square(filtered_signal_10_1));axes[0, 1].set_title('Squared Filtered Signal with Clean Template')\n",
        "\n",
        "\n",
        "# Take a noisy template as the input of Matched Filter\n",
        "noisy_template = signal_with_40Hz_Noise_[:64]\n",
        "filtered_signal_10_2 = matched_filter(signal_with_40Hz_Noise_, noisy_template, show=False)\n",
        "axes[1, 0].plot(filtered_signal_10_2);axes[1, 0].set_title('Filtered Signal with Noisy Template')\n",
        "axes[1, 1].plot(np.square(filtered_signal_10_2));axes[1, 1].set_title('Squared Filtered Signal with Noisy Template')\n",
        "\n",
        "# The effect of using a clean template as input is much better than using a noisy template as input.\n",
        "\n",
        "plt.tight_layout()\n",
        "plt.show()\n",
        "\n",
        "if show:\n",
        "    _, _, _ = my_stft(filtered_signal_10_1, plot=True, fs=100)\n",
        "    _, _, _ = my_stft(filtered_signal_10_2, plot=True, fs=100)"
      ]
    },
    {
      "cell_type": "markdown",
      "metadata": {
        "id": "uTmJdzq4uGzZ",
        "jupyter": {
          "outputs_hidden": false
        },
        "pycharm": {
          "name": "#%% md\n"
        }
      },
      "source": [
        "### 1. **Wavelet Denoising:**\n",
        "\n",
        "For the maths behind the dwt, see https://en.wikipedia.org/wiki/Wavelet\n",
        "\n",
        "\n",
        "Wavelet denoising is a technique that utilizes wavelet transforms to remove noise from signals or images. It decomposes the signal into different frequency components, thresholds the coefficients, and reconstructs the signal, effectively reducing noise. Mathematically, the denoised signal $y(t)$ is obtained by thresholding wavelet coefficients $W_j$ at a certain level: $y(t) = \\sum_{j} \\text{Threshold}(W_j)$.\n",
        "\n",
        "The denoising steps are the following:\n",
        "1. Apply the dwt to the signal\n",
        "2. Compute the threshold corresponding to the chosen level\n",
        "3. Only keep coefficients with a value higher than the threshold\n",
        "4. Apply the inverse dwt to retrieve the signal"
      ]
    },
    {
      "cell_type": "code",
      "execution_count": null,
      "metadata": {
        "jupyter": {
          "outputs_hidden": false
        },
        "pycharm": {
          "name": "#%%\n"
        },
        "id": "2yLAtXm663fS"
      },
      "outputs": [],
      "source": [
        "# An Easy Example of Wavelet Denoising\n",
        "# Reference: https://www.kaggle.com/code/theoviel/denoising-with-direct-wavelet-transform/notebook\n",
        "from lib.dsp import wavelet_denoise, my_stft, sine_wave\n",
        "import numpy as np\n",
        "import matplotlib.pyplot as plt\n",
        "import pywt\n",
        "\n",
        "\"\"\"\n",
        "The pywt package actually has 127 available wavelets. We show 10 of them, you can adjust the Parameter \"wavelets_num\" to show more.\n",
        "\"\"\"\n",
        "wavelets_num = 10\n",
        "\n",
        "signal = sine_wave(duration=10, sampling_rate=100, frequency=0.6) + 0.3 * sine_wave(duration=10, sampling_rate=100, frequency=2.3, phase=100)\n",
        "noisy_signal = signal + np.random.normal(0, 1, 10 *100)\n",
        "plt.figure(figsize=(8, 3));plt.title(\"Signal\")\n",
        "plt.plot(noisy_signal, label='Noisy Signal')\n",
        "plt.plot(signal, label='Clean Signal')\n",
        "plt.legend();plt.show()\n",
        "\n",
        "show=True\n",
        "if show:\n",
        "    _, _, _ = my_stft(signal, plot=True, fs=100)\n",
        "    _, _, _ = my_stft(noisy_signal, plot=True, fs=100)\n",
        "\n",
        "for cnt, wav in enumerate(pywt.wavelist()):\n",
        "    filtered =  wavelet_denoise(noisy_signal, wav, 0.5, show=True)\n",
        "    if show:\n",
        "        _, _, _ = my_stft(filtered, plot=True, fs=100)\n",
        "    if cnt > wavelets_num:\n",
        "        break\n",
        "# f, t, Z = my_stft(filtered_signal_13, plot=True, fs=100)"
      ]
    },
    {
      "cell_type": "markdown",
      "metadata": {
        "id": "fynscqo3uGza",
        "jupyter": {
          "outputs_hidden": false
        },
        "pycharm": {
          "name": "#%% md\n"
        }
      },
      "source": [
        "### 2. **FFT Denoising:**\n",
        "   FFT denoising employs the Fast Fourier Transform (FFT) to analyze and filter out unwanted frequency components from a signal. By transforming the signal into the frequency domain, one can selectively remove or attenuate specific frequency bands associated with noise. Mathematically, denoising is achieved by zeroing or attenuating certain frequency components in the Fourier-transformed signal, followed by an inverse FFT to obtain the denoised signal.\n",
        "\n",
        "The denoising steps are the following :\n",
        "1. Apply the fft to the signal\n",
        "2. Keep only the coefficients which have a low enough frequency (in absolute)\n",
        "3. Compute the inverse fft"
      ]
    },
    {
      "cell_type": "code",
      "execution_count": null,
      "metadata": {
        "jupyter": {
          "outputs_hidden": false
        },
        "pycharm": {
          "name": "#%%\n"
        },
        "id": "vSiYQylr63fT"
      },
      "outputs": [],
      "source": [
        "# An Easy Example of FFT Denoising\n",
        "# Reference: https://www.kaggle.com/code/theoviel/denoising-with-the-fast-fourier-transform/notebook\n",
        "from lib.dsp import fft_denoise, my_stft, sine_wave\n",
        "import numpy as np\n",
        "import matplotlib.pyplot as plt\n",
        "\n",
        "show=True\n",
        "signal = sine_wave(duration=10, sampling_rate=100, frequency=0.6) + 0.3 * sine_wave(duration=10, sampling_rate=100, frequency=2.3, phase=100)\n",
        "noisy_signal = signal + np.random.normal(0, 1, 10 *100)\n",
        "plt.figure(figsize=(8, 3));plt.title(\"Signal\")\n",
        "plt.plot(noisy_signal, label='Noisy Signal')\n",
        "plt.plot(signal, label='Clean Signal')\n",
        "plt.legend();plt.show()\n",
        "\n",
        "if show:\n",
        "    _, _, _ = my_stft(signal, plot=True, fs=100)\n",
        "    _, _, _ = my_stft(noisy_signal, plot=True, fs=100)\n",
        "\n",
        "\n",
        "for threshold in [0.5, 1, 5, 10]:\n",
        "    filtered = fft_denoise(noisy_signal, threshold=threshold)\n",
        "    plt.figure(figsize=(8, 3));plt.title(f\"FFT Denoising with threshold:{threshold}\")\n",
        "    plt.plot(noisy_signal, label='Noisy Signal')\n",
        "    plt.plot(filtered, label='Filtered Signal')\n",
        "    plt.legend();plt.show()\n",
        "    if show:\n",
        "        _, _, _ = my_stft(filtered, plot=True, fs=100)\n"
      ]
    },
    {
      "cell_type": "code",
      "execution_count": null,
      "metadata": {
        "id": "oBU2F-hcuGza",
        "jupyter": {
          "outputs_hidden": false
        },
        "pycharm": {
          "name": "#%%\n"
        }
      },
      "outputs": [],
      "source": [
        "# Use FFT to Denoise the Breath Effect in Simulated SCG Signals\n",
        "from lib.dsp import fft_denoise, scg_simulate, my_stft\n",
        "import numpy as np\n",
        "import matplotlib.pyplot as plt\n",
        "\n",
        "signal = scg_simulate(noise_amp=0, add_respiratory=False)[:1000]\n",
        "\n",
        "\n",
        "# Construct Data for fft denoising\n",
        "# use sin wave to simulate the breath effect\n",
        "fs = 100\n",
        "t = np.linspace(0, 10, 10*100)\n",
        "omega = 0.4\n",
        "rr = np.sin(2 * np.pi * omega * t) + 2\n",
        "signal_RR = signal * rr\n",
        "\n",
        "\n",
        "_, axes = plt.subplots(nrows=2, ncols=2, figsize=(16, 6))\n",
        "axes[0, 0].plot(signal_RR);axes[0, 0].set_title('Signal with Breath Effect')\n",
        "axes[0, 1].plot(signal);axes[0, 1].set_title('Clean Signal')\n",
        "# Let's look at the difference in frequency domain\n",
        "\n",
        "fft_result_clean = np.fft.fft(signal)\n",
        "fft_freq_clean = np.fft.fftfreq(len(signal), 1/fs)\n",
        "spectrum_clean = np.abs(fft_result_clean)\n",
        "\n",
        "axes[1, 1].plot(fft_freq_clean[:len(fft_freq_clean) // 2], spectrum_clean[:len(fft_result_clean) // 2])\n",
        "axes[1, 1].set_title('Frequency of Clean Signal')\n",
        "\n",
        "#\n",
        "# plt.plot(fft_freq_clean[:len(fft_freq_clean) // 2], spectrum_clean[:len(fft_result_clean) // 2], label='Frequency of Clean Signal')\n",
        "# plt.title('Frequency Domain');plt.xlabel('Frequency (Hz)');plt.ylabel('Magnitude');plt.legend();plt.show()\n",
        "\n",
        "fft_result = np.fft.fft(signal_RR)\n",
        "fft_freq = np.fft.fftfreq(len(signal_RR), 1/fs)\n",
        "spectrum = np.abs(fft_result)\n",
        "\n",
        "axes[1, 0].plot(fft_freq[:len(fft_freq) // 2], spectrum[:len(fft_freq) // 2])\n",
        "axes[1, 0].set_title('Frequency of Signal with RR')\n",
        "\n",
        "#plt.tight_layout()\n",
        "plt.show()\n",
        "\n",
        "# use fft to denoise\n",
        "filtered_signal_12 = fft_denoise(signal_RR, threshold = np.max(spectrum) * 0.00000008, show=True)\n",
        "\n",
        "show=True\n",
        "if show:\n",
        "    _, _, _ = my_stft(signal_RR, plot=True, fs=100)\n",
        "    _, _, _ = my_stft(filtered_signal_12, plot=True, fs=100)\n"
      ]
    },
    {
      "cell_type": "markdown",
      "metadata": {
        "jupyter": {
          "outputs_hidden": false
        },
        "pycharm": {
          "name": "#%% md\n"
        },
        "id": "rVZmNWjh63fU"
      },
      "source": [
        "### Adaptive Filter\n",
        "\n",
        "**Reference:** https://schaumont.dyn.wpi.edu/ece4703b20/lecture9.html\n",
        "\n",
        "#### Basic Adaptive Filter\n",
        "An adaptive filter is a filter with non-constant coefficients. The filter coefficients are adjusted based on an criterium which is often defined to optimize the performance of the filter in its ability to estimate an unknown quantity in an input signal.\n",
        "\n",
        "In this lecture, we will limit ourselves to adaptive FIR filters. The basic outline of an adaptive FIR filter is shown in the following figure. The filter accepts an input signal x and produces an output signal y. The FIR coefficients of this filter are adjustable, meaning that at every new sample of x, the coefficients can take on a new value. The new value of filter coefficients is determined using a coefficient update algorithm, which computes an adjustment for each filter coefficient based on an error signal e. The error signal e is typically computed as the difference between the actual output signal y and a desired output signal d.\n",
        "\n",
        "![Basic Adaptive Filter](https://schaumont.dyn.wpi.edu/ece4703b20/_images/adaptive.jpg) <br> <br>\n",
        "The desired output signal d depends on the specific application of the adaptive filter. However, the adaptive algorithm will change the coefficients so as to minimize the mean squared value of the error signal e. That is, given that the filter output is defined by filter coefficients $w(n) = {\\left[w_0(n), w_1(n), ..., w_{N-1}(n)\\right]}^T$. we try to minimize the expected square error: $\\min_{w(n)} E\\left[ e^2(n)\\right]$\n",
        "\n",
        "There are generally four different configurations common for an adaptive filter:\n",
        "1. System Identification\n",
        "2. Noise Cancellation\n",
        "3. Equalization\n",
        "4. Adaptive Prediction"
      ]
    },
    {
      "cell_type": "code",
      "execution_count": null,
      "metadata": {
        "jupyter": {
          "outputs_hidden": false
        },
        "pycharm": {
          "name": "#%%\n"
        },
        "id": "rNvGOHAv63fU"
      },
      "outputs": [],
      "source": [
        "from lib.dsp import sine_wave, my_stft, lms_filter\n",
        "import matplotlib.pyplot as plt\n",
        "\"\"\"\n",
        "We start with a basic illustration of the adaptive filter algorithm. Recall that the purpose of an LMS filter is to filter an input signal x(n) into an output signal y(n). At every sample of x, the filter coefficients can be adjusted in order to make the output signal y(n) more similar to a desired output signal d(n).\n",
        "\n",
        "The input signal is a sine function. The desired signal is a sine function at the same frequency but twice the amplitude. The plot of the Error signal shows that the filter converges in around 600 samples to almost zero. That means that, while observing 600 samples of the input signal, the output converges to the desired signal\n",
        "\"\"\"\n",
        "show = True\n",
        "input = sine_wave(duration=100, sampling_rate=10, frequency=1/8, show=True)\n",
        "desired_signal = 2.5 * input\n",
        "\n",
        "output_signal, error, weight = lms_filter(input, desired_signal, n=1, mu=0.015, show=False)\n",
        "\n",
        "plt.figure(figsize=(8,3))\n",
        "plt.title('Output of the LMS filter')\n",
        "plt.plot(output_signal, label='Output Signal')\n",
        "plt.plot(desired_signal, alpha=0.5, label='Desired Signal')\n",
        "plt.plot(error, label='Error');plt.legend();plt.show()\n",
        "\n",
        "if show:\n",
        "    _, _, _ = my_stft(output_signal, plot=True, fs=10)"
      ]
    },
    {
      "cell_type": "markdown",
      "metadata": {
        "jupyter": {
          "outputs_hidden": false
        },
        "pycharm": {
          "name": "#%% md\n"
        },
        "id": "KLmAim8e63fV"
      },
      "source": [
        "#### Adaptive Filter for System Identification\n",
        "\n",
        "![System Identification](https://schaumont.dyn.wpi.edu/ece4703b20/_images/systemid.jpg) <br> <br>\n",
        "In system identification, we observe an unknown system and compare its output to an adaptive filter. By applying broadband noise to the input, and by minimizing the error signal, the filter coefficients will converge to a set of coefficients that reflect the characteristic of the unknown system. This approximation is best-effort; known the filter coefficients of the adaptive filter does not imply that we can reveal the internal structure of the unknown system. For example, the unknown system could be an IIR filter, while the adaptive filter has an FIR design. Or, the unknown system could include non-linear behavior, while the adaptive filter has an FIR design."
      ]
    },
    {
      "cell_type": "markdown",
      "metadata": {
        "jupyter": {
          "outputs_hidden": false
        },
        "pycharm": {
          "name": "#%% md\n"
        },
        "id": "9VbO6gMx63fV"
      },
      "source": [
        "#### Adaptive Filter for Noise Cancellation\n",
        "\n",
        "![Noise Cancellation](https://schaumont.dyn.wpi.edu/ece4703b20/_images/noisecancellation.jpg)\n",
        "\n",
        "In Noise Cancellation, we are interested in removing a known disturbance n_1 from a signal. The disturbance is affected by the system dynamics H(z) into n_0, so that we are unsure how much the input signal is affected by the disturbance. Using an adaptive filter, we estimate the system dynamics (in a similar fashion as with system identification), and we remove the filtered disturbance from the output signal. The output signal, in the case of noise cancellation, is created out of the error signal, which in this case will closely resemble the input signal x.\n",
        "\n",
        "![Echo Cancellation](https://schaumont.dyn.wpi.edu/ece4703b20/_images/echocancellation.jpg)\n",
        "\n",
        "A well-known application for this setup is echo cancellation in speakerphone design. In this case, the input signal is the speech signal from the local side, and the disturbance is the speech signal from the remote side. The remote speech signal is played back on the local speaker and picked up by the local microphone. The adaptive filter will estimate this local feedback and remote it from the output signal, thereby preventing the return of an echo to the remote side."
      ]
    },
    {
      "cell_type": "code",
      "execution_count": null,
      "metadata": {
        "jupyter": {
          "outputs_hidden": false
        },
        "pycharm": {
          "name": "#%%\n"
        },
        "id": "da9p82HM63fV"
      },
      "outputs": [],
      "source": [
        "from lib.dsp import sine_wave, lms_filter, my_stft\n",
        "import matplotlib.pyplot as plt\n",
        "import numpy as np\n",
        "\"\"\"\n",
        "Example of echo cancellation in speakerphone design.\n",
        "\"\"\"\n",
        "\n",
        "# Speech Signal\n",
        "Speech_signal = sine_wave(duration=100, sampling_rate=10, frequency=1/8, show=False)\n",
        "# Signal from Far End\n",
        "Echo = 0.5 * sine_wave(duration=100, sampling_rate=10, frequency=1/8, phase=200, show=False)\n",
        "# Signal from Far End Feedbacked Through speaker-microphone pickup\n",
        "Noisy_Echo = Echo + np.random.normal(0, 0.1, 100*10)\n",
        "# Speech Signal with Echo\n",
        "Speech_signal_with_Echo = Speech_signal + Noisy_Echo\n",
        "\n",
        "plt.figure(figsize=(8,3));plt.title(\"Speech Signal and Echo Noise\")\n",
        "plt.plot(Speech_signal_with_Echo, label='Speech signal with Echo')\n",
        "plt.plot(Speech_signal, label='Speech Signal')\n",
        "plt.plot(Noisy_Echo, label=\"Noisy Signal\");plt.legend();plt.show()\n",
        "\n",
        "\n",
        "output_signal, error, weight = lms_filter(Echo, Speech_signal_with_Echo, n=1, mu=0.008, show=False)\n",
        "\n",
        "plt.figure(figsize=(8,3))\n",
        "plt.title('Output of the LMS filter')\n",
        "plt.plot(output_signal, label='Output Signal')\n",
        "plt.plot(Noisy_Echo, alpha=0.5, label='Noisy Echo')\n",
        "plt.legend();plt.show()\n",
        "\n",
        "plt.figure(figsize=(8,3));plt.title(\"Removal of Echo Noise\")\n",
        "plt.plot(Speech_signal_with_Echo - output_signal, label='Denoised Speech Signal with Echo')\n",
        "plt.plot(Speech_signal, label='Clean Speech Signal')\n",
        "plt.legend();plt.show()\n",
        "\n",
        "show = True\n",
        "if show:\n",
        "    _, _, _ = my_stft(Speech_signal_with_Echo, plot=True, fs=10)\n",
        "    _, _, _ = my_stft(output_signal, plot=True, fs=10)"
      ]
    },
    {
      "cell_type": "markdown",
      "metadata": {
        "jupyter": {
          "outputs_hidden": false
        },
        "pycharm": {
          "name": "#%% md\n"
        },
        "id": "M5IcNyNn63fW"
      },
      "source": [
        "#### Adaptive Filter for Equalization\n",
        "![Equalization](https://schaumont.dyn.wpi.edu/ece4703b20/_images/equalization.jpg)\n",
        "In equalization, we are using an adaptive filter to remove (linear) distortions from a received signal. This is a common problem in data communictions, when signals are distored by a non-allpass communications channel. The adaptive filter creates an inverse response to the distortion, using a delayed version of the correct input signal x, in order to restore the received signal to its original form.\n",
        "\n",
        "One may wonder how such a delayed version of x can be transmitted, when it’s not possible to transmit the real-time version x. The answer is that this delayed x does not have to be identical to the real-time x. In other words, the equalizer can first go through a training phase, during which the coefficients are adapted in order to match the characteristics of the communications channel. Next, the adaptive filter coefficients are fixed, and the real-time x transmission can start."
      ]
    },
    {
      "cell_type": "markdown",
      "metadata": {
        "jupyter": {
          "outputs_hidden": false
        },
        "pycharm": {
          "name": "#%% md\n"
        },
        "id": "Thewc84D63fW"
      },
      "source": [
        "#### Adaptive Filter for Adaptive Prediction\n",
        "A final configuration for adaptive filters is in adaptive prediction, where an adaptive filter is used to predict the future value of a signal. The adaptive filter coefficients form a prediction, which can be used for signal encoding."
      ]
    },
    {
      "cell_type": "markdown",
      "metadata": {
        "id": "7yReB5EduGzf",
        "jupyter": {
          "outputs_hidden": false
        },
        "pycharm": {
          "name": "#%% md\n"
        }
      },
      "source": [
        "### Kalman Filter\n",
        "\n",
        "A Kalman filter is a mathematical algorithm that uses a series of noisy measurements over time to estimate the true state of a system, providing a more accurate representation of the underlying variables by combining a prediction based on a system model with new measurements, effectively \"filtering out\" noise and uncertainties in the data; it's particularly useful when you can't directly measure the desired variables but have access to related, imperfect measurements.\n",
        "\n",
        "**The filter performs two main operations:**\n",
        "\n",
        "* **Prediction:** Uses the system model to predict the next state based on the previous estimate.\n",
        "\n",
        "* **Update:** Incorporates new measurements to refine the predicted state, weighting the new information based on its reliability\n",
        "\n",
        "Note:  Assumes noise is Gaussian"
      ]
    },
    {
      "cell_type": "markdown",
      "source": [
        "**State equation:** <br>\n",
        "\n",
        "$x_{k+1}=Ax_k+Bu_k+w_k$\n",
        "\n",
        "<br> **Output equation:**\n",
        "\n",
        "$y_k=Cx_k+z_k$\n",
        "\n",
        "<br> **Where:**\n",
        "\n",
        "$A$, $B$, and $C$ are matrices\n",
        "\n",
        "$k$ is the time index\n",
        "\n",
        "$x$ is the state of the system\n",
        "\n",
        "$w$ is the process noise\n",
        "\n",
        "$z$ is the measurement noise"
      ],
      "metadata": {
        "id": "JYE7ZitQqMhV"
      }
    },
    {
      "cell_type": "markdown",
      "source": [
        "**Assumptions:**  \n",
        "\n",
        "$k$, $w_k$, and $z_k$ are independent random variables <br>\n",
        "\n",
        "<br> **Process Noise Covariance:**\n",
        "\n",
        "$S_w=E(w_k W_k^T)$\n",
        "\n",
        "<br> **Measurement Noise Covariance:**\n",
        "\n",
        "$S_z=E(z_k z_k^T)$\n",
        "\n",
        "<br> **Where:**\n",
        "\n",
        "$w_T$ is the transpose of $w$ random noise vector\n",
        "\n",
        "$z_T$ is the transpose of $z$ random noise vector\n",
        "\n",
        "$E(\\cdot)$ is the expected value"
      ],
      "metadata": {
        "id": "A5nlZXkhqrNw"
      }
    },
    {
      "cell_type": "markdown",
      "source": [
        "$K_k=A P_k C^T (C P_K C^T + S_z)^{-1}$\n",
        "\n",
        "$\\hat{x}_{k+1} = (A \\hat{x}_k + B u_k) + K_k (y_{k+1} - C \\hat{x}_k)$\n",
        "\n",
        "$P_{k+1} = A P_k A^T + S_w - A P_k C^T S_z^{-1} C P_k A^T$\n",
        "\n",
        "<br> **Where:**\n",
        "\n",
        "$K$ is the Kalman gain\n",
        "\n",
        "$P$ is the estimation error covariance\n",
        "\n",
        "$\\hat{x}$ is the state estimate.  The first term is the estimate at time $k+1$ and the second term is the *correction* term\n",
        "\n",
        "$-1$ superscript indicates matrix inversion\n",
        "\n",
        "$T$ superscript indicates matrix transposition"
      ],
      "metadata": {
        "id": "EHmPMFBmrN4P"
      }
    },
    {
      "cell_type": "markdown",
      "metadata": {
        "id": "0oAEYEHVuGzf",
        "jupyter": {
          "outputs_hidden": false
        },
        "pycharm": {
          "name": "#%% md\n"
        }
      },
      "source": [
        "Implement an easy one-dimension Kalman Filter to denoise the white noise"
      ]
    },
    {
      "cell_type": "code",
      "execution_count": null,
      "metadata": {
        "id": "ctnptE73uGzg",
        "jupyter": {
          "outputs_hidden": false
        },
        "pycharm": {
          "name": "#%%\n"
        }
      },
      "outputs": [],
      "source": [
        "import numpy as np\n",
        "from lib.dsp import scg_simulate, my_stft, kalman_filter\n",
        "import matplotlib.pyplot as plt\n",
        "signal = scg_simulate()[:1000]\n",
        "\n",
        "x_last, p_last = 0, 0\n",
        "Q, R = 0.1, 0.2\n",
        "\n",
        "# construct data for KF\n",
        "clean_signal = signal * 1e6\n",
        "noise = np.random.rand(1000)-0.5\n",
        "x = clean_signal+noise\n",
        "\n",
        "y = kalman_filter(x, x_last, p_last, Q, R)\n",
        "\n",
        "plt.figure(figsize=(8, 3))\n",
        "plt.plot(clean_signal,color=\"b\", label='Real Signal')\n",
        "plt.plot(x,color=\"g\", label='Measured Signal')\n",
        "plt.plot(y,color=\"r\", label='Filtered Signal')\n",
        "plt.title('Output of Kalman Filter');plt.ylabel('Amplitude');plt.xlabel('Time');plt.legend();plt.show()\n",
        "\n",
        "f, t, Z = my_stft(y, plot=True, fs=100)"
      ]
    },
    {
      "cell_type": "code",
      "execution_count": null,
      "metadata": {
        "id": "dW5yduACuGzg",
        "jupyter": {
          "outputs_hidden": false
        },
        "pycharm": {
          "name": "#%%\n"
        }
      },
      "outputs": [],
      "source": [
        "from lib.dsp import sine_wave, my_stft\n",
        "import numpy as np\n",
        "import matplotlib.pyplot as plt\n",
        "\n",
        "x_last, p_last = 0, 0\n",
        "Q, R = 0.1, 0.5\n",
        "\n",
        "# construct data for KF\n",
        "clean_signal = sine_wave()\n",
        "noise = np.random.rand(1000)-0.5\n",
        "x = clean_signal+noise\n",
        "\n",
        "y = kalman_filter(x, x_last, p_last, Q, R)\n",
        "\n",
        "plt.figure(figsize=(8, 3))\n",
        "plt.plot(clean_signal,color=\"b\", label='Real Signal')\n",
        "plt.plot(x,color=\"g\", label='Measured Signal')\n",
        "plt.plot(y,color=\"r\", label='Filtered Signal')\n",
        "plt.title('Output of Kalman Filter');plt.ylabel('Amplitude');plt.xlabel('Time');plt.legend();plt.show()\n",
        "\n",
        "f, t, Z = my_stft(y, plot=True, fs=100)"
      ]
    },
    {
      "cell_type": "markdown",
      "metadata": {
        "id": "5Q-w2Hm0uGzh",
        "jupyter": {
          "outputs_hidden": false
        },
        "pycharm": {
          "name": "#%% md\n"
        }
      },
      "source": [
        "## Averaging by Dynamic Time Warping\n",
        "\n",
        "Signal Averaging is a signal processing technique that improves the signal-to-noise ratio (SNR) by averaging multiple measurements of a signal.\n",
        "<br><br>\n",
        "\n",
        "**Steps:**\n",
        "\n",
        "* **Multiple Measurements:** The first step in signal averaging is to take multiple samples of the signal. Each sample may have some degree of noise or error added to the true signal, so they are not identical.\n",
        "\n",
        "* **Align the Signals**: If the signal is periodic or repeatable, all the measurements are aligned in time (e.g., using time synchronization or triggering).\n",
        "\n",
        "* **Average the Values:** Once the signals are aligned, their values are averaged point-by-point across all the samples. This is done for each corresponding time or measurement point.  Mathematically, for $N$ measurements, $x_1(t), x_2(t), ..., x_N(t)$ of a signal, the averaged signal $x(t)$ is calculated as:\n",
        "\n",
        "<br>\n",
        "\\begin{align*}\n",
        "  x(t) = (1/N) ∑_{i=1}^N x_i(t)\n",
        "\\end{align*}\n",
        "<br>\n",
        "\n",
        "* **Reduced Noise:** The noise is expected to have a random nature, so when you average over many samples, the noise cancels out, leaving you with a clearer representation of the signal. The more measurements you average, the lower the noise level becomes (in the ideal case), and the clearer the true signal is."
      ]
    },
    {
      "cell_type": "markdown",
      "source": [
        "**Pros:**\n",
        "\n",
        "* **Improved Signal-to-Noise Ratio (SNR):** Signal averaging reduces random noise by averaging it out, which increases the SNR. This makes the underlying signal easier to analyze or measure.\n",
        "\n",
        "* **Enhancing Low-Level Signals:** When dealing with low-amplitude signals that are buried in noise, averaging can make these signals more visible by reducing the noise that tends to mask them.\n",
        "\n",
        "* **Simple and Effective:** Signal averaging is a straightforward and computationally simple method to improve data quality, especially when the signal is repetitive or periodic.\n",
        "\n",
        "**Cons:**\n",
        "\n",
        "* **Non-Stationary Signals:** If the signal changes over time or is non-stationary (i.e., it evolves in an unpredictable way), signal averaging may distort or lose important details. This technique works best for signals that are repetitive or periodic.\n",
        "\n",
        "* **Slow Process:** Signal averaging can be time-consuming because it requires multiple samples to be taken over time, especially if many samples are needed to effectively reduce noise.\n",
        "\n",
        "* **Requires Multiple Measurements:** To achieve meaningful averaging, you need multiple measurements of the same signal under similar conditions. If you only have a single measurement or a small number of measurements, the benefits of averaging are reduced."
      ],
      "metadata": {
        "id": "xjbNpC1P6I4I"
      }
    },
    {
      "cell_type": "markdown",
      "metadata": {
        "id": "DThak0HguGzh",
        "jupyter": {
          "outputs_hidden": false
        },
        "pycharm": {
          "name": "#%% md\n"
        }
      },
      "source": [
        "### Dynamic Time Warping\n",
        "\n",
        "**Dynamic Time Warping (DTW)** is a similarity measure between two temporal sequences, accommodating for variations in their alignment and speed. It finds an optimal warping path by minimizing the accumulated distance between corresponding points.\n",
        "<br><br>\n",
        "\n",
        "Mathematically, given sequences $ A = [a_1, a_2, ..., a_n]$ and $B = [b_1, b_2, ..., b_m]$, DTW constructs a cost matrix $C$ where $C(i, j)$ represents the local distance between $a_i$ and $b_j$.  It then calculates an optimal path from $C(1, 1)$ to $ C(n, m)$ through dynamic programming. DTW is widely used in pattern recognition, speech processing, and signal analysis for aligning time series data.\n",
        "\n",
        "**Concepts:**\n",
        "\n",
        "* **Non-linear Alignment:** DTW can align sequences that have varying speeds. For example, it can compare two sequences where one sequence is \"stretched\" or \"compressed\" relative to the other (e.g., a faster and slower version of the same movement or event).\n",
        "\n",
        "* **Time Warping:** The idea of warping comes from adjusting the time axis in such a way that corresponding points in the two sequences match as well as possible. This is done by considering all possible alignments of the two sequences, even if they are of different lengths.\n",
        "\n",
        "* **Distance Measure:** DTW computes the distance between two time series by considering each point in one series and finding the optimal match (with a possible shift) in the other series. The total distance is the sum of these optimal matches.\n",
        "\n",
        "**Steps:**\n",
        "\n",
        "1. **Cost Matrix:** DTW uses a cost matrix to evaluate the alignment between the two sequences. This matrix measures the \"cost\" of aligning different points from each sequence. It is calculated by comparing each pair of points from the two sequences and computing the difference between them (often squared differences).\n",
        "\n",
        "2. **Recursive Calculation:** The cost matrix is filled recursively, where each cell contains the minimal cumulative distance required to reach that point from the start of the sequences. The cumulative cost is the sum of the cost to reach the current point and the minimum of the previous possible alignments.\n",
        "\n",
        "3. **Optimal Path:** The final DTW distance is obtained by tracing back from the end of the cost matrix to the start. This path represents the optimal alignment between the two sequences.\n",
        "\n",
        "4. **Warping Path:** The warping path describes how the points in one sequence correspond to the points in the other sequence. It allows one sequence to be \"warped\" (or stretched/compressed) to align with the other."
      ]
    },
    {
      "cell_type": "markdown",
      "source": [
        "![dtw.jpg](data:image/jpeg;base64,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)\n",
        "\n",
        "Image from https://rtavenar.github.io/blog/dtw.html"
      ],
      "metadata": {
        "id": "ihwgN3O8zH0F"
      }
    },
    {
      "cell_type": "markdown",
      "source": [
        "**Pros:**\n",
        "\n",
        "* **Handles Temporal Shifts:** DTW is robust to shifts in time. It can align time series even when they are stretched or compressed along the time axis.\n",
        "\n",
        "* **Flexible Similarity Measure:** DTW provides a more flexible and accurate measure of similarity for time series compared to simple methods like Euclidean distance, especially when there is temporal misalignment.\n",
        "\n",
        "* **General Purpose:** DTW can be applied to a wide range of problems involving time series, from speech and audio processing to medical signal analysis.\n",
        "\n",
        "**Cons:**\n",
        "\n",
        "* **Computationally Expensive:** The basic DTW algorithm has a time complexity of\n",
        "$O(n^2)$, where $n$ is the length of the time series. This can be slow for long sequences.\n",
        "\n",
        "* **Overfitting:** If not properly tuned or constrained, DTW can overfit the alignment to the noise in the data, leading to inaccurate comparisons.\n",
        "\n",
        "* **No Consideration for Global Shape:** DTW optimizes local alignment, but this might lead to overemphasis on small local features rather than global patterns in the time series.\n",
        "\n",
        "* **Distance Matrix Size:** Since DTW requires constructing a full $n \\text{ } x \\text{ } n$ distance matrix, it can be memory-intensive for large datasets.\n",
        "\n",
        "\n",
        "\n"
      ],
      "metadata": {
        "id": "tSJ-dpPw7im9"
      }
    },
    {
      "cell_type": "markdown",
      "source": [
        "### Non-Linear Adaptive Averaging Functions\n",
        "\n",
        "The **Non-Linear Adaptive Averaging Function (NLAAF)** is a signal processing technique designed to improve the quality of a signal by adaptively adjusting how averaging is applied based on the characteristics of the signal itself. Unlike simple linear averaging methods (such as moving average filters), which apply the same weight or averaging function to all data points, NLAAF adjusts the averaging process dynamically according to the local behavior or properties of the signal.\n",
        "\n",
        "* The idea behind NLAAF is to use local signal characteristics to determine how much averaging should be applied at each point in the signal. For example, at regions where the signal changes rapidly (edges or transitions), the averaging might be reduced or avoided, so the filter does not blur important features. In regions where the signal is more uniform or contains noise, stronger smoothing or averaging is applied.\n",
        "\n",
        "* The non-linear nature of the filter allows it to better handle complex signals with noise and varying levels of smoothness, making it more adaptable and capable of preserving important features compared to traditional linear filters.\n",
        "\n",
        "**Concepts:**\n",
        "\n",
        "* **Non-Linear:** NLAAF is a non-linear filter, meaning that it doesn't apply a linear weighting to each data point in the signal. Instead, the function may apply a more complex, non-linear operation to smooth the signal while preserving important features like edges or rapid transitions that a linear filter might blur or distort.\n",
        "\n",
        "* **Adaptive:** The term \"adaptive\" means that the filter adjusts itself to the characteristics of the data. For example, it might apply stronger smoothing where the signal is relatively stable and less smoothing where the signal changes rapidly. This is important when dealing with signals that contain both noise and sharp transitions, as it can help preserve the important parts of the signal while reducing noise.\n",
        "\n",
        "* **Averaging Function:** Averaging refers to combining multiple data points in some way to produce a smoothed value. In NLAAF, this function is not fixed or uniform across the entire signal, but changes depending on the local context of the signal.\n",
        "\n",
        "</br>\n",
        "\n",
        "**Note:** There are two NLAAF function in this tutorial.\n",
        "\n",
        "* **NLAAF 1** - Applies DTW to two small windows (pieces) and determines the average of the pieces. These averages are used to build a center piece.\n",
        "\n",
        "* **NLAAF 2** - same as NLAAF 1, except a specified number of pieces greater than 2 are used to build the center piece.\n"
      ],
      "metadata": {
        "id": "_QBC6drByOzK"
      }
    },
    {
      "cell_type": "markdown",
      "source": [
        "###Iterative Constrained Dynamic Time Warping (ICDTW)\n",
        "\n",
        "**Iterative Constrained Dynamic Time Warping (ICDTW)** is an enhanced version of the standard Dynamic Time Warping (DTW) algorithm, designed to address some of the limitations of DTW, especially in terms of computational efficiency and accuracy when comparing time series with similar patterns but differing temporal alignments.\n",
        "\n",
        "**FEATURES:**\n",
        "\n",
        "**Iterative Approach:**\n",
        "\n",
        "* ICDTW modifies the standard DTW algorithm by iteratively refining the alignment between two time series. Instead of computing the DTW distance in a single pass, ICDTW takes an iterative approach, adjusting the alignment progressively.\n",
        "\n",
        "* During each iteration, constraints are applied to limit the warping path and force the algorithm to focus on specific parts of the time series. This helps to improve the accuracy of the alignment by preventing excessive warping in regions where it may not be necessary.\n",
        "\n",
        "**Constrained Path:**\n",
        "\n",
        "* One of the main advantages of ICDTW over standard DTW is that it applies constraints to the warping path. These constraints limit how much the time series can be \"stretched\" or \"compressed\" along the time axis. By doing so, ICDTW restricts the amount of warping to more reasonable bounds, preventing overfitting to noise or small variations that could distort the alignment.\n",
        "\n",
        "* These constraints can be implemented in various ways, such as setting a maximum distance for any warping step or enforcing monotonicity (i.e., the time indices of the two series must progress in the same direction).\n",
        "\n",
        "**Improved Efficiency:**\n",
        "\n",
        "* Standard DTW computes a full $n × m$ distance matrix for two sequences of length $n$ and $m$. This can be computationally expensive, especially for long time series. By applying constraints iteratively, ICDTW reduces the search space for the optimal alignment, thus improving computational efficiency.\n",
        "\n",
        "* The algorithm iterates over multiple passes to refine the alignment progressively, ensuring that only the relevant parts of the time series are aligned at each step.\n",
        "\n",
        "**Refinement:**\n",
        "\n",
        "* In each iteration, ICDTW refines the warping path based on the previously computed alignment. This iterative process leads to an optimal or near-optimal alignment over multiple passes, improving the final alignment accuracy compared to the standard DTW approach."
      ],
      "metadata": {
        "id": "5e2fKSLQ_jRe"
      }
    },
    {
      "cell_type": "markdown",
      "source": [
        "**STEPS:**\n",
        "\n",
        "1. **Initial Alignment:** Start by performing a basic alignment between the two time series using standard DTW.\n",
        "\n",
        "2. **Apply Constraints:** During each iteration, impose constraints that restrict the allowable warping paths between the two time series. These constraints might include things like limiting the range of movement in the warping path or ensuring monotonicity.\n",
        "\n",
        "3. **Refinement:** After applying constraints, refine the alignment by recalculating the DTW distance with the constrained path.\n",
        "\n",
        "4. **Repeat:** The iterative process is repeated until the alignment converges to an optimal or sufficiently accurate solution.\n",
        "\n",
        "**Benefits:**\n",
        "\n",
        "* **Handling Large Variations:** By constraining the warping path and iterating over the alignment, ICDTW can more effectively handle large variations in the time series (e.g., different lengths, tempo variations, or large misalignments) compared to traditional DTW.\n",
        "\n",
        "* **Preserving Important Features:** The application of constraints during the iterative process helps to prevent the alignment from distorting important features in the time series, such as sharp transitions or edges. This is especially useful in time series that contain noise or irregularities.\n",
        "\n",
        "* **Improved Efficiency:** The iterative refinement approach makes ICDTW more computationally efficient, particularly when dealing with long time series, as it limits the warping search space through constraints.\n",
        "\n",
        "* **Flexibility:** ICDTW can be customized with various constraints, making it more adaptable to specific types of time series comparisons. For example, one might enforce temporal locality constraints or restrict the allowable distance for warping at each step."
      ],
      "metadata": {
        "id": "vTXji28QA_7j"
      }
    },
    {
      "cell_type": "markdown",
      "source": [
        "###DTW Barycenter Averaging\n",
        "\n",
        "**DTW Barycenter Averaging (DBA)** is a technique used to compute an average of multiple time series using Dynamic Time Warping (DTW). Unlike traditional methods of averaging time series, which simply compute the mean of corresponding points, DBAs use DTW to align the time series before averaging. This allows for the averaging of time series that may have temporal misalignments, speed variations, or shifts. The primary goal of DBA is to find a central tendency or \"average\" time series that best represents a set of input time series, while accounting for non-linear alignments in the data.\n",
        "\n",
        "**Concepts:**\n",
        "\n",
        "* **Dynamic Time Warping (DTW):**\n",
        "\n",
        "  * DTW is a powerful algorithm used to measure similarity between two time series that may differ in speed or alignment. It computes an optimal match between two time series by warping them non-linearly along the time axis.\n",
        "\n",
        "* **Barycenter:**\n",
        "\n",
        "  * The term \"barycenter\" refers to the center of mass or average of a set of data points. In the context of DBA, the barycenter represents an average time series, which is computed by iteratively aligning and averaging multiple time series.\n",
        "\n",
        "* **Averaging of Time Series**:\n",
        "\n",
        "  * Traditional averaging of time series simply computes the average of each corresponding time point across all series. However, this approach does not work well when time series are not perfectly aligned.\n",
        "\n",
        "  * DTW Barycenter Averaging solves this by aligning the time series first and then computing a pointwise average of the aligned sequences."
      ],
      "metadata": {
        "id": "9FLNbpfRB9Wx"
      }
    },
    {
      "cell_type": "markdown",
      "source": [
        "**How DTW Barycenter Averaging (DBA) Works:**\n",
        "\n",
        "**1. Initialization:**\n",
        "\n",
        "  * The algorithm starts with an initial guess for the barycenter, which can be any of the input time series or some other starting point.\n",
        "\n",
        "**2. Iterative Process:**\n",
        "\n",
        "  * In each iteration, the algorithm performs the following steps:\n",
        "\n",
        "    **1. Alignment using DTW:** For each time series in the dataset, the DTW algorithm is used to align that series with the current barycenter. This ensures that corresponding points in each time series are matched optimally, despite any differences in time or speed.\n",
        "\n",
        "    **2. Averaging:** After aligning the time series, the average of all the aligned time series is computed at each time point, creating a new candidate barycenter.\n",
        "\n",
        "**3. Convergence:**\n",
        "\n",
        "  * The process is repeated iteratively. In each iteration, the barycenter is updated, and the DTW alignment is recomputed. The algorithm converges when the barycenter stops changing significantly between iterations or after a pre-defined number of iterations.\n",
        "\n",
        "**4. Final Barycenter:**\n",
        "\n",
        "  * The final output of the algorithm is a time series that represents the average (or barycenter) of the input time series. This series is aligned in a way that best captures the common underlying pattern of the input sequences."
      ],
      "metadata": {
        "id": "4EtcFcmsCpZn"
      }
    },
    {
      "cell_type": "code",
      "source": [],
      "metadata": {
        "id": "6ThJMchxaPUB"
      },
      "execution_count": null,
      "outputs": []
    },
    {
      "cell_type": "markdown",
      "source": [
        "**Advantages of DTW Barycenter Averaging:**\n",
        "\n",
        "**1. Handling Temporal Misalignments:**\n",
        "\n",
        "  * DBA excels in scenarios where the input time series are misaligned or have different lengths, which is common in many real-world applications (e.g., speech, motion tracking). By using DTW to align the series first, DBA can compute a meaningful average despite these misalignments.\n",
        "\n",
        "**2. Robustness to Noise:**\n",
        "\n",
        "  * Since DBA aligns the time series before averaging, it tends to be more robust to noise than traditional averaging methods. By aligning the time series, DBA reduces the impact of small fluctuations that may not represent the true underlying patterns.\n",
        "\n",
        "**3. Flexible for Variable Length Time Series:**\n",
        "\n",
        "  * One of the key benefits of DBA is its ability to handle time series of different lengths. Traditional averaging methods require the series to be of equal length, but DBA can work with series of varying lengths by aligning them first.\n",
        "\n",
        "**4. Improved Pattern Recognition:**\n",
        "\n",
        "  * DBA can produce more accurate representations of a group of time series, making it useful for pattern recognition tasks. The barycenter obtained through DTW alignment can better represent the shared characteristics of the input time series."
      ],
      "metadata": {
        "id": "muLy9L1p-JHh"
      }
    },
    {
      "cell_type": "code",
      "execution_count": null,
      "metadata": {
        "id": "yhHURP61uGzh",
        "is_executing": true,
        "jupyter": {
          "outputs_hidden": false
        },
        "pycharm": {
          "name": "#%%\n"
        }
      },
      "outputs": [],
      "source": [
        "#generating synthetic data\n",
        "import numpy as np\n",
        "import matplotlib.pyplot as plt\n",
        "n_series = 15\n",
        "length = 150\n",
        "\n",
        "series = list()\n",
        "padding_length=30\n",
        "indices = range(0, length-padding_length)\n",
        "main_profile_gen = np.array([np.sin(2*np.pi*j/len(indices)) for j in indices])\n",
        "randomizer = lambda j:np.random.normal(j,0.02)\n",
        "randomizer_fun = np.vectorize(randomizer)\n",
        "for i in range(0,n_series):\n",
        "    n_pad_left = np.random.randint(0,padding_length)\n",
        "    #adding zero at the start or at the end to shif the profile\n",
        "    series_i = np.pad(main_profile_gen,(n_pad_left,padding_length-n_pad_left),mode='constant',constant_values=0)\n",
        "    #chop some of the end to prove it can work with multiple lengths\n",
        "    l = np.random.randint(length-20,length+1)\n",
        "    series_i = series_i[:l]\n",
        "    #randomize a bit\n",
        "    series_i = randomizer_fun(series_i)\n",
        "\n",
        "    series.append(series_i)\n",
        "# series = np.array(series)\n",
        "\n",
        "#plotting the synthetic data\n",
        "\n",
        "plt.figure(figsize=(8, 3))\n",
        "for s in series:\n",
        "    plt.plot(range(0,len(s)), s)\n",
        "plt.ylabel('Amplitude');plt.xlabel('Time');plt.show()"
      ]
    },
    {
      "cell_type": "code",
      "execution_count": null,
      "metadata": {
        "id": "LmNfz3zsuGzi",
        "is_executing": true,
        "jupyter": {
          "outputs_hidden": false
        },
        "pycharm": {
          "name": "#%%\n"
        }
      },
      "outputs": [],
      "source": [
        "from lib.dsp import performNLAAF1, performNLAAF2\n",
        "\n",
        "n_series = 15\n",
        "length = 150\n",
        "\n",
        "series = list()\n",
        "padding_length=30\n",
        "indices = range(0, length-padding_length)\n",
        "main_profile_gen = np.array([np.sin(2*np.pi*j/len(indices)) for j in indices])\n",
        "randomizer = lambda j:np.random.normal(j,0.02)\n",
        "randomizer_fun = np.vectorize(randomizer)\n",
        "for i in range(0,n_series):\n",
        "    n_pad_left = np.random.randint(0,padding_length)\n",
        "    #adding zero at the start or at the end to shif the profile\n",
        "    series_i = np.pad(main_profile_gen,(n_pad_left,padding_length-n_pad_left),mode='constant',constant_values=0)\n",
        "    #chop some of the end to prove it can work with multiple lengths\n",
        "    l = np.random.randint(length-20,length+1)\n",
        "    series_i = series_i[:l]\n",
        "    #randomize a bit\n",
        "    series_i = randomizer_fun(series_i)\n",
        "\n",
        "    series.append(series_i)\n",
        "\n",
        "# the feature of NLAAF: the length of center cannot be controlled\n",
        "# if we want to get the center of 2 time series A (N points) and B (M points) by NLAAF\n",
        "# the length of center is in the range of [max(N, M), N + M - 1]\n",
        "\n",
        "average_series_NLAAF1 = performNLAAF1(list(series), show=True)\n",
        "average_series_NLAAF2 = performNLAAF2(list(series), show=True)"
      ]
    },
    {
      "cell_type": "code",
      "execution_count": null,
      "metadata": {
        "id": "-eU7QkSiuGzj",
        "is_executing": true,
        "jupyter": {
          "outputs_hidden": false
        },
        "pycharm": {
          "name": "#%%\n"
        }
      },
      "outputs": [],
      "source": [
        "from lib.dsp import performICDTW\n",
        "\n",
        "n_series = 15\n",
        "length = 150\n",
        "\n",
        "series = list()\n",
        "padding_length=30\n",
        "indices = range(0, length-padding_length)\n",
        "main_profile_gen = np.array([np.sin(2*np.pi*j/len(indices)) for j in indices])\n",
        "randomizer = lambda j:np.random.normal(j,0.02)\n",
        "randomizer_fun = np.vectorize(randomizer)\n",
        "for i in range(0,n_series):\n",
        "    n_pad_left = np.random.randint(0,padding_length)\n",
        "    #adding zero at the start or at the end to shif the profile\n",
        "    series_i = np.pad(main_profile_gen,(n_pad_left,padding_length-n_pad_left),mode='constant',constant_values=0)\n",
        "    #chop some of the end to prove it can work with multiple lengths\n",
        "    l = np.random.randint(length-20,length+1)\n",
        "    series_i = series_i[:l]\n",
        "    #randomize a bit\n",
        "    series_i = randomizer_fun(series_i)\n",
        "\n",
        "    series.append(series_i)\n",
        "\n",
        "# ICDTW is an iterative approach for time series averaging\n",
        "# with ICDTW we can control the length of center\n",
        "average_series_ICDTW = performICDTW(list(series), show=True)"
      ]
    },
    {
      "cell_type": "code",
      "execution_count": null,
      "metadata": {
        "id": "VlWd66fQuGzk",
        "is_executing": true,
        "jupyter": {
          "outputs_hidden": false
        },
        "pycharm": {
          "name": "#%%\n"
        }
      },
      "outputs": [],
      "source": [
        "from lib.dsp import performDBA\n",
        "\n",
        "n_series = 15\n",
        "length = 150\n",
        "\n",
        "series = list()\n",
        "padding_length=30\n",
        "indices = range(0, length-padding_length)\n",
        "main_profile_gen = np.array([np.sin(2*np.pi*j/len(indices)) for j in indices])\n",
        "randomizer = lambda j:np.random.normal(j,0.02)\n",
        "randomizer_fun = np.vectorize(randomizer)\n",
        "for i in range(0,n_series):\n",
        "    n_pad_left = np.random.randint(0,padding_length)\n",
        "    #adding zero at the start or at the end to shif the profile\n",
        "    series_i = np.pad(main_profile_gen,(n_pad_left,padding_length-n_pad_left),mode='constant',constant_values=0)\n",
        "    #chop some of the end to prove it can work with multiple lengths\n",
        "    l = np.random.randint(length-20,length+1)\n",
        "    series_i = series_i[:l]\n",
        "    #randomize a bit\n",
        "    series_i = randomizer_fun(series_i)\n",
        "\n",
        "    series.append(series_i)\n",
        "    print(len(series_i))\n",
        "\n",
        "# DBA is a baseline!\n",
        "# the length of center can also be controlled\n",
        "# an iterative approach\n",
        "average_series_DBA = performDBA(series, show=True)"
      ]
    },
    {
      "cell_type": "code",
      "execution_count": null,
      "metadata": {
        "id": "yVLBcbkquGzk",
        "is_executing": true,
        "jupyter": {
          "outputs_hidden": false
        },
        "pycharm": {
          "name": "#%%\n"
        }
      },
      "outputs": [],
      "source": [
        "from lib.dsp import performSOFTDBA\n",
        "\n",
        "n_series = 15\n",
        "length = 150\n",
        "\n",
        "series = list()\n",
        "padding_length=30\n",
        "indices = range(0, length-padding_length)\n",
        "main_profile_gen = np.array([np.sin(2*np.pi*j/len(indices)) for j in indices])\n",
        "randomizer = lambda j:np.random.normal(j,0.02)\n",
        "randomizer_fun = np.vectorize(randomizer)\n",
        "for i in range(0,n_series):\n",
        "    n_pad_left = np.random.randint(0,padding_length)\n",
        "    #adding zero at the start or at the end to shif the profile\n",
        "    series_i = np.pad(main_profile_gen,(n_pad_left,padding_length-n_pad_left),mode='constant',constant_values=0)\n",
        "    #chop some of the end to prove it can work with multiple lengths\n",
        "    l = np.random.randint(length-20,length+1)\n",
        "    series_i = series_i[:l]\n",
        "    #randomize a bit\n",
        "    series_i = randomizer_fun(series_i)\n",
        "    if len(series_i) < 150: #SoftDBA expects entries of same length\n",
        "      pad = 150 - len(series_i)\n",
        "      for p in range(pad):\n",
        "        series_i = np.append(series_i,0)\n",
        "\n",
        "    series.append(series_i)\n",
        "\n",
        "# # convert an un-convex problem into an convex optimization\n",
        "average_series_SoftDBA = performSOFTDBA(list(series), show=True)"
      ]
    },
    {
      "cell_type": "markdown",
      "metadata": {
        "id": "mBUNNJefuGy3",
        "jupyter": {
          "outputs_hidden": false
        },
        "pycharm": {
          "name": "#%% md\n"
        }
      },
      "source": [
        "# Decompose\n"
      ]
    },
    {
      "cell_type": "markdown",
      "metadata": {
        "id": "Zv0FrYDhuGy4",
        "jupyter": {
          "outputs_hidden": false
        },
        "pycharm": {
          "name": "#%% md\n"
        }
      },
      "source": [
        "### 1. **Seasonal Decomposition:**\n",
        "\n",
        "**Seasonal decomposition** is a technique used in time series analysis to break down a time series into its individual components: trend, seasonality, and residual (or noise). This helps to better understand the underlying structure of the data and is often used to detect patterns, forecast future values, and improve the accuracy of predictive models.\n",
        "\n",
        "</br>\n",
        "\n",
        "The primary goal of seasonal decomposition is to separate the time series into components that represent different underlying behaviors.\n",
        "\n",
        "</br>\n",
        "\n",
        "The model can be expressed as $y(t) = T(t) + S(t) + R(t)$, where $T(t)$ is the trend, $S(t)$ is the seasonal component, and $R(t)$ is the residual:\n",
        "\n",
        "* **Trend:** The long-term movement or direction in the data. It represents the general tendency of the data to increase or decrease over time, ignoring short-term fluctuations.\n",
        "\n",
        "* **Seasonality:** The repeating and predictable patterns or cycles that occur at regular intervals, such as daily, weekly, monthly, or yearly. This component captures fluctuations that recur over a fixed period.\n",
        "\n",
        "* **Residual:** The \"leftover\" noise or random fluctuations in the data that can't be explained by the trend or seasonal components. This component represents irregular variations, outliers, or random events.\n",
        "\n"
      ]
    },
    {
      "cell_type": "markdown",
      "source": [
        "**Steps:**\n",
        "\n",
        "**1. Estimating the Trend Component:**\n",
        "\n",
        "  * The trend is estimated by smoothing the original time series data. This can be done using various methods like moving averages, locally weighted regression, or smoothing splines. The goal is to remove the seasonal and residual components, leaving behind the underlying long-term trend.\n",
        "\n",
        "**2. Estimating the Seasonal Component:**\n",
        "\n",
        "  * After extracting the trend, the seasonal component is found by calculating the differences between the original data and the estimated trend. This is typically done by averaging the values that occur at the same time of the year or time period, e.g., averaging monthly sales for each month of the year.\n",
        "\n",
        "**3. Residuals:**\n",
        "\n",
        "  * The residual component is simply what remains after removing the trend and seasonal components. It is calculated by subtracting the trend and seasonal components from the original data. Ideally, this should resemble random noise, with no clear patterns."
      ],
      "metadata": {
        "id": "VGUCD-KTFGes"
      }
    },
    {
      "cell_type": "code",
      "execution_count": null,
      "metadata": {
        "jupyter": {
          "outputs_hidden": false
        },
        "pycharm": {
          "name": "#%%\n"
        },
        "id": "Xksik28G63fb"
      },
      "outputs": [],
      "source": [
        "from lib.dsp import seasonal_decomposition, sine_wave\n",
        "import numpy as np\n",
        "import matplotlib.pyplot as plt\n",
        "\n",
        "x = my_array = np.arange(1000)\n",
        "\n",
        "Trend = 1.5 * np.linspace(0, 10, 1000)\n",
        "plt.plot(x,Trend)\n",
        "plt.title(\"Generated Trend\")\n",
        "\n",
        "Seasonal = sine_wave(duration=10, sampling_rate=100, frequency=0.5, show = True)\n",
        "\n",
        "Residual = np.random.normal(0, 0.5, 10 * 100)\n",
        "plt.plot(x,Residual)\n",
        "plt.title(\"Generated Residual\")\n",
        "\n",
        "\n",
        "signal = Seasonal + Trend + Residual\n",
        "\n",
        "_ = seasonal_decomposition(signal, period=200, show=True)"
      ]
    },
    {
      "cell_type": "markdown",
      "metadata": {
        "id": "NzYloG26uGy4",
        "jupyter": {
          "outputs_hidden": false
        },
        "pycharm": {
          "name": "#%% md\n"
        }
      },
      "source": [
        "### 2. **Empirical Mode Decomposition (EMD):**\n",
        "\n",
        "Empirical Mode Decomposition (EMD) is a data-driven method for analyzing non-linear and non-stationary time series data. It decomposes a time series into a set of intrinsic mode functions (IMFs), which represent different oscillatory modes of the data. These IMFs are derived from the data itself, without relying on a pre-defined basis, making EMD particularly useful for analyzing complex, real-world signals that do not follow simple trends or seasonality.\n",
        "\n",
        "* EMD decomposes a signal into intrinsic mode functions (IMFs) based on local extrema. Each IMF represents a specific oscillatory mode. Mathematically, a signal $x(t)$ is decomposed as $x(t) = \\sum_{i=1}^{n} C_i(t) + R(t)$, where $C_i(t)$ is the $i$-th IMF and $R(t)$ is the residual.\n",
        "\n",
        "</br>\n",
        "\n",
        "**Key Concepts of EMD:**\n",
        "\n",
        "**1. Intrinsic Mode Functions (IMFs):**\n",
        "\n",
        "  * IMFs are components that EMD extracts from the original time series. Each IMF captures a specific oscillatory mode of the signal, with each IMF having:\n",
        "\n",
        "    * **Zero mean:** The average value of the IMF is zero.\n",
        "    \n",
        "    * **Monotonicity of extrema:** The number of zero-crossings and extrema (peaks and valleys) in an IMF must either be equal or differ by at most one.\n",
        "\n",
        "  * These IMFs represent different frequency scales of the signal, from high-frequency oscillations (fine details) to low-frequency trends (general behavior).\n",
        "\n",
        "**2. The Decomposition Process:**\n",
        "\n",
        "  * EMD works by iteratively sifting through the original signal and extracting IMFs one by one. This is done by:\n",
        "\n",
        "    1. Identifying the local maxima and local minima of the signal.\n",
        "\n",
        "    2. Interpolating between the maxima and minima to create an envelope for the signal.\n",
        "\n",
        "    3. Subtracting the envelope from the original signal to obtain a component (the first IMF).\n",
        "\n",
        "    4. The process is repeated on the residual signal until it meets the stopping criterion (i.e., no more IMFs can be extracted).\n",
        "\n",
        "**3. Residual Trend:**\n",
        "\n",
        "  * After extracting all the IMFs, what remains is the residual trend, which is the long-term average of the signal, often referred to as the final component in the decomposition process.\n",
        "\n",
        "**4. Non-Linear and Non-Stationary Data:**\n",
        "\n",
        "  * Unlike traditional methods like Fourier transforms or wavelets, which assume that the signal is stationary (its statistical properties do not change over time), EMD is designed to handle non-stationary and non-linear data. This makes it suitable for a wide range of real-world applications where the underlying signal changes over time."
      ]
    },
    {
      "cell_type": "markdown",
      "source": [
        "**Steps of the EMD Process:**\n",
        "\n",
        "**1. Sifting Process:**\n",
        "\n",
        "  * The signal is first \"sifted\" to extract the high-frequency oscillations (IMFs) using the local maxima and minima. This involves:\n",
        "\n",
        "      1. Identifying the local maxima and minima.\n",
        "\n",
        "      2. Interpolating between the maxima and minima to create upper and lower envelopes.\n",
        "      \n",
        "      3. Subtracting the mean of the upper and lower envelopes from the signal to obtain the IMF.\n",
        "\n",
        "      4. Repeating the process on the residual signal until the stopping criterion is met.\n",
        "\n",
        "**2. Iterative Extraction:**\n",
        "\n",
        "  * This process continues for several iterations. Each iteration extracts an IMF, and what remains after extracting each IMF is a progressively lower-frequency component of the signal. The decomposition stops when the residual signal is a monotonic function (or when other convergence criteria are met).\n",
        "\n",
        "**3. Final Residual:**\n",
        "\n",
        "  * The final residual is often considered the trend of the original time series, which has no oscillatory modes left."
      ],
      "metadata": {
        "id": "Lh_fhGr3Fxbu"
      }
    },
    {
      "cell_type": "markdown",
      "source": [
        "**Pros:**\n",
        "\n",
        "* **Data-Driven:** EMD does not assume a pre-defined model or basis (like Fourier transforms or wavelets), making it highly flexible for complex, real-world signals.\n",
        "\n",
        "* **Adaptability:** It works well for non-stationary, non-linear signals, making it suitable for a wide variety of applications, including those where other methods may struggle.\n",
        "\n",
        "* **No Assumptions:** Unlike methods such as Fourier or wavelet transforms, EMD does not require assumptions about the signal’s behavior or frequency content.\n",
        "\n",
        "* **Multiscale Analysis:** It allows for multiscale decomposition, which helps to capture different frequency components of the signal.\n",
        "\n",
        "**Cons:**\n",
        "\n",
        "* **Mode Mixing:** EMD can sometimes suffer from mode mixing, where different frequency components are incorrectly mixed together in the same IMF. This can occur if the signal is highly irregular or contains sharp discontinuities.\n",
        "\n",
        "* **Sensitivity to Noise:** EMD can be sensitive to noise, especially for signals with small-scale variations.\n",
        "\n",
        "* **Computational Cost:** The iterative nature of the method can be computationally expensive for large datasets."
      ],
      "metadata": {
        "id": "3oilxr3gFzTX"
      }
    },
    {
      "cell_type": "code",
      "execution_count": null,
      "metadata": {
        "jupyter": {
          "outputs_hidden": false
        },
        "pycharm": {
          "name": "#%%\n"
        },
        "id": "G56J0ABB63fc"
      },
      "outputs": [],
      "source": [
        "import numpy as np\n",
        "import matplotlib.pyplot as plt\n",
        "from lib.dsp import vmd_decomposition, sine_wave, chirp_wave_linear, chirp_wave_hyperbolic, chirp_wave_exponential\n",
        "import matplotlib.pyplot as plt\n",
        "duration = 10\n",
        "sampling_rate = 100\n",
        "\n",
        "x = my_array = np.arange(duration*sampling_rate)\n",
        "\n",
        "\"\"\" Generate a Trend\n",
        "Trend = 1.5 * np.linspace(0, duration, duration*sampling_rate)\n",
        "plt.plot(x,Trend)\n",
        "plt.title(\"Generated Trend\")\n",
        "#\"\"\"\n",
        "\n",
        "\n",
        "\"\"\" # Seasonal Signals Only\n",
        "Seasonal_1 = sine_wave(duration=duration, sampling_rate=sampling_rate, amplitude=5, frequency=0.2,show=True)\n",
        "Seasonal_2 = sine_wave(duration=duration, sampling_rate=sampling_rate, amplitude=4, frequency=0.5,show=True)\n",
        "Seasonal_3 = sine_wave(duration=duration, sampling_rate=sampling_rate, amplitude=3, frequency=1.0,show=True)\n",
        "Seasonal_4 = sine_wave(duration=duration, sampling_rate=sampling_rate, amplitude=2, frequency=2.0,show=True)\n",
        "Seasonal_5 = sine_wave(duration=duration, sampling_rate=sampling_rate, amplitude=1, frequency=4.0,show=True)\n",
        "\n",
        "Noise = np.random.normal(0, 0.01, 1000)\n",
        "plt.plot(x,Noise)\n",
        "plt.title(\"Generated Noise\")\n",
        "\n",
        "signal = Seasonal_1 + Seasonal_2 + Seasonal_3 + Seasonal_4 + Seasonal_5 #+ Noise\n",
        "#signal = Seasonal_1 + Seasonal_2 + Seasonal_3 + Seasonal_4 + Trend #+ Noise\n",
        "#\"\"\"\n",
        "\n",
        "#\"\"\" # Non Liniear Signals\n",
        "chirp_linear_ = chirp_wave_linear(f0=0.1, c=0.25, show=True)\n",
        "chirp_hyperbolic_ = chirp_wave_hyperbolic(f0=0.1, f1=2.6, show=True)\n",
        "chirp_exponential_ = chirp_wave_exponential(f0=0.1, k=1.5, show=True)\n",
        "\n",
        "Noise = np.random.normal(0, 0.01, 1000)\n",
        "plt.plot(x,Noise)\n",
        "plt.title(\"Generated Noise\")\n",
        "\n",
        "signal = chirp_linear_ + chirp_hyperbolic_ + chirp_exponential_ #+ Noise\n",
        "#\"\"\"\n",
        "\n",
        "_ = emd_decomposition(signal, show=True)"
      ]
    },
    {
      "cell_type": "markdown",
      "metadata": {
        "id": "6aq5orr6uGy4",
        "jupyter": {
          "outputs_hidden": false
        },
        "pycharm": {
          "name": "#%% md\n"
        }
      },
      "source": [
        "### 3. **Ensemble Empirical Mode Decomposition (EEMD):**\n",
        "\n",
        "\n",
        "**Ensemble Empirical Mode Decomposition (EEMD)** is an improved version of the Empirical Mode Decomposition (EMD) method, designed to overcome some of the limitations of EMD, particularly mode mixing and sensitivity to noise. EEMD combines the strength of EMD for analyzing non-linear and non-stationary signals with a statistical approach to improve the robustness and reliability of the decomposition process."
      ]
    },
    {
      "cell_type": "markdown",
      "source": [
        "EEMD addresses the problems of mode mixing and noise sensitivity by introducing the concept of ensemble averaging. The main idea behind EEMD is to add white noise to the original signal and then perform the standard EMD process on the noisy signal. By repeating this process multiple times with different realizations of white noise, the resulting IMFs are averaged to obtain a more stable and reliable decomposition.\n",
        "\n",
        "**Steps:**\n",
        "\n",
        "**1. Add White Noise:**\n",
        "\n",
        "  * White noise (random noise with a flat spectral density) is added to the original signal. This introduces randomness into the signal, helping to avoid the bias caused by mode mixing and improving the decomposition process.\n",
        "\n",
        "**2. Decompose with EMD:**\n",
        "\n",
        "  * Perform Empirical Mode Decomposition on the noisy signal. This step results in a set of IMFs that are influenced by the added noise.\n",
        "\n",
        "**3. Repeat the Process:**\n",
        "\n",
        "  * The process is repeated several times, each time adding a different realization of white noise to the signal. For each noisy signal, a separate EMD decomposition is performed, resulting in a different set of IMFs.\n",
        "\n",
        "**4. Ensemble Averaging:**\n",
        "\n",
        "  * After completing the decompositions for all white noise realizations, the IMFs from each decomposition are averaged. The averaging process helps to cancel out the effects of the white noise, leaving behind a more accurate representation of the true intrinsic oscillations in the original signal.\n",
        "\n",
        "**5. Final Decomposition:**\n",
        "\n",
        "  * The resulting IMFs, averaged over the ensemble of noisy realizations, form the final set of IMFs that are less influenced by noise and mode mixing."
      ],
      "metadata": {
        "id": "QIXu2fXzILiA"
      }
    },
    {
      "cell_type": "markdown",
      "source": [
        "**Advantages of EEMD over EMD:**\n",
        "\n",
        "**1. Reduced Mode Mixing:**\n",
        "\n",
        "  * By adding white noise and performing the decomposition multiple times, EEMD mitigates the problem of mode mixing that can occur in traditional EMD. The averaging process helps to separate components more clearly into different frequency bands.\n",
        "\n",
        "**2. Noise Robustness:**\n",
        "\n",
        "  * The introduction of white noise in EEMD helps to \"drown out\" the effects of real-world noise, making the decomposition more stable and robust, especially in the presence of noise or irregularities in the data.\n",
        "\n",
        "**3. More Reliable IMFs:**\n",
        "\n",
        "  * The ensemble averaging step leads to more stable and meaningful IMFs, as the noise and instability from individual decompositions are averaged out, resulting in IMFs that better represent the underlying dynamics of the signal.\n",
        "\n",
        "**4. Better Handling of Complex Signals:**\n",
        "\n",
        "  * EEMD is better suited for dealing with complex, non-linear, and non-stationary signals, such as those found in biomedical data, mechanical systems, and financial data, where EMD alone may struggle."
      ],
      "metadata": {
        "id": "rjTtovo4Iv7D"
      }
    },
    {
      "cell_type": "code",
      "execution_count": null,
      "metadata": {
        "jupyter": {
          "outputs_hidden": false
        },
        "pycharm": {
          "name": "#%%\n"
        },
        "id": "se0YBq7I63fc"
      },
      "outputs": [],
      "source": [
        "from lib.dsp import eemd_decomposition, vmd_decomposition, sine_wave, chirp_wave_linear, chirp_wave_hyperbolic, chirp_wave_exponential\n",
        "import matplotlib.pyplot as plt\n",
        "import numpy as np\n",
        "\n",
        "\n",
        "duration = 10\n",
        "sampling_rate = 100\n",
        "\n",
        "x = my_array = np.arange(duration*sampling_rate)\n",
        "\n",
        "\"\"\" Generate a Trend\n",
        "Trend = 1.5 * np.linspace(0, duration, duration*sampling_rate)\n",
        "plt.plot(x,Trend)\n",
        "plt.title(\"Generated Trend\")\n",
        "#\"\"\"\n",
        "\n",
        "\n",
        "#\"\"\" # Seasonal Signals Only\n",
        "Seasonal_1 = sine_wave(duration=duration, sampling_rate=sampling_rate, amplitude=5, frequency=0.2,show=True)\n",
        "Seasonal_2 = sine_wave(duration=duration, sampling_rate=sampling_rate, amplitude=4, frequency=0.5,show=True)\n",
        "Seasonal_3 = sine_wave(duration=duration, sampling_rate=sampling_rate, amplitude=3, frequency=1.0,show=True)\n",
        "Seasonal_4 = sine_wave(duration=duration, sampling_rate=sampling_rate, amplitude=2, frequency=2.0,show=True)\n",
        "Seasonal_5 = sine_wave(duration=duration, sampling_rate=sampling_rate, amplitude=1, frequency=4.0,show=True)\n",
        "\n",
        "Noise = np.random.normal(0, 0.01, 1000)\n",
        "plt.plot(x,Noise)\n",
        "plt.title(\"Generated Noise\")\n",
        "\n",
        "signal = Seasonal_1 + Seasonal_2 + Seasonal_3 + Seasonal_4 + Seasonal_5 #+ Noise\n",
        "#signal = Seasonal_1 + Seasonal_2 + Seasonal_3 + Seasonal_4 + Trend #+ Noise\n",
        "#\"\"\"\n",
        "\n",
        "\"\"\" # Non Liniear Signals\n",
        "chirp_linear_ = chirp_wave_linear(f0=0.1, c=0.25, show=True)\n",
        "chirp_hyperbolic_ = chirp_wave_hyperbolic(f0=0.1, f1=2.6, show=True)\n",
        "chirp_exponential_ = chirp_wave_exponential(f0=0.1, k=1.5, show=True)\n",
        "#Seasonal_1 = sine_wave(duration=duration, sampling_rate=sampling_rate, amplitude=5, frequency=0.2,show=True)\n",
        "#Seasonal_2 = sine_wave(duration=duration, sampling_rate=sampling_rate, amplitude=4, frequency=0.5,show=True)\n",
        "\n",
        "Noise = np.random.normal(0, 0.01, 1000)\n",
        "plt.plot(x,Noise)\n",
        "plt.title(\"Generated Noise\")\n",
        "\n",
        "#signal = chirp_linear_ + Seasonal_1 + Seasonal_2 #+ Noise\n",
        "signal = chirp_linear_ + chirp_hyperbolic_ + chirp_exponential_ #+ Noise\n",
        "#\"\"\"\n",
        "\n",
        "# EEMD default values: noise_width = 0.05, ensemble_size = 100\n",
        "# noise_width is the width of the white noise to add to the signal for ensemble generation\n",
        "# ensemble_size is the number of ensemble trials to perform\n",
        "_ = eemd_decomposition(signal, noise_width=0.05, ensemble_size=100, show=True)"
      ]
    },
    {
      "cell_type": "markdown",
      "metadata": {
        "id": "IbL9eb5EuGy4",
        "jupyter": {
          "outputs_hidden": false
        },
        "pycharm": {
          "name": "#%% md\n"
        }
      },
      "source": [
        "### 4. **Complete Ensemble Empirical Mode Decomposition (CEEMD):**\n",
        "\n",
        "Complete Ensemble Empirical Mode Decomposition (CEEMD) is an advanced method that further improves upon Ensemble Empirical Mode Decomposition (EEMD), addressing some of the remaining issues with noise interference and mode mixing, making it even more robust and effective in decomposing complex, non-linear, and non-stationary time series signals.\n",
        "\n",
        "CEEMD is an enhancement of EEMD that eliminates the residual noise that can still affect the decomposition process. Instead of adding just white noise in each ensemble realization (like in EEMD), CEEMD adds both positive and negative white noise to the signal. This addition of positive and negative noise in each iteration helps to cancel out the noise effects more effectively, resulting in a cleaner decomposition.\n"
      ]
    },
    {
      "cell_type": "markdown",
      "source": [
        "**The steps for CEEMD are the same as EEMD, except for Add Noise:**\n",
        "\n",
        "* Instead of adding just positive white noise (as in EEMD), both positive and negative white noise of equal amplitude are added to the signal. This makes the process more symmetric and helps to cancel out noise artifacts more effectively."
      ],
      "metadata": {
        "id": "la9ed6gpJsso"
      }
    },
    {
      "cell_type": "code",
      "execution_count": null,
      "metadata": {
        "jupyter": {
          "outputs_hidden": false
        },
        "pycharm": {
          "name": "#%%\n"
        },
        "id": "8ofIlobF63fd"
      },
      "outputs": [],
      "source": [
        "from lib.dsp import ceemd_decomposition, sine_wave, chirp_wave_linear, chirp_wave_hyperbolic, chirp_wave_exponential\n",
        "import numpy as np\n",
        "import matplotlib.pyplot as plt\n",
        "\n",
        "duration = 10\n",
        "sampling_rate = 100\n",
        "\n",
        "x = my_array = np.arange(duration*sampling_rate)\n",
        "\n",
        "\"\"\" Generate a Trend\n",
        "Trend = 1.5 * np.linspace(0, duration, duration*sampling_rate)\n",
        "plt.plot(x,Trend)\n",
        "plt.title(\"Generated Trend\")\n",
        "#\"\"\"\n",
        "\n",
        "\n",
        "#\"\"\" # Seasonal Signals Only\n",
        "Seasonal_1 = sine_wave(duration=duration, sampling_rate=sampling_rate, amplitude=5, frequency=0.2,show=True)\n",
        "Seasonal_2 = sine_wave(duration=duration, sampling_rate=sampling_rate, amplitude=4, frequency=0.5,show=True)\n",
        "Seasonal_3 = sine_wave(duration=duration, sampling_rate=sampling_rate, amplitude=3, frequency=1.0,show=True)\n",
        "Seasonal_4 = sine_wave(duration=duration, sampling_rate=sampling_rate, amplitude=2, frequency=2.0,show=True)\n",
        "Seasonal_5 = sine_wave(duration=duration, sampling_rate=sampling_rate, amplitude=1, frequency=4.0,show=True)\n",
        "\n",
        "Noise = np.random.normal(0, 0.01, 1000)\n",
        "plt.plot(x,Noise)\n",
        "plt.title(\"Generated Noise\")\n",
        "\n",
        "signal = Seasonal_1 + Seasonal_2 + Seasonal_3 + Seasonal_4 + Seasonal_5 #+ Noise\n",
        "#signal = Seasonal_1 + Seasonal_2 + Seasonal_3 + Seasonal_4 + Trend #+ Noise\n",
        "#\"\"\"\n",
        "\n",
        "\"\"\" # Non Liniear Signals\n",
        "chirp_linear_ = chirp_wave_linear(f0=0.1, c=0.25, show=True)\n",
        "chirp_hyperbolic_ = chirp_wave_hyperbolic(f0=0.1, f1=2.6, show=True)\n",
        "chirp_exponential_ = chirp_wave_exponential(f0=0.1, k=1.5, show=True)\n",
        "#Seasonal_1 = sine_wave(duration=duration, sampling_rate=sampling_rate, amplitude=5, frequency=0.2,show=True)\n",
        "#Seasonal_2 = sine_wave(duration=duration, sampling_rate=sampling_rate, amplitude=4, frequency=0.5,show=True)\n",
        "\n",
        "Noise = np.random.normal(0, 0.01, 1000)\n",
        "plt.plot(x,Noise)\n",
        "plt.title(\"Generated Noise\")\n",
        "\n",
        "#signal = chirp_linear_ + Seasonal_1 + Seasonal_2 #+ Noise\n",
        "signal = chirp_linear_ + chirp_hyperbolic_ + chirp_exponential_ #+ Noise\n",
        "#\"\"\"\n",
        "\n",
        "# CEEMD\n",
        "_ = ceemd_decomposition(signal, show=True)"
      ]
    },
    {
      "cell_type": "markdown",
      "metadata": {
        "id": "W6jkbxdtuGy4",
        "jupyter": {
          "outputs_hidden": false
        },
        "pycharm": {
          "name": "#%% md\n"
        }
      },
      "source": [
        "### 5. **Variational Mode Decomposition (VMD):**\n",
        "\n",
        "Variational Mode Decomposition (VMD) is a signal processing technique that is used to decompose a complex signal into a set of intrinsic modes or modes of oscillation. It is particularly useful for analyzing non-stationary and non-linear signals, and it has gained popularity as an alternative to methods like Empirical Mode Decomposition (EMD) and its variations (such as CEEMD).\n",
        "\n",
        "</br>\n",
        "\n",
        "VMD decomposes a signal into a set of oscillatory modes with varying frequencies. It minimizes the mode mixing problem by solving a variational optimization problem. The decomposition can be expressed as $x(t) = \\sum_{i=1}^{n} u_i(t) + R(t)$, where $u_i(t)$ are the modes and $R(t)$ is the residual."
      ]
    },
    {
      "cell_type": "markdown",
      "source": [
        "**Concepts:**\n",
        "\n",
        "**1. Intrinsic Mode Functions (IMFs):**\n",
        "\n",
        "  * Similar to EMD, VMD decomposes a signal into intrinsic mode functions (IMFs), which are the individual frequency components that make up the signal. These IMFs correspond to oscillatory modes or frequency bands that are embedded in the signal.\n",
        "\n",
        "**2. Non-Stationary and Non-Linear Signals:**\n",
        "\n",
        "  * VMD is especially useful for analyzing signals that are non-linear (their properties change over time) and non-stationary (their statistical properties vary with time). These types of signals are commonly found in real-world data like seismic signals, biomedical signals (e.g., EEG, ECG), and financial data.\n",
        "\n",
        "**3. Variational Approach:**\n",
        "\n",
        "  * Unlike traditional decomposition techniques (such as EMD), which use iterative sifting processes to extract IMFs, VMD uses a variational optimization approach to directly decompose the signal into modes. This optimization problem is solved by minimizing a cost function that balances the frequency bandwidth of each mode and the residual of the signal.\n",
        "\n",
        "**4. Mode Decomposition:**\n",
        "\n",
        "  * The goal of VMD is to separate a signal into distinct frequency components (modes) without requiring prior knowledge of the signal’s structure. The decomposition is done in a way that each mode is associated with a specific frequency range, and there is minimal overlap between modes."
      ],
      "metadata": {
        "id": "T8WQ_EAmKSWx"
      }
    },
    {
      "cell_type": "markdown",
      "source": [
        "**Steps:**\n",
        "\n",
        "VMD is based on an optimization framework where the objective is to find a set of modes such that their sum approximates the original signal. Here's a step-by-step breakdown of how VMD works:\n",
        "\n",
        "**1. Signal Representation:**\n",
        "\n",
        "  * VMD takes a time-domain signal $x(t)$ and aims to represent it as the **sum** of a set of modes $u_k(t)$, each of which has a specific frequency component. The modes are represented as functions with limited frequency bandwidths.\n",
        "\n",
        "**2. Frequency Localization:**\n",
        "\n",
        "  * Each mode is associated with a center frequency $F_k$, and the objective is to make the **frequency bandwidth** of each mode as narrow as possible. This is done by limiting the frequency range of each mode, which helps in extracting specific frequency components from the signal.\n",
        "\n",
        "**3. Variational Optimization:**\n",
        "\n",
        "VMD solves an optimization problem in the form of a variational principle to find the modes and their associated frequencies. The optimization problem seeks to minimize the following cost function:\n",
        "\n",
        "</br>\n",
        "\n",
        "  $\\frac{min}{u_k(t),f_k} \\sum_{k=1}^k \\left( | \\frac{\\delta}{\\delta t} u_k(t) |^2 + α | f_k - \\hat{f}_k |^2 \\right)$\n",
        "\n",
        "</br>\n",
        "\n",
        "Where:\n",
        "\n",
        "* $u_k(t)$is the $k$-th mode.\n",
        "\n",
        "* $f_k$ is the central frequency of the $k$-th mode.\n",
        "\n",
        "* $\\hat{f}$ is the reference frequency.\n",
        "\n",
        "* $α$ is a regularization parameter that controls the balance between bandwidth and frequency accuracy.\n",
        "\n",
        "* The first term in the cost function is the **bandwidth** of the mode, while the second term penalizes deviations from the desired central frequency.\n",
        "\n",
        "**4. Iterative Update:**\n",
        "\n",
        "The algorithm uses an iterative process to update the modes and their associated frequencies in order to minimize the cost function. This is done by alternating between updating the modes and adjusting the central frequencies until convergence is achieved.\n",
        "\n",
        "**5. Reconstruction:**\n",
        "\n",
        "After obtaining the modes, the original signal can be reconstructed by summing all the extracted modes. The result is a signal representation in terms of different oscillatory components, each with a well-defined frequency range."
      ],
      "metadata": {
        "id": "KH3xN1xbKnsl"
      }
    },
    {
      "cell_type": "markdown",
      "source": [
        "**Pros:**\n",
        "\n",
        "* **Precise Frequency Separation:**\n",
        "\n",
        "  * VMD ensures that the extracted modes correspond to distinct frequency bands, reducing mode mixing compared to traditional methods like EMD.\n",
        "\n",
        "* **Noise Robustness:**\n",
        "\n",
        "  * VMD is more robust to noise and is less sensitive to high-frequency noise than methods like EMD, which can struggle in noisy environments.\n",
        "\n",
        "* **Flexible and Generalizable:**\n",
        "\n",
        "  * VMD works well for a wide range of non-linear and non-stationary signals, making it applicable across many domains like biomedical, financial, and geophysical analysis.\n",
        "\n",
        "**Cons:**\n",
        "\n",
        "* **Parameter Sensitivity:**\n",
        "\n",
        "  * The performance of VMD depends on selecting the right parameters, such as the number of modes $K$, the regularization parameter $α$, and the convergence tolerance. Incorrect parameter settings can lead to poor results.\n",
        "\n",
        "* **Computational Complexity:**\n",
        "\n",
        "  * VMD requires solving an optimization problem for each mode, which can be computationally intensive for large datasets or real-time applications."
      ],
      "metadata": {
        "id": "mOpruS01PLmY"
      }
    },
    {
      "cell_type": "code",
      "execution_count": null,
      "metadata": {
        "id": "NkqAWtSpuGy7",
        "jupyter": {
          "outputs_hidden": false
        },
        "pycharm": {
          "name": "#%%\n"
        }
      },
      "outputs": [],
      "source": [
        "from lib.dsp import vmd_decomposition, sine_wave, chirp_wave_linear, chirp_wave_hyperbolic, chirp_wave_exponential\n",
        "import matplotlib.pyplot as plt\n",
        "\n",
        "duration = 10\n",
        "sampling_rate = 100\n",
        "\n",
        "x = my_array = np.arange(duration*sampling_rate)\n",
        "\n",
        "\n",
        "\"\"\" Generate a Trend\n",
        "Trend = 1.5 * np.linspace(0, duration, duration*sampling_rate)\n",
        "plt.plot(x,Trend)\n",
        "plt.title(\"Generated Trend\")\n",
        "#\"\"\"\n",
        "\n",
        "\n",
        "#\"\"\" # Seasonal Signals Only\n",
        "Seasonal_1 = sine_wave(duration=duration, sampling_rate=sampling_rate, amplitude=5, frequency=0.2,show=True)\n",
        "Seasonal_2 = sine_wave(duration=duration, sampling_rate=sampling_rate, amplitude=4, frequency=0.5,show=True)\n",
        "Seasonal_3 = sine_wave(duration=duration, sampling_rate=sampling_rate, amplitude=3, frequency=1.0,show=True)\n",
        "Seasonal_4 = sine_wave(duration=duration, sampling_rate=sampling_rate, amplitude=2, frequency=2.0,show=True)\n",
        "Seasonal_5 = sine_wave(duration=duration, sampling_rate=sampling_rate, amplitude=1, frequency=4.0,show=True)\n",
        "\n",
        "Noise = np.random.normal(0, 0.01, 1000)\n",
        "plt.plot(x,Noise)\n",
        "plt.title(\"Generated Noise\")\n",
        "\n",
        "signal = Seasonal_1 + Seasonal_2 + Seasonal_3 + Seasonal_4 + Seasonal_5 #+ Noise\n",
        "#signal = Seasonal_1 + Seasonal_2 + Seasonal_3 + Seasonal_4 + Trend #+ Noise\n",
        "#\"\"\"\n",
        "\n",
        "\"\"\" # Non Liniear Signals\n",
        "chirp_linear_ = chirp_wave_linear(f0=0.1, c=0.25, show=True)\n",
        "chirp_hyperbolic_ = chirp_wave_hyperbolic(f0=0.1, f1=2.6, show=True)\n",
        "chirp_exponential_ = chirp_wave_exponential(f0=0.1, k=1.5, show=True)\n",
        "\n",
        "Noise = np.random.normal(0, 0.01, 1000)\n",
        "plt.plot(x,Noise)\n",
        "plt.title(\"Generated Noise\")\n",
        "\n",
        "signal = chirp_linear_ + chirp_hyperbolic_ + chirp_exponential_ #+ Noise\n",
        "#\"\"\"\n",
        "\n",
        "# VMD Default Values: K=5, alpha=2000\n",
        "# K is the number of modes to decompose the signal into\n",
        "# alpha is the moderate bandwidth constraint\n",
        "_ = vmd_decomposition(signal, K=6, alpha=1000, show=True)"
      ]
    },
    {
      "cell_type": "markdown",
      "metadata": {
        "pycharm": {
          "name": "#%% md\n"
        },
        "id": "YZ9CfCTM63fe"
      },
      "source": [
        "## Singular-Spectrum Analysis\n",
        "\n",
        "Source: https://www.kaggle.com/code/jdarcy/introducing-ssa-for-time-series-decomposition\n",
        "\n",
        "The notation in this section will mostly follow that used in the book, [*Analysis of Time Series Structure: SSA and Related Techniques*](https://www.crcpress.com/Analysis-of-Time-Series-Structure-SSA-and-Related-Techniques/Golyandina-Nekrutkin-Zhigljavsky/p/book/9781584881940) by N. Golyandina, V. Nekrutkin and A. Zhigljavsky—an excellent reference containing more proofs and details about SSA than you could possibly ever need to know. Here, we'll go a step further and develop a Python implementation for SSA. For consistency between the mathematical notation and the code, all matrix and summation indexing with begin at 0 instead of 1.\n",
        "\n",
        "### From Time Series to Trajectory Matrix<a name=\"Section2.1\"></a>\n",
        "The first step of SSA is to map the time series $F$ to a sequence of multi-dimensional lagged vectors. Let an integer $L$ be the **window length**, $2 \\le L \\le N/2$. We form a 'window', given by the subseries $\\{f_i, \\ f_{i+1}, \\ldots , \\ f_{i+L-1}\\}$, for  $i=0,\\ldots,N-L$. We slide this window along the time series, forming a column vector, $X_i$, for each subseries. That is, we have\n",
        "\n",
        "\\begin{align*}\n",
        "X_0 & = (f_0, \\ f_1, \\ f_2,  \\ldots, \\ f_{L-1} )^{\\text{T}} \\\\\n",
        "X_1 & = (f_1, \\ f_2, \\ f_3,  \\ldots, \\ f_L )^{\\text{T}} \\\\\n",
        "X_2 & = (f_2, \\ f_3, \\ f_4,  \\ldots, \\ f_{L+1} )^{\\text{T}} \\\\\n",
        "X_3 & = (f_3, \\ f_4, \\ f_5,  \\ldots, \\ f_{L+2} )^{\\text{T}} \\\\\n",
        "& \\quad \\quad \\quad  \\vdots \\\\\n",
        "X_{N-L} & = (f_{N-L}, \\ f_{N-L+1}, \\ f_{N-L+2}, \\ \\ldots, \\ f_{N-1} )^{\\text{T}}.\n",
        "\\end{align*}\n",
        "\n",
        "These column vectors form the $L$-*trajectory matrix*, $\\mathbf{X}$, of the time series (hereafter just *trajectory matrix*):\n",
        "\n",
        "$$\\mathbf{X} = \\begin{bmatrix}\n",
        "f_0 & f_1 & f_2 & f_3 &\\ldots & f_{N-L} \\\\\n",
        "f_1 & f_2 & f_3 & f_4 &\\ldots & f_{N-L+1} \\\\\n",
        "f_2 & f_3 & f_4 & f_5 &\\ldots & f_{N-L+2} \\\\\n",
        "\\vdots & \\vdots & \\vdots & \\vdots & \\ddots & \\vdots \\\\\n",
        "f_{L-1} & f_{L} & f_{L+1} & f_{L+2} & \\ldots & f_{N-1} \\\\\n",
        "\\end{bmatrix}$$\n",
        "\n",
        "From writing out the matrix above, it is clear that the elements of the *anti-diagonals* (that is, the diagonals running from bottom-left to top-right) are equal. This type of matrix is known as a ***Hankel*** matrix.\n",
        "\n",
        "For our toy time series, I'll set the window length to 70, and defer discussion on how to select an appropriate window length. Let $K = N - L + 1$ represent the number of columns in the trajectory matrix. **We'll refer to the columns of $\\mathbf{X}$ as the $L$-lagged vectors, and the rows as $K$-lagged vectors.**\n",
        "\n",
        "### Decomposing the Trajectory Matrix<a name=\"Section2.2\"></a>\n",
        "The second step is decomposing the trajectory matrix with a [singular-value decomposition (SVD)](https://en.wikipedia.org/wiki/Singular-value_decomposition),\n",
        "\n",
        "$$\\mathbf{X} = \\mathbf{U\\Sigma V}^{\\text{T}}$$\n",
        "where:\n",
        "* $\\mathbf{U}$ is an $L \\times L$ unitary matrix containing the orthonormal set of ***left singular vectors*** of $\\mathbf{X}$ as columns;\n",
        "* $\\mathbf{\\Sigma}$ is an $L \\times K$ rectangular diagonal matrix containing $L$ ***singular values*** of $\\mathbf{X}$, ordered from largest to smallest; and\n",
        "* $\\mathbf{V}$ is a $K \\times K$ unitary matrix containing the orthonormal set of ***right singular vectors*** of $\\mathbf{X}$ as columns.\n",
        "\n",
        "The SVD of the trajectory matrix can be rewritten as\n",
        "\\begin{align*}\n",
        "    \\mathbf{X} & = \\sum_{i=0}^{d-1}\\sigma_i U_i V_i^{\\text{T}} \\\\\n",
        "               & \\equiv \\sum_{i=0}^{d-1}\\mathbf{X}_i\n",
        "\\end{align*}\n",
        "where $\\sigma_i$ is the $i$th singular value, $U_i$ and $V_i$ are vectors representing the $i$th columns of $\\mathbf{U}$ and $\\mathbf{V}$, respectively, $d \\le L$ is the *rank* of the trajectory matrix (which I shall elaborate on shortly), and $\\mathbf{X}_i = \\sigma_i U_i V_i^{\\text{T}}$ is the $i$th ***elementary matrix*** of $\\mathbf{X}$. The collection $\\{U_i, \\sigma_i, V_i\\}$ will be denoted the $i$th ***eigentriple*** of the SVD.\n",
        "\n",
        "To build a picture of what all of this means, let's inspect the $\\mathbf{U}$, $\\mathbf{V}$ and $\\mathbf{\\Sigma}$ matrices in turn.\n",
        "\n",
        "#### The $\\mathbf{U}$ Matrix<a name=\"Section2.2.1\"></a>\n",
        "$\\mathbf{U}$ is an $L \\times L$ matrix whose columns are orthonormal, that is\n",
        "$$\n",
        "    U_i \\cdot U_j = \\left\\{\n",
        "  \\begin{array}{lr}\n",
        "    1 \\ & i = j \\\\\n",
        "    0 \\ & i \\ne j\n",
        "  \\end{array}\n",
        "\\right.\n",
        "$$\n",
        "This means that $\\mathbf{UU}^{\\text{T}} = \\mathbf{U}^{\\text{T}}\\mathbf{U} = \\mathbf{1}$, making $\\mathbf{U}$ a unitary matrix.\n",
        "\n",
        "To elucidate the role that $\\mathbf{U}$ plays in the expansion for $\\mathbf{X}$ above, let $Z_i = \\sigma_i V_i$ be a column vector, so that\n",
        "$$\\mathbf{X} = \\sum_{i=0}^{d-1} U_i Z_i^{\\text{T}}$$\n",
        "and each $L$-lagged column vector, $X_j$, is then given by\n",
        "$$X_j = \\sum_{i=0}^{d-1}z_{j,i}U_i$$\n",
        "where $z_{j,i}$ is the $j$th component of the vector $Z_i$. The expression for $X_j$ suggests that $\\mathcal{U} = \\{U_0,  \n",
        " \\ldots, U_{d-1} \\}$ is a basis set spanning the *column space* of the trajectory matrix, and $z_{j,i}$ is the $i$th coefficient of the lagged vector $X_j$ represented in the basis $\\mathcal{U}$. **In other words, the columns of the $\\mathbf{U}$ matrix form an orthonormal basis set that describes the time subseries $\\left\\{ f_i, \\ldots, f_{i+L-1}\\right\\}_{i=0}^{N-L}$ in the columns of the trajectory matrix.**  \n",
        "\n",
        "#### The $\\mathbf{V}$ Matrix<a name=\"Section2.2.2\"></a>\n",
        "The matrix $\\mathbf{V}$—appearing (by convention) as its transpose in the expression for the SVD of $\\mathbf{X}$—is a $K \\times K$ matrix with orthonormal columns, which, like the $\\mathbf{U}$ matrix, makes it unitary.\n",
        "\n",
        "To interpret the columns of $\\mathbf{V}$ in the SVD of the trajectory matrix, we first note that for any appropriately shaped matrices $\\mathbf{A}$ and $\\mathbf{B}$, $\\left(\\mathbf{AB}\\right)^{\\text{T}} = \\mathbf{B}^{\\text{T}}\\mathbf{A}^{\\text{T}}$. Taking the transpose of $\\mathbf{X}$, we therefore have\n",
        "\\begin{align*}\n",
        "\\mathbf{X}^{\\text{T}} & = \\mathbf{V \\Sigma}^{\\text{T}}\\mathbf{U}^{\\text{T}} \\\\\n",
        "                      & = \\sum_{i=0}^{d-1}V_i Y_i^{\\text{T}}\n",
        "\\end{align*}\n",
        "where we have set $Y_i = \\sigma_i U_i$. Then,\n",
        "$$X^{(\\text{T})}_j = \\sum_{i=0}^{d-1}y_{j,i}V_i$$\n",
        "where $X^{(\\text{T})}_j$ is the $j$th column of $\\mathbf{X}^{\\text{T}}$, and $y_{j,i}$ is the $j$th component of the vector $Y_i$. This expression suggests that the $\\mathcal{V} = \\{V_0, \\ldots, V_{d-1}\\}$ is a basis set spanning the column space of $\\mathbf{X}^{\\text{T}}$, and $y_{j,i}$ is the $i$th coefficient of the lagged vector $X^{(\\text{T})}_j$ represented in the basis $\\mathcal{V}$. Equivalently, $\\mathcal{V}$ is a basis set spanning the *row space* of $\\mathbf{X}$. **That is, the columns of the $\\mathbf{V}$ matrix form an orthonormal basis set that describe the time subseries $\\{ f_i, \\ldots, f_{i+N-L}\\}_{i=0}^{L-1}$ in the rows of the trajectory matrix.**\n",
        "\n",
        "\n",
        "#### The $\\mathbf{\\Sigma}$ Matrix<a name=\"Section2.2.3\"></a>\n",
        "The $\\mathbf{\\Sigma}$ matrix is an $L \\times K$ rectangular diagonal matrix containing the **singular values** of $\\mathbf{X}$. The singular values are ordered from largest to smallest, i.e. $\\sigma_0 \\ge \\sigma_1 \\ge \\ldots \\ge \\sigma_{L-1} \\ge 0$. **We can interpret $\\sigma_i$ as a scaling factor that determines the relative importance of the eigentriple $(U_i, \\sigma_i, V_i)$ in the expansion $\\mathbf{X} = \\sum_{i=0}^{d-1}\\sigma_i U_i V_i^{\\text{T}}$.**\n",
        "\n",
        "The *Frobenius norm* of $\\mathbf{X}$, $\\lvert\\lvert \\mathbf{X} \\rvert\\rvert_{\\text{F}}$, is given by\n",
        "$$\\lvert\\lvert \\mathbf{X} \\rvert\\rvert_{\\text{F}} = \\sqrt{\\sum_{j=0}^{L-1}\\sum_{k=0}^{K-1} \\lvert x_{j,k}\\rvert^2}$$\n",
        "where $x_{j,k}$ denotes the element in the $j$th row and $k$th column of $\\mathbf{X}$.\n",
        "\n",
        "Let's turn our attention to the elementary matrices $\\mathbf{X}_i = \\sigma_i U_i V_i^{\\text{T}}$. Now, for an outer product such as $U_i V_i^{\\text{T}}$, we have  $\\lvert \\lvert U_i V_i^{\\text{T}} \\rvert \\rvert_{\\text{F}} = \\lvert \\lvert U_i \\rvert \\rvert_{\\text{F}} \\lvert \\lvert V_i \\rvert \\rvert_{\\text{F}}$, which is simply equal to 1 due to $U_i$ and $V_i$ being normalised. From this result, it is then clear that $\\lvert\\lvert \\mathbf{X}_i \\rvert\\rvert_{\\text{F}} = \\sigma_i$. It also turns out that\n",
        "$$\\lvert\\lvert \\mathbf{X} \\rvert\\rvert_{\\text{F}}^2 = \\sum_{i=0}^{d-1} \\sigma_i^2$$\n",
        "i.e. **the squared Frobenius norm of the trajectory matrix is equal to the sum of the squared singular values. This suggests that we can take the ratio $\\sigma_i^2 / \\lvert\\lvert \\mathbf{X} \\rvert\\rvert_{\\text{F}}^2$ as a measure of the contribution that the elementary matrix $\\mathbf{X}_i$ makes in the expansion of the trajectory matrix.**\n",
        "\n",
        "Further, if we right-multiply the original SVD of $\\mathbf{X}$ by $\\mathbf{X}^{\\text{T}}$:\n",
        "\\begin{align*}\n",
        "    \\mathbf{XX}^{\\text{T}} & = \\mathbf{U\\Sigma V}^{\\text{T}}\\mathbf{X}^{\\text{T}} \\\\\n",
        "               & = \\mathbf{U\\Sigma V}^{\\text{T}} \\mathbf{V \\Sigma}^{\\text{T}}\\mathbf{U}^{\\text{T}} \\\\\n",
        "               & = \\mathbf{U\\Sigma} \\mathbf{\\Sigma}^{\\text{T}}\\mathbf{U}^{\\text{T}}\n",
        "\\end{align*}\n",
        "Letting the square diagonal matrix $\\mathbf{\\Sigma}^2 = \\mathbf{\\Sigma \\Sigma}^{\\text{T}}$, and multiplying on the right by $\\mathbf{U}$, gives\n",
        "$$(\\mathbf{XX}^{\\text{T}})\\mathbf{U} = \\mathbf{U}\\mathbf{\\Sigma}^2$$\n",
        "which—given that $\\mathbf{\\Sigma}^2$ is a diagonal matrix with elements $\\sigma_i^2$—demonstrates that the columns of $\\mathbf{U}$ are eigenvectors of the matrix $\\mathbf{XX}^{\\text{T}}$, with eigenvalues $\\{\\sigma_0^2, \\ldots , \\sigma_{L-1}^2\\}$. Following a similar argument, multiplying $\\mathbf{X}$ on the left by $\\mathbf{X}^{\\text{T}}$ shows that the columns of $\\mathbf{V}$ are eigenvectors of the matrix $\\mathbf{X}^{\\text{T}}\\mathbf{X}$, also with eigenvalues $\\{\\sigma_0^2, \\ldots , \\sigma_{L-1}^2\\}$.\n",
        "\n",
        "\n",
        "#### The Rank of the Trajectory Matrix<a name=\"Section2.2.4\"></a>\n",
        "We are now equipped to talk about the *rank*, $d$, of the trajectory matrix. The columns of the trajectory matrix are a sequence of $L$-lagged vectors, which span the *trajectory space* of the time series. This space will be at most $L$-dimensional; however, if the columns in $\\mathbf{X}$ are linearly dependent, then the trajectory space will have $d < L$ dimensions. This manifests as one or more zero singular values in $\\mathbf{\\Sigma}$. **The rank of $\\mathbf{X}$ is the maximum value of $i$ such that $\\sigma_i > 0$. Put another way, $d = \\text{rank}\\{\\mathbf{X}\\}$ can be regarded as the instrinsic dimensionality of the time series' trajectory space.**\n",
        "\n",
        "(Note: for noisy real-world time series data, the trajectory space is likely to have $d = L$ dimensions.)\n",
        "\n",
        "It is important to note that each elementary matrix $\\mathbf{X}_i$ has a rank of 1, and that the matrix\n",
        "$$\\mathbf{X}^{(r)} = \\sum_{i=0}^{r} \\mathbf{X}_i$$\n",
        "for $r < d$, is the best rank-$r$ approximation to the trajectory matrix $\\mathbf{X}$, such that $\\lvert\\lvert \\mathbf{X} - \\mathbf{X}^{(r)}\\rvert\\rvert_F$ is minimised. **That is, we can sum the first $r$ elementary matrices to obtain an optimal, lower-dimensional approximation of $\\mathbf{X}$**.\n",
        "\n",
        "#### Putting it all Together<a name=\"Section2.2.5\"></a>\n",
        "Let's quickly recap everything so far: we have mapped a time series $F = \\{f_0, \\ldots, f_{N-1}\\}$ to a collection of multi-dimensional lagged vectors, $X_i = (f_i, f_{i+1}, \\ldots, f_{i+L-1})^{\\text{T}}, i = 0, \\ldots, N-L$, which together comprise the columns of the trajectory matrix $\\mathbf{X}$. We then decomposed this matrix with an SVD; in doing so, we found two orthonormal basis sets, $\\mathcal{U}$ and $\\mathcal{V}$, which span the column- and row-space, respectively, of the trajectory matrix. The SVD of $\\mathbf{X}$ can be written as\n",
        "\\begin{align*}\n",
        "    \\mathbf{X} & = \\sum_{i=0}^{d-1}\\sigma_i U_i V_i^{\\text{T}} \\\\\n",
        "               & \\equiv \\sum_{i=0}^{d-1}\\mathbf{X}_i\n",
        "\\end{align*}\n",
        "where $\\mathbf{X}_i$ is the $i$th elementary matrix of $\\mathbf{X}$, determined by the eigentriple  $\\{U_i, \\sigma_i, V_i\\}$. The $i$th singular value, $\\sigma_i$, determines the relative contribution of $\\mathbf{X}_i$ in the expansion of $\\mathbf{X}$ above. The integer $d \\le L$ is the intrinsic dimensionality of the time series' trajectory space, and we may choose to obtain a lower-dimensional approximation of $\\mathbf{X}$ by summing only the first $r < d$ elementary matrices.\n",
        "\n",
        "Much of what we've covered so far is general to the SVD of *any* matrix, not just the trajectory matrix of a time series. From now on, we are going to focus on reconstructing the components of a time series from its elementary matrices. In practice, the steps involved are quite simple.\n",
        "\n",
        "Enough chat—let's decompose the trajectory matrix and form its elementary matrices:"
      ]
    },
    {
      "cell_type": "code",
      "execution_count": null,
      "metadata": {
        "id": "zsBbpENfuGy8",
        "jupyter": {
          "outputs_hidden": false
        },
        "pycharm": {
          "name": "#%%\n"
        }
      },
      "outputs": [],
      "source": [
        "# Source code of SSA from https://www.kaggle.com/jdarcy/introducing-ssa-for-time-series-decomposition\n",
        "# you can also check this link for details\n",
        "import matplotlib.pyplot as plt\n",
        "from lib.dsp import SSA, scg_simulate, sine_wave\n",
        "\n",
        "duration = 10\n",
        "sample_rate = 100\n",
        "\n",
        "\n",
        "signal = scg_simulate(noise_amplitude=0.5, noise_frequency=[5])[:1000]\n",
        "\n",
        "Trend = 1.5 * np.linspace(0, duration, duration*sample_rate)\n",
        "plt.plot(x,Trend)\n",
        "plt.title(\"Generated Trend\")\n",
        "\n",
        "Seasonal = sine_wave(duration=duration, sampling_rate=sample_rate, amplitude=10, frequency=0.5, show = True)\n",
        "\n",
        "Residual = np.random.normal(0, 0.5, duration*sample_rate)\n",
        "plt.plot(x,Residual)\n",
        "plt.title(\"Generated Residual\")\n",
        "\n",
        "\n",
        "signal = Seasonal + Trend + Residual\n",
        "\n",
        "\"\"\"\n",
        "Seasonal_1 = sine_wave(duration=10, sampling_rate=100, amplitude=5, frequency=0.2,show=True)\n",
        "Seasonal_2 = sine_wave(duration=10, sampling_rate=100, amplitude=4, frequency=0.5,show=True)\n",
        "Seasonal_3 = sine_wave(duration=10, sampling_rate=100, amplitude=3, frequency=1.0,show=True)\n",
        "Seasonal_4 = sine_wave(duration=10, sampling_rate=100, amplitude=2, frequency=2.0,show=True)\n",
        "Seasonal_5 = sine_wave(duration=10, sampling_rate=100, amplitude=1, frequency=4.0,show=True)\n",
        "Noise = np.random.normal(0, 0.1, 1000)\n",
        "plt.plot(x,Noise)\n",
        "plt.title(\"Generated Noise\")\n",
        "\n",
        "#signal = Seasonal_1 + Seasonal_2 + Seasonal_3 + Seasonal_4 + Seasonal_5 + Noise\n",
        "signal = Seasonal_1 + Seasonal_2 + Seasonal_3 + Seasonal_4 + Trend + Noise\n",
        "#\"\"\"\n",
        "\n",
        "\n",
        "plt.figure(figsize=(8, 3))\n",
        "plt.plot(signal)\n",
        "plt.ylabel('Amplitude')\n",
        "plt.xlabel('Time')\n",
        "plt.title('Clean Signal')\n",
        "plt.show()\n",
        "\n",
        "# Apply Singular Spectrum Analysis (SSA) to the selected signal\n",
        "ssa_signal = SSA(signal, 100)\n",
        "\n",
        "# Calculate and store the within-correlation matrix\n",
        "ssa_signal.calc_wcorr()\n",
        "Wcorr_matrix = ssa_signal.Wcorr\n",
        "\n",
        "# Plot the within-correlation matrix\n",
        "ssa_signal.plot_wcorr()\n",
        "plt.title(r\"W-Correlation for Components 0–100\")\n",
        "plt.show()\n",
        "\n",
        "# Create subplots to visualize different components of the signal\n",
        "plt.subplots(3, 1, figsize=(8, 7.5))\n",
        "\n",
        "# Plot the original signal and its trend component\n",
        "plt.subplot(3, 1, 1)\n",
        "# ssa_signal.orig_TS.plot(alpha=0.3)  # Plot original signal with transparency\n",
        "ssa_signal.reconstruct(slice(0, 3)).plot()  # Plot reconstructed trend component\n",
        "plt.title(\"Trend of signal\")\n",
        "\n",
        "# Plot the original signal and its periodic component\n",
        "plt.subplot(3, 1, 2)\n",
        "# ssa_signal.orig_TS.plot(alpha=0.3)\n",
        "ssa_signal.reconstruct(slice(4, 46)).plot()  # Plot reconstructed periodic component\n",
        "plt.title(\"Period of signal\")\n",
        "\n",
        "# Plot the original signal and its noise component\n",
        "plt.subplot(3, 1, 3)\n",
        "# ssa_signal.orig_TS.plot(alpha=0.3)\n",
        "ssa_signal.reconstruct(slice(46, 100)).plot()  # Plot reconstructed noise component\n",
        "plt.title(\"Noise of signal\")\n",
        "\n",
        "# Display the plots\n",
        "plt.show()\n"
      ]
    },
    {
      "cell_type": "markdown",
      "metadata": {
        "id": "Um4UJQyIuGy9",
        "jupyter": {
          "outputs_hidden": false
        },
        "pycharm": {
          "name": "#%% md\n"
        }
      },
      "source": [
        "## Blind Source Separation\n",
        "BSS is a signal processing technique that aims to extract independent source signals from their observed mixtures. Two widely used methods for BSS are Principal Component Analysis (PCA) and Independent Component Analysis (ICA)."
      ]
    },
    {
      "cell_type": "markdown",
      "metadata": {
        "id": "Pf4nNExGuGy9",
        "jupyter": {
          "outputs_hidden": false
        },
        "pycharm": {
          "name": "#%% md\n"
        }
      },
      "source": [
        "\n",
        "#### PCA-Based Blind Source Separation\n",
        "PCA is employed to transform the observed mixed signals into a new set of uncorrelated variables called principal components. In the context of BSS, PCA can be applied to the covariance matrix of the observed signals. The principal components are ordered in terms of their variances, and by selecting a subset of these components, one can achieve a decorrelated representation of the mixed signals. However, PCA does not guarantee independence.\n",
        "\n",
        "$C * v = \\lambda * v$ where $C$ is the covariance matrix, $v$ is an eigenvector, and $\\lambda$ is the corresponding eigenvalue."
      ]
    },
    {
      "cell_type": "markdown",
      "metadata": {
        "id": "aPOoiTFjuGy9",
        "jupyter": {
          "outputs_hidden": false
        },
        "pycharm": {
          "name": "#%% md\n"
        }
      },
      "source": [
        "\n",
        "#### ICA-Based Blind Source Separation\n",
        "ICA takes the process further by aiming to find a linear transformation of the observed signals such that the resulting components are statistically independent. The key assumption is that the sources are statistically independent, which allows ICA to effectively separate them. Mathematically, given a matrix $ $ representing the observed mixtures, ICA seeks a demixing matrix $ W $ such that $ S = WX $, where $ S $ contains the estimated source signals.\n",
        "\n",
        "The optimization problem in ICA is often formulated as maximizing the non-Gaussianity of the estimated sources. One common approach uses negentropy as a measure of non-Gaussianity, leading to objective functions like:\n",
        "\n",
        "$$ J(W) = \\sum_{i=1}^{n}[E\\{G(u_i)\\} - E\\{G(v_i)\\}] $$\n",
        "\n",
        "where $ u_i $ is the i-th estimated source, $ v_i $ is the i-th component of the observed mixtures, $ G(\\cdot) $ is a nonlinear function, and $ E\\{\\cdot\\} $ denotes expectation.\n",
        "\n",
        "In summary, while PCA focuses on decorrelating signals, ICA goes a step further by exploiting the statistical independence of sources, making it a powerful tool for blind source separation in scenarios where source signals are assumed to be statistically independent."
      ]
    },
    {
      "cell_type": "code",
      "source": [
        "from lib.dsp import bss_ica, bss_pca, scg_simulate, sine_wave, square_wave\n",
        "import numpy as np\n",
        "import matplotlib.pyplot as plt\n",
        "\n",
        "x = my_array = np.arange(1000)\n",
        "\n",
        "#\"\"\"\n",
        "s1 = sine_wave(duration=10, sampling_rate=100, amplitude=5, frequency=0.2,show=True)\n",
        "s2 = square_wave(duration=10, sampling_rate=100, amplitude=4, frequency=0.5,show=True)\n",
        "#s3 = sine_wave(duration=10, sampling_rate=100, amplitude=3, frequency=1.0,show=True)\n",
        "Noise = np.random.normal(0, 0.1, 1000)\n",
        "plt.plot(x,Noise)\n",
        "plt.title(\"Generated Noise\")\n",
        "#\"\"\"\n",
        "\n",
        "S = np.c_[s1, s2, Noise]\n",
        "S /= S.std(axis=0)  # Standardize data\n",
        "\n",
        "# Mix data\n",
        "A = np.array([[0.5, 0.2, 0.3],\n",
        "              [0.3, 0.5, 0.2],\n",
        "              [0.2, 0.3, 0.5]])  # Mixing matrix\n",
        "\n",
        "X = np.dot(S, A.T)  # Generate observations\n",
        "\n",
        "S_, A_ = bss_ica(X, 3)\n",
        "H = bss_pca(X, 3)\n",
        "\n",
        "models = [X, S, S_, H]\n",
        "names = ['Observations (mixed signal)', 'True Sources', 'ICA recovered signals', 'PCA recovered signals']\n",
        "colors = ['red', 'steelblue', 'orange']\n",
        "\n",
        "plt.figure(figsize=(8, 9))\n",
        "for ii, (model, name) in enumerate(zip(models, names), 1):\n",
        "    plt.subplot(4, 1, ii)\n",
        "    plt.title(name)\n",
        "    for sig, color in zip(model.T, colors):\n",
        "        plt.plot(sig, color=color)\n",
        "        plt.ylabel('Amplitude')\n",
        "        plt.xlabel('Time')\n",
        "plt.tight_layout();plt.show()"
      ],
      "metadata": {
        "id": "Lu-MEQz7NHz5"
      },
      "execution_count": null,
      "outputs": []
    },
    {
      "cell_type": "code",
      "source": [
        "from lib.dsp import bss_ica, bss_pca, scg_simulate, sine_wave, square_wave\n",
        "import numpy as np\n",
        "import matplotlib.pyplot as plt\n",
        "\n",
        "x = my_array = np.arange(1000)\n",
        "\n",
        "#\"\"\"\n",
        "s1 = square_wave(duration=10, sampling_rate=100, amplitude=4, frequency=0.5,show=True)\n",
        "\n",
        "Noise = np.random.normal(0, 0.025, 1000)\n",
        "plt.plot(x,Noise)\n",
        "plt.title(\"Generated Noise\")\n",
        "#\"\"\"\n",
        "\n",
        "S = np.c_[s1, Noise]\n",
        "S /= S.std(axis=0)  # Standardize data\n",
        "\n",
        "# Mix data\n",
        "A = np.array([[0.6, 0.6],\n",
        "              [0.3, 0.7]])  # Mixing matrix\n",
        "\n",
        "X = np.dot(S, A.T)  # Generate observations\n",
        "\n",
        "S_, A_ = bss_ica(X, 2)\n",
        "H = bss_pca(X, 2)\n",
        "\n",
        "models = [X, S, S_, H]\n",
        "names = ['Observations (mixed signal)', 'True Sources', 'ICA recovered signals', 'PCA recovered signals']\n",
        "colors = ['red', 'steelblue', 'orange']\n",
        "\n",
        "plt.figure(figsize=(8, 9))\n",
        "for ii, (model, name) in enumerate(zip(models, names), 1):\n",
        "    plt.subplot(4, 1, ii)\n",
        "    plt.title(name)\n",
        "    for sig, color in zip(model.T, colors):\n",
        "        plt.plot(sig, color=color)\n",
        "        plt.ylabel('Amplitude')\n",
        "        plt.xlabel('Time')\n",
        "plt.tight_layout();plt.show()"
      ],
      "metadata": {
        "id": "JfZmSDFdipm9"
      },
      "execution_count": null,
      "outputs": []
    },
    {
      "cell_type": "code",
      "execution_count": null,
      "metadata": {
        "id": "h4j_t_DmuGy-",
        "jupyter": {
          "outputs_hidden": false
        },
        "pycharm": {
          "name": "#%%\n"
        }
      },
      "outputs": [],
      "source": [
        "from lib.dsp import bss_ica, bss_pca, scg_simulate\n",
        "import numpy as np\n",
        "import matplotlib.pyplot as plt\n",
        "# We simulate three people lying in bed, and there are three sensors detecting their SCG signals.\n",
        "# For each sensor, it receives a combination of three SCG signals, each with a certain time delay\n",
        "# and attenuation.\n",
        "s1 = scg_simulate(heart_rate=(50, 90))[:1000]\n",
        "s2 = scg_simulate(heart_rate=(50, 120))[:1000]\n",
        "s3 = scg_simulate(heart_rate=(120, 150))[:1000]\n",
        "\n",
        "S = np.c_[s1, s2, s3]\n",
        "print(S.shape)\n",
        "\n",
        "S /= S.std(axis=0)  # Standardize data\n",
        "\n",
        "# Mix data\n",
        "A = np.array([[0.9, 0.8, 1], [0.5, 0.85, 1.0], [0.9, 0.6, 0.8]])  # Mixing matrix\n",
        "X = np.dot(S, A.T)  # Generate observations\n",
        "\n",
        "S_, A_ = bss_ica(X, 3)\n",
        "H = bss_pca(X, 3)\n",
        "\n",
        "models = [X, S, S_, H]\n",
        "names = ['Observations (mixed signal)', 'True Sources', 'ICA recovered signals', 'PCA recovered signals']\n",
        "colors = ['red', 'steelblue', 'orange']\n",
        "\n",
        "plt.figure(figsize=(8, 9))\n",
        "for ii, (model, name) in enumerate(zip(models, names), 1):\n",
        "    plt.subplot(4, 1, ii)\n",
        "    plt.title(name)\n",
        "    for sig, color in zip(model.T, colors):\n",
        "        plt.plot(sig, color=color)\n",
        "        plt.ylabel('Amplitude')\n",
        "        plt.xlabel('Time')\n",
        "plt.tight_layout();plt.show()"
      ]
    },
    {
      "cell_type": "markdown",
      "metadata": {
        "id": "uvJCDQlZuGzk",
        "jupyter": {
          "outputs_hidden": false
        },
        "pycharm": {
          "name": "#%% md\n"
        }
      },
      "source": [
        "# Time Domain"
      ]
    },
    {
      "cell_type": "markdown",
      "metadata": {
        "id": "KlL8BrBXuGzl",
        "jupyter": {
          "outputs_hidden": false
        },
        "pycharm": {
          "name": "#%% md\n"
        }
      },
      "source": [
        "## Template of SCG\n",
        "It is a simple method to get the template of the synthesized scg signal, using cluster and average. The algorithm is as follows:\n",
        "1. Use the middle of peaks to segment the signal.\n",
        "2. Add a new segment to the existing clusters, whose middle has the least RMSE distance with the signal. If there is no existing cluster, use the new segment as the middle of a new cluster. If the least RMSE distance is greater than a threshold, create a new cluster too.\n",
        "3. Continue the former step until all the segments belong to a cluster.\n",
        "4. Use the average of the cluster which has the most segments as the template.\n",
        "\n",
        "Note: It is only suitable for the synthesized scg signal and is a simplified version."
      ]
    },
    {
      "cell_type": "code",
      "execution_count": null,
      "metadata": {
        "id": "ufiwLFB5uGzm",
        "is_executing": true,
        "jupyter": {
          "outputs_hidden": false
        },
        "pycharm": {
          "name": "#%%\n"
        }
      },
      "outputs": [],
      "source": [
        "import numpy as np\n",
        "from matplotlib import pyplot as plt\n",
        "from lib.dsp import get_template, scg_simulate\n",
        "\n",
        "help(get_template)\n",
        "\n",
        "signal = scg_simulate()[:1000]\n",
        "template = get_template(signal)\n",
        "\n",
        "fig, axis = plt.subplots(2,1,figsize=(8,6))\n",
        "axis[0].set_title(\"Orignal signal\")\n",
        "axis[0].set_xlabel(\"Time\")\n",
        "axis[0].set_ylabel(\"Amplitude\")\n",
        "axis[0].plot(signal)\n",
        "\n",
        "axis[1].set_title(\"Template of the input signal\")\n",
        "axis[1].set_xlabel(\"Time\")\n",
        "axis[1].set_ylabel(\"Amplitude\")\n",
        "axis[1].plot(template)\n",
        "\n",
        "plt.tight_layout()\n",
        "plt.show()"
      ]
    },
    {
      "cell_type": "markdown",
      "metadata": {
        "id": "eHJY-2JNuGzo",
        "jupyter": {
          "outputs_hidden": false
        },
        "pycharm": {
          "name": "#%% md\n"
        }
      },
      "source": [
        "## Analytic Signal and Hilbert Transform\n",
        "\n",
        "Fourier Transform of a real-valued signal is complex-symmetric whose negative frequencies are redundant with respect to the positive frequencies. To remove the redundancy, the analytic signal is invented. It is complex-valued but its spectrum will be one-sided (only positive frequencies) that preserved the spectral content of the original real-valued signal. Using an analytic signal instead of the original real-valued signal, is useful in many signal processing applications. For example, in spectral analysis, use of analytic signal in-lieu of the original real-valued signal mitigates estimation biases and eliminates cross-term artifacts due to negative and positive frequency components.\n",
        "\n",
        "In the frequency domain, the analytic signal has only the postive part of the original signal and the magnitude is two times of the orignal postive spectrum. In the time domain, the real part of the analytic signal is the same as the original signal, but it has a imaginary part.\n",
        "$$\n",
        "z(t) = z_{r}(t) + z_{i}(t) = x(t) + z_{i}(t)\n",
        "$$\n",
        "where $z(t)$ denotes the time domain analytic singal, and $x(t)$ denotes the original signal. The subscripts $i$ and $r$ mean the imaginary and real.\n",
        "\n",
        "So what's the imaginary part? Hilbert Transformation can be used to find the imaginary part of the orignal real-valude signal.\n",
        "$$\n",
        "z(t) = z_{r}(t) + z_{i}(t) = x(t) + jHT\\{x(t)\\}\n",
        "$$\n",
        "$$\n",
        "HT\\{x(t)\\} = x(t) * \\frac{1}{\\pi t} \\longleftrightarrow F(f)[-jsgn(f)] = \\begin{cases}-jF(f) & f > 0 \\\\ jF(f) & f< 0 \\end{cases}\n",
        "$$\n",
        "where $j$ is an imaginary unit, $HT\\{\\}$ denotes hilbert transform, $F()$ denotes the spectrum of the original signal, * denotes the convolution, $\\longleftrightarrow$ denotes the mutual conversion of signals between the time domain and the frequency domain, $sgn()$ denotes the sign function, which returns -1 for negative numbers, 0 for zero, and 1 for positive numbers.\n",
        "\n",
        "We can take the hilbert transformation as a filter whose impulse response is $\\frac{1}{\\pi t}$. And the HT\\{x(t)\\} has some properties.\n",
        "1. HT\\{HT\\{x(t)\\}\\} = -x(t)\n",
        "2. HT\\{x(t)\\} has the opposite parity of x(t)\n",
        "3. HT\\{x(t)\\} and x(t) are orthogonal"
      ]
    },
    {
      "cell_type": "code",
      "execution_count": null,
      "metadata": {
        "id": "4p9E2aPguGzp",
        "is_executing": true,
        "jupyter": {
          "outputs_hidden": false
        },
        "pycharm": {
          "name": "#%%\n"
        }
      },
      "outputs": [],
      "source": [
        "import numpy as np\n",
        "from matplotlib import pyplot as plt\n",
        "from lib.dsp import analytic_signal, hilbert_transform, my_fft, scg_simulate\n",
        "\n",
        "help(analytic_signal)\n",
        "help(hilbert_transform)\n",
        "\n",
        "signal = scg_simulate()[:1000]\n",
        "z = analytic_signal(signal)\n",
        "\n",
        "fig, axis = plt.subplots(5,1,figsize=(8,15))\n",
        "axis[0].set_title(\"Orignal real-valude signal\")\n",
        "axis[0].set_xlabel(\"Time\")\n",
        "axis[0].set_ylabel(\"Amplitude\")\n",
        "axis[0].plot(signal)\n",
        "\n",
        "axis[1].set_title(\"Real part of the analytic signal\")\n",
        "axis[1].set_xlabel(\"Time\")\n",
        "axis[1].set_ylabel(\"Amplitude\")\n",
        "axis[1].plot(z.real)\n",
        "\n",
        "axis[2].set_title(\"Hilbert transformation of the orignal signal\")\n",
        "axis[2].set_xlabel(\"Time\")\n",
        "axis[2].set_ylabel(\"Amplitude\")\n",
        "axis[2].plot(hilbert_transform(signal))\n",
        "\n",
        "freq_original, mag_original = my_fft(signal, 100)\n",
        "freq_analytic, mag_analytic = my_fft(z, 100)\n",
        "\n",
        "axis[3].set_title(\"Spectrum of original signal\")\n",
        "axis[3].plot(freq_original, np.abs(mag_original))\n",
        "axis[3].set_xlabel(\"Frequency\")\n",
        "axis[3].set_ylabel(\"Magnitude\")\n",
        "\n",
        "axis[4].set_title(\"Spectrum of analytic signal\")\n",
        "axis[4].plot(freq_analytic, np.abs(mag_analytic))\n",
        "axis[4].set_xlabel(\"Frequency\")\n",
        "axis[4].set_ylabel(\"Magnitude\")\n",
        "\n",
        "plt.tight_layout()\n",
        "plt.show()"
      ]
    },
    {
      "cell_type": "markdown",
      "metadata": {
        "id": "mpFXm-GfuGzr",
        "jupyter": {
          "outputs_hidden": false
        },
        "pycharm": {
          "name": "#%% md\n"
        }
      },
      "source": [
        "## Peak Detection"
      ]
    },
    {
      "cell_type": "markdown",
      "metadata": {
        "id": "7x_yxsuOuGzs",
        "jupyter": {
          "outputs_hidden": false
        },
        "pycharm": {
          "name": "#%% md\n"
        }
      },
      "source": [
        "### Peak of Peak Algorithm\n",
        "Peak detection is a technique used to identify local maxima (peaks) and minima (troughs) within a signal or dataset. Peaks can represent significant features or events within the data, such as spikes, changes in trends, or points of interest in time series data. Peak detection is often used in applications like signal processing, image analysis, biology (e.g., identifying heartbeats or brainwaves), and more.\n",
        "</br>\n",
        "\n",
        "* **Peak:** A data point is considered a peak if it is higher than its immediate neighbors. For instance, in a time series, a peak at time $t$ satisfies:\n",
        "\n",
        "  $x(t) > x(t-1) \\text{ }$ and $\\text{ }x(t) > x(t+1)$\n",
        "\n",
        "  where $x(t)$ is the value of the signal at time $t$ and $t-1$ and $t+1$ are its neighboring values\n",
        "\n",
        "* **Trough:** Similarly, a trough is a local minimum, where:\n",
        "\n",
        "  $x(t) < x(t-1) \\text{ }$ and $\\text{ } x(t) < x(t+1)$\n",
        "\n",
        "* **Local vs. Global Peaks:**\n",
        "\n",
        "  * **Local Peaks:** These are peaks within a small neighborhood of data points.\n",
        "\n",
        "  * **Global Peaks:** These refer to the overall highest values within the entire signal.\n",
        "\n",
        "* **Thresholding:** A peak might only be considered significant if it exceeds a certain threshold value, which helps filter out smaller, less relevant peaks from noisy data.\n",
        "</br>\n",
        "\n",
        "The algorithm first use scipy.signal.find_peaks to detect all the peaks in a signal and perform linear interpolation to obtain an envelope which still preserve the shape of the original signal and the peak location. After getting the envelope, we use scipy.signal.find_peaks to detect the peaks in the envelope and filter the abnormal value to get the time of all peaks.\n",
        "</br>\n",
        "\n",
        "**Usage Scenario:** There are many high frequency noises and the noises don't influence the shape of the original signal.\n",
        "\n"
      ]
    },
    {
      "cell_type": "code",
      "execution_count": null,
      "metadata": {
        "id": "mOQlDcbjuGzt",
        "is_executing": true,
        "jupyter": {
          "outputs_hidden": false
        },
        "pycharm": {
          "name": "#%%\n"
        }
      },
      "outputs": [],
      "source": [
        "from lib.dsp import get_peaks, scg_simulate\n",
        "import numpy as np\n",
        "import matplotlib.pyplot as plt\n",
        "\n",
        "help(get_peaks)\n",
        "\n",
        "signal = scg_simulate()[:1000]\n",
        "peaks = get_peaks(signal)\n",
        "\n",
        "plt.plot(signal, label=\"Original signal\")\n",
        "plt.scatter(peaks,signal[peaks],c=\"red\", label=\"Peak of the signal\")\n",
        "plt.xlabel(\"Time\")\n",
        "plt.ylabel(\"Amplitude\")\n",
        "plt.legend()\n",
        "plt.show()"
      ]
    },
    {
      "cell_type": "markdown",
      "metadata": {
        "id": "dTZp8d3QuGzu",
        "jupyter": {
          "outputs_hidden": false
        },
        "pycharm": {
          "name": "#%% md\n"
        }
      },
      "source": [
        "## Envelope Extraction"
      ]
    },
    {
      "cell_type": "markdown",
      "metadata": {
        "id": "Odeumct3uGzu",
        "jupyter": {
          "outputs_hidden": false
        },
        "pycharm": {
          "name": "#%% md\n"
        }
      },
      "source": [
        "### Envelope from Peaks\n",
        "We can use the first step of peak of peak algorithm as a kind of envelope generation algorithm. We can perform linear interpolation of all peaks to obtain an envelope.\n",
        "\n",
        "Usage Scenario: We only focus on locations of peaks on the envelope."
      ]
    },
    {
      "cell_type": "code",
      "execution_count": null,
      "metadata": {
        "id": "aKOMYy3-uGzu",
        "is_executing": true,
        "jupyter": {
          "outputs_hidden": false
        },
        "pycharm": {
          "name": "#%%\n"
        }
      },
      "outputs": [],
      "source": [
        "from lib.dsp import envelope_from_peaks, scg_simulate\n",
        "import numpy as np\n",
        "import matplotlib.pyplot as plt\n",
        "\n",
        "help(envelope_from_peaks)\n",
        "\n",
        "signal = scg_simulate()[:1000]\n",
        "envelope = envelope_from_peaks(signal)\n",
        "\n",
        "plt.plot(signal,label=\"Original signal\")\n",
        "plt.plot(envelope,c=\"red\", label=\"Envelope of signal\")\n",
        "plt.xlabel(\"Time\")\n",
        "plt.ylabel(\"Amplitude\")\n",
        "plt.legend()\n",
        "plt.show()"
      ]
    },
    {
      "cell_type": "markdown",
      "metadata": {
        "id": "lXW4CRr4uGzv",
        "jupyter": {
          "outputs_hidden": false
        },
        "pycharm": {
          "name": "#%% md\n"
        }
      },
      "source": [
        "### Average Envelope\n",
        "We can also use the average window to get the envelope. The average window will calculate the average value of a region to replace the middle timestamp in the region. The longer the window, the smoother the envelope, but the more serious it will change the shape of the original signal.\n",
        "$$\n",
        "    envelope[i]~=~signal[i-\\frac{window\\_length}{2}]~+~....~+~signal[i]~+~....~+~signal[i+\\frac{window\\_length}{2}]\n",
        "$$\n",
        "\n",
        "Usage Scenario: It is suitable for signals with relatively stable periodicity and slow amplitude variations. This is because the moving average window can eliminate high-frequency noise while preserving the low-frequency characteristics of the signal. However, this envelope will lose the information of peaks' vertical location."
      ]
    },
    {
      "cell_type": "code",
      "execution_count": null,
      "metadata": {
        "id": "HYX6CFOLuGzv",
        "is_executing": true,
        "jupyter": {
          "outputs_hidden": false
        },
        "pycharm": {
          "name": "#%%\n"
        }
      },
      "outputs": [],
      "source": [
        "from lib.dsp import average_envelope, scg_simulate\n",
        "import numpy as np\n",
        "import matplotlib.pyplot as plt\n",
        "\n",
        "help(average_envelope)\n",
        "\n",
        "signal = scg_simulate()[:1000]\n",
        "envelope = average_envelope(signal, 3)\n",
        "\n",
        "plt.plot(signal,label=\"Original signal\")\n",
        "plt.plot(envelope,c=\"red\",label=\"Envelope of signal\")\n",
        "plt.xlabel(\"Time\")\n",
        "plt.ylabel(\"Amplitude\")\n",
        "plt.legend()\n",
        "plt.show()"
      ]
    },
    {
      "cell_type": "markdown",
      "metadata": {
        "id": "45J2FOBnuGzw",
        "jupyter": {
          "outputs_hidden": false
        },
        "pycharm": {
          "name": "#%% md\n"
        }
      },
      "source": [
        "### Envelope and Phase Extraction using Hilbert Transform\n",
        "\n",
        "If a modulated signal is expressed as $x(t) = a(t) cos[ \\phi (t)]$\n",
        "\n",
        "* The instantaneous amplitude or the envelope of the signal is given by $a(t)$\n",
        "\n",
        "* The instantaneous phase is given by  $\\phi(t)$\n",
        "\n",
        "* The instantaneous angular frequency is derived as $\\omega(t) = \\frac{d}{dt} \\phi(t)$\n",
        "\n",
        "* The instantaneous temporal frequency is derived as $f(t) = \\frac{1}{2 \\pi} \\frac{d}{dt} \\phi(t)$\n",
        "\n",
        "\n",
        "</br>\n",
        "\n",
        "Note that the modulated signal is a real-valued signal. We also take note of the fact that amplitude/phase and frequency can be easily computed if the signal is expressed in complex form. So we can use Hilbert transformation to transform the real-valued signal to a complex version.\n",
        "\n",
        "</br>\n",
        "\n",
        "**Analytic Signal:**\n",
        "\n",
        "An **analytic signal** is a complex-valued signal that is derived from a real-valued signal through the Hilbert transform. It provides a convenient way to represent both the original signal and its instantaneous amplitude and phase. The analytic signal is particularly useful in signal processing for analyzing modulated signals, extracting instantaneous frequency, and performing various types of signal demodulation.\n",
        "\n",
        "</br>\n",
        "\n",
        "The analytic signal is:\n",
        "$$\n",
        "z(t) = z_{r}(t) + z_{i}(t) = x(t) + jHT\\{x(t)\\}\n",
        "$$\n",
        "Thus\n",
        "$$\n",
        "a(t) = |z(t)| = \\sqrt{z_r^2(t) + z_i^2(t)}\n",
        "$$\n",
        "$$\n",
        "\\phi(t) = \\angle z(t) = arctan \\left[ \\frac{z_i(t)}{z_r(t)} \\right]\n",
        "$$\n",
        "$$\n",
        "f(t) = \\frac{1}{2 \\pi} \\frac{d}{dt} \\phi(t)\n",
        "$$\n",
        "\n",
        "where $z(t)$ denotes the analytic signal, the subscripts $i$ and $r$ mean the imaginary and real, $j$ is an imaginary unit, and $HT\\{\\}$ denotes hilbert transform.\n",
        "\n",
        "</br>\n",
        "\n",
        "\n",
        "**Usage Scenario:** It is suitable for signals with non-stationary and rapidly varying amplitudes. It is particularly effective for signals with high-frequency components, as it can accurately capture the envelope by estimating the instantaneous amplitude of the signal."
      ]
    },
    {
      "cell_type": "markdown",
      "source": [],
      "metadata": {
        "id": "OX1Vfw3M4UUV"
      }
    },
    {
      "cell_type": "markdown",
      "source": [
        "**Steps:**\n",
        "\n",
        "1. Hilbert Transform: Given a real-valued signal $x(t)$, you first compute its Hilbert transform $\\hat{x}(t)$. This transform produces a signal that is the **quadrature (90-degree phase-shifted)** version of the original signal.\n",
        "</br>\n",
        "\n",
        "2. Construct the Analytic Signal: The analytic signal $z(t)$ is formed by combining the original signal $x(t)$ and the Hilbert transform $\\hat{x}(t)$ into a complex signal:\n",
        "\n",
        "  $z(t)=x(t)+j\\hat{x}(t)$\n",
        "\n",
        "  where $j$ is the imaginary unit.\n",
        "</br>\n",
        "\n",
        "3. Envelope Extraction: The envelope of the original signal\n",
        "$x(t)$ is the magnitude of the analytic signal $z(t)$. This is calculated as:\n",
        "\n",
        "  $Envelope(t) = |z(t)| = \\sqrt{x(t)^2+\\hat{x}(t)^2} $\n",
        "\n",
        "  This envelope provides a smooth curve that represents the signal's varying amplitude."
      ],
      "metadata": {
        "id": "ph7MKaYy2OD0"
      }
    },
    {
      "cell_type": "code",
      "execution_count": null,
      "metadata": {
        "id": "u7jgibLjuGzw",
        "is_executing": true,
        "jupyter": {
          "outputs_hidden": false
        },
        "pycharm": {
          "name": "#%%\n"
        }
      },
      "outputs": [],
      "source": [
        "import numpy as np\n",
        "import matplotlib.pyplot as plt\n",
        "from lib.dsp import inst_amplitude, inst_phase, inst_freq, scg_simulate\n",
        "\n",
        "help(inst_amplitude)\n",
        "help(inst_phase)\n",
        "help(inst_freq)\n",
        "\n",
        "signal = scg_simulate()[:1000]\n",
        "\n",
        "plt.plot(signal,label=\"Original signal\")\n",
        "plt.plot(inst_amplitude(signal),label=\"Envelope of signal\")\n",
        "plt.xlabel(\"Time\")\n",
        "plt.ylabel(\"Amplitude\")\n",
        "plt.legend()\n",
        "plt.show()"
      ]
    },
    {
      "cell_type": "markdown",
      "metadata": {
        "id": "nm66epAHuGzx",
        "jupyter": {
          "outputs_hidden": false
        },
        "pycharm": {
          "name": "#%% md\n"
        }
      },
      "source": [
        "## Singular Spectrum Transform (SST)\n",
        "\n",
        "SST is a signal processing technique based on singular spectrum analysis, used for extracting trends and periodic components in a signal. SST is primarily employed for decomposing signals and reconstructing their components to better understand the structure and features of the signal. This technique is usually used for the change point detection. In the example, we can find that where the signal changes a lot has a relative high score.\n",
        "\n",
        "The main steps of SST include:\n",
        "\n",
        "1. **Embedding**:\n",
        "   Convert the original signal into matrix form. This often involves creating a Hankel matrix where rows and columns consist of subsequences of the original signal. This embedding process helps capture local structures in the signal.\n",
        "\n",
        "2. **Singular Value Decomposition (SVD)**:\n",
        "   Perform singular value decomposition on the embedded matrix, breaking it down into three matrices: U, Σ, and V^T. Here, U contains the left singular vectors, Σ contains the singular values in a diagonal matrix, and V^T contains the right singular vectors.\n",
        "\n",
        "3. **Grouping and Reconstruction**:\n",
        "   Group the singular values based on their magnitudes into several subsequences. These subsequences correspond to different frequency and trend components of the signal. By selecting relevant combinations of singular values, different components of the original signal can be reconstructed.\n",
        "\n",
        "4. **Back-Transformation**:\n",
        "   Perform the inverse transformation on the decomposed subsequences to obtain an estimate of the original signal. This step involves reversing the embedding operation on the reconstructed subsequences."
      ]
    },
    {
      "cell_type": "code",
      "execution_count": null,
      "metadata": {
        "id": "GZvTPXlnuGzx",
        "is_executing": true,
        "jupyter": {
          "outputs_hidden": false
        },
        "pycharm": {
          "name": "#%%\n"
        }
      },
      "outputs": [],
      "source": [
        "from lib.dsp import sst\n",
        "import numpy as np\n",
        "import matplotlib.pyplot as plt\n",
        "\n",
        "help(sst)\n",
        "\n",
        "x0 = 1 * np.ones(1000) + np.random.rand(1000) * 1\n",
        "x1 = 3 * np.ones(1000) + np.random.rand(1000) * 2\n",
        "x2 = 5 * np.ones(1000) + np.random.rand(1000) * 1.5\n",
        "signal = np.hstack([x0, x1, x2])\n",
        "signal +=  np.random.rand(signal.size)\n",
        "\n",
        "score = sst(signal, win_length=50)\n",
        "\n",
        "plt.figure(figsize=(8,6))\n",
        "plt.subplot(2,1,1)\n",
        "plt.title(\"Original signal\")\n",
        "plt.xlabel(\"Time\")\n",
        "plt.ylabel(\"Amplitude\")\n",
        "plt.plot(signal)\n",
        "\n",
        "plt.subplot(2,1,2)\n",
        "plt.title(\"Result of SST\")\n",
        "plt.plot(score)\n",
        "plt.xlabel(\"Time\")\n",
        "plt.ylabel(\"Score of changing\")\n",
        "plt.tight_layout()\n",
        "plt.show()"
      ]
    },
    {
      "cell_type": "markdown",
      "metadata": {
        "id": "Y8q8VVC4uGzy",
        "jupyter": {
          "outputs_hidden": false
        },
        "pycharm": {
          "name": "#%% md\n"
        }
      },
      "source": [
        "## Time Domain Feature"
      ]
    },
    {
      "cell_type": "markdown",
      "metadata": {
        "id": "whosPAhWuGzy",
        "jupyter": {
          "outputs_hidden": false
        },
        "pycharm": {
          "name": "#%% md\n"
        }
      },
      "source": [
        "### Petrosian Fractal Dimension (PFD)\n",
        "\n",
        "Petrosian Fractal Dimension (PFD) is a method used to measure the complexity of time-series signals, particularly applicable in biomedical signals such as electrocardiograms (ECG). It calculates the fractal dimension of a signal to describe its complexity and irregularity. A higher Petrosian Fractal Dimension value indicates a more complex signal.\n",
        "$$\n",
        "PFD = \\frac{\\log_{10}(N)}{\\log_{10}(N) + \\log_{10}\\left(\\frac{N}{N + 0.4N_{\\text{zc}}}\\right)}\n",
        "$$\n",
        "where $N$ is the length of the signal and $N_{zc}$ is the number of zero crossings in the signal derivative.\n",
        "\n",
        "The example shows that the signal with noise is more complex than the original signal, so that the noisy signal has a bigger PFD than the orignal signal."
      ]
    },
    {
      "cell_type": "code",
      "execution_count": null,
      "metadata": {
        "id": "4xBN61qauGzz",
        "is_executing": true,
        "jupyter": {
          "outputs_hidden": false
        },
        "pycharm": {
          "name": "#%%\n"
        }
      },
      "outputs": [],
      "source": [
        "import numpy as np\n",
        "from lib.dsp import get_template, pfd, average_envelope\n",
        "import matplotlib.pyplot as plt\n",
        "\n",
        "help(pfd)\n",
        "\n",
        "t = np.linspace(0,1,1000)\n",
        "\n",
        "# Generate a signal\n",
        "signal1 = 10 * np.sin(2*np.pi*t)\n",
        "\n",
        "# Add noise to the signal\n",
        "signal2 = 10 * np.sin(2*np.pi*t) + np.random.randn(1000)\n",
        "\n",
        "fig, axis = plt.subplots(2,1,figsize=(8,6))\n",
        "axis[0].plot(signal1)\n",
        "axis[0].set_title(\"Original signal\")\n",
        "axis[0].set_xlabel(\"Time\")\n",
        "axis[0].set_ylabel(\"Amplitude\")\n",
        "\n",
        "axis[1].plot(signal2)\n",
        "axis[1].set_title(\"Original signal with noise\")\n",
        "axis[1].set_xlabel(\"Time\")\n",
        "axis[1].set_ylabel(\"Amplitude\")\n",
        "\n",
        "plt.tight_layout()\n",
        "plt.show()\n",
        "\n",
        "print(\"PFD of original signal: \",pfd(signal1))\n",
        "print(\"PFD of original signal with noise: \", pfd(signal2))"
      ]
    },
    {
      "cell_type": "markdown",
      "metadata": {
        "id": "D7kAqbSEuGzz",
        "jupyter": {
          "outputs_hidden": false
        },
        "pycharm": {
          "name": "#%% md\n"
        }
      },
      "source": [
        "### Skewness and Kurtosis\n",
        "Skewness is a statistical measure that describes the degree of asymmetry of a distribution. It quantifies the extent to which a distribution deviates from symmetry around its mean.\n",
        "$$\n",
        "Skewness = E[(X - μ)^3] / σ^3\n",
        "$$\n",
        "where $E$ is the expected value operator,$X$ is the random variable, $μ$ is the mean of the distribution, $σ$ is the standard deviation of the distribution. A skewness value > 0 means there is more weight in the right tail of the distribution. A skewness value < 0 means there is more weight in the left tail of the distribution.\n",
        "\n",
        "Kurtosis is a statistical measure that describes the \"tailedness\" of a distribution. It measures the thickness of the tails of a distribution relative to the rest of the data.\n",
        "$$\n",
        "Kurtosis = E[(X - μ)^4] / σ^4 - 3\n",
        "$$\n",
        "where $E$ is the expected value operator, $X$ is the random variable, $μ$ is the mean of the distribution, $σ$ is the standard deviation of the distribution. The subtraction of 3 in Fisher's definition adjusts the kurtosis so that the normal distribution has a kurtosis of zero. Positive kurtosis indicates a \"leptokurtic\" distribution with heavier tails and a sharper peak. Negative kurtosis indicates a \"platykurtic\" distribution with lighter tails and a flatter peak.\n",
        "\n",
        "From the example below we can find that if the distribution is left-skewed, the skewness is positive and the more left-skewed, the greater is skewness is. And the skewness of right-skewed distribution is negative. And, the shaper the peak of distribution is, the greater the kurtosis is.\n",
        "\n",
        "Note: the two statistic feature measures the distribution of an array, not the shape of the array itself."
      ]
    },
    {
      "cell_type": "code",
      "execution_count": null,
      "metadata": {
        "id": "26QUr0pBuGz1",
        "is_executing": true,
        "jupyter": {
          "outputs_hidden": false
        },
        "pycharm": {
          "name": "#%%\n"
        }
      },
      "outputs": [],
      "source": [
        "from scipy.stats import kurtosis, skew\n",
        "import numpy as np\n",
        "import matplotlib.pyplot as plt\n",
        "\n",
        "array1 = np.random.gamma(shape=2, scale=1, size=10000)  # Generate a left-skewed distribution\n",
        "array2 = 1-array1  # Generate a right-skewned distribution\n",
        "array3 = np.random.normal(loc=0, scale=0.5, size=10000) # Generate a distribution whose peak is flat\n",
        "array4 = np.random.normal(loc=0, scale=0.5, size=98000) # Generate a distribution whose peak is sharp\n",
        "array4 = np.append(array4,np.zeros(2000))\n",
        "\n",
        "fig, axis = plt.subplots(2,1,figsize=(8,6))\n",
        "fig.suptitle(\"Example of Skewness\")\n",
        "axis[0].hist(array1, bins=70)\n",
        "axis[0].set_title('The left-skewed distribution')\n",
        "axis[0].set_xlabel('Value')\n",
        "axis[0].set_ylabel('Frequency')\n",
        "axis[0].set_xlim(0,7)\n",
        "axis[1].hist(7-array1, bins=70)\n",
        "axis[1].set_title('The right-skewed distribution')\n",
        "axis[1].set_xlabel('Value')\n",
        "axis[1].set_ylabel('Frequency')\n",
        "axis[1].set_xlim(0,7)\n",
        "plt.tight_layout()\n",
        "plt.show()\n",
        "\n",
        "print(\"Skewness of left-skewed distribution is: \", skew(array1))\n",
        "print(\"Skewness of right-skewed distribution is: \", skew(array2))\n",
        "\n",
        "\n",
        "fig, axis = plt.subplots(2,1,figsize=(8,6))\n",
        "fig.suptitle(\"Example of Kurtosis\")\n",
        "axis[0].hist(array3, bins=50)\n",
        "axis[0].set_title('The distribution whose peak is flatter')\n",
        "axis[0].set_xlabel('Value')\n",
        "axis[0].set_ylabel('Frequency')\n",
        "axis[0].set_xlim(-2,2)\n",
        "axis[1].hist(array4, bins=50)\n",
        "axis[1].set_title('The distribution whose peak is sharper')\n",
        "axis[1].set_xlabel('Value')\n",
        "axis[1].set_ylabel('Frequency')\n",
        "axis[1].set_xlim(-2,2)\n",
        "plt.tight_layout()\n",
        "plt.show()\n",
        "\n",
        "print(\"Kurtosis of distribution with flatter peak: \", kurtosis(array3))\n",
        "print(\"Kurtosis of distribution with sharper peak: \", kurtosis(array4))"
      ]
    },
    {
      "cell_type": "markdown",
      "metadata": {
        "id": "B8aGpVZNuGz2",
        "jupyter": {
          "outputs_hidden": false
        },
        "pycharm": {
          "name": "#%% md\n"
        }
      },
      "source": [
        "# Frequency Domain"
      ]
    },
    {
      "cell_type": "markdown",
      "metadata": {
        "id": "O6ekyIiquGz2",
        "jupyter": {
          "outputs_hidden": false
        },
        "pycharm": {
          "name": "#%% md\n"
        }
      },
      "source": [
        "## Fast Fourier Transform (FFT)\n",
        "\n",
        "A fast algorithm to calculate the DFT\n",
        "\n",
        "$$\n",
        "X[k] = \\sum_{n=0}^{N-1}x[n]e^{-j2\\pi kn/N}\n",
        "$$\n",
        "$$\n",
        "x[n] = \\frac{1}{2\\pi}\\sum_{k=0}^{N-1}X[k]e^{j2\\pi kn/N}\n",
        "$$\n",
        "where $X$ denotes the result of FFT which is the spectrum, $x$ denotes the time-domain signal and $j$ is the imaginary unit.\n",
        "\n",
        "**my_fft** function gets the original signal and the sampling rate as input and outputs the frequency and corresponding mag which is a complex number. The length of the frequency is the half of the fs.\n",
        "\n",
        "**my_ifft** function gets the mag of the **my_fft** function as input and outputs the original signal.\n",
        "\n",
        "The basic function of the fft is orthogonal. Why orthogonal is important? Because it can help us determine the cofficient conveniently. We can only multiple the signal and the basic function to get the cofficient of the basic funtion."
      ]
    },
    {
      "cell_type": "code",
      "execution_count": null,
      "metadata": {
        "id": "I_EaUoTuuGz3",
        "is_executing": true,
        "jupyter": {
          "outputs_hidden": false
        },
        "pycharm": {
          "name": "#%%\n"
        }
      },
      "outputs": [],
      "source": [
        "import numpy as np\n",
        "from matplotlib import pyplot as plt\n",
        "from lib.dsp import my_fft, my_ifft, scg_simulate\n",
        "\n",
        "help(my_fft)\n",
        "help(my_ifft)\n",
        "\n",
        "signal = scg_simulate()[:1000]\n",
        "fs = 100\n",
        "\n",
        "freq, mag = my_fft(signal, fs)\n",
        "index = np.argsort(freq)\n",
        "freq = freq[index]\n",
        "mag = mag[index]\n",
        "\n",
        "signal_recovered = my_ifft(mag)\n",
        "\n",
        "fig, axis = plt.subplots(3,1,figsize=(8,9))\n",
        "axis[0].set_title(\"FFT result\")\n",
        "axis[0].set_xlabel(\"Frequency\")\n",
        "axis[0].set_ylabel(\"Magnitude\")\n",
        "axis[0].plot(freq, np.abs(mag))\n",
        "\n",
        "axis[1].set_title(\"Original signal\")\n",
        "axis[1].set_xlabel(\"Time\")\n",
        "axis[1].set_ylabel(\"Amplitude\")\n",
        "axis[1].plot(signal)\n",
        "\n",
        "axis[2].set_title(\"Signal recovered from Spectrum\")\n",
        "axis[2].plot(signal_recovered.real)\n",
        "axis[2].set_xlabel(\"Time\")\n",
        "axis[2].set_ylabel(\"Amplitude\")\n",
        "plt.tight_layout()\n",
        "plt.show()"
      ]
    },
    {
      "cell_type": "markdown",
      "metadata": {
        "id": "fuY0JU9JuGz3",
        "jupyter": {
          "outputs_hidden": false
        },
        "pycharm": {
          "name": "#%% md\n"
        }
      },
      "source": [
        "## Frequency Domain Feature"
      ]
    },
    {
      "cell_type": "markdown",
      "metadata": {
        "id": "f2zzNCd_uGz3",
        "jupyter": {
          "outputs_hidden": false
        },
        "pycharm": {
          "name": "#%% md\n"
        }
      },
      "source": [
        "### Power Spectral Density (PSD)\n",
        "It is a tool used for frequency spectrum analysis to describe how the power of a signal varies with frequency.\n",
        "\n",
        "The PSD represents the distribution of power across different frequencies in a signal, typically measured in power per Hertz (Hz). It can be computed by taking the squared magnitude of the Fourier transform of the signal. Specifically, for a time-domain signal x(t), the Power Spectral Density $S_{xx}(f)$ at frequency $f$ is calculated as:\n",
        "$$\n",
        "S_{xx}(f) = \\lim_{{T \\to \\infty}} \\frac{1}{T} \\left| \\int_{-T/2}^{T/2} x(t) e^{-j 2 \\pi f t} \\,dt \\right|^2\n",
        "$$\n",
        "where $x$ denotes the time-domain signal and $j$ denotes the imaginary unit."
      ]
    },
    {
      "cell_type": "code",
      "execution_count": null,
      "metadata": {
        "id": "xcHa3SyGuGz4",
        "is_executing": true,
        "jupyter": {
          "outputs_hidden": false
        },
        "pycharm": {
          "name": "#%%\n"
        }
      },
      "outputs": [],
      "source": [
        "import numpy as np\n",
        "from lib.dsp import psd, scg_simulate\n",
        "import matplotlib.pyplot as plt\n",
        "\n",
        "help(psd)\n",
        "\n",
        "fs = 100\n",
        "signal = scg_simulate()[:1000]\n",
        "f,p = psd(signal, fs)\n",
        "\n",
        "fig, axis = plt.subplots(2,1,figsize=(8,6))\n",
        "axis[0].set_title(\"Input signal\")\n",
        "axis[0].plot(signal)\n",
        "axis[0].set_xlabel(\"Time\")\n",
        "axis[0].set_ylabel(\"Amplitude\")\n",
        "\n",
        "\n",
        "axis[1].set_title(\"PSD of input signal\")\n",
        "axis[1].plot(f,p)\n",
        "axis[1].set_xlabel(\"Frequency\")\n",
        "axis[1].set_ylabel(\"Power\")\n",
        "plt.tight_layout()\n",
        "plt.show()"
      ]
    },
    {
      "cell_type": "markdown",
      "metadata": {
        "id": "6Ka3zy-JuGz4",
        "jupyter": {
          "outputs_hidden": false
        },
        "pycharm": {
          "name": "#%% md\n"
        }
      },
      "source": [
        "# Time-Frequency domain"
      ]
    },
    {
      "cell_type": "markdown",
      "metadata": {
        "id": "hAyXdgvGuGz5",
        "jupyter": {
          "outputs_hidden": false
        },
        "pycharm": {
          "name": "#%% md\n"
        }
      },
      "source": [
        "## Short Time Fourier Transform (STFT)\n",
        "\n",
        "To get the time information of the signal, we segment the signal and view the signal in the segment as stationary signal. However, when the signal does not complete an integer number of cycles, an issue known as Frequency Leakage may occur which can pose challenges in reconstructing the original signal based on the spectrum. To minimize the impact of Frequency Leakage, the original signal can be multiplied by a window function. After framing, we get many framed segment. Then we do the DFT to get frequency information of each frame. The scale of y axis is frequency. Then we concatenate the spectrum horizontally to get the spectrogram. The spectrogram has both the frequency and time frequency of a signal.\n",
        "\n",
        "The longer the frame, the frequency information is more accurate, the time information is less accurate. The above is what we call heisenberg uncertainty principle.\n",
        "\n",
        "The output of the stft is y-axis (frequency), x-axis (time) and the value of each point (magnitude). The max number of y-axis (frequency) is the half of the fs which is based on the Nyquist sampling princple, but the number of frequency in y-axis is the half of the nperseg. The number of the x-axis depends on the nperseg and the noverlap and the max number of the x-axis is (length of signal / fs). The output Z is complex-valued."
      ]
    },
    {
      "cell_type": "code",
      "execution_count": null,
      "metadata": {
        "id": "AmplvfSwuGz5",
        "is_executing": true,
        "jupyter": {
          "outputs_hidden": false
        },
        "pycharm": {
          "name": "#%%\n"
        }
      },
      "outputs": [],
      "source": [
        "import numpy as np\n",
        "from lib.dsp import my_stft, scg_simulate\n",
        "import matplotlib.pyplot as plt\n",
        "\n",
        "help(my_stft)\n",
        "\n",
        "signal = scg_simulate()[:1000]\n",
        "\n",
        "fs = 100 # sampling frequency\n",
        "window = 'hann' # window type\n",
        "nperseg = 64 # length of frame\n",
        "\n",
        "# STFT\n",
        "f, t, Z = my_stft(signal, fs=fs, window=window, nperseg=nperseg)\n",
        "\n",
        "plt.figure(figsize=(8,6))\n",
        "plt.subplot(2,1,1)\n",
        "plt.title(\"Input siganl\")\n",
        "plt.plot(signal)\n",
        "plt.xlabel(\"Time\")\n",
        "plt.ylabel(\"Amplitude\")\n",
        "\n",
        "plt.subplot(2,1,2)\n",
        "plt.title(\"STFT of input signal\")\n",
        "plt.pcolormesh(t, f, np.abs(Z))\n",
        "plt.xlabel(\"Time/s\")\n",
        "plt.ylabel(\"Frequency\")\n",
        "plt.colorbar(label='Magnitude')\n",
        "\n",
        "plt.tight_layout()\n",
        "plt.show()"
      ]
    },
    {
      "cell_type": "markdown",
      "metadata": {
        "id": "B4K8oK57uGz6",
        "jupyter": {
          "outputs_hidden": false
        },
        "pycharm": {
          "name": "#%% md\n"
        }
      },
      "source": [
        "## Wavelet Analysis\n",
        "\n",
        "STFT has a serious problem, that is we can't get a good time and frequency resolution. The bigger the nperseg, the better the frequency resolution, but the worse time resolution, vice versa. The above problem is caused by the fact that the nperseg is fixed. So we introduce the wavelet analysis which is a MRA method. MRA (multiresolution analysis) is designed to give good time resolution and poor frequency resolution at high frequencies and good frequency resolution and poor time resolution at low frequencies.Generally, the basic function of wavelet transform is orthogonal and normalized (normalized makes the transformed signal have the same energy at every scale)."
      ]
    },
    {
      "cell_type": "markdown",
      "metadata": {
        "id": "Ld81F3MnuGz7",
        "jupyter": {
          "outputs_hidden": false
        },
        "pycharm": {
          "name": "#%% md\n"
        }
      },
      "source": [
        "### Mexican Hat Wavelet\n",
        "\n",
        "It is the second derivative of the Gaussian function.\n",
        "\n",
        "Gaussian function:\n",
        "$$\n",
        "w(t) = \\frac{1}{\\sqrt{2\\pi} \\cdot \\sigma} e^{\\frac{-t^2}{2 \\sigma^2}}\n",
        "$$\n",
        "where $\\sigma$ is the standard deviation and $t$ is time.\n",
        "\n",
        "Second derivative of the Gaussian function:\n",
        "$$\n",
        "\\psi(t) = \\frac{1}{\\sqrt{2 \\pi} \\cdot \\sigma^3} \\left( e^{\\frac{-t^2}{2 \\sigma^2}} \\cdot \\left( \\frac{t^2}{\\sigma^2} - 1 \\right) \\right)\n",
        "$$"
      ]
    },
    {
      "cell_type": "code",
      "execution_count": null,
      "metadata": {
        "id": "--zBSYDLuGz7",
        "is_executing": true,
        "jupyter": {
          "outputs_hidden": false
        },
        "pycharm": {
          "name": "#%%\n"
        }
      },
      "outputs": [],
      "source": [
        "import matplotlib.pyplot as plt\n",
        "from lib.dsp import mexican_hat_wavelet\n",
        "\n",
        "help(mexican_hat_wavelet)\n",
        "\n",
        "sigma = 1\n",
        "length = 50\n",
        "psi = mexican_hat_wavelet(sigma, length)\n",
        "plt.plot(psi)\n",
        "plt.xlabel(\"Time\")\n",
        "plt.ylabel(\"Amplitude\")\n",
        "plt.show()"
      ]
    },
    {
      "cell_type": "markdown",
      "metadata": {
        "id": "wVlZ6bL2uGz8",
        "jupyter": {
          "outputs_hidden": false
        },
        "pycharm": {
          "name": "#%% md\n"
        }
      },
      "source": [
        "### Morlet Wavelet\n",
        "\n",
        "It is defined as follows:\n",
        "$$\n",
        "w(t) = e^{i a t} \\cdot e^{-\\frac{t^2}{2\\sigma}}\n",
        "$$\n",
        "where $t$ is the time variable, $a$ controls the frequency of the sinusoidal oscillation, and $\\sigma$ controls the width of the Gaussian envelope."
      ]
    },
    {
      "cell_type": "code",
      "execution_count": null,
      "metadata": {
        "id": "bB2geIz6uGz9",
        "is_executing": true,
        "jupyter": {
          "outputs_hidden": false
        },
        "pycharm": {
          "name": "#%%\n"
        }
      },
      "outputs": [],
      "source": [
        "import matplotlib.pyplot as plt\n",
        "from lib.dsp import morlet_wavelet\n",
        "\n",
        "help(morlet_wavelet)\n",
        "\n",
        "length = 100\n",
        "sigma = 2\n",
        "a = 5\n",
        "omega = morlet_wavelet(length, sigma, a)\n",
        "plt.plot(omega.real)\n",
        "plt.xlabel(\"Time\")\n",
        "plt.ylabel(\"Amplitude\")\n",
        "plt.show()"
      ]
    },
    {
      "cell_type": "markdown",
      "metadata": {
        "id": "AkHc8w4IuGz9",
        "jupyter": {
          "outputs_hidden": false
        },
        "pycharm": {
          "name": "#%% md\n"
        }
      },
      "source": [
        "### Continuous Wavelet Transform (CWT)\n",
        "\n",
        "In CWT, the signal can be transformed by:\n",
        "\n",
        "$$\n",
        "CWT_x^\\psi(\\tau,s) = \\Psi_x^\\psi(\\tau,s) = \\frac{1}{\\sqrt{|s|}} \\int x(t) \\psi^* \\left( \\frac{t - \\tau}{s} \\right) dt\n",
        "$$\n",
        "\n",
        "where the $\\psi$ denotes the mother wavelet, $\\tau$ denotes the translation of the wavelet, and $s$ denotes the sacle of the wavelet. $\\tau$ and $s$ are all incremented continuously. However, if this transform needs to be computed by a computer, then both parameters are increased by a sufficiently small step size. This corresponds to sampling the time-scale plane."
      ]
    },
    {
      "cell_type": "markdown",
      "metadata": {
        "id": "kdajLBkMuGz-",
        "jupyter": {
          "outputs_hidden": false
        },
        "pycharm": {
          "name": "#%% md\n"
        }
      },
      "source": [
        "### Inverse CWT\n",
        "\n",
        "$$\n",
        "x(t)=\\frac{1}{c_{\\psi}^{2}} \\int_{s} \\int_{\\tau} \\Psi_{x}^{\\psi}(\\tau, s) \\frac{1}{s^{2}} \\psi\\left(\\frac{t-\\tau}{s}\\right) d \\tau d s\n",
        "$$\n",
        "\n",
        "where $c_{\\psi}$ is a constant that depends on the wavelet used and the other symbols are described in above cell. $c_{\\psi}$ can be calculated as follows:\n",
        "$$\n",
        "c_{\\psi}=\\left\\{2 \\pi \\int_{-\\infty}^{\\infty} \\frac{|\\hat{\\psi}(\\xi)|^{2}}{|\\xi|} d \\xi\\right\\}^{1 / 2}\n",
        "$$\n",
        "\n",
        "where $\\hat{\\psi(\\xi)}$ is the FT of $\\psi(t)$"
      ]
    },
    {
      "cell_type": "code",
      "execution_count": null,
      "metadata": {
        "id": "KXmmiXEyuGz-",
        "is_executing": true,
        "jupyter": {
          "outputs_hidden": false
        },
        "pycharm": {
          "name": "#%%\n"
        }
      },
      "outputs": [],
      "source": [
        "from lib.dsp import my_cwt, scg_simulate\n",
        "import numpy as np\n",
        "import matplotlib.pyplot as plt\n",
        "\n",
        "help(my_cwt)\n",
        "\n",
        "fs = 100\n",
        "signal = scg_simulate()[:1000]\n",
        "\n",
        "scales = np.array([2,4,8,16])\n",
        "wavelet = 'morl'\n",
        "coefficients, frequencies = my_cwt(signal, scales, wavelet, fs)\n",
        "\n",
        "plt.figure(figsize=(8,6))\n",
        "plt.subplot(2,1,1)\n",
        "plt.title(\"Input signal\")\n",
        "plt.plot(signal)\n",
        "plt.xlabel(\"Time\")\n",
        "plt.ylabel(\"Amplitude\")\n",
        "\n",
        "plt.subplot(2,1,2)\n",
        "plt.imshow(np.abs(coefficients), aspect='auto', extent=[0, len(signal) / fs, frequencies[-1], frequencies[0]])\n",
        "plt.colorbar(label='Magnitude')\n",
        "plt.title('Continuous Wavelet Transform')\n",
        "plt.xlabel('Time/s')\n",
        "plt.ylabel('Frequency')\n",
        "plt.tight_layout()\n",
        "plt.show()"
      ]
    },
    {
      "cell_type": "markdown",
      "metadata": {
        "id": "9s1H1ih2uGz_",
        "jupyter": {
          "outputs_hidden": false
        },
        "pycharm": {
          "name": "#%% md\n"
        }
      },
      "source": [
        "## Polynomial Chirplet Transform (PCT)\n",
        "PCT is a signal processing technique and a variant of the Chirplet Transform. The Chirplet Transform is a method used to analyze non-stationary modulations in signals, and PCT further introduces polynomial functions to enhance its analytical capabilities.\n",
        "\n",
        "In the Chirplet Transform, \"Chirp\" refers to a signal with a frequency that varies over time, and a \"Chirplet\" is a wavelet associated with a Chirp. PCT introduces polynomial modulation functions, allowing the frequency, phase, and amplitude of Chirplets to vary according to the shape of the polynomial.\n",
        "\n",
        "The core idea of PCT is to use polynomials to describe the nonlinear modulation characteristics of a signal, thereby better capturing the complex structures and non-stationary nature of the signal. This method is effective for analyzing signals where frequency, phase, and amplitude change over time."
      ]
    },
    {
      "cell_type": "markdown",
      "source": [
        "![chirplet.jpg](data:image/jpeg;base64,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)\n",
        "\n",
        "**Sample Chirplet**\n",
        "</br>\n",
        "Image from: https://upload.wikimedia.org/wikipedia/commons/1/1e/Chirplet.jpg\n",
        "\n",
        "\n"
      ],
      "metadata": {
        "id": "6JjEZpJaU-cy"
      }
    },
    {
      "cell_type": "markdown",
      "metadata": {
        "id": "hOBrM6zyS1SK",
        "pycharm": {
          "name": "#%% md\n"
        }
      },
      "source": [
        "### Chirplet Transform\n",
        "\n",
        "The Chirplet Transform of a signal $x(t)$ is often represented as:\n",
        "$$\n",
        "C(a, b, \\omega, \\tau) = \\int_{-\\infty}^{\\infty} x(t) \\psi_{a, b, \\omega, \\tau}^*(t) \\, dt\n",
        "$$\n",
        "where * denotes the complex conjugate and $\\psi_{a, b, \\omega, \\tau}(t)$ is the Chirplet defined as:\n",
        "$$\n",
        "\\psi_{a, b, \\omega, \\tau}(t) = e^{j(\\omega t + \\frac{a}{2}t^2 + b t + \\tau)}\n",
        "$$"
      ]
    },
    {
      "cell_type": "markdown",
      "metadata": {
        "id": "mCF-8-U4S1gW",
        "pycharm": {
          "name": "#%% md\n"
        }
      },
      "source": [
        "### Polynomial Chirplet Transform\n",
        "\n",
        "The Polynomial Chirplet Transform extends the Chirplet Transform by introducing a polynomial modulation. The general form is:\n",
        "$$\n",
        "C(a, b, \\omega, \\tau, P(t)) = \\int_{-\\infty}^{\\infty} x(t) \\psi_{a, b, \\omega, \\tau, P(t)}^*(t) \\, dt\n",
        "$$\n",
        "Here, $P(t)$ is a polynomial function that modulates the Chirplet parameters.\n",
        "$$\n",
        "\\psi_{a, b, \\omega, \\tau, P(t)}(t) = e^{j(\\omega t + \\frac{a}{2}t^2 + b t + \\tau + P(t))}\n",
        "$$"
      ]
    },
    {
      "cell_type": "code",
      "execution_count": null,
      "metadata": {
        "id": "9GlPbCdruGz_",
        "is_executing": true,
        "jupyter": {
          "outputs_hidden": false
        },
        "pycharm": {
          "name": "#%%\n"
        }
      },
      "outputs": [],
      "source": [
        "import numpy as np\n",
        "from lib.dsp import chirplet_transform, scg_simulate\n",
        "import matplotlib.pyplot as plt\n",
        "\n",
        "help(chirplet_transform)\n",
        "\n",
        "signal = scg_simulate()[:1000]\n",
        "ct_matrix = chirplet_transform(signal)\n",
        "\n",
        "plt.figure(figsize=(8,6))\n",
        "plt.subplot(2,1,1)\n",
        "plt.title(\"Input signal\")\n",
        "plt.plot(signal)\n",
        "plt.xlabel(\"Time\")\n",
        "plt.ylabel(\"Amplitude\")\n",
        "\n",
        "plt.subplot(2,1,2)\n",
        "plt.title(\"chirplet transform\")\n",
        "plt.xlabel(\"Time/s\")\n",
        "plt.ylabel(\"Frequency\")\n",
        "plt.imshow(ct_matrix, aspect=\"auto\")\n",
        "plt.colorbar(label=\"Magnitude\")\n",
        "plt.tight_layout()\n",
        "plt.show()"
      ]
    },
    {
      "cell_type": "markdown",
      "metadata": {
        "id": "oiKJrSR2uGz_",
        "jupyter": {
          "outputs_hidden": false
        },
        "pycharm": {
          "name": "#%% md\n"
        }
      },
      "source": [
        "## Wigner Ville Distribution (WVD)\n",
        "\n",
        "\n",
        "WVD is a time-frequency representation method widely used in signal processing and analysis. The primary goal of the Wigner-Ville Distribution is to provide a representation of the instantaneous frequency distribution of a signal. Unlike traditional methods such as Fourier transform and short-time Fourier transform, the Wigner-Ville Distribution offers more detailed information in both time and frequency domains, simultaneously depicting the variations of a signal over time and frequency.\n",
        "\n",
        "The definition of WVD is as follows:\n",
        "$$\n",
        "W_x(t, f) = \\int_{-\\infty}^{\\infty} x\\left(t + \\frac{\\tau}{2}\\right) \\cdot \\overline{x\\left(t - \\frac{\\tau}{2}\\right)} \\cdot e^{-2\\pi i f \\tau} \\,d\\tau\n",
        "$$\n",
        "Here, $W_x(t, f)$ represents the WVD, $x(t)$ is the input signal, $\\overline{x(t)}$ denotes the complex conjugate of $x(t)$, $t$ is time, and $f$ is frequency. The WVD describes the transient characteristics of a signal by computing the autocorrelation of the signal at different time windows.\n",
        "\n",
        "The advantages of WVD include its adaptability to non-stationary signals and its ability to capture the transient features of a signal. However, WVD also has some drawbacks, such as the presence of cross terms that may introduce additional complexity to the analysis."
      ]
    },
    {
      "cell_type": "code",
      "execution_count": null,
      "metadata": {
        "id": "Kr2Yw5zWuGz_",
        "is_executing": true,
        "jupyter": {
          "outputs_hidden": false
        },
        "pycharm": {
          "name": "#%%\n"
        }
      },
      "outputs": [],
      "source": [
        "import numpy as np\n",
        "import matplotlib.pyplot as plt\n",
        "from lib.dsp import my_wvd, scg_simulate\n",
        "\n",
        "help(my_wvd)\n",
        "\n",
        "signal = scg_simulate()[:1000]\n",
        "plt.title(\"Input signal\")\n",
        "plt.plot(signal)\n",
        "plt.xlabel(\"Time\")\n",
        "plt.ylabel(\"Amplitude\")\n",
        "plt.show()\n",
        "\n",
        "matrix, t, f = my_wvd(signal, show=True)"
      ]
    },
    {
      "cell_type": "markdown",
      "metadata": {
        "id": "kIHDNzAtuG0A",
        "jupyter": {
          "outputs_hidden": false
        },
        "pycharm": {
          "name": "#%% md\n"
        }
      },
      "source": [
        "## SynchroSqueezing Transform (SST)\n",
        "\n",
        "SST is a signal processing technique designed to analyze the time-frequency structure in non-stationary and non-linear signals. SST aims to enhance the resolution of signals in the time-frequency domain, particularly when dealing with non-linear and non-stationary conditions.\n",
        "\n",
        "\n",
        "1. **Time-Frequency Localization:** SST seeks to capture the instantaneous frequency information of a signal by localizing it on the time-frequency plane. This allows for a more accurate analysis of the time and frequency characteristics of non-stationary signals.\n",
        "\n",
        "2. **Reassignment Representation:** SST employs a technique known as reassignment representation, redistributing the signal on the time-frequency plane. This helps improve the resolution of local structures in the signal, making it easier to identify and analyze features in the time-frequency domain.\n",
        "\n",
        "3. **Sync Reassignment:** The core idea of SST involves remapping the spectral information of the Fourier transform onto the time-frequency plane, obtaining a more refined and accurate time-frequency analysis of the signal. This sync reassessment allows for better detection of instantaneous frequency changes in the signal.\n"
      ]
    },
    {
      "cell_type": "code",
      "execution_count": null,
      "metadata": {
        "id": "IQdajYAquG0A",
        "is_executing": true,
        "jupyter": {
          "outputs_hidden": false
        },
        "pycharm": {
          "name": "#%%\n"
        }
      },
      "outputs": [],
      "source": [
        "from lib.dsp import sst_stft, scg_simulate\n",
        "import numpy as np\n",
        "import matplotlib.pyplot as plt\n",
        "\n",
        "help(sst_stft)\n",
        "\n",
        "fs = 100\n",
        "signal = scg_simulate()[:1000]\n",
        "Tx, Sx, ssq_freqs, Sfs= sst_stft(signal, window=\"ham\", nperseg = 128, fs = fs)\n",
        "\n",
        "plt.figure(figsize=(8,9))\n",
        "plt.subplot(3,1,1)\n",
        "plt.title(\"Input signal\")\n",
        "plt.plot(signal)\n",
        "plt.xlabel(\"Time\")\n",
        "plt.ylabel(\"Amplitude\")\n",
        "\n",
        "\n",
        "plt.subplot(3,1,2)\n",
        "plt.title(\"STFT of Input signal\")\n",
        "plt.imshow(np.abs(Sx), aspect=\"auto\")\n",
        "plt.xlabel(\"Time\")\n",
        "plt.ylabel(\"Frequency\")\n",
        "plt.colorbar(label=\"Magnitude\")\n",
        "plt.subplot(3,1,3)\n",
        "plt.title(\"Synchrosqueezed STFT of Input signal\")\n",
        "plt.xlabel(\"Time\")\n",
        "plt.ylabel(\"Frequency\")\n",
        "plt.imshow(np.abs(Tx), aspect=\"auto\")\n",
        "plt.colorbar(label=\"Magnitude\")\n",
        "plt.tight_layout()\n",
        "plt.show()"
      ]
    },
    {
      "cell_type": "code",
      "execution_count": null,
      "metadata": {
        "id": "CbRAlwLduG0A",
        "is_executing": true,
        "jupyter": {
          "outputs_hidden": false
        },
        "pycharm": {
          "name": "#%%\n"
        },
        "scrolled": true
      },
      "outputs": [],
      "source": [
        "from lib.dsp import sst_cwt, scg_simulate\n",
        "import numpy as np\n",
        "import matplotlib.pyplot as plt\n",
        "\n",
        "help(sst_cwt)\n",
        "\n",
        "fs = 100\n",
        "signal = scg_simulate()[:1000]\n",
        "Tx, Wx, ssq_freqs, scale= sst_cwt(signal, wavelet=\"morlet\", scales=\"log\", nv=20, fs = fs,gamma = 3e-7)\n",
        "\n",
        "plt.figure(figsize=(8,9))\n",
        "plt.subplot(3,1,1)\n",
        "plt.title(\"Input signal\")\n",
        "plt.plot(signal)\n",
        "plt.xlabel(\"Time\")\n",
        "plt.ylabel(\"Amplitude\")\n",
        "\n",
        "plt.subplot(3,1,2)\n",
        "plt.imshow(np.abs(Wx), aspect='auto', extent=[0, len(signal) / fs, ssq_freqs[-1], ssq_freqs[0]])\n",
        "plt.colorbar(label='Magnitude')\n",
        "plt.title('Continuous Wavelet Transform')\n",
        "plt.xlabel('Time/s')\n",
        "plt.ylabel('Frequency')\n",
        "\n",
        "plt.subplot(3,1,3)\n",
        "plt.imshow(np.abs(Tx), aspect='auto', extent=[0, len(signal) / fs, ssq_freqs[-1], ssq_freqs[0]])\n",
        "plt.colorbar(label='Magnitude')\n",
        "plt.title('Synchrosqueezed Continuous Wavelet Transform')\n",
        "plt.xlabel('Time/s')\n",
        "plt.ylabel('Frequency')\n",
        "plt.tight_layout()\n",
        "plt.show()"
      ]
    }
  ],
  "metadata": {
    "colab": {
      "provenance": [],
      "toc_visible": true,
      "machine_shape": "hm",
      "gpuType": "A100",
      "include_colab_link": true
    },
    "kernelspec": {
      "name": "python3",
      "display_name": "Python 3"
    },
    "language_info": {
      "codemirror_mode": {
        "name": "ipython",
        "version": 3
      },
      "file_extension": ".py",
      "mimetype": "text/x-python",
      "name": "python",
      "nbconvert_exporter": "python",
      "pygments_lexer": "ipython3",
      "version": "3.8.18"
    },
    "accelerator": "GPU"
  },
  "nbformat": 4,
  "nbformat_minor": 0
}