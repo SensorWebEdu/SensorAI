{
  "cells": [
    {
      "cell_type": "markdown",
      "metadata": {
        "id": "view-in-github",
        "colab_type": "text"
      },
      "source": [
        "<a href=\"https://colab.research.google.com/github/wsonguga/SensorAI/blob/main/tutorials/tutorial_dsp.ipynb\" target=\"_parent\"><img src=\"https://colab.research.google.com/assets/colab-badge.svg\" alt=\"Open In Colab\"/></a>"
      ]
    },
    {
      "cell_type": "markdown",
      "metadata": {
        "id": "s8RHkFSouGyh",
        "jupyter": {
          "outputs_hidden": false
        },
        "pycharm": {
          "name": "#%% md\n"
        }
      },
      "source": [
        "## Content\n",
        "\n",
        "- Wave Generation\n",
        "    - Sine Wave\n",
        "    - Triangle Wave\n",
        "    - Square Wave\n",
        "    - Chirp Wave\n",
        "    - Pulse Wave\n",
        "\n",
        "- Noises\n",
        "    - White Noise\n",
        "    - Band-Limited White Noise\n",
        "    - Impulsive Noise\n",
        "    - Burst Noise\n",
        "    - Brown Noise\n",
        "    - Pink Noise\n",
        "    - Flicker Noise\n",
        "    - Powerline Noise\n",
        "    - Resonance Noise\n",
        "\n",
        "- Complex Wave Generation\n",
        "    - SCG\n",
        "\n",
        "- Filters\n",
        "    - Butterworth Filters\n",
        "    - Moving Average Filters\n",
        "        - Simple\n",
        "        - Exponential\n",
        "    - Savgol Filter\n",
        "    - Wiener Filter\n",
        "    - Notch Filter\n",
        "    - Matched Filter\n",
        "    - Wavelet denoising\n",
        "    - FFT denoising\n",
        "    - Adaptive Filters\n",
        "        - LMS\n",
        "        - RLS\n",
        "    - Kalman Filter\n",
        "    - Averageing by Dynamic Time Warping\n",
        "\n",
        "- Decompose:\n",
        "    - Seasonal Decompose\n",
        "    - EMD\n",
        "    - EEMD\n",
        "    - CEEMD\n",
        "    - VMD\n",
        "    - Blind source separation\n",
        "        - PCA based\n",
        "        - ICA based (including Fast ICA)\n",
        "\n",
        "- Time Domain\n",
        "  - Template of SCG\n",
        "  - Analytic Signal and Hilbert Transform\n",
        "  - Peak Detection\n",
        "    - Peak of Peak Algorithm\n",
        "  - Envelope Extraction\n",
        "    - Envelope from Peaks\n",
        "    - Average Envelope\n",
        "    - Envelope and Phase Extraction using Hilbert Transform\n",
        "  - Singular Spectrum Transform (SST)\n",
        "  - Time Domain Feature\n",
        "    - Petrosian Fractal Dimension (PFD)\n",
        "    - Skewness and Kurtosis\n",
        "- Frequency Domain\n",
        "  - Fast Fourier Transform (FFT)\n",
        "  - Frequency Domain Feature\n",
        "    - Power Spectral Density (PSD)\n",
        "    - Skewness and Kurtosis\n",
        "- Time-Frequency Domain\n",
        "  - Short Time Fourier Transform (STFT)\n",
        "  - Wavelet Analysis\n",
        "    - Mexican Hat Wavelet\n",
        "    - Morlet Wavelet\n",
        "    - Continuous Wavelet Transform (CWT)\n",
        "    - Inverse CWT\n",
        "  - Polynomial Chirplet Transform (PCT)\n",
        "    - Chirplet Transform\n",
        "    - Polynomial Chirplet Transform\n",
        "  - Wigner Ville Distribution (WVD)\n",
        "  - SynchroSqueezing Transform (SST)\n",
        "\n",
        "**- Using Google Colab with Tutorial**"
      ]
    },
    {
      "cell_type": "markdown",
      "metadata": {
        "id": "e2WrUCNBuQsa",
        "pycharm": {
          "name": "#%% md\n"
        }
      },
      "source": [
        "# Using Google Colab with Tutorial\n",
        "\n",
        "If using Google Colab, run the following code prior to running any tutorial code.  If running code locally, ignore this section"
      ]
    },
    {
      "cell_type": "code",
      "execution_count": 2,
      "metadata": {
        "id": "kSvFnlgcu3Lo",
        "pycharm": {
          "name": "#%%\n"
        },
        "outputId": "eb9f9c5f-e2d8-40d3-f9c7-b877e9bd4a6e",
        "colab": {
          "base_uri": "https://localhost:8080/"
        }
      },
      "outputs": [
        {
          "output_type": "stream",
          "name": "stdout",
          "text": [
            "Cloning into 'SensorAI'...\n",
            "remote: Enumerating objects: 1394, done.\u001b[K\n",
            "remote: Counting objects: 100% (56/56), done.\u001b[K\n",
            "remote: Compressing objects: 100% (41/41), done.\u001b[K\n",
            "remote: Total 1394 (delta 34), reused 21 (delta 15), pack-reused 1338 (from 2)\u001b[K\n",
            "Receiving objects: 100% (1394/1394), 424.16 MiB | 49.08 MiB/s, done.\n",
            "Resolving deltas: 100% (777/777), done.\n"
          ]
        }
      ],
      "source": [
        "# This code clones the SensorAI github repository to colab\n",
        "  # Note: rerunning this code segment will give an error if the repository currently exists in your colab\n",
        "!git clone https://github.com/wsonguga/SensorAI.git\n",
        "\n",
        "# Once this code is executed, click the file icon to the left to verify all files have been cloned"
      ]
    },
    {
      "cell_type": "code",
      "execution_count": 1,
      "metadata": {
        "id": "tgRbVaTjvET2",
        "pycharm": {
          "name": "#%%\n"
        },
        "outputId": "76c8fce8-6e81-4dec-ccb3-c98fea9cf5a4",
        "colab": {
          "base_uri": "https://localhost:8080/"
        }
      },
      "outputs": [
        {
          "output_type": "stream",
          "name": "stdout",
          "text": [
            "sample_data  SensorAI\n"
          ]
        }
      ],
      "source": [
        "# Set the root path to github repository\n",
        "import os\n",
        "\n",
        "root_path = \"/content/SensorAI\"\n",
        "\n",
        "repo_root = os.path.join(\"/content/SensorAI\")\n",
        "\n",
        "!ls"
      ]
    },
    {
      "cell_type": "code",
      "execution_count": 2,
      "metadata": {
        "id": "XpYGcSv6zsUQ",
        "pycharm": {
          "name": "#%%\n"
        },
        "outputId": "36993af1-a4ad-4312-b711-ec19e218537f",
        "colab": {
          "base_uri": "https://localhost:8080/"
        }
      },
      "outputs": [
        {
          "output_type": "stream",
          "name": "stdout",
          "text": [
            "\u001b[0m\u001b[01;34mbak\u001b[0m/  \u001b[01;34mdata\u001b[0m/  \u001b[01;32minstall.sh\u001b[0m*  \u001b[01;34mlib\u001b[0m/  README.md  requirements.txt  \u001b[01;34mtutorials\u001b[0m/\n"
          ]
        }
      ],
      "source": [
        "# Change to the tutorial repository\n",
        "import os\n",
        "\n",
        "os.chdir('SensorAI')\n",
        "\n",
        "%ls             # display directory content"
      ]
    },
    {
      "cell_type": "code",
      "execution_count": 3,
      "metadata": {
        "id": "VXuP9su6zuoe",
        "pycharm": {
          "name": "#%%\n"
        },
        "outputId": "ae728ce6-bd8f-4e6d-c9a4-99a31496a6d1",
        "colab": {
          "base_uri": "https://localhost:8080/"
        }
      },
      "outputs": [
        {
          "output_type": "stream",
          "name": "stdout",
          "text": [
            "From https://github.com/wsonguga/SensorAI\n",
            " * branch            HEAD       -> FETCH_HEAD\n",
            "Already up to date.\n"
          ]
        }
      ],
      "source": [
        "# This command pulls any updated files from the repository\n",
        "# This code segment may be re-executed at any point if there have been updates to the repository\n",
        "!git pull https://github.com/wsonguga/SensorAI.git"
      ]
    },
    {
      "cell_type": "code",
      "source": [
        "# INSTALL REQUIRED PACKAGES\n",
        "# If you get an error, Resart the Runtime Session and rerun this code\n",
        "\n",
        "!chmod +x install.sh  # Make the script executable\n",
        "!./install.sh"
      ],
      "metadata": {
        "id": "EISt5H0bvvHY",
        "outputId": "00ff39d3-488d-48ea-b8ec-607cc8bb9638",
        "colab": {
          "base_uri": "https://localhost:8080/"
        }
      },
      "execution_count": 4,
      "outputs": [
        {
          "output_type": "stream",
          "name": "stdout",
          "text": [
            "Requirement already satisfied: numpy in /usr/local/lib/python3.11/dist-packages (from -r requirements.txt (line 1)) (1.26.4)\n",
            "Requirement already satisfied: EMD_signal in /usr/local/lib/python3.11/dist-packages (from -r requirements.txt (line 2)) (1.6.4)\n",
            "Requirement already satisfied: ewtpy in /usr/local/lib/python3.11/dist-packages (from -r requirements.txt (line 3)) (0.2)\n",
            "Requirement already satisfied: matplotlib in /usr/local/lib/python3.11/dist-packages (from -r requirements.txt (line 4)) (3.10.0)\n",
            "Requirement already satisfied: padasip==1.2.2 in /usr/local/lib/python3.11/dist-packages (from -r requirements.txt (line 5)) (1.2.2)\n",
            "Requirement already satisfied: pandas in /usr/local/lib/python3.11/dist-packages (from -r requirements.txt (line 6)) (2.2.2)\n",
            "Requirement already satisfied: pytz in /usr/local/lib/python3.11/dist-packages (from -r requirements.txt (line 7)) (2025.1)\n",
            "Requirement already satisfied: PyWavelets in /usr/local/lib/python3.11/dist-packages (from -r requirements.txt (line 8)) (1.8.0)\n",
            "Requirement already satisfied: scikit-learn in /usr/local/lib/python3.11/dist-packages (from -r requirements.txt (line 9)) (1.6.1)\n",
            "Requirement already satisfied: sktime in /usr/local/lib/python3.11/dist-packages (from -r requirements.txt (line 11)) (0.36.0)\n",
            "Requirement already satisfied: scipy in /usr/local/lib/python3.11/dist-packages (from -r requirements.txt (line 12)) (1.14.1)\n",
            "Requirement already satisfied: seaborn in /usr/local/lib/python3.11/dist-packages (from -r requirements.txt (line 14)) (0.13.2)\n",
            "Requirement already satisfied: statsmodels==0.13.5 in /usr/local/lib/python3.11/dist-packages (from -r requirements.txt (line 15)) (0.13.5)\n",
            "Requirement already satisfied: tslearn==0.6.1 in /usr/local/lib/python3.11/dist-packages (from -r requirements.txt (line 16)) (0.6.1)\n",
            "Requirement already satisfied: vmdpy==0.2 in /usr/local/lib/python3.11/dist-packages (from -r requirements.txt (line 17)) (0.2)\n",
            "Requirement already satisfied: tftb in /usr/local/lib/python3.11/dist-packages (from -r requirements.txt (line 18)) (0.2.0)\n",
            "Requirement already satisfied: tqdm in /usr/local/lib/python3.11/dist-packages (from -r requirements.txt (line 19)) (4.67.1)\n",
            "Requirement already satisfied: ssqueezepy in /usr/local/lib/python3.11/dist-packages (from -r requirements.txt (line 20)) (0.6.5)\n",
            "Requirement already satisfied: numba in /usr/local/lib/python3.11/dist-packages (from -r requirements.txt (line 21)) (0.60.0)\n",
            "Requirement already satisfied: jupyter in /usr/local/lib/python3.11/dist-packages (from -r requirements.txt (line 22)) (1.1.1)\n",
            "Requirement already satisfied: h5py in /usr/local/lib/python3.11/dist-packages (from -r requirements.txt (line 23)) (3.13.0)\n",
            "Requirement already satisfied: chart_studio in /usr/local/lib/python3.11/dist-packages (from -r requirements.txt (line 24)) (1.1.0)\n",
            "Requirement already satisfied: plotly in /usr/local/lib/python3.11/dist-packages (from -r requirements.txt (line 25)) (5.24.1)\n",
            "Requirement already satisfied: patsy>=0.5.2 in /usr/local/lib/python3.11/dist-packages (from statsmodels==0.13.5->-r requirements.txt (line 15)) (1.0.1)\n",
            "Requirement already satisfied: packaging>=21.3 in /usr/local/lib/python3.11/dist-packages (from statsmodels==0.13.5->-r requirements.txt (line 15)) (24.2)\n",
            "Requirement already satisfied: joblib in /usr/local/lib/python3.11/dist-packages (from tslearn==0.6.1->-r requirements.txt (line 16)) (1.4.2)\n",
            "Requirement already satisfied: pathos>=0.2.1 in /usr/local/lib/python3.11/dist-packages (from EMD_signal->-r requirements.txt (line 2)) (0.3.3)\n",
            "Requirement already satisfied: contourpy>=1.0.1 in /usr/local/lib/python3.11/dist-packages (from matplotlib->-r requirements.txt (line 4)) (1.3.1)\n",
            "Requirement already satisfied: cycler>=0.10 in /usr/local/lib/python3.11/dist-packages (from matplotlib->-r requirements.txt (line 4)) (0.12.1)\n",
            "Requirement already satisfied: fonttools>=4.22.0 in /usr/local/lib/python3.11/dist-packages (from matplotlib->-r requirements.txt (line 4)) (4.56.0)\n",
            "Requirement already satisfied: kiwisolver>=1.3.1 in /usr/local/lib/python3.11/dist-packages (from matplotlib->-r requirements.txt (line 4)) (1.4.8)\n",
            "Requirement already satisfied: pillow>=8 in /usr/local/lib/python3.11/dist-packages (from matplotlib->-r requirements.txt (line 4)) (11.1.0)\n",
            "Requirement already satisfied: pyparsing>=2.3.1 in /usr/local/lib/python3.11/dist-packages (from matplotlib->-r requirements.txt (line 4)) (3.2.1)\n",
            "Requirement already satisfied: python-dateutil>=2.7 in /usr/local/lib/python3.11/dist-packages (from matplotlib->-r requirements.txt (line 4)) (2.8.2)\n",
            "Requirement already satisfied: tzdata>=2022.7 in /usr/local/lib/python3.11/dist-packages (from pandas->-r requirements.txt (line 6)) (2025.1)\n",
            "Requirement already satisfied: threadpoolctl>=3.1.0 in /usr/local/lib/python3.11/dist-packages (from scikit-learn->-r requirements.txt (line 9)) (3.6.0)\n",
            "Requirement already satisfied: scikit-base<0.13.0,>=0.6.1 in /usr/local/lib/python3.11/dist-packages (from sktime->-r requirements.txt (line 11)) (0.12.0)\n",
            "Requirement already satisfied: llvmlite<0.44,>=0.43.0dev0 in /usr/local/lib/python3.11/dist-packages (from numba->-r requirements.txt (line 21)) (0.43.0)\n",
            "Requirement already satisfied: notebook in /usr/local/lib/python3.11/dist-packages (from jupyter->-r requirements.txt (line 22)) (6.5.7)\n",
            "Requirement already satisfied: jupyter-console in /usr/local/lib/python3.11/dist-packages (from jupyter->-r requirements.txt (line 22)) (6.1.0)\n",
            "Requirement already satisfied: nbconvert in /usr/local/lib/python3.11/dist-packages (from jupyter->-r requirements.txt (line 22)) (7.16.6)\n",
            "Requirement already satisfied: ipykernel in /usr/local/lib/python3.11/dist-packages (from jupyter->-r requirements.txt (line 22)) (6.17.1)\n",
            "Requirement already satisfied: ipywidgets in /usr/local/lib/python3.11/dist-packages (from jupyter->-r requirements.txt (line 22)) (7.7.1)\n",
            "Requirement already satisfied: jupyterlab in /usr/local/lib/python3.11/dist-packages (from jupyter->-r requirements.txt (line 22)) (4.3.6)\n",
            "Requirement already satisfied: requests in /usr/local/lib/python3.11/dist-packages (from chart_studio->-r requirements.txt (line 24)) (2.32.3)\n",
            "Requirement already satisfied: retrying>=1.3.3 in /usr/local/lib/python3.11/dist-packages (from chart_studio->-r requirements.txt (line 24)) (1.3.4)\n",
            "Requirement already satisfied: six in /usr/local/lib/python3.11/dist-packages (from chart_studio->-r requirements.txt (line 24)) (1.17.0)\n",
            "Requirement already satisfied: tenacity>=6.2.0 in /usr/local/lib/python3.11/dist-packages (from plotly->-r requirements.txt (line 25)) (9.0.0)\n",
            "Requirement already satisfied: ppft>=1.7.6.9 in /usr/local/lib/python3.11/dist-packages (from pathos>=0.2.1->EMD_signal->-r requirements.txt (line 2)) (1.7.6.9)\n",
            "Requirement already satisfied: dill>=0.3.9 in /usr/local/lib/python3.11/dist-packages (from pathos>=0.2.1->EMD_signal->-r requirements.txt (line 2)) (0.3.9)\n",
            "Requirement already satisfied: pox>=0.3.5 in /usr/local/lib/python3.11/dist-packages (from pathos>=0.2.1->EMD_signal->-r requirements.txt (line 2)) (0.3.5)\n",
            "Requirement already satisfied: multiprocess>=0.70.17 in /usr/local/lib/python3.11/dist-packages (from pathos>=0.2.1->EMD_signal->-r requirements.txt (line 2)) (0.70.17)\n",
            "Requirement already satisfied: debugpy>=1.0 in /usr/local/lib/python3.11/dist-packages (from ipykernel->jupyter->-r requirements.txt (line 22)) (1.8.0)\n",
            "Requirement already satisfied: ipython>=7.23.1 in /usr/local/lib/python3.11/dist-packages (from ipykernel->jupyter->-r requirements.txt (line 22)) (7.34.0)\n",
            "Requirement already satisfied: jupyter-client>=6.1.12 in /usr/local/lib/python3.11/dist-packages (from ipykernel->jupyter->-r requirements.txt (line 22)) (7.4.9)\n",
            "Requirement already satisfied: matplotlib-inline>=0.1 in /usr/local/lib/python3.11/dist-packages (from ipykernel->jupyter->-r requirements.txt (line 22)) (0.1.7)\n",
            "Requirement already satisfied: nest-asyncio in /usr/local/lib/python3.11/dist-packages (from ipykernel->jupyter->-r requirements.txt (line 22)) (1.6.0)\n",
            "Requirement already satisfied: psutil in /usr/local/lib/python3.11/dist-packages (from ipykernel->jupyter->-r requirements.txt (line 22)) (5.9.5)\n",
            "Requirement already satisfied: pyzmq>=17 in /usr/local/lib/python3.11/dist-packages (from ipykernel->jupyter->-r requirements.txt (line 22)) (24.0.1)\n",
            "Requirement already satisfied: tornado>=6.1 in /usr/local/lib/python3.11/dist-packages (from ipykernel->jupyter->-r requirements.txt (line 22)) (6.4.2)\n",
            "Requirement already satisfied: traitlets>=5.1.0 in /usr/local/lib/python3.11/dist-packages (from ipykernel->jupyter->-r requirements.txt (line 22)) (5.7.1)\n",
            "Requirement already satisfied: ipython-genutils~=0.2.0 in /usr/local/lib/python3.11/dist-packages (from ipywidgets->jupyter->-r requirements.txt (line 22)) (0.2.0)\n",
            "Requirement already satisfied: widgetsnbextension~=3.6.0 in /usr/local/lib/python3.11/dist-packages (from ipywidgets->jupyter->-r requirements.txt (line 22)) (3.6.10)\n",
            "Requirement already satisfied: jupyterlab-widgets>=1.0.0 in /usr/local/lib/python3.11/dist-packages (from ipywidgets->jupyter->-r requirements.txt (line 22)) (3.0.13)\n",
            "Requirement already satisfied: prompt-toolkit!=3.0.0,!=3.0.1,<3.1.0,>=2.0.0 in /usr/local/lib/python3.11/dist-packages (from jupyter-console->jupyter->-r requirements.txt (line 22)) (3.0.50)\n",
            "Requirement already satisfied: pygments in /usr/local/lib/python3.11/dist-packages (from jupyter-console->jupyter->-r requirements.txt (line 22)) (2.18.0)\n",
            "Requirement already satisfied: async-lru>=1.0.0 in /usr/local/lib/python3.11/dist-packages (from jupyterlab->jupyter->-r requirements.txt (line 22)) (2.0.5)\n",
            "Requirement already satisfied: httpx>=0.25.0 in /usr/local/lib/python3.11/dist-packages (from jupyterlab->jupyter->-r requirements.txt (line 22)) (0.28.1)\n",
            "Requirement already satisfied: jinja2>=3.0.3 in /usr/local/lib/python3.11/dist-packages (from jupyterlab->jupyter->-r requirements.txt (line 22)) (3.1.6)\n",
            "Requirement already satisfied: jupyter-core in /usr/local/lib/python3.11/dist-packages (from jupyterlab->jupyter->-r requirements.txt (line 22)) (5.7.2)\n",
            "Requirement already satisfied: jupyter-lsp>=2.0.0 in /usr/local/lib/python3.11/dist-packages (from jupyterlab->jupyter->-r requirements.txt (line 22)) (2.2.5)\n",
            "Requirement already satisfied: jupyter-server<3,>=2.4.0 in /usr/local/lib/python3.11/dist-packages (from jupyterlab->jupyter->-r requirements.txt (line 22)) (2.15.0)\n",
            "Requirement already satisfied: jupyterlab-server<3,>=2.27.1 in /usr/local/lib/python3.11/dist-packages (from jupyterlab->jupyter->-r requirements.txt (line 22)) (2.27.3)\n",
            "Requirement already satisfied: notebook-shim>=0.2 in /usr/local/lib/python3.11/dist-packages (from jupyterlab->jupyter->-r requirements.txt (line 22)) (0.2.4)\n",
            "Requirement already satisfied: setuptools>=40.8.0 in /usr/local/lib/python3.11/dist-packages (from jupyterlab->jupyter->-r requirements.txt (line 22)) (75.1.0)\n",
            "Requirement already satisfied: beautifulsoup4 in /usr/local/lib/python3.11/dist-packages (from nbconvert->jupyter->-r requirements.txt (line 22)) (4.13.3)\n",
            "Requirement already satisfied: bleach!=5.0.0 in /usr/local/lib/python3.11/dist-packages (from bleach[css]!=5.0.0->nbconvert->jupyter->-r requirements.txt (line 22)) (6.2.0)\n",
            "Requirement already satisfied: defusedxml in /usr/local/lib/python3.11/dist-packages (from nbconvert->jupyter->-r requirements.txt (line 22)) (0.7.1)\n",
            "Requirement already satisfied: jupyterlab-pygments in /usr/local/lib/python3.11/dist-packages (from nbconvert->jupyter->-r requirements.txt (line 22)) (0.3.0)\n",
            "Requirement already satisfied: markupsafe>=2.0 in /usr/local/lib/python3.11/dist-packages (from nbconvert->jupyter->-r requirements.txt (line 22)) (3.0.2)\n",
            "Requirement already satisfied: mistune<4,>=2.0.3 in /usr/local/lib/python3.11/dist-packages (from nbconvert->jupyter->-r requirements.txt (line 22)) (3.1.3)\n",
            "Requirement already satisfied: nbclient>=0.5.0 in /usr/local/lib/python3.11/dist-packages (from nbconvert->jupyter->-r requirements.txt (line 22)) (0.10.2)\n",
            "Requirement already satisfied: nbformat>=5.7 in /usr/local/lib/python3.11/dist-packages (from nbconvert->jupyter->-r requirements.txt (line 22)) (5.10.4)\n",
            "Requirement already satisfied: pandocfilters>=1.4.1 in /usr/local/lib/python3.11/dist-packages (from nbconvert->jupyter->-r requirements.txt (line 22)) (1.5.1)\n",
            "Requirement already satisfied: argon2-cffi in /usr/local/lib/python3.11/dist-packages (from notebook->jupyter->-r requirements.txt (line 22)) (23.1.0)\n",
            "Requirement already satisfied: Send2Trash>=1.8.0 in /usr/local/lib/python3.11/dist-packages (from notebook->jupyter->-r requirements.txt (line 22)) (1.8.3)\n",
            "Requirement already satisfied: terminado>=0.8.3 in /usr/local/lib/python3.11/dist-packages (from notebook->jupyter->-r requirements.txt (line 22)) (0.18.1)\n",
            "Requirement already satisfied: prometheus-client in /usr/local/lib/python3.11/dist-packages (from notebook->jupyter->-r requirements.txt (line 22)) (0.21.1)\n",
            "Requirement already satisfied: nbclassic>=0.4.7 in /usr/local/lib/python3.11/dist-packages (from notebook->jupyter->-r requirements.txt (line 22)) (1.2.0)\n",
            "Requirement already satisfied: charset-normalizer<4,>=2 in /usr/local/lib/python3.11/dist-packages (from requests->chart_studio->-r requirements.txt (line 24)) (3.4.1)\n",
            "Requirement already satisfied: idna<4,>=2.5 in /usr/local/lib/python3.11/dist-packages (from requests->chart_studio->-r requirements.txt (line 24)) (3.10)\n",
            "Requirement already satisfied: urllib3<3,>=1.21.1 in /usr/local/lib/python3.11/dist-packages (from requests->chart_studio->-r requirements.txt (line 24)) (2.3.0)\n",
            "Requirement already satisfied: certifi>=2017.4.17 in /usr/local/lib/python3.11/dist-packages (from requests->chart_studio->-r requirements.txt (line 24)) (2025.1.31)\n",
            "Requirement already satisfied: webencodings in /usr/local/lib/python3.11/dist-packages (from bleach!=5.0.0->bleach[css]!=5.0.0->nbconvert->jupyter->-r requirements.txt (line 22)) (0.5.1)\n",
            "Requirement already satisfied: tinycss2<1.5,>=1.1.0 in /usr/local/lib/python3.11/dist-packages (from bleach[css]!=5.0.0->nbconvert->jupyter->-r requirements.txt (line 22)) (1.4.0)\n",
            "Requirement already satisfied: anyio in /usr/local/lib/python3.11/dist-packages (from httpx>=0.25.0->jupyterlab->jupyter->-r requirements.txt (line 22)) (4.9.0)\n",
            "Requirement already satisfied: httpcore==1.* in /usr/local/lib/python3.11/dist-packages (from httpx>=0.25.0->jupyterlab->jupyter->-r requirements.txt (line 22)) (1.0.7)\n",
            "Requirement already satisfied: h11<0.15,>=0.13 in /usr/local/lib/python3.11/dist-packages (from httpcore==1.*->httpx>=0.25.0->jupyterlab->jupyter->-r requirements.txt (line 22)) (0.14.0)\n",
            "Requirement already satisfied: jedi>=0.16 in /usr/local/lib/python3.11/dist-packages (from ipython>=7.23.1->ipykernel->jupyter->-r requirements.txt (line 22)) (0.19.2)\n",
            "Requirement already satisfied: decorator in /usr/local/lib/python3.11/dist-packages (from ipython>=7.23.1->ipykernel->jupyter->-r requirements.txt (line 22)) (4.4.2)\n",
            "Requirement already satisfied: pickleshare in /usr/local/lib/python3.11/dist-packages (from ipython>=7.23.1->ipykernel->jupyter->-r requirements.txt (line 22)) (0.7.5)\n",
            "Requirement already satisfied: backcall in /usr/local/lib/python3.11/dist-packages (from ipython>=7.23.1->ipykernel->jupyter->-r requirements.txt (line 22)) (0.2.0)\n",
            "Requirement already satisfied: pexpect>4.3 in /usr/local/lib/python3.11/dist-packages (from ipython>=7.23.1->ipykernel->jupyter->-r requirements.txt (line 22)) (4.9.0)\n",
            "Requirement already satisfied: entrypoints in /usr/local/lib/python3.11/dist-packages (from jupyter-client>=6.1.12->ipykernel->jupyter->-r requirements.txt (line 22)) (0.4)\n",
            "Requirement already satisfied: platformdirs>=2.5 in /usr/local/lib/python3.11/dist-packages (from jupyter-core->jupyterlab->jupyter->-r requirements.txt (line 22)) (4.3.7)\n",
            "Requirement already satisfied: jupyter-events>=0.11.0 in /usr/local/lib/python3.11/dist-packages (from jupyter-server<3,>=2.4.0->jupyterlab->jupyter->-r requirements.txt (line 22)) (0.12.0)\n",
            "Requirement already satisfied: jupyter-server-terminals>=0.4.4 in /usr/local/lib/python3.11/dist-packages (from jupyter-server<3,>=2.4.0->jupyterlab->jupyter->-r requirements.txt (line 22)) (0.5.3)\n",
            "Requirement already satisfied: overrides>=5.0 in /usr/local/lib/python3.11/dist-packages (from jupyter-server<3,>=2.4.0->jupyterlab->jupyter->-r requirements.txt (line 22)) (7.7.0)\n",
            "Requirement already satisfied: websocket-client>=1.7 in /usr/local/lib/python3.11/dist-packages (from jupyter-server<3,>=2.4.0->jupyterlab->jupyter->-r requirements.txt (line 22)) (1.8.0)\n",
            "Requirement already satisfied: argon2-cffi-bindings in /usr/local/lib/python3.11/dist-packages (from argon2-cffi->notebook->jupyter->-r requirements.txt (line 22)) (21.2.0)\n",
            "Requirement already satisfied: babel>=2.10 in /usr/local/lib/python3.11/dist-packages (from jupyterlab-server<3,>=2.27.1->jupyterlab->jupyter->-r requirements.txt (line 22)) (2.17.0)\n",
            "Requirement already satisfied: json5>=0.9.0 in /usr/local/lib/python3.11/dist-packages (from jupyterlab-server<3,>=2.27.1->jupyterlab->jupyter->-r requirements.txt (line 22)) (0.10.0)\n",
            "Requirement already satisfied: jsonschema>=4.18.0 in /usr/local/lib/python3.11/dist-packages (from jupyterlab-server<3,>=2.27.1->jupyterlab->jupyter->-r requirements.txt (line 22)) (4.23.0)\n",
            "Requirement already satisfied: fastjsonschema>=2.15 in /usr/local/lib/python3.11/dist-packages (from nbformat>=5.7->nbconvert->jupyter->-r requirements.txt (line 22)) (2.21.1)\n",
            "Requirement already satisfied: wcwidth in /usr/local/lib/python3.11/dist-packages (from prompt-toolkit!=3.0.0,!=3.0.1,<3.1.0,>=2.0.0->jupyter-console->jupyter->-r requirements.txt (line 22)) (0.2.13)\n",
            "Requirement already satisfied: ptyprocess in /usr/local/lib/python3.11/dist-packages (from terminado>=0.8.3->notebook->jupyter->-r requirements.txt (line 22)) (0.7.0)\n",
            "Requirement already satisfied: soupsieve>1.2 in /usr/local/lib/python3.11/dist-packages (from beautifulsoup4->nbconvert->jupyter->-r requirements.txt (line 22)) (2.6)\n",
            "Requirement already satisfied: typing-extensions>=4.0.0 in /usr/local/lib/python3.11/dist-packages (from beautifulsoup4->nbconvert->jupyter->-r requirements.txt (line 22)) (4.12.2)\n",
            "Requirement already satisfied: sniffio>=1.1 in /usr/local/lib/python3.11/dist-packages (from anyio->httpx>=0.25.0->jupyterlab->jupyter->-r requirements.txt (line 22)) (1.3.1)\n",
            "Requirement already satisfied: parso<0.9.0,>=0.8.4 in /usr/local/lib/python3.11/dist-packages (from jedi>=0.16->ipython>=7.23.1->ipykernel->jupyter->-r requirements.txt (line 22)) (0.8.4)\n",
            "Requirement already satisfied: attrs>=22.2.0 in /usr/local/lib/python3.11/dist-packages (from jsonschema>=4.18.0->jupyterlab-server<3,>=2.27.1->jupyterlab->jupyter->-r requirements.txt (line 22)) (25.3.0)\n",
            "Requirement already satisfied: jsonschema-specifications>=2023.03.6 in /usr/local/lib/python3.11/dist-packages (from jsonschema>=4.18.0->jupyterlab-server<3,>=2.27.1->jupyterlab->jupyter->-r requirements.txt (line 22)) (2024.10.1)\n",
            "Requirement already satisfied: referencing>=0.28.4 in /usr/local/lib/python3.11/dist-packages (from jsonschema>=4.18.0->jupyterlab-server<3,>=2.27.1->jupyterlab->jupyter->-r requirements.txt (line 22)) (0.36.2)\n",
            "Requirement already satisfied: rpds-py>=0.7.1 in /usr/local/lib/python3.11/dist-packages (from jsonschema>=4.18.0->jupyterlab-server<3,>=2.27.1->jupyterlab->jupyter->-r requirements.txt (line 22)) (0.23.1)\n",
            "Requirement already satisfied: python-json-logger>=2.0.4 in /usr/local/lib/python3.11/dist-packages (from jupyter-events>=0.11.0->jupyter-server<3,>=2.4.0->jupyterlab->jupyter->-r requirements.txt (line 22)) (3.3.0)\n",
            "Requirement already satisfied: pyyaml>=5.3 in /usr/local/lib/python3.11/dist-packages (from jupyter-events>=0.11.0->jupyter-server<3,>=2.4.0->jupyterlab->jupyter->-r requirements.txt (line 22)) (6.0.2)\n",
            "Requirement already satisfied: rfc3339-validator in /usr/local/lib/python3.11/dist-packages (from jupyter-events>=0.11.0->jupyter-server<3,>=2.4.0->jupyterlab->jupyter->-r requirements.txt (line 22)) (0.1.4)\n",
            "Requirement already satisfied: rfc3986-validator>=0.1.1 in /usr/local/lib/python3.11/dist-packages (from jupyter-events>=0.11.0->jupyter-server<3,>=2.4.0->jupyterlab->jupyter->-r requirements.txt (line 22)) (0.1.1)\n",
            "Requirement already satisfied: cffi>=1.0.1 in /usr/local/lib/python3.11/dist-packages (from argon2-cffi-bindings->argon2-cffi->notebook->jupyter->-r requirements.txt (line 22)) (1.17.1)\n",
            "Requirement already satisfied: pycparser in /usr/local/lib/python3.11/dist-packages (from cffi>=1.0.1->argon2-cffi-bindings->argon2-cffi->notebook->jupyter->-r requirements.txt (line 22)) (2.22)\n",
            "Requirement already satisfied: fqdn in /usr/local/lib/python3.11/dist-packages (from jsonschema[format-nongpl]>=4.18.0->jupyter-events>=0.11.0->jupyter-server<3,>=2.4.0->jupyterlab->jupyter->-r requirements.txt (line 22)) (1.5.1)\n",
            "Requirement already satisfied: isoduration in /usr/local/lib/python3.11/dist-packages (from jsonschema[format-nongpl]>=4.18.0->jupyter-events>=0.11.0->jupyter-server<3,>=2.4.0->jupyterlab->jupyter->-r requirements.txt (line 22)) (20.11.0)\n",
            "Requirement already satisfied: jsonpointer>1.13 in /usr/local/lib/python3.11/dist-packages (from jsonschema[format-nongpl]>=4.18.0->jupyter-events>=0.11.0->jupyter-server<3,>=2.4.0->jupyterlab->jupyter->-r requirements.txt (line 22)) (3.0.0)\n",
            "Requirement already satisfied: uri-template in /usr/local/lib/python3.11/dist-packages (from jsonschema[format-nongpl]>=4.18.0->jupyter-events>=0.11.0->jupyter-server<3,>=2.4.0->jupyterlab->jupyter->-r requirements.txt (line 22)) (1.3.0)\n",
            "Requirement already satisfied: webcolors>=24.6.0 in /usr/local/lib/python3.11/dist-packages (from jsonschema[format-nongpl]>=4.18.0->jupyter-events>=0.11.0->jupyter-server<3,>=2.4.0->jupyterlab->jupyter->-r requirements.txt (line 22)) (24.11.1)\n",
            "Requirement already satisfied: arrow>=0.15.0 in /usr/local/lib/python3.11/dist-packages (from isoduration->jsonschema[format-nongpl]>=4.18.0->jupyter-events>=0.11.0->jupyter-server<3,>=2.4.0->jupyterlab->jupyter->-r requirements.txt (line 22)) (1.3.0)\n",
            "Requirement already satisfied: types-python-dateutil>=2.8.10 in /usr/local/lib/python3.11/dist-packages (from arrow>=0.15.0->isoduration->jsonschema[format-nongpl]>=4.18.0->jupyter-events>=0.11.0->jupyter-server<3,>=2.4.0->jupyterlab->jupyter->-r requirements.txt (line 22)) (2.9.0.20241206)\n",
            "Requirement already satisfied: fastsst in /usr/local/lib/python3.11/dist-packages (0.0.4)\n"
          ]
        }
      ]
    },
    {
      "cell_type": "markdown",
      "metadata": {
        "id": "XIZG4X8_uGyo",
        "jupyter": {
          "outputs_hidden": false
        },
        "pycharm": {
          "name": "#%% md\n"
        }
      },
      "source": [
        "# Wave Generation"
      ]
    },
    {
      "cell_type": "code",
      "execution_count": 5,
      "metadata": {
        "jupyter": {
          "outputs_hidden": false
        },
        "pycharm": {
          "name": "#%%\n"
        },
        "id": "X80GozZW63ei",
        "outputId": "21f6f26d-8c83-48c1-ec81-73a84e29a8ef",
        "colab": {
          "base_uri": "https://localhost:8080/",
          "height": 333
        }
      },
      "outputs": [
        {
          "output_type": "display_data",
          "data": {
            "text/plain": [
              "<Figure size 800x300 with 1 Axes>"
            ],
            "image/png": "[encoded data removed]"
          },
          "metadata": {}
        }
      ],
      "source": [
        "from lib.dsp import sine_wave\n",
        "sine_ = sine_wave(duration=10, sampling_rate=100, amplitude=1.5, frequency=0.3, show=True)"
      ]
    },
    {
      "cell_type": "markdown",
      "metadata": {
        "id": "RwaWg5k1uGyp",
        "jupyter": {
          "outputs_hidden": false
        },
        "pycharm": {
          "name": "#%% md\n"
        }
      },
      "source": [
        "## Triangle Wave\n",
        "\n",
        "**References:**\n",
        "1. https://en.wikipedia.org/wiki/Triangle_wave\n",
        "\n",
        "</br>\n",
        "\n",
        "A triangle wave, also known as a triangular wave, is a periodic waveform commonly encountered in signal processing, audio synthesis, and various other fields. It derives its name from its characteristic shape, which resembles a series of connected triangles due to its linear rise and fall over time.\n",
        "\n",
        "A more general equation for a triangle wave, incorporating both amplitude $ a $ and period $ p $, can be expressed using the modulo operation and absolute value:\n",
        "\n",
        "$$ y(t) = \\frac{4a}{p} \\cdot \\left|\n",
        "\\left( \\left( x - \\frac{p}{4} \\right) \\bmod p \\right)- \\frac{p}{2}\n",
        "\\right| - a $$\n",
        "\n",
        "In this equation:\n",
        "\n",
        "- $ y(t) $ represents the amplitude of the triangle wave at time $ t $\n",
        "- $ a $ denotes the amplitude of the wave, determining its peak-to-peak height.\n",
        "- $ p $ is the period of the wave, defining the duration of one complete cycle."
      ]
    },
    {
      "cell_type": "code",
      "execution_count": 1,
      "metadata": {
        "jupyter": {
          "outputs_hidden": false
        },
        "pycharm": {
          "name": "#%%\n"
        },
        "id": "c6s9oJve63ek",
        "outputId": "8ffd4084-f912-4c5f-df5c-e84841138397",
        "colab": {
          "base_uri": "https://localhost:8080/",
          "height": 331
        }
      },
      "outputs": [
        {
          "output_type": "error",
          "ename": "ModuleNotFoundError",
          "evalue": "No module named 'lib.dsp'",
          "traceback": [
            "\u001b[0;31m---------------------------------------------------------------------------\u001b[0m",
            "\u001b[0;31mModuleNotFoundError\u001b[0m                       Traceback (most recent call last)",
            "\u001b[0;32m<ipython-input-1-40e42d1c61ce>\u001b[0m in \u001b[0;36m<cell line: 0>\u001b[0;34m()\u001b[0m\n\u001b[0;32m----> 1\u001b[0;31m \u001b[0;32mfrom\u001b[0m \u001b[0mlib\u001b[0m\u001b[0;34m.\u001b[0m\u001b[0mdsp\u001b[0m \u001b[0;32mimport\u001b[0m \u001b[0mtriangle_wave\u001b[0m\u001b[0;34m\u001b[0m\u001b[0;34m\u001b[0m\u001b[0m\n\u001b[0m\u001b[1;32m      2\u001b[0m \u001b[0mtriangle_\u001b[0m \u001b[0;34m=\u001b[0m \u001b[0mtriangle_wave\u001b[0m\u001b[0;34m(\u001b[0m\u001b[0mduration\u001b[0m\u001b[0;34m=\u001b[0m\u001b[0;36m10\u001b[0m\u001b[0;34m,\u001b[0m \u001b[0msampling_rate\u001b[0m\u001b[0;34m=\u001b[0m\u001b[0;36m100\u001b[0m\u001b[0;34m,\u001b[0m \u001b[0mamplitude\u001b[0m\u001b[0;34m=\u001b[0m\u001b[0;36m1\u001b[0m\u001b[0;34m,\u001b[0m \u001b[0mfrequency\u001b[0m\u001b[0;34m=\u001b[0m\u001b[0;36m0.5\u001b[0m\u001b[0;34m,\u001b[0m \u001b[0mshow\u001b[0m\u001b[0;34m=\u001b[0m\u001b[0;32mTrue\u001b[0m\u001b[0;34m)\u001b[0m\u001b[0;34m\u001b[0m\u001b[0;34m\u001b[0m\u001b[0m\n",
            "\u001b[0;31mModuleNotFoundError\u001b[0m: No module named 'lib.dsp'",
            "",
            "\u001b[0;31m---------------------------------------------------------------------------\u001b[0;32m\nNOTE: If your import is failing due to a missing package, you can\nmanually install dependencies using either !pip or !apt.\n\nTo view examples of installing some common dependencies, click the\n\"Open Examples\" button below.\n\u001b[0;31m---------------------------------------------------------------------------\u001b[0m\n"
          ],
          "errorDetails": {
            "actions": [
              {
                "action": "open_url",
                "actionText": "Open Examples",
                "url": "/notebooks/snippets/importing_libraries.ipynb"
              }
            ]
          }
        }
      ],
      "source": [
        "from lib.dsp import triangle_wave\n",
        "triangle_ = triangle_wave(duration=10, sampling_rate=100, amplitude=1, frequency=0.5, show=True)"
      ]
    },
    {
      "cell_type": "markdown",
      "metadata": {
        "id": "X_X9ysZ-uGyq",
        "jupyter": {
          "outputs_hidden": false
        },
        "pycharm": {
          "name": "#%% md\n"
        }
      },
      "source": [
        "\n",
        "## Square Wave\n",
        "\n",
        "**References:**\n",
        "1. https://en.wikipedia.org/wiki/Square_wave\n",
        "\n",
        "</br>\n",
        "\n",
        "A square wave is a distinct, repetitive waveform characterized by its sharp, square-like shape. It is represented by the mathematical expression:\n",
        "$$ y = A \\, \\text{sign}(\\sin(\\omega t + \\phi)) $$\n",
        "\n",
        "$A$ denotes the amplitude of the wave, $\\omega$ represents the angular frequency, $t$ stands for time, and $\\phi$ is the phase angle. The square wave alternates abruptly between two distinct amplitude levels, creating a waveform that resembles a sequence of square pulses.\n",
        "\n",
        "</br>\n",
        "\n",
        "In fact, a square wave can also be generated using the floor function directly:\n",
        "$$ y = A \\cdot \\left( 2 \\left( 2 \\left\\lfloor ft \\right\\rfloor - \\left\\lfloor 2ft \\right\\rfloor\\right) + 1 \\right)  $$\n",
        "In this equation, $ \\left\\lfloor \\cdot \\right\\rfloor $ denotes the floor function, which rounds down to the nearest integer.\n"
      ]
    },
    {
      "cell_type": "code",
      "execution_count": null,
      "metadata": {
        "jupyter": {
          "outputs_hidden": false
        },
        "pycharm": {
          "name": "#%%\n"
        },
        "id": "ZDY_9E8t63el"
      },
      "outputs": [],
      "source": [
        "from lib.dsp import square_wave\n",
        "square_ = square_wave(duration=10, sampling_rate=100, amplitude=1.5, frequency=.5, show=True)"
      ]
    },
    {
      "cell_type": "markdown",
      "metadata": {
        "id": "SGAMVJJQuGyr",
        "jupyter": {
          "outputs_hidden": false
        },
        "pycharm": {
          "name": "#%% md\n"
        }
      },
      "source": [
        "\n",
        "## Chirp Wave\n",
        "\n",
        "Chirp waves are waveforms whose frequency changes over time. Chirp waves are characterized by their continuous frequency sweep, which distinguishes them from other waveforms with fixed frequencies.\n",
        "\n",
        "Here's a brief description of three common types of chirp waves:\n",
        "\n",
        "1. **Linear Chirp Wave (Chirp_wave_linear):**\n",
        "   A linear chirp wave is one in which the frequency increases or decreases linearly with time. It can be described mathematically as:\n",
        "\n",
        "   $$ f(t) = f_0 + c t $$\n",
        "\n",
        "   - $ f(t) $ represents the frequency of the chirp wave at time $ t $.\n",
        "   - $ f_0 $ is the initial frequency of the chirp wave.\n",
        "   - $ c $ is the chirp rate, indicating the rate of change of frequency with time.\n",
        "\n",
        "2. **Hyperbolic Chirp Wave (Chirp_wave_hyperbolic):**\n",
        "   A hyperbolic chirp wave is characterized by a frequency that changes according to a hyperbolic function. Its mathematical representation is:\n",
        "\n",
        "   $$ f(t) = \\frac{f_0 f_1 T}{\\left(f_0 - f_1 \\right) t + f_1 T} $$\n",
        "\n",
        "   - $ f(t) $ represents the frequency of the chirp wave at time $ t $.\n",
        "   - $ f_0 $ is the initial frequency of the chirp wave.\n",
        "   - $ f_1 $ is the final frequency of the chirp wave.\n",
        "   - $ T $ is the time it takes to sweep from $f_0$ to $f_1$\n",
        "\n",
        "3. **Exponential Chirp Wave (Chirp_wave_exponential):**\n",
        "   An exponential chirp wave exhibits frequency variation following an exponential function. Its mathematical form is:\n",
        "\n",
        "   $$ f(t) = f_0 \\cdot k^{ t } $$\n",
        "\n",
        "   - $ f(t) $ represents the frequency of the chirp wave at time $ t $.\n",
        "   - $ f_0 $ is the initial frequency of the chirp wave.\n",
        "   - $ k $ is a parameter determining the rate of change of frequency over time.\n",
        "\n",
        "These different types of chirp waves offer distinct frequency behaviors, making them suitable for various applications depending on the desired modulation characteristics and signal processing requirements. Linear chirps provide simple frequency sweep patterns, while hyperbolic and exponential chirps offer more complex frequency modulations suitable for specific signal processing tasks."
      ]
    },
    {
      "cell_type": "code",
      "execution_count": null,
      "metadata": {
        "jupyter": {
          "outputs_hidden": false
        },
        "pycharm": {
          "name": "#%%\n"
        },
        "id": "WE5Qbulc63em"
      },
      "outputs": [],
      "source": [
        "from lib.dsp import chirp_wave_linear, chirp_wave_hyperbolic, chirp_wave_exponential\n",
        "\n",
        "\"\"\"\n",
        "The frequencies of the chirp_linear_ and the chirp_hyperbolic_ both range from 0.1 Hz to 2.6 Hz\n",
        "The frequency of the chirp_exponential_ ranges from 0.1 Hz to (0.1 + 1.5^10) Hz (as the default value of duration is 10 seconds)\n",
        "\"\"\"\n",
        "chirp_linear_ = chirp_wave_linear(f0=0.1, c=0.25, show=True)\n",
        "chirp_hyperbolic_ = chirp_wave_hyperbolic(f0=0.1, f1=2.6, show=True)\n",
        "chirp_exponential_ = chirp_wave_exponential(f0=0.1, k=1.5, show=True)"
      ]
    },
    {
      "cell_type": "markdown",
      "metadata": {
        "id": "AgfjDfFuBUpS",
        "pycharm": {
          "name": "#%% md\n"
        }
      },
      "source": [
        "## Pulses\n",
        "\n",
        "A pulse in signal processing is a rapid, transient change in the amplitude of a signal from a baseline value to a higher or lower value, followed by a rapid return to the baseline value.[1]\n",
        "\n",
        "</br>\n",
        "\n",
        "**Reference 1:** *Ángela Molina, Joaquín González, Pulse Voltammetry in Physical Electrochemistry and Electroanalysis, Springer, 2015 ISBN 3319212516.*"
      ]
    },
    {
      "cell_type": "code",
      "source": [
        "# Gaussian Pulse\n",
        "from lib.dsp import gaussian_pulse\n",
        "\n",
        "_ = gaussian_pulse(duration=100, sampling_rate=50, amplitude=1, frequency=2, bandwidth=0.6, show=True)"
      ],
      "metadata": {
        "id": "nqy3YfvMNbM1"
      },
      "execution_count": null,
      "outputs": []
    },
    {
      "cell_type": "code",
      "source": [
        "# Impulse\n",
        "from lib.dsp import impulse\n",
        "\n",
        "_ = impulse(duration=100, amplitude=1, show=True)"
      ],
      "metadata": {
        "id": "8MtG3wfoSiYj"
      },
      "execution_count": null,
      "outputs": []
    },
    {
      "cell_type": "code",
      "execution_count": null,
      "metadata": {
        "id": "qEmL00kCuGys",
        "is_executing": true,
        "jupyter": {
          "outputs_hidden": false
        },
        "pycharm": {
          "name": "#%%\n"
        }
      },
      "outputs": [],
      "source": [
        "# Gaussian Pulse Wave\n",
        "from lib.dsp import pulse_wave\n",
        "\n",
        "\"\"\"\n",
        "the parameter \"expansion\" means the number of sine waves used in the expansion for generating the pulse wave.\n",
        "As the value of \"expansion\" increases, the pulse wave becomes closer to a square wave\"\n",
        "\"\"\"\n",
        "pulse_3 = pulse_wave(duration=10, sampling_rate=100, amplitude=1, d=0.5, frequency=0.3, expansion=3, show=True)\n",
        "pulse_10 = pulse_wave(duration=10, sampling_rate=100, amplitude=1, d=0.5, frequency=0.3, expansion=10, show=True)\n",
        "pulse_25 = pulse_wave(duration=10, sampling_rate=100, amplitude=1, d=0.5, frequency=0.3, expansion=25, show=True)"
      ]
    },
    {
      "cell_type": "code",
      "execution_count": null,
      "metadata": {
        "jupyter": {
          "outputs_hidden": false
        },
        "pycharm": {
          "name": "#%%\n"
        },
        "id": "oqEY6_lM63eo"
      },
      "outputs": [],
      "source": [
        "from lib.dsp import pulse_wave\n",
        "\n",
        "\"\"\"\n",
        "the parameter \"d\" means the radio between the pulse duration and the period.\n",
        "\n",
        "Although using more harmonics will make the pulse wave closer to the shape of a square wave, oscillations will occur at the turning points of the square wave. These oscillations are called the \"Gibbs phenomenon\".\n",
        "\"\"\"\n",
        "pulse_25 = pulse_wave(duration=10, sampling_rate=100, amplitude=1, d=0.6, frequency=0.3, expansion=25, show=True)\n",
        "pulse_25_ = pulse_wave(duration=10, sampling_rate=100, amplitude=1, d=0.3, frequency=0.3, expansion=25, show=True)"
      ]
    },
    {
      "cell_type": "markdown",
      "metadata": {
        "id": "wEBvpW7CuGyv",
        "jupyter": {
          "outputs_hidden": false
        },
        "pycharm": {
          "name": "#%% md\n"
        }
      },
      "source": [
        "## Noise"
      ]
    },
    {
      "cell_type": "code",
      "execution_count": null,
      "metadata": {
        "jupyter": {
          "outputs_hidden": false
        },
        "pycharm": {
          "name": "#%%\n"
        },
        "id": "9ppeyM_I63ep"
      },
      "outputs": [],
      "source": [
        "\"\"\"\n",
        "Clean Data: SCG Signals (Seismocardiography)\n",
        "\n",
        "SCG signals are a type of bio-signal that measures the vibrations of the chest wall caused by the beating heart.\n",
        "\n",
        "Think of SCG signals as a way to \"listen\" to the heart's movements from outside the body. The signals captured can provide valuable information about the heart's activity. SCG signals are often analyzed to identify various parameters such as the timing of cardiac events (like systole and diastole).\n",
        "\"\"\"\n",
        "from lib.dsp import scg_simulate\n",
        "import matplotlib.pyplot as plt\n",
        "\n",
        "signal = scg_simulate()[:1000]\n",
        "\n",
        "plt.figure(figsize=(8, 3))\n",
        "plt.plot(signal)\n",
        "plt.ylabel('Amplitude')\n",
        "plt.xlabel('Time')\n",
        "plt.title('Clean Signal')\n",
        "plt.show()"
      ]
    },
    {
      "cell_type": "markdown",
      "metadata": {
        "id": "XQoP60UHuGyv",
        "jupyter": {
          "outputs_hidden": false
        },
        "pycharm": {
          "name": "#%% md\n"
        }
      },
      "source": [
        "### White Noise:\n",
        "White noise is a random signal where all frequencies have equal power (flat power spectral density).  White noise $ W(t) $ has constant power spectral density: $ S_W(f) = \\text{constant} $\n",
        "\n",
        "</br>\n",
        "\n",
        "Gaussian noise is a random signal where values follow a Gaussian (normal) distribution\n",
        "\n",
        "</br>\n",
        "\n",
        "Gaussian white noise is simply a noise signal that combines both the characteristics of white noise (flat power spectrum) and Gaussian noise (normal distribution).\n",
        "\n",
        "</br>\n",
        "\n",
        "Gaussian white noise and Laplacian white noise are two different types of random signals, and their main difference lies in their probability distribution functions.\n",
        "\n",
        "</br>\n",
        "\n",
        "1. **Gaussian White Noise:**\n",
        "   - In the time domain, the sample values of Gaussian white noise are **independently and identically distributed, with amplitudes following a normal distribution**.\n",
        "   - In the frequency domain, the power spectral density of Gaussian white noise is constant, meaning it has equal power at all frequencies.\n",
        "\n",
        "2. **Laplacian White Noise:**\n",
        "   - Unlike the normal distribution, because of the Laplace distribution, **extreme values are more likely to be observed in the noise**. This means that compared to Gaussian white noise, sudden and significant deviations from the mean are more likely to occur in Laplace white noise.\n",
        "   - The power spectral density of Laplacian white noise is also constant in the frequency domain, meaning it has equal power at all frequencies.\n",
        "\n",
        "</br>\n",
        "\n",
        "In summary, although both types of white noise share some similarities (such as having a constant power spectral density in the frequency domain), their probability distribution functions differ, leading to some differences in signal properties and statistical characteristics.\n",
        "\n",
        "In many cases, **directly adding random numbers can simulate the characteristics of white noise**, especially in digital signal processing and analog simulation. By directly adding random numbers, it is easy to generate random signals with similar statistical properties without the need for strict control of power density. This method is often more convenient in practice, especially for general purposes."
      ]
    },
    {
      "cell_type": "code",
      "execution_count": null,
      "metadata": {
        "jupyter": {
          "outputs_hidden": false
        },
        "pycharm": {
          "name": "#%%\n"
        },
        "id": "PXi-v_Ta63eq"
      },
      "outputs": [],
      "source": [
        "from lib.dsp import add_white_noise, scg_simulate, my_stft, plot_psd\n",
        "\n",
        "\"\"\"\n",
        "When mode is 0, Gaussian white noise is added.\n",
        "When mode is 1, Laplace white noise is added.\n",
        "\n",
        "Compared with Gaussian White Noise, Laplacian White Noise is more likely to contain extreme values when their noise amplitudes are the same.\n",
        "This phenomenon could be observed in below 2 figures.\n",
        "\n",
        "The results of STFT and PSD will be shown, if you set show is equal to True.\n",
        "\"\"\"\n",
        "\n",
        "show = True\n",
        "\n",
        "signal = scg_simulate()[:1000]\n",
        "\n",
        "signal_with_Gaussian_white_noise = add_white_noise(signal, noise_amplitude=0.3, model=0, show=True)\n",
        "if show:\n",
        "    Gaussian_white_noise = signal_with_Gaussian_white_noise - signal\n",
        "    _, _, _ = my_stft(Gaussian_white_noise, plot=True, fs=100)\n",
        "    plot_psd(Gaussian_white_noise)\n",
        "\n",
        "\n",
        "signal_with_Laplace_white_noise = add_white_noise(signal, noise_amplitude=0.3, model=1, show=True)\n",
        "if show:\n",
        "    Laplace_white_noise = signal_with_Laplace_white_noise - signal\n",
        "    _, _, _ = my_stft(Laplace_white_noise, plot=True, fs=100)\n",
        "    plot_psd(Laplace_white_noise)"
      ]
    },
    {
      "cell_type": "markdown",
      "metadata": {
        "id": "ugPR7fd_NrqM",
        "pycharm": {
          "name": "#%% md\n"
        }
      },
      "source": [
        "### Band-Limited White Noise:\n",
        "\n",
        " Band-limited white noise $ B(t) $ is confined to a frequency range $[f_1, f_2]$: $ S_B(f) = \\begin{cases} \\text{constant}, & \\text{if } f_1 \\leq |f| \\leq f_2 \\\\ 0, & \\text{otherwise} \\end{cases} $"
      ]
    },
    {
      "cell_type": "code",
      "execution_count": null,
      "metadata": {
        "jupyter": {
          "outputs_hidden": false
        },
        "pycharm": {
          "name": "#%%\n"
        },
        "id": "5TWR6gmz63eq"
      },
      "outputs": [],
      "source": [
        "from lib.dsp import add_band_limited_white_noise, scg_simulate, my_stft\n",
        "\n",
        "\n",
        "signal = scg_simulate()[:1000]\n",
        "\n",
        "\"\"\"\n",
        "In this example, the frequency of band-limited white noise is set ranging from 1Hz to 5Hz.\n",
        "The results of STFT and PSD will be shown, if you set show is equal to True.\n",
        "\"\"\"\n",
        "show = True\n",
        "\n",
        "signal_with_band_limited_white_noise = add_band_limited_white_noise(signal, noise_amplitude=1, lowcut=1, highcut=5, show=True)\n",
        "if show:\n",
        "    band_limited_white_noise = signal_with_band_limited_white_noise - signal\n",
        "    _, _, _ = my_stft(band_limited_white_noise, plot=True, fs=100)\n",
        "    plot_psd(band_limited_white_noise)"
      ]
    },
    {
      "cell_type": "markdown",
      "metadata": {
        "id": "MEDIHixTNsGg",
        "pycharm": {
          "name": "#%% md\n"
        }
      },
      "source": [
        "### Impulsive Noise\n",
        "\n",
        "Impulsive noise is like sudden bursts of random interference or disturbances in a signal. Picture it as unexpected spikes or jumps that disrupt the normal flow of a signal. These disturbances are usually short-lived but can be strong enough to affect the quality of the signal. Impulsive noise can come from various sources like electrical interference, equipment malfunction, or even natural phenomena like lightning strikes.\n",
        "\n",
        "Impulsive noise $ I(t) $ is characterized by Dirac delta functions: $$ I(t) = \\sum_{n} A_n \\delta(t - t_n) $$"
      ]
    },
    {
      "cell_type": "code",
      "execution_count": null,
      "metadata": {
        "jupyter": {
          "outputs_hidden": false
        },
        "pycharm": {
          "name": "#%%\n"
        },
        "id": "32IEocC563es"
      },
      "outputs": [],
      "source": [
        "from lib.dsp import add_impulsive_noise, scg_simulate, my_stft, plot_psd\n",
        "signal = scg_simulate()[:1000]\n",
        "\n",
        "\"\"\"\n",
        "The Variable \"number\" can control the number of spikes generated in the Impulsive Noise.\n",
        "The Variable \"rate\" can control the ratio of spike numbers generated in the Impulsive Noise to the total signal length.\n",
        "\"\"\"\n",
        "show = True\n",
        "\n",
        "signal_with_impulsive_noise = add_impulsive_noise(signal, noise_amplitude=1.5, number=50, show=True)\n",
        "# signal_with_impulsive_noise = add_impulsive_noise(signal, noise_amplitude=1.5, rate=0.05, show=True)\n",
        "if show:\n",
        "    impulsive_noise = signal_with_impulsive_noise - signal\n",
        "    _, _, _ = my_stft(impulsive_noise, plot=True, fs=100)\n",
        "    plot_psd(impulsive_noise)"
      ]
    },
    {
      "cell_type": "markdown",
      "metadata": {
        "id": "QrwVi0muNsSo",
        "pycharm": {
          "name": "#%% md\n"
        }
      },
      "source": [
        "### Burst Noise:\n",
        "Burst noise, also known as popcorn noise, is a type of noise characterized by sudden and intermittent bursts or groups of spikes in a signal. These bursts can\n",
        "occur randomly or periodically and typically last for a short duration. Burst noise can be caused by various factors such as fluctuations in voltage or current electronic component defects, or electromagnetic interference.\n",
        "\n",
        "Burst noise $ B(t) $ is modeled as a sum of pulses: $ B(t) = \\sum_{n} A_n \\text{sinc}(\\omega t - \\phi_n) $"
      ]
    },
    {
      "cell_type": "code",
      "execution_count": null,
      "metadata": {
        "jupyter": {
          "outputs_hidden": false
        },
        "pycharm": {
          "name": "#%%\n"
        },
        "id": "xHWRL_u463et"
      },
      "outputs": [],
      "source": [
        "from lib.dsp import add_burst_noise, scg_simulate, my_stft, plot_psd\n",
        "signal = scg_simulate()[:1000]\n",
        "\"\"\"\n",
        "The Variable burst_num_max can control the max number of bursts or groups of spikes.\n",
        "\"\"\"\n",
        "show = True\n",
        "\n",
        "signal_with_burst_noise = add_burst_noise(signal, burst_num_max=4, noise_amplitude=0.6, show=True)\n",
        "if show:\n",
        "    burst_noise = signal_with_burst_noise - signal\n",
        "    _, _, _ = my_stft(burst_noise, plot=True, fs=100)\n",
        "    plot_psd(burst_noise)"
      ]
    },
    {
      "cell_type": "markdown",
      "metadata": {
        "id": "wqW3CTLoNsfI",
        "pycharm": {
          "name": "#%% md\n"
        }
      },
      "source": [
        "### Colored Noise:\n",
        "Brown noise, pink noise, and blue noise are all types of random signals with different frequency distributions.\n",
        "\n",
        "1. **Brown Noise**:\n",
        "   - Brown noise, also known as Brownian noise or red noise, has a power spectral density inversely proportional to the square of the frequency.\n",
        "   - Mathematically, its power spectral density $ S(f) $ can be represented as:\n",
        "     **$ S(f) \\propto \\frac{1}{f^2} $**\n",
        "\n",
        "2. **Pink Noise**:\n",
        "   - Pink noise has equal power in each octave, meaning it has a consistent power per frequency interval.\n",
        "   - Mathematically, its power spectral density $ S(f) $ decreases by 3 decibels (dB) per octave.\n",
        "   - It can be represented as: **$ S(f) \\propto \\frac{1}{f} $**\n",
        "\n",
        "3. **Blue Noise**:\n",
        "   - Blue noise, also known as azure noise, has a power spectral density directly proportional to the frequency.\n",
        "   - Mathematically, its power spectral density $ S(f) $ can be represented as:\n",
        "     **$ S(f) \\propto f $**\n"
      ]
    },
    {
      "cell_type": "code",
      "execution_count": null,
      "metadata": {
        "jupyter": {
          "outputs_hidden": false
        },
        "pycharm": {
          "name": "#%%\n"
        },
        "id": "v1R9OxzR63et"
      },
      "outputs": [],
      "source": [
        "from lib.dsp import add_colored_noise, scg_simulate\n",
        "import matplotlib.pyplot as plt\n",
        "from scipy.signal import welch\n",
        "\n",
        "signal = scg_simulate()[:1000]\n",
        "\n",
        "show = True\n",
        "\n",
        "signal_with_blue_noise = add_colored_noise(signal, model='blue', show=True)\n",
        "if show:\n",
        "    blue_noise = signal_with_blue_noise - signal\n",
        "    _, _, _ = my_stft(blue_noise, plot=True, fs=100)\n",
        "    plot_psd(blue_noise)\n",
        "\n",
        "signal_with_pink_noise = add_colored_noise(signal, model='pink', show=True)\n",
        "if show:\n",
        "    pink_noise = signal_with_pink_noise - signal\n",
        "    _, _, _ = my_stft(pink_noise, plot=True, fs=100)\n",
        "    plot_psd(pink_noise)\n",
        "\n",
        "signal_with_brown_noise = add_colored_noise(signal, model='brown', show=True)\n",
        "if show:\n",
        "    brown_noise = signal_with_brown_noise - signal\n",
        "    _, _, _ = my_stft(brown_noise, plot=True, fs=100)\n",
        "    plot_psd(brown_noise)\n",
        "\n",
        "fs = 100\n",
        "frequencies_blue, psd_blue = welch(signal_with_blue_noise-signal, fs=fs)\n",
        "frequencies_pink, psd_pink = welch(signal_with_pink_noise-signal, fs=fs)\n",
        "frequencies_brown, psd_brown = welch(signal_with_brown_noise-signal, fs=fs)\n",
        "\n",
        "plt.figure(figsize=(8, 3))\n",
        "plt.semilogy(frequencies_blue, psd_blue, label='Blue')\n",
        "plt.semilogy(frequencies_pink, psd_pink, label='Pink')\n",
        "plt.semilogy(frequencies_brown, psd_brown, label='Brown')\n",
        "plt.xlabel('Frequency (Hz)');plt.ylabel('PSD (V^2/Hz)');plt.title('Power Spectral Density (PSD)')\n",
        "plt.grid(True);plt.legend();plt.show()"
      ]
    },
    {
      "cell_type": "markdown",
      "metadata": {
        "id": "Y2Gu5Xi_Ns5C",
        "pycharm": {
          "name": "#%% md\n"
        }
      },
      "source": [
        "### Flicker Noise:\n",
        "https://en.wikipedia.org/wiki/Flicker_noise\n",
        "\n",
        "Flicker noise $ F(t) $ exhibits a power spectral density proportional to $ \\frac{1}{f} $: $ S_F(f) \\propto \\frac{1}{f} $. And Flicker noise is also known as pink noise!"
      ]
    },
    {
      "cell_type": "code",
      "execution_count": null,
      "metadata": {
        "jupyter": {
          "outputs_hidden": false
        },
        "pycharm": {
          "name": "#%%\n"
        },
        "id": "U_kMkqPA63eu"
      },
      "outputs": [],
      "source": [
        "from lib.dsp import add_flicker_noise, scg_simulate, my_stft, plot_psd\n",
        "\n",
        "show = True\n",
        "\n",
        "signal = scg_simulate()[:1000]\n",
        "signal_with_flicker_noise = add_flicker_noise(signal, show=True)\n",
        "\n",
        "if show:\n",
        "    flicker_noise = signal_with_flicker_noise - signal\n",
        "    _, _, _ = my_stft(flicker_noise, plot=True, fs=100)\n",
        "    plot_psd(flicker_noise)"
      ]
    },
    {
      "cell_type": "markdown",
      "metadata": {
        "id": "Vxn1TmQONtIp",
        "pycharm": {
          "name": "#%% md\n"
        }
      },
      "source": [
        "### Powerline Noise:\n",
        "Powerline noise, also known as electrical line noise, refers to unwanted electrical interference that occurs in power lines. It typically manifests as a humming or buzzing sound in audio equipment or as interference in electronic signals. Powerline noise is caused by various factors such as electromagnetic interference (EMI) from nearby electrical devices,or fluctuations in the power grid. It can affect the performance of audio systems, communication devices, and other electronic equipment by introducing unwanted signals or disturbances. Filtering and shielding techniques are often used to mitigate powerline noise in electronic systems.\n",
        "\n",
        "Powerline noise $ P(t) $ interferes with signals, often sinusoidal: $ P(t) = A \\sin(2\\pi f_{\\text{power}} t) $\n"
      ]
    },
    {
      "cell_type": "code",
      "execution_count": null,
      "metadata": {
        "jupyter": {
          "outputs_hidden": false
        },
        "pycharm": {
          "name": "#%%\n"
        },
        "id": "M9NLM8X_63ev"
      },
      "outputs": [],
      "source": [
        "from lib.dsp import add_powerline_noise, scg_simulate, my_stft, plot_psd\n",
        "\n",
        "show = True\n",
        "\n",
        "signal = scg_simulate(sampling_rate=1000)[:10000]\n",
        "signal_with_power_line = add_powerline_noise(signal,sampling_rate=1000, duration=10, powerline_amplitude=0.3, show=True)\n",
        "if show:\n",
        "    power_line = signal_with_power_line - signal\n",
        "    _, _, _ = my_stft(power_line , plot=True, fs=1000)\n",
        "    plot_psd(power_line )"
      ]
    },
    {
      "cell_type": "markdown",
      "metadata": {
        "id": "i5sXbnHnOOQT",
        "pycharm": {
          "name": "#%% md\n"
        }
      },
      "source": [
        "### Echo Noise:\n",
        "\n",
        "reference： adsp\n",
        "\n",
        "Multipath and echo are distortions arising from signal reflections at points where the medium's properties change. Both acoustic and electromagnetic signals can experience these phenomena.\n",
        "\n",
        "Echo occurs when a portion of the signal reflects back to the source. Acoustic echoes result from feedback between speakers and microphones. Addressing echo cancellation remains crucial in modern communication systems.\n",
        "\n",
        "Multipath signifies that the transmitted signal reaches the destination after reflecting off various points or surfaces through different paths. In room acoustics, multipath propagation causes sound reverberation. In cellular mobile communication, unmodeled multipath propagation can distort signals significantly."
      ]
    },
    {
      "cell_type": "code",
      "execution_count": null,
      "metadata": {
        "id": "SYP0pCRRuGy2",
        "jupyter": {
          "outputs_hidden": false
        },
        "pycharm": {
          "name": "#%%\n"
        }
      },
      "outputs": [],
      "source": [
        "from lib.dsp import add_echo_noise, scg_simulate, my_stft, plot_psd\n",
        "signal = scg_simulate()[:1000]\n",
        "\n",
        "show=True\n",
        "\n",
        "attenuation_factor = [0.8, 0.6, 0.4]\n",
        "delay_factor = [10, 25, 40]\n",
        "noisy_signal = add_echo_noise(signal, 3, attenuation_factor, delay_factor, show=True)\n",
        "if show:\n",
        "    echo_noise = noisy_signal - signal\n",
        "    _, _, _ = my_stft(echo_noise , plot=True, fs=100)\n",
        "    plot_psd(echo_noise)"
      ]
    },
    {
      "cell_type": "markdown",
      "metadata": {
        "pycharm": {
          "name": "#%% md\n"
        },
        "id": "SobppDDS63e_"
      },
      "source": [
        "## Complex Wave Generation"
      ]
    },
    {
      "cell_type": "markdown",
      "metadata": {
        "pycharm": {
          "name": "#%% md\n"
        },
        "id": "m07SFKZG63fA"
      },
      "source": [
        "### SCG generation\n",
        "A function to generate different types of synthetic scg signal. We can specify different params to change the pulse type, noise type, range of systolic and diastolic and so on. Use \"help(dsp.scg_simulate)\" to get the information of the params."
      ]
    },
    {
      "cell_type": "code",
      "execution_count": null,
      "metadata": {
        "scrolled": true,
        "pycharm": {
          "name": "#%%\n"
        },
        "id": "YzsORjn363fA"
      },
      "outputs": [],
      "source": [
        "import lib.dsp\n",
        "print(help(lib.dsp.scg_simulate))"
      ]
    },
    {
      "cell_type": "markdown",
      "metadata": {
        "pycharm": {
          "name": "#%% md\n"
        },
        "id": "zYnSE6cJ63fB"
      },
      "source": [
        "#### pulse_type\n",
        "First, we illustrate the parameter of \"pulse_type\". It determines which wavelet to use to form the basic waveform of a scg cycle. Now we can choose \"db\", \"mor\", \"sym\" and \"ricker\". The pulse_type choices will be added gradually in the future."
      ]
    },
    {
      "cell_type": "code",
      "execution_count": null,
      "metadata": {
        "pycharm": {
          "name": "#%%\n"
        },
        "id": "vuI8lAdU63fC"
      },
      "outputs": [],
      "source": [
        "import numpy as np\n",
        "import matplotlib.pyplot as plt\n",
        "import lib.dsp\n",
        "\n",
        "signal_db = lib.dsp.scg_simulate(\n",
        "    num_rows=1,\n",
        "    duration=10,\n",
        "    sampling_rate=100,\n",
        "    pulse_type=\"db\",\n",
        "    # set the parameters below to make sure the other parameters are the same\n",
        "    heart_rate=(70,71),\n",
        "    respiratory_rate=(15,16),\n",
        "    systolic=(120,121),\n",
        "    diastolic=(90,91)\n",
        ")\n",
        "\n",
        "signal_mor = lib.dsp.scg_simulate(\n",
        "    num_rows=1,\n",
        "    duration=10,\n",
        "    sampling_rate=100,\n",
        "    pulse_type=\"mor\",\n",
        "    heart_rate=(70,71),\n",
        "    respiratory_rate=(15,16),\n",
        "    systolic=(120,121),\n",
        "    diastolic=(90,91)\n",
        ")\n",
        "\n",
        "plt.figure(figsize=(8,6))\n",
        "plt.subplot(2,1,1)\n",
        "plt.plot(signal_db[:1000])\n",
        "plt.title(\"SCG generated by daubechies wavelet\")\n",
        "plt.xlabel(\"Time\")\n",
        "plt.ylabel(\"Amplitude\")\n",
        "plt.subplot(2,1,2)\n",
        "plt.plot(signal_mor[:1000])\n",
        "plt.title(\"SCG generated by morlet wavelet\")\n",
        "plt.xlabel(\"Time\")\n",
        "plt.ylabel(\"Amplitude\")\n",
        "plt.tight_layout()\n",
        "plt.show()"
      ]
    },
    {
      "cell_type": "markdown",
      "metadata": {
        "pycharm": {
          "name": "#%% md\n"
        },
        "id": "u2xiYjtG63fE"
      },
      "source": [
        "#### add_respiratory\n",
        "The parameter control whether add respiratory. If True, we can also specify the range of the respiratory rate."
      ]
    },
    {
      "cell_type": "code",
      "execution_count": null,
      "metadata": {
        "pycharm": {
          "name": "#%%\n"
        },
        "id": "OWffb9xH63fF"
      },
      "outputs": [],
      "source": [
        "import numpy as np\n",
        "import matplotlib.pyplot as plt\n",
        "import lib.dsp\n",
        "\n",
        "signal_with_respiratory = lib.dsp.scg_simulate(\n",
        "    num_rows=1,\n",
        "    duration=10,\n",
        "    sampling_rate=100,\n",
        "    pulse_type=\"db\",\n",
        "    heart_rate=(70,71),\n",
        "    add_respiratory=True,\n",
        "    systolic=(120,121),\n",
        "    diastolic=(90,91)\n",
        ")\n",
        "\n",
        "signal_without_respiratory = lib.dsp.scg_simulate(\n",
        "    num_rows=1,\n",
        "    duration=10,\n",
        "    sampling_rate=100,\n",
        "    pulse_type=\"db\",\n",
        "    heart_rate=(70,71),\n",
        "    add_respiratory = False,\n",
        "    systolic=(120,121),\n",
        "    diastolic=(90,91)\n",
        ")\n",
        "\n",
        "plt.figure(figsize=(8,6))\n",
        "plt.subplot(2,1,1)\n",
        "plt.plot(signal_without_respiratory[:1000])\n",
        "plt.title(\"SCG without respiratory\")\n",
        "plt.xlabel(\"Time\")\n",
        "plt.ylabel(\"Amplitude\")\n",
        "plt.subplot(2,1,2)\n",
        "plt.plot(signal_with_respiratory[:1000])\n",
        "plt.title(\"SCG with respiratory\")\n",
        "plt.xlabel(\"Time\")\n",
        "plt.ylabel(\"Amplitude\")\n",
        "plt.tight_layout()\n",
        "plt.show()"
      ]
    },
    {
      "cell_type": "markdown",
      "metadata": {
        "pycharm": {
          "name": "#%% md\n"
        },
        "id": "WinWGOOC63fF"
      },
      "source": [
        "#### systolic/diastolic/heart_rate\n",
        "\n",
        "These parameters control the shape of the scg. Here, for the convenience, we only illustrate the systolic which control the length of gap between peaks. It is obvious that in one cycle, the gap between high peak and low peak is smaller with bigger systolic."
      ]
    },
    {
      "cell_type": "code",
      "execution_count": null,
      "metadata": {
        "scrolled": true,
        "pycharm": {
          "name": "#%%\n"
        },
        "id": "riWSmpaZ63fG"
      },
      "outputs": [],
      "source": [
        "import numpy as np\n",
        "import matplotlib.pyplot as plt\n",
        "import lib.dsp\n",
        "\n",
        "signal_90 = lib.dsp.scg_simulate(\n",
        "    num_rows=1,\n",
        "    duration=10,\n",
        "    sampling_rate=100,\n",
        "    pulse_type=\"db\",\n",
        "    heart_rate=(70,71),\n",
        "    respiratory_rate=(15,16),\n",
        "    systolic=(90,91),\n",
        "    diastolic=(90,91)\n",
        ")\n",
        "\n",
        "signal_170 = lib.dsp.scg_simulate(\n",
        "    num_rows=1,\n",
        "    duration=10,\n",
        "    sampling_rate=100,\n",
        "    pulse_type=\"db\",\n",
        "    heart_rate=(70,71),\n",
        "    respiratory_rate=(15,16),\n",
        "    systolic=(170,171),\n",
        "    diastolic=(90,91)\n",
        ")\n",
        "\n",
        "plt.figure(figsize=(8,6))\n",
        "plt.subplot(2,1,1)\n",
        "plt.plot(signal_90[:1000])\n",
        "plt.title(\"SCG with 90 systolic\")\n",
        "plt.xlabel(\"Time\")\n",
        "plt.ylabel(\"Amplitude\")\n",
        "plt.subplot(2,1,2)\n",
        "plt.plot(signal_170[:1000])\n",
        "plt.title(\"SCG with 170 systolic\")\n",
        "plt.xlabel(\"Time\")\n",
        "plt.ylabel(\"Amplitude\")\n",
        "plt.tight_layout()\n",
        "plt.show()"
      ]
    },
    {
      "cell_type": "markdown",
      "metadata": {
        "id": "mJiZNLu3uDIo",
        "pycharm": {
          "name": "#%% md\n"
        }
      },
      "source": [
        "# Filters"
      ]
    },
    {
      "cell_type": "markdown",
      "metadata": {
        "id": "CQA4TslEuGy-",
        "jupyter": {
          "outputs_hidden": false
        },
        "pycharm": {
          "name": "#%% md\n"
        }
      },
      "source": [
        "## **Butterworth Filters**\n",
        "\n",
        "   The Butterworth filter is a popular linear filter designed to pass signals within a specified frequency range while attenuating frequencies outside that range. It is characterized by **a smooth frequency response** and is commonly used in signal processing and communications. Mathematically, the filter transfer function is given by $H(s) = \\frac{1}{1 + (\\frac{s}{\\omega_c})^{2n}}$ where $s$ is the complex frequency variable, $\\omega_c$ is the cutoff frequency, and $n$ is the filter order.\n",
        "\n",
        "\n",
        "The \"order\" parameter in a Butterworth filter specifies the filter's degree. It determines the filter's frequency response characteristics, affecting its cutoff frequency and slope. Higher orders result in steeper cutoffs, effectively filtering out frequencies beyond the desired range. Lower orders have wider transition regions but lower phase distortion. The choice of order balances filter performance and computational complexity based on specific application requirements."
      ]
    },
    {
      "cell_type": "markdown",
      "source": [
        "**FEATURES:**\n",
        "\n",
        "**Maximally Flat Frequency Response:**\n",
        "\n",
        "* The Butterworth filter is characterized by a frequency response that is as flat as possible in the passband (the range of frequencies that are allowed to pass through the filter) and then rolls off gradually in the stopband (the range of frequencies that are attenuated).\n",
        "\n",
        "* Unlike other filters (like Chebyshev or elliptic filters), it doesn’t have ripples in the passband.\n",
        "\n",
        "**Roll-Off:**\n",
        "\n",
        "* While the Butterworth filter provides a flat passband, its transition from the passband to the stopband is smooth. The cutoff frequency is the point at which the filter begins to attenuate frequencies.\n",
        "\n",
        "* The roll-off is not as steep as other filters like Chebyshev, but it is smooth and gradual. The rate of roll-off depends on the order of the filter. A higher-order Butterworth filter has a steeper roll-off.\n",
        "\n",
        "**Phase Response:**\n",
        "\n",
        "* The Butterworth filter also has a relatively linear phase response, which means that the phase shift introduced by the filter does not distort the signal too much.\n",
        "\n",
        "**Filter Types:**\n",
        "\n",
        "* The Butterworth filter can be implemented as low-pass, high-pass, band-pass, or band-stop filters. The choice of filter type depends on the application and the frequencies you want to pass or reject.\n",
        "\n",
        "**Order of the Filter:**\n",
        "\n",
        "* The order of the Butterworth filter determines how sharp the transition is between the passband and the stopband. A higher-order filter results in a sharper transition but can also be more complex to implement.\n",
        "\n",
        "* The filter's behavior is defined by the following:\n",
        "\n",
        "    * **First-order filter:** Has a roll-off of 20 dB per decade.\n",
        "    * **Second-order filter:** Has a roll-off of 40 dB per decade.\n",
        "    * **Nth-order filter:** Has a roll-off of 20 * N dB per decade."
      ],
      "metadata": {
        "id": "sStI06rfm3Qc"
      }
    },
    {
      "cell_type": "markdown",
      "source": [
        "**Pros:**\n",
        "\n",
        "* **Flat Passband:** The Butterworth filter has no ripples in the passband, which makes it ideal when preserving the signal in the passband is critical.\n",
        "\n",
        "* **Simple Design:** It has a straightforward design and is easy to implement in both analog and digital domains.\n",
        "\n",
        "* **Well-Behaved Roll-Off:** The filter's roll-off is smooth, avoiding sudden changes in the signal's frequency response.\n",
        "\n",
        "**Cons:**\n",
        "\n",
        "* **Gradual Roll-Off:** The Butterworth filter's roll-off is not as steep as that of other filters like Chebyshev or elliptic filters, meaning that the stopband may not be completely attenuated as quickly.\n",
        "\n",
        "* **Higher Order Filters:** To achieve a sharper roll-off, higher-order filters are required, which increases the complexity and can introduce more delay or distortion."
      ],
      "metadata": {
        "id": "iSnzRoIJm-sT"
      }
    },
    {
      "cell_type": "code",
      "execution_count": null,
      "metadata": {
        "id": "HTByR_5BuGy_",
        "jupyter": {
          "outputs_hidden": false
        },
        "pycharm": {
          "name": "#%%\n"
        }
      },
      "outputs": [],
      "source": [
        "from lib.dsp import butter_highpass_filter, scg_simulate, my_stft, add_distort_noise\n",
        "import numpy as np\n",
        "import matplotlib.pyplot as plt\n",
        "\n",
        "signal = scg_simulate()[:1000]\n",
        "\n",
        "\"\"\"\n",
        "Add low-frequency noise (below 3Hz) to the signal. Then apply a Butterworth high-pass filter to the remove signals below 5Hz. The output of the STFT indicates few energy in the signal below 5Hz.\n",
        "\"\"\"\n",
        "# signal_with_3Hz_Noise, Add noise with a frequency of 3 to the signal. The amplitude of the noise is noise_amplitude * np.std(signal).\n",
        "\n",
        "show = True\n",
        "signal_with_3Hz_Noise = add_distort_noise(signal, n_samples=1000, sampling_rate=100,noise_frequency=3,  noise_amplitude=0.5, show=True)\n",
        "filtered_signal_1 = butter_highpass_filter(signal_with_3Hz_Noise, cutoff=5, order=10, show=True)\n",
        "if show:\n",
        "    \"show the comparison of Noisy Signal and Filtered Signal\"\n",
        "    _, _, _ = my_stft(signal_with_3Hz_Noise, plot=True, fs=100)\n",
        "    _, _, _ = my_stft(filtered_signal_1, plot=True, fs=100)\n",
        "\n",
        "# Plot the effectiveness of the results\n",
        "plt.figure(figsize=(10, 6))\n",
        "t = np.linspace(0, 1000, len(signal))\n",
        "\n",
        "# Plot original signal\n",
        "plt.plot(t, signal_with_3Hz_Noise, label=\"Noisy Signal\", color='red', alpha=0.6)\n",
        "\n",
        "# Plot the smoothed signal\n",
        "plt.plot(t, filtered_signal_1, label=f\"Filtered Signal\", color='blue', linewidth=2)\n",
        "\n",
        "# Plot the true signal\n",
        "plt.plot(t, signal, label=\"True Signal\", color='green', linestyle='--', alpha=0.8)\n",
        "\n",
        "# Labels and legend\n",
        "plt.title(\"Effectiveness of Simple Moving Average Filter\")\n",
        "plt.xlabel(\"Time\")\n",
        "plt.ylabel(\"Amplitude\")\n",
        "plt.legend()\n",
        "\n",
        "plt.grid(True)\n",
        "plt.show()"
      ]
    },
    {
      "cell_type": "code",
      "execution_count": null,
      "metadata": {
        "id": "cijhPU5quGy_",
        "jupyter": {
          "outputs_hidden": false
        },
        "pycharm": {
          "name": "#%%\n"
        }
      },
      "outputs": [],
      "source": [
        "from lib.dsp import butter_lowpass_filter, scg_simulate, my_stft, sine_wave\n",
        "import numpy as np\n",
        "import matplotlib.pyplot as plt\n",
        "\n",
        "signal = scg_simulate()[:1000]\n",
        "\"\"\"\n",
        "Add high-frequency sine wave (45Hz) to the signal. Then apply a Butterworth low-pass filter to the remove signals above 42.5Hz. The output of the STFT indicates few energy in the signal above 42.5Hz. However, there are still some residual components remaining.\n",
        "\"\"\"\n",
        "show = True\n",
        "\n",
        "signal_with_45Hz_sine_noise = signal+sine_wave(frequency=45, amplitude=0.8e-6, show=False)\n",
        "filtered_signal_2 = butter_lowpass_filter(signal_with_45Hz_sine_noise, cutoff=42.5, show=True)\n",
        "\n",
        "if show:\n",
        "    \"show the comparison of Noisy Signal and Filtered Signal\"\n",
        "    _, _, _ = my_stft(signal_with_45Hz_sine_noise, plot=True, fs=100)\n",
        "    _, _, _ = my_stft(filtered_signal_2, plot=True, fs=100)\n",
        "\n",
        "\n",
        "# Plot the effectiveness of the results\n",
        "plt.figure(figsize=(10, 6))\n",
        "t = np.linspace(0, 1000, len(signal))\n",
        "\n",
        "# Plot original signal\n",
        "plt.plot(t, signal_with_45Hz_sine_noise, label=\"Noisy Signal\", color='red', alpha=0.6)\n",
        "\n",
        "# Plot the smoothed signal\n",
        "plt.plot(t, filtered_signal_2, label=f\"Filtered Signal\", color='blue', linewidth=2)\n",
        "\n",
        "# Plot the true signal\n",
        "plt.plot(t, signal, label=\"True Signal\", color='green', linestyle='--', alpha=0.8)\n",
        "\n",
        "# Labels and legend\n",
        "plt.title(\"Effectiveness of Simple Moving Average Filter\")\n",
        "plt.xlabel(\"Time\")\n",
        "plt.ylabel(\"Amplitude\")\n",
        "plt.legend()\n",
        "\n",
        "plt.grid(True)\n",
        "plt.show()"
      ]
    },
    {
      "cell_type": "code",
      "execution_count": null,
      "metadata": {
        "id": "e1XTsfwbuGzS",
        "jupyter": {
          "outputs_hidden": false
        },
        "pycharm": {
          "name": "#%%\n"
        }
      },
      "outputs": [],
      "source": [
        "from lib.dsp import butter_bandpass_filter, scg_simulate, my_stft\n",
        "import numpy as np\n",
        "import matplotlib.pyplot as plt\n",
        "\n",
        "signal = scg_simulate()[:1000]\n",
        "\"\"\"\n",
        "Add a high-frequency sine wave (45Hz) and a low-frequency sine wave (3Hz) to the signal. Then apply a Butterworth bandpass filter to the remove signals above 42.5Hz and below 5Hz. The output of the STFT indicates most of energy in the signal in the range of 5Hz to 42.5Hz.\n",
        "\"\"\"\n",
        "show = True\n",
        "signal_with_3Hz_and_45Hz_sine_noise = signal+sine_wave(frequency=45, amplitude=0.8e-6, show=False)+sine_wave(frequency=3, amplitude=1e-6, show=False)\n",
        "filtered_signal_3 = butter_bandpass_filter(signal_with_3Hz_and_45Hz_sine_noise, lowcut=5, highcut=42.5, order=10, show=True)\n",
        "if show:\n",
        "    \"show the comparison of Noisy Signal and Filtered Signal\"\n",
        "    _, _, _ = my_stft(signal_with_3Hz_and_45Hz_sine_noise, plot=True, fs=100)\n",
        "    _, _, _ = my_stft(filtered_signal_3, plot=True, fs=100)\n",
        "\n",
        "\n",
        "# Plot the effectiveness of the results\n",
        "plt.figure(figsize=(10, 6))\n",
        "t = np.linspace(0, 1000, len(signal))\n",
        "\n",
        "# Plot original signal\n",
        "plt.plot(t, signal_with_3Hz_and_45Hz_sine_noise, label=\"Noisy Signal\", color='red', alpha=0.6)\n",
        "\n",
        "# Plot the smoothed signal\n",
        "plt.plot(t, filtered_signal_3, label=f\"Filtered Signal\", color='blue', linewidth=2)\n",
        "\n",
        "# Plot the true signal\n",
        "plt.plot(t, signal, label=\"True Signal\", color='green', linestyle='--', alpha=0.8)\n",
        "\n",
        "# Labels and legend\n",
        "plt.title(\"Effectiveness of Simple Moving Average Filter\")\n",
        "plt.xlabel(\"Time\")\n",
        "plt.ylabel(\"Amplitude\")\n",
        "plt.legend()\n",
        "\n",
        "plt.grid(True)\n",
        "plt.show()"
      ]
    },
    {
      "cell_type": "code",
      "execution_count": null,
      "metadata": {
        "id": "OdheQIRduGzT",
        "jupyter": {
          "outputs_hidden": false
        },
        "pycharm": {
          "name": "#%%\n"
        }
      },
      "outputs": [],
      "source": [
        "import numpy as np\n",
        "import matplotlib.pyplot as plt\n",
        "from lib.dsp import butter_bandstop_filter, sine_wave, scg_simulate, my_stft\n",
        "\n",
        "signal = scg_simulate()[:1000]\n",
        "\"\"\"\n",
        "Add a 10Hz sine wave to the signal. Then apply a Butterworth band-stop filter to the remove signals in the range of 9Hz to 11Hz. The output of the STFT indicates few energy in the signal in the range of 9Hz to 11Hz.\n",
        "\"\"\"\n",
        "show=True\n",
        "sine_noise = sine_wave(frequency=10, amplitude=0.8e-6, show=False)\n",
        "signal_with_10Hz_sine_noise = signal + sine_noise\n",
        "plt.figure(figsize=(8,3))\n",
        "plt.plot(signal_with_10Hz_sine_noise)\n",
        "plt.title('Signal with 10Hz Sine Noise');plt.show()\n",
        "filtered_signal_4 = butter_bandstop_filter(signal_with_10Hz_sine_noise, lowcut=9, highcut=11, show=True)\n",
        "\n",
        "if show:\n",
        "    \"show the comparison of Noisy Signal and Filtered Signal\"\n",
        "    _, _, _ = my_stft(signal_with_10Hz_sine_noise, plot=True, fs=100)\n",
        "    _, _, _ = my_stft(filtered_signal_4, plot=True, fs=100)\n",
        "\n",
        "# Plot the effectiveness of the results\n",
        "plt.figure(figsize=(10, 6))\n",
        "t = np.linspace(0, 1000, len(signal))\n",
        "\n",
        "# Plot original signal\n",
        "plt.plot(t, signal_with_10Hz_sine_noise, label=\"Noisy Signal\", color='red', alpha=0.6)\n",
        "\n",
        "# Plot the smoothed signal\n",
        "plt.plot(t, filtered_signal_4, label=f\"Filtered Signal\", color='blue', linewidth=2)\n",
        "\n",
        "# Plot the true signal\n",
        "plt.plot(t, signal, label=\"True Signal\", color='green', linestyle='--', alpha=0.8)\n",
        "\n",
        "# Labels and legend\n",
        "plt.title(\"Effectiveness of Simple Moving Average Filter\")\n",
        "plt.xlabel(\"Time\")\n",
        "plt.ylabel(\"Amplitude\")\n",
        "plt.legend()\n",
        "\n",
        "plt.grid(True)\n",
        "plt.show()"
      ]
    },
    {
      "cell_type": "markdown",
      "metadata": {
        "id": "7neAAygVwpDZ",
        "pycharm": {
          "name": "#%% md\n"
        }
      },
      "source": [
        "## Moving Average Filters\n",
        "\n",
        "A moving average filter is a simple and widely used signal processing technique that smooths out fluctuations or noise in data by averaging a sliding window of values from the input data over time. It's commonly used in time series data, such as stock prices, sensor readings, or audio signals, to help highlight trends or patterns by reducing short-term variations.\n",
        "\n",
        "</br>\n",
        "\n",
        "**Steps:**\n",
        "\n",
        "\n",
        "1. **Define window size:** This is the number of consecutive data points considered at a time. For example, in a moving average with a window size of 3, each value in the output is the average of the previous three data points from the input.\n",
        "\n",
        "2. **Slide the window across the data:** For each point in the data, the window shifts one position forward, and a new average is calculated for the new set of data points within the window.\n",
        "\n",
        "3. **Output:** The result is a smoother version of the input data, where the short-term fluctuations are reduced.\n",
        "\n",
        "</br>\n",
        "\n",
        "**Types:**\n",
        "\n",
        "</br>\n",
        "\n",
        "* **Simple Moving Average (SMA):** Each data point in the window is given equal weight.\n",
        "\n",
        "* **Weighted Moving Average (WMA):** More recent data points are given higher weight than older ones.\n",
        "\n",
        "* **Exponential Moving Average (EMA):** The weight decreases exponentially with time, giving more importance to recent data points.  It is a special case of the WMA.\n",
        "\n",
        "</br>\n",
        "\n",
        "The moving average filter is widely used for data smoothing, noise reduction, and trend identification in fields like finance, engineering, and signal processing."
      ]
    },
    {
      "cell_type": "markdown",
      "source": [
        "**Pros:**\n",
        "\n",
        "1. **Simplicity:** Moving average filters are easy to implement and understand. They involve simple arithmetic (averaging) and are computationally inexpensive.\n",
        "\n",
        "2. **Noise Reduction:** These filters are effective at removing random noise, especially in cases where the noise is high-frequency, making the signal smoother.\n",
        "\n",
        "3. **Stability:** They are stable and do not introduce any complex artifacts. The output is typically smooth, which is useful for many applications like signal filtering or trend analysis.\n",
        "\n",
        "4. **Effective for Low-Frequency Signals:** Moving averages are well-suited to data that exhibits low-frequency variations or trends, as they preserve the signal while removing rapid fluctuations.\n",
        "\n",
        "5. **Widely Used:** They are commonly used in various fields such as stock market analysis (e.g., moving average of stock prices), sensor data smoothing, and image processing (e.g., blurring).\n",
        "\n",
        "</br>\n",
        "\n",
        "**Cons:**\n",
        "\n",
        "1. **Delay/Phase Shift:** Moving average filters introduce a delay in the signal, especially for long window sizes. This is problematic for real-time systems or time-sensitive applications. The output may lag behind the actual data.\n",
        "\n",
        "2. **Loss of High-Frequency Information:** These filters can attenuate high-frequency signals or rapid changes in data, which may be undesirable in applications that require preserving sharp transitions (e.g., edge detection in images).\n",
        "\n",
        "3. **Window Size Sensitivity:** The performance of a moving average filter heavily depends on the window size. A too-small window might not filter enough noise, while a too-large window may overly smooth the signal, losing important details.\n",
        "\n",
        "4. **Edge Effects:** For data at the boundaries (e.g., the start or end of a time series or image), moving averages may produce unreliable results because the filter may not have enough data points on one side of the window.\n",
        "\n",
        "5. **Not Ideal for Non-Stationary Data:** Moving average filters are better suited for stationary or slow-varying signals. They may not perform well with non-stationary signals (i.e., signals that have trends or abrupt changes).\n",
        "\n",
        "6. **Over-Smoothing:** In some cases, particularly with larger window sizes, the filter can over-smooth the signal, removing important variations or trends in the data."
      ],
      "metadata": {
        "id": "zktO8Xk7Ry5C"
      }
    },
    {
      "cell_type": "markdown",
      "metadata": {
        "id": "-GCOMbEzw24E",
        "pycharm": {
          "name": "#%% md\n"
        }
      },
      "source": [
        "### **Simple Moving Average (SMA) Filter:**\n",
        "   The SMA filter is a basic time-domain filter that computes the average of a specified number of consecutive data points. It provides a simple means of smoothing a time series to reveal underlying trends. Mathematically, the SMA for a window size $N$ is given by $y(t) = \\frac{1}{N} \\sum_{i=1}^{N} x(t-i+1)$. Essentially, the SMA filter is a type of **low-pass filter**."
      ]
    },
    {
      "cell_type": "code",
      "execution_count": null,
      "metadata": {
        "jupyter": {
          "outputs_hidden": false
        },
        "pycharm": {
          "name": "#%%\n"
        },
        "id": "1UVDr3Ln63fI"
      },
      "outputs": [],
      "source": [
        "from lib.dsp import simple_moving_average_filter, add_distort_noise, my_stft, sine_wave\n",
        "import numpy as np\n",
        "import matplotlib.pyplot as plt\n",
        "\n",
        "\"\"\"\n",
        "Regarding the moving averaging filter, the most important parameter is \"len\", which determines the length of the signal over which the average it taken.\n",
        "A larger \"len\" results in better smoothing effects. By setting \"show\" to True and observe the STFT plot output, it's noticeable that \"filtered_signal_5_5\" still contains considerable high-frequency components, while \"filtered_signal_5_20\" has almost no high-frequency energy.\n",
        "\"\"\"\n",
        "show=True\n",
        "signal = sine_wave(duration=10, sampling_rate=100, frequency=0.5)\n",
        "signal_with_40Hz_Noise = add_distort_noise(signal, n_samples=1000, sampling_rate=100,noise_frequency=40,  noise_amplitude=0.3, show=True)\n",
        "\n",
        "filtered_signal_5_5 = simple_moving_average_filter(signal_with_40Hz_Noise, length=5, show=True)\n",
        "if show:\n",
        "    _, _, _ = my_stft(filtered_signal_5_5, plot=True, fs=100)\n",
        "\n",
        "filtered_signal_5_25 = simple_moving_average_filter(signal_with_40Hz_Noise, length=25, show=True)\n",
        "if show:\n",
        "    _, _, _ = my_stft(filtered_signal_5_25, plot=True, fs=100)\n",
        "\n",
        "\n",
        "# Plot the effectiveness of the results\n",
        "plt.figure(figsize=(10, 6))\n",
        "t = np.linspace(0, 1000, len(signal))\n",
        "\n",
        "# Plot original signal\n",
        "plt.plot(t, signal_with_40Hz_Noise, label=\"Noisy Signal\", color='red', alpha=0.6)\n",
        "\n",
        "# Plot the smoothed signal with Window Size 5\n",
        "plt.plot(t, filtered_signal_5_5, label=f\"Smoothed Signal (Window size={5})\", color='purple', linewidth=2)\n",
        "\n",
        "# Plot the smoothed signal with Window Size 25\n",
        "plt.plot(t, filtered_signal_5_25, label=f\"Smoothed Signal (Window size={25})\", color='blue', linewidth=2)\n",
        "\n",
        "# Plot the true signal\n",
        "plt.plot(t, signal, label=\"True Signal\", color='green', linestyle='--', alpha=0.8)\n",
        "\n",
        "# Labels and legend\n",
        "plt.title(\"Effectiveness of Filter\")\n",
        "plt.xlabel(\"Time\")\n",
        "plt.ylabel(\"Amplitude\")\n",
        "plt.legend()\n",
        "\n",
        "plt.grid(True)\n",
        "plt.show()\n"
      ]
    },
    {
      "cell_type": "markdown",
      "metadata": {
        "id": "uSJfPpwRw3JR",
        "pycharm": {
          "name": "#%% md\n"
        }
      },
      "source": [
        "### **Exponential Moving Average (EMA) Filter:**\n",
        "   The EMA filter assigns exponentially decreasing weights to past data points, **giving more importance to recent observations**. It is widely used for trend analysis and noise reduction. Mathematically, the EMA is defined by $y(t) = \\alpha x(t) + (1-\\alpha)y(t-1)$, where $\\alpha$ is the smoothing factor. Essentially, the EMA filter is a type of **low-pass filter** too."
      ]
    },
    {
      "cell_type": "code",
      "execution_count": null,
      "metadata": {
        "jupyter": {
          "outputs_hidden": false
        },
        "pycharm": {
          "name": "#%%\n"
        },
        "id": "PpekMt2w63fJ"
      },
      "outputs": [],
      "source": [
        "from lib.dsp import exponential_moving_average_filter, add_distort_noise, my_stft, sine_wave\n",
        "import numpy as np\n",
        "import matplotlib.pyplot as plt\n",
        "\n",
        "\"\"\"\n",
        "The \"alpha\" parameter in an Exponential Moving Average (EMA) filter controls the weighting of each data point, determining how much emphasis is placed on recent data versus past data. A smaller alpha results in faster decay and higher emphasis on recent data, while a larger alpha leads to slower decay and more emphasis on past data.\n",
        "\"\"\"\n",
        "show=True\n",
        "signal = sine_wave(duration=10, sampling_rate=100, frequency=0.5)\n",
        "\n",
        "signal_with_40Hz_Noise = add_distort_noise(signal, n_samples=1000, sampling_rate=100,noise_frequency=40,  noise_amplitude=0.3, show=True)\n",
        "\n",
        "filtered_signal_6 = exponential_moving_average_filter(signal_with_40Hz_Noise, length=25, alpha=0.2, show=True)\n",
        "if show:\n",
        "    _, _, _ = my_stft(filtered_signal_6, plot=True, fs=100)\n",
        "\n",
        "filtered_signal_6_ = exponential_moving_average_filter(signal_with_40Hz_Noise, length=25, alpha=0.8, show=True)\n",
        "if show:\n",
        "    _, _, _ = my_stft(filtered_signal_6_, plot=True, fs=100)\n",
        "\n",
        "\n",
        "# Plot the effectiveness of the results\n",
        "plt.figure(figsize=(10, 6))\n",
        "t = np.linspace(0, 1000, len(signal))\n",
        "\n",
        "# Plot original signal\n",
        "plt.plot(t, signal_with_40Hz_Noise, label=\"Noisy Signal\", color='red', alpha=0.6)\n",
        "\n",
        "# Plot the smoothed signal with Window Size 5\n",
        "plt.plot(t, filtered_signal_6, label=f\"Smoothed Signal (Window size={5})\", color='purple', linewidth=2)\n",
        "\n",
        "# Plot the smoothed signal with Window Size 25\n",
        "plt.plot(t, filtered_signal_6_, label=f\"Smoothed Signal (Window size={25})\", color='blue', linewidth=2)\n",
        "\n",
        "# Plot the true signal\n",
        "plt.plot(t, signal, label=\"True Signal\", color='green', linestyle='--', alpha=0.8)\n",
        "\n",
        "# Labels and legend\n",
        "plt.title(\"Effectiveness of Filter\")\n",
        "plt.xlabel(\"Time\")\n",
        "plt.ylabel(\"Amplitude\")\n",
        "plt.legend()\n",
        "\n",
        "plt.grid(True)\n",
        "plt.show()"
      ]
    },
    {
      "cell_type": "markdown",
      "metadata": {
        "id": "fNhYCy8iuGzU",
        "jupyter": {
          "outputs_hidden": false
        },
        "pycharm": {
          "name": "#%% md\n"
        }
      },
      "source": [
        "## Advanced Filter\n"
      ]
    },
    {
      "cell_type": "markdown",
      "metadata": {
        "id": "le35HMuIuGzU",
        "jupyter": {
          "outputs_hidden": false
        },
        "pycharm": {
          "name": "#%% md\n"
        }
      },
      "source": [
        "### 1. **Savitzky-Golay Filter (savgol_filter):**\n",
        "   The Savitzky-Golay filter is a smoothing algorithm that preserves important features of a signal while reducing noise. It employs polynomial fitting within a sliding window to smooth the data.\n",
        "\n",
        "   </br>\n",
        "\n",
        "   It's particularly useful in signal processing and data analysis to reduce noise while retaining the shape and characteristics of the original data. The Savitzky-Golay filter is a type of polynomial smoothing filter, and it works by fitting successive polynomials to the data.\n",
        "   \n",
        "   </br>\n",
        "   \n",
        "   Mathematically, the filter coefficients are determined by least squares fitting, providing a balance between noise reduction and signal preservation.\n",
        "\n",
        "   </br>\n",
        "   \n",
        "   $Minimize \\text{ } \\sum_{i=-m}^{m} (y_{k+i} - \\sum_{j=0}^{p} a_j x_{k+i}^2)^2$\n",
        "\n",
        "   </br>\n",
        "\n",
        "  The Savitzky-Golay filter smooths a set of data points by fitting a polynomial of degree ***k*** to a window of ***2m+1*** data points (where ***m*** is half the window size). The polynomial coefficients are calculated through least squares fitting, and the output at each point is the value of the polynomial at the center of the window.\n",
        "\n",
        "  </br>\n",
        "\n",
        "  **Example:**\n",
        "\n",
        "  If polynomial is $y=a_0+a_1x+a_2x^2$\n",
        "\n",
        "  then $Minimize \\text{ } \\sum_{i=-2}^2 (y_{k+i}-(a_0+a_1x_{k+i}+a_2x_{k+i}^2))^2$\n",
        "\n",
        "  <br> <br> **Reference:** https://medium.com/pythoneers/introduction-to-the-savitzky-golay-filter-a-comprehensive-guide-using-python-b2dd07a8e2ce\n"
      ]
    },
    {
      "cell_type": "markdown",
      "source": [
        "**Features:**\n",
        "\n",
        "</br>\n",
        "\n",
        "* **Polynomial Fitting:** The Savitzky-Golay filter fits a polynomial of a specified degree to a sliding window of data points. This helps smooth the data while keeping the underlying trend intact.\n",
        "\n",
        "* **Window Size:** The filter operates on a window of data points, and the window size (usually an odd number) determines how much data the filter uses to fit the polynomial.\n",
        "\n",
        "* **Preserves Features**: Unlike a simple moving average filter that can distort peaks and valleys, the Savitzky-Golay filter preserves these features better, especially with higher-degree polynomials.\n",
        "\n",
        "* **Differentiation:** The Savitzky-Golay filter can also be used for differentiating data (i.e., calculating derivatives), making it useful in many applications like spectroscopy, where you might want to find the rate of change of a signal."
      ],
      "metadata": {
        "id": "SGTWcmd4eLRW"
      }
    },
    {
      "cell_type": "markdown",
      "source": [
        "**Steps:**\n",
        "\n",
        "</br>\n",
        "\n",
        "1. **Window:** The data is divided into overlapping windows, and in each window, a polynomial is fitted to the data points.\n",
        "\n",
        "2. **Polynomial Fitting:** The polynomial is fitted using least squares to minimize the error between the polynomial and the data points in that window.\n",
        "\n",
        "3. **Smoothing:** The smoothed value for each data point is the value of the fitted polynomial at the center of the window."
      ],
      "metadata": {
        "id": "H0VC5l6dfJCJ"
      }
    },
    {
      "cell_type": "markdown",
      "source": [
        "**Pros:**\n",
        "\n",
        "* **Preserves Peaks and Valleys:** Unlike moving averages, it does not distort sharp features like peaks, valleys, or edges.\n",
        "\n",
        "* **Works for Differentiation:** Can be used for derivative calculations, making it useful for identifying slopes or rates of change in data.\n",
        "\n",
        "* **Flexibility:** The window size and polynomial degree can be adjusted to balance smoothing and feature preservation.\n",
        "\n",
        "**Cons:**\n",
        "\n",
        "* **Edge Effects:** Like other filters, Savitzky-Golay can produce unreliable results at the boundaries of the data (near the edges).\n",
        "\n",
        "* **Computational Cost:** It can be more computationally intensive than simpler filters like moving averages, especially for large datasets."
      ],
      "metadata": {
        "id": "uTRByBMZgOk9"
      }
    },
    {
      "cell_type": "code",
      "execution_count": null,
      "metadata": {
        "jupyter": {
          "outputs_hidden": false
        },
        "pycharm": {
          "name": "#%%\n"
        },
        "id": "ecfdr5Aa63fK"
      },
      "outputs": [],
      "source": [
        "from lib.dsp import savgol_filter, scg_simulate, add_distort_noise, my_stft\n",
        "import numpy as np\n",
        "import matplotlib.pyplot as plt\n",
        "\n",
        "signal = scg_simulate()[:1000]\n",
        "\n",
        "# =========== Usage 1 ===========\n",
        "\"\"\"\n",
        "It's nice for us to use savgol filter to get rid of low-frequency noise.\n",
        "We can use a savgol filter whose window size is 16 to get the low frequency noise.\n",
        "A larger window size results in larger smoothing effects.\n",
        "\"\"\"\n",
        "\n",
        "show=True\n",
        "signal_with_5Hz_noise = add_distort_noise(signal, n_samples=1000, sampling_rate=100,noise_frequency=5,  noise_amplitude=0.8, show=True)\n",
        "\n",
        "filtered_signal_7 = savgol_filter(signal_with_5Hz_noise, window_length=15, show=False)\n",
        "if show:\n",
        "    _, _, _ = my_stft(signal_with_5Hz_noise, plot=True, fs=100)\n",
        "    _, _, _ = my_stft(filtered_signal_7, plot=True, fs=100)\n",
        "\n",
        "# filtered signal  = noisy signal - output of savgol filter\n",
        "_, axes = plt.subplots(nrows=2, ncols=1, figsize=(8,6))\n",
        "\n",
        "axes[0].plot(signal_with_5Hz_noise, label='noisy Signal')\n",
        "axes[0].plot(filtered_signal_7, label='filtered signal')\n",
        "axes[1].plot(signal_with_5Hz_noise, label='noisy signal')\n",
        "axes[1].plot(signal_with_5Hz_noise - filtered_signal_7, label='detrended signal')\n",
        "plt.tight_layout()\n",
        "plt.legend()\n",
        "plt.show()\n",
        "\n",
        "\n",
        "# Plot the effectiveness of the results\n",
        "plt.figure(figsize=(10, 6))\n",
        "t = np.linspace(0, 1000, len(signal))\n",
        "\n",
        "# Plot original signal\n",
        "plt.plot(t, signal_with_5Hz_noise, label=\"Noisy Signal\", color='red', alpha=0.6)\n",
        "\n",
        "# Plot the smoothed signal\n",
        "plt.plot(t, filtered_signal_7, label=f\"Smoothed Signal (Window size={15})\", color='blue', linewidth=2)\n",
        "\n",
        "# Plot the true signal\n",
        "plt.plot(t, signal, label=\"True Signal\", color='green', linestyle='--', alpha=0.8)\n",
        "\n",
        "# Labels and legend\n",
        "plt.title(\"Effectiveness of Simple Moving Average Filter\")\n",
        "plt.xlabel(\"Time\")\n",
        "plt.ylabel(\"Amplitude\")\n",
        "plt.legend()\n",
        "\n",
        "plt.grid(True)\n",
        "plt.show()"
      ]
    },
    {
      "cell_type": "code",
      "execution_count": null,
      "metadata": {
        "jupyter": {
          "outputs_hidden": false
        },
        "pycharm": {
          "name": "#%%\n"
        },
        "id": "Fhtzlipt63fK"
      },
      "outputs": [],
      "source": [
        "from lib.dsp import savgol_filter, sine_wave, add_distort_noise\n",
        "import numpy as np\n",
        "import matplotlib.pyplot as plt\n",
        "\n",
        "# =========== Usage 2 ===========\n",
        "\"\"\"\n",
        "Use savgol_filter to get derivative of signal.\n",
        "The main purpose of using the Savitzky-Golay (SG) filter to compute derivatives is to simultaneously smooth and denoise the data while estimating its derivatives. This method is particularly useful when dealing with noisy signals. Computing derivatives using the SG filter helps extract the trend of the signal and provides more reliable estimates, especially in the presence of noise.\n",
        "\n",
        "We generate a sine wave with high-frequency noise and compare the derivatives obtained by using the SG filter with those computed directly.\n",
        "\n",
        "The `deriv` parameter specifies the order of derivative to compute using the SG filter, while the `delta` parameter specifies the spacing between adjacent elements in the input array.\n",
        "\"\"\"\n",
        "\n",
        "sine4sg = sine_wave(duration=10, sampling_rate=100, frequency=0.5)\n",
        "sine4sg_with_5Hz_noise = add_distort_noise(sine4sg, n_samples=1000, sampling_rate=100,noise_frequency=40,  noise_amplitude=0.15, show=True)\n",
        "filtered_sine4sg = savgol_filter(sine4sg_with_5Hz_noise, window_length=5, deriv=0, delta=1.0, show=True)\n",
        "\n",
        "show=True\n",
        "if show:\n",
        "    _, _, _ = my_stft(signal_with_5Hz_noise, plot=True, fs=100)\n",
        "    _, _, _ = my_stft(filtered_sine4sg, plot=True, fs=100)\n",
        "\n",
        "# Plot the effectiveness of the results\n",
        "plt.figure(figsize=(10, 6))\n",
        "t = np.linspace(0, 1000, len(sine4sg))\n",
        "\n",
        "# Plot original signal\n",
        "plt.plot(t, sine4sg_with_5Hz_noise, label=\"Noisy Signal\", color='red', alpha=0.6)\n",
        "\n",
        "# Plot the smoothed signal\n",
        "plt.plot(t, filtered_sine4sg, label=f\"Smoothed Signal (Window size={5})\", color='blue', linewidth=2)\n",
        "\n",
        "# Plot the true signal\n",
        "plt.plot(t, sine4sg, label=\"True Signal\", color='green', linestyle='--', alpha=0.8)\n",
        "\n",
        "# Labels and legend\n",
        "plt.title(\"Effectiveness of Filter\")\n",
        "plt.xlabel(\"Time\")\n",
        "plt.ylabel(\"Amplitude\")\n",
        "plt.legend()\n",
        "\n",
        "plt.grid(True)\n",
        "plt.show()"
      ]
    },
    {
      "cell_type": "code",
      "source": [
        "import numpy as np\n",
        "import matplotlib.pyplot as plt\n",
        "from scipy.signal import savgol_filter\n",
        "\n",
        "# Generate synthetic noisy data (sine wave with noise)\n",
        "np.random.seed(42)\n",
        "t = np.linspace(0, 10, 500)\n",
        "signal = np.sin(t)\n",
        "noise = np.random.normal(0, 0.5, len(t))\n",
        "noisy_signal = signal + noise\n",
        "\n",
        "# Apply Savitzky-Golay filter\n",
        "window_size = 51  # Odd number for the window size\n",
        "polynomial_order = 3  # Polynomial order\n",
        "smoothed_signal = savgol_filter(noisy_signal, window_size, polynomial_order)\n",
        "\n",
        "# Plot results\n",
        "plt.figure(figsize=(10, 6))\n",
        "\n",
        "# Plot original noisy signal\n",
        "plt.plot(t, noisy_signal, label=\"Noisy Signal\", color='red', alpha=0.6)\n",
        "\n",
        "# Plot smoothed signal\n",
        "plt.plot(t, smoothed_signal, label=f\"Smoothed Signal (Savitzky-Golay)\", color='blue', linewidth=2)\n",
        "\n",
        "# Plot the true signal\n",
        "plt.plot(t, signal, label=\"True Signal\", color='green', linestyle='--', alpha=0.8)\n",
        "\n",
        "# Labels and legend\n",
        "plt.title(\"Savitzky-Golay Filter for Smoothing Data\")\n",
        "plt.xlabel(\"Time\")\n",
        "plt.ylabel(\"Amplitude\")\n",
        "plt.legend()\n",
        "\n",
        "plt.grid(True)\n",
        "plt.show()"
      ],
      "metadata": {
        "id": "lzSOMZBxjA1-"
      },
      "execution_count": null,
      "outputs": []
    },
    {
      "cell_type": "markdown",
      "metadata": {
        "id": "LIJg-e_rP7YD",
        "pycharm": {
          "name": "#%% md\n"
        }
      },
      "source": [
        "### 2. **Wiener Filter:**\n",
        "\n",
        "**Reference:**\n",
        "https://en.wikipedia.org/wiki/Wiener_filter\n",
        "\n",
        "The Wiener filter is an optimal linear filter used for signal deconvolution and noise reduction. It minimizes mean-squared error between the estimated signal and the true signal, enhancing signal-to-noise ratio. Mathematically, the Wiener filter in the frequency domain is given by $H(f) = \\frac{S_x(f)}{S_x(f) + S_n(f)}$, where $S_x(f)$ is the signal power spectrum, $S_n(f)$ is the noise power spectrum.\n",
        "\n",
        "The goal of the Wiener filter is to compute a statistical estimate of an unknown signal using a related signal as an input and filtering that known signal to produce the estimate as an output. For example, the known signal might consist of an unknown signal of interest that has been corrupted by additive noise. The Wiener filter can be used to filter out the noise from the corrupted signal to provide an estimate of the underlying signal of interest. The Wiener filter is based on a statistical approach.\n",
        "\n",
        "Typical deterministic filters are designed for a desired frequency response. However, the design of the Wiener filter takes a different approach. One is assumed to have knowledge of the spectral properties of the original signal and the noise, and one seeks the linear time-invariant filter whose output would come as close to the original signal as possible. Wiener filters are characterized by the following:\n",
        "\n",
        "* **Assumption:** signal and (additive) noise are stationary linear stochastic processes with known spectral characteristics or known autocorrelation and cross-correlation\n",
        "* **Requirement**: the filter must be physically realizable/causal (this requirement can be dropped, resulting in a non-causal solution)\n",
        "* **Performance criterion:** minimum mean-square error (MMSE)."
      ]
    },
    {
      "cell_type": "code",
      "execution_count": null,
      "metadata": {
        "jupyter": {
          "outputs_hidden": false
        },
        "pycharm": {
          "name": "#%%\n"
        },
        "id": "Wz9ibV4G63fQ"
      },
      "outputs": [],
      "source": [
        "from lib.dsp import wiener_filter, scg_simulate, my_stft\n",
        "import numpy as np\n",
        "import matplotlib.pyplot as plt\n",
        "\n",
        "signal = scg_simulate()[:1000]\n",
        "\n",
        "# wiener_filter needs to know the statistical feature of noise\n",
        "# construct the data for wiener filter\n",
        "noise_amp = 0.2\n",
        "noise = np.random.normal(loc=0.0, scale=1.0*noise_amp, size=signal.shape) * np.max(signal)\n",
        "filtered_signal_8 = wiener_filter(signal + noise, noise, show=True)\n",
        "\n",
        "show=True\n",
        "if show :\n",
        "    _, _, _ = my_stft(noise, plot=True, fs=100)\n",
        "    _, _, _ = my_stft(filtered_signal_8, plot=True, fs=100)\n"
      ]
    },
    {
      "cell_type": "markdown",
      "metadata": {
        "id": "yehMuDgyP7nC",
        "pycharm": {
          "name": "#%% md\n"
        }
      },
      "source": [
        "### 3. **Notch Filter:**\n",
        "\n",
        "The notch filter is designed to suppress specific frequencies, often used to eliminate unwanted interference or noise at a particular frequency. It creates a notch or a dip in the frequency response centered around the target frequency. Mathematically, the transfer function of a notch filter can be represented as $H(f) = \\frac{1}{1 + \\frac{(f/f_0)^2}{Q}}$, where $f_0$ is the center frequency, and $Q$ is the quality factor.\n",
        "\n",
        "Notch filters and bandstop filters are similar in that they both attenuate specific frequency ranges within a signal. However, they are not exactly the same.\n",
        "\n",
        "* A notch filter is a type of bandstop filter specifically designed to attenuate a narrow range of frequencies, typically centered around a single frequency. It creates a \"notch\" in the frequency response curve, effectively reducing the amplitude of signals within that narrow frequency band while allowing all other frequencies to pass through relatively unaffected.\n",
        "\n",
        "* On the other hand, a bandstop filter, also known as a band-rejection filter, attenuates a broader range of frequencies within the specified stopband. While a notch filter is essentially a specialized case of a bandstop filter with a very narrow stopband, a bandstop filter can target a wider range of frequencies.\n",
        "\n",
        "In summary, while both notch filters and bandstop filters attenuate certain frequencies, a notch filter is a specific type of bandstop filter designed to target a very narrow frequency range.\n"
      ]
    },
    {
      "cell_type": "code",
      "execution_count": null,
      "metadata": {
        "jupyter": {
          "outputs_hidden": false
        },
        "pycharm": {
          "name": "#%%\n"
        },
        "id": "Gctc8qj563fR"
      },
      "outputs": [],
      "source": [
        "from lib.dsp import notch_filter, sine_wave, my_stft\n",
        "import numpy as np\n",
        "import matplotlib.pyplot as plt\n",
        "\n",
        "\"\"\"\n",
        "The notch filter is designed to suppress specific frequencies\n",
        "The 'q' parameter controls the width of the notch; higher 'q' values create narrower notches.\n",
        "\"\"\"\n",
        "\n",
        "show = True\n",
        "signal = sine_wave(duration=10, sampling_rate=100, amplitude=1.2e-6, frequency=0.5)\n",
        "noise = sine_wave(duration=10, sampling_rate=100, amplitude=0.25e-6, frequency=5)\n",
        "signal_with_5Hz_Noise = signal + noise\n",
        "\n",
        "filtered_signal_9 = notch_filter(signal_with_5Hz_Noise, cutoff=5, q=3, fs=100, show=True)\n",
        "\n",
        "if show :\n",
        "    _, _, _ = my_stft(signal_with_5Hz_Noise, plot=True, fs=100)\n",
        "    _, _, _ = my_stft(filtered_signal_9, plot=True, fs=100)"
      ]
    },
    {
      "cell_type": "markdown",
      "metadata": {
        "id": "G-7uaBxIP70N",
        "pycharm": {
          "name": "#%% md\n"
        }
      },
      "source": [
        "### 4. **Matched Filter:**\n",
        "   The matched filter is a signal processing filter that maximizes the signal-to-noise ratio for a known signal when embedded in noise. It is particularly effective in detecting signals with a known template. Mathematically, the matched filter output is the convolution of the received signal and the time-reversed conjugate of the template signal. <br> <br>\n",
        "\n",
        "   $y[n] = \\sum_{k=-\\infty}^{\\infty} h[n-k] x[k]$\n",
        "\n",
        "<br> **Where:** $x[k]$ is the input function of $k$, and $y[n]$ is the filtered output"
      ]
    },
    {
      "cell_type": "code",
      "execution_count": null,
      "metadata": {
        "jupyter": {
          "outputs_hidden": false
        },
        "pycharm": {
          "name": "#%%\n"
        },
        "id": "9znciJTQ63fS"
      },
      "outputs": [],
      "source": [
        "from lib.dsp import matched_filter, scg_simulate, add_distort_noise, my_stft\n",
        "import numpy as np\n",
        "import matplotlib.pyplot as plt\n",
        "\n",
        "show=True\n",
        "signal = scg_simulate(add_respiratory = False)[:1000]\n",
        "# construct Data for matched filter\n",
        "# the amplitude of 40Hh noise is very large\n",
        "signal_with_40Hz_Noise_ = add_distort_noise(signal, n_samples=1000, sampling_rate=100,noise_frequency=40, noise_amplitude=0.8, show=True)\n",
        "\n",
        "fig, axes = plt.subplots(nrows=2, ncols=2, figsize=(16, 6))\n",
        "# if we could get a clean template as the input of Matched Filter\n",
        "clean_template = signal[:64]\n",
        "filtered_signal_10_1 = matched_filter(signal_with_40Hz_Noise_, clean_template, show=False)\n",
        "axes[0, 0].plot(filtered_signal_10_1);axes[0, 0].set_title('Filtered Signal with Clean Template')\n",
        "# The pronounced peaks in the output of Matched Filter indicates the likelihood of a signal match.\n",
        "\n",
        "# We can make it more prominent by squaring the filtered signal.\n",
        "axes[0, 1].plot(np.square(filtered_signal_10_1));axes[0, 1].set_title('Squared Filtered Signal with Clean Template')\n",
        "\n",
        "\n",
        "# Take a noisy template as the input of Matched Filter\n",
        "noisy_template = signal_with_40Hz_Noise_[:64]\n",
        "filtered_signal_10_2 = matched_filter(signal_with_40Hz_Noise_, noisy_template, show=False)\n",
        "axes[1, 0].plot(filtered_signal_10_2);axes[1, 0].set_title('Filtered Signal with Noisy Template')\n",
        "axes[1, 1].plot(np.square(filtered_signal_10_2));axes[1, 1].set_title('Squared Filtered Signal with Noisy Template')\n",
        "\n",
        "# The effect of using a clean template as input is much better than using a noisy template as input.\n",
        "\n",
        "plt.tight_layout()\n",
        "plt.show()\n",
        "\n",
        "if show:\n",
        "    _, _, _ = my_stft(filtered_signal_10_1, plot=True, fs=100)\n",
        "    _, _, _ = my_stft(filtered_signal_10_2, plot=True, fs=100)"
      ]
    },
    {
      "cell_type": "markdown",
      "metadata": {
        "id": "uTmJdzq4uGzZ",
        "jupyter": {
          "outputs_hidden": false
        },
        "pycharm": {
          "name": "#%% md\n"
        }
      },
      "source": [
        "### 1. **Wavelet Denoising:**\n",
        "\n",
        "For the maths behind the dwt, see https://en.wikipedia.org/wiki/Wavelet\n",
        "\n",
        "\n",
        "Wavelet denoising is a technique that utilizes wavelet transforms to remove noise from signals or images. It decomposes the signal into different frequency components, thresholds the coefficients, and reconstructs the signal, effectively reducing noise. Mathematically, the denoised signal $y(t)$ is obtained by thresholding wavelet coefficients $W_j$ at a certain level: $y(t) = \\sum_{j} \\text{Threshold}(W_j)$.\n",
        "\n",
        "The denoising steps are the following:\n",
        "1. Apply the dwt to the signal\n",
        "2. Compute the threshold corresponding to the chosen level\n",
        "3. Only keep coefficients with a value higher than the threshold\n",
        "4. Apply the inverse dwt to retrieve the signal"
      ]
    },
    {
      "cell_type": "code",
      "execution_count": null,
      "metadata": {
        "jupyter": {
          "outputs_hidden": false
        },
        "pycharm": {
          "name": "#%%\n"
        },
        "id": "2yLAtXm663fS"
      },
      "outputs": [],
      "source": [
        "# An Easy Example of Wavelet Denoising\n",
        "# Reference: https://www.kaggle.com/code/theoviel/denoising-with-direct-wavelet-transform/notebook\n",
        "from lib.dsp import wavelet_denoise, my_stft, sine_wave\n",
        "import numpy as np\n",
        "import matplotlib.pyplot as plt\n",
        "import pywt\n",
        "\n",
        "\"\"\"\n",
        "The pywt package actually has 127 available wavelets. We show 10 of them, you can adjust the Parameter \"wavelets_num\" to show more.\n",
        "\"\"\"\n",
        "wavelets_num = 10\n",
        "\n",
        "signal = sine_wave(duration=10, sampling_rate=100, frequency=0.6) + 0.3 * sine_wave(duration=10, sampling_rate=100, frequency=2.3, phase=100)\n",
        "noisy_signal = signal + np.random.normal(0, 1, 10 *100)\n",
        "plt.figure(figsize=(8, 3));plt.title(\"Signal\")\n",
        "plt.plot(noisy_signal, label='Noisy Signal')\n",
        "plt.plot(signal, label='Clean Signal')\n",
        "plt.legend();plt.show()\n",
        "\n",
        "show=True\n",
        "if show:\n",
        "    _, _, _ = my_stft(signal, plot=True, fs=100)\n",
        "    _, _, _ = my_stft(noisy_signal, plot=True, fs=100)\n",
        "\n",
        "for cnt, wav in enumerate(pywt.wavelist()):\n",
        "    filtered =  wavelet_denoise(noisy_signal, wav, 0.5, show=True)\n",
        "    if show:\n",
        "        _, _, _ = my_stft(filtered, plot=True, fs=100)\n",
        "    if cnt > wavelets_num:\n",
        "        break\n",
        "# f, t, Z = my_stft(filtered_signal_13, plot=True, fs=100)"
      ]
    },
    {
      "cell_type": "markdown",
      "metadata": {
        "id": "fynscqo3uGza",
        "jupyter": {
          "outputs_hidden": false
        },
        "pycharm": {
          "name": "#%% md\n"
        }
      },
      "source": [
        "### 2. **FFT Denoising:**\n",
        "   FFT denoising employs the Fast Fourier Transform (FFT) to analyze and filter out unwanted frequency components from a signal. By transforming the signal into the frequency domain, one can selectively remove or attenuate specific frequency bands associated with noise. Mathematically, denoising is achieved by zeroing or attenuating certain frequency components in the Fourier-transformed signal, followed by an inverse FFT to obtain the denoised signal.\n",
        "\n",
        "The denoising steps are the following :\n",
        "1. Apply the fft to the signal\n",
        "2. Keep only the coefficients which have a low enough frequency (in absolute)\n",
        "3. Compute the inverse fft"
      ]
    },
    {
      "cell_type": "code",
      "execution_count": null,
      "metadata": {
        "jupyter": {
          "outputs_hidden": false
        },
        "pycharm": {
          "name": "#%%\n"
        },
        "id": "vSiYQylr63fT"
      },
      "outputs": [],
      "source": [
        "# An Easy Example of FFT Denoising\n",
        "# Reference: https://www.kaggle.com/code/theoviel/denoising-with-the-fast-fourier-transform/notebook\n",
        "from lib.dsp import fft_denoise, my_stft, sine_wave\n",
        "import numpy as np\n",
        "import matplotlib.pyplot as plt\n",
        "\n",
        "show=True\n",
        "signal = sine_wave(duration=10, sampling_rate=100, frequency=0.6) + 0.3 * sine_wave(duration=10, sampling_rate=100, frequency=2.3, phase=100)\n",
        "noisy_signal = signal + np.random.normal(0, 1, 10 *100)\n",
        "plt.figure(figsize=(8, 3));plt.title(\"Signal\")\n",
        "plt.plot(noisy_signal, label='Noisy Signal')\n",
        "plt.plot(signal, label='Clean Signal')\n",
        "plt.legend();plt.show()\n",
        "\n",
        "if show:\n",
        "    _, _, _ = my_stft(signal, plot=True, fs=100)\n",
        "    _, _, _ = my_stft(noisy_signal, plot=True, fs=100)\n",
        "\n",
        "\n",
        "for threshold in [0.5, 1, 5, 10]:\n",
        "    filtered = fft_denoise(noisy_signal, threshold=threshold)\n",
        "    plt.figure(figsize=(8, 3));plt.title(f\"FFT Denoising with threshold:{threshold}\")\n",
        "    plt.plot(noisy_signal, label='Noisy Signal')\n",
        "    plt.plot(filtered, label='Filtered Signal')\n",
        "    plt.legend();plt.show()\n",
        "    if show:\n",
        "        _, _, _ = my_stft(filtered, plot=True, fs=100)\n"
      ]
    },
    {
      "cell_type": "code",
      "execution_count": null,
      "metadata": {
        "id": "oBU2F-hcuGza",
        "jupyter": {
          "outputs_hidden": false
        },
        "pycharm": {
          "name": "#%%\n"
        }
      },
      "outputs": [],
      "source": [
        "# Use FFT to Denoise the Breath Effect in Simulated SCG Signals\n",
        "from lib.dsp import fft_denoise, scg_simulate, my_stft\n",
        "import numpy as np\n",
        "import matplotlib.pyplot as plt\n",
        "\n",
        "signal = scg_simulate(noise_amp=0, add_respiratory=False)[:1000]\n",
        "\n",
        "\n",
        "# Construct Data for fft denoising\n",
        "# use sin wave to simulate the breath effect\n",
        "fs = 100\n",
        "t = np.linspace(0, 10, 10*100)\n",
        "omega = 0.4\n",
        "rr = np.sin(2 * np.pi * omega * t) + 2\n",
        "signal_RR = signal * rr\n",
        "\n",
        "\n",
        "_, axes = plt.subplots(nrows=2, ncols=2, figsize=(16, 6))\n",
        "axes[0, 0].plot(signal_RR);axes[0, 0].set_title('Signal with Breath Effect')\n",
        "axes[0, 1].plot(signal);axes[0, 1].set_title('Clean Signal')\n",
        "# Let's look at the difference in frequency domain\n",
        "\n",
        "fft_result_clean = np.fft.fft(signal)\n",
        "fft_freq_clean = np.fft.fftfreq(len(signal), 1/fs)\n",
        "spectrum_clean = np.abs(fft_result_clean)\n",
        "\n",
        "axes[1, 1].plot(fft_freq_clean[:len(fft_freq_clean) // 2], spectrum_clean[:len(fft_result_clean) // 2])\n",
        "axes[1, 1].set_title('Frequency of Clean Signal')\n",
        "\n",
        "#\n",
        "# plt.plot(fft_freq_clean[:len(fft_freq_clean) // 2], spectrum_clean[:len(fft_result_clean) // 2], label='Frequency of Clean Signal')\n",
        "# plt.title('Frequency Domain');plt.xlabel('Frequency (Hz)');plt.ylabel('Magnitude');plt.legend();plt.show()\n",
        "\n",
        "fft_result = np.fft.fft(signal_RR)\n",
        "fft_freq = np.fft.fftfreq(len(signal_RR), 1/fs)\n",
        "spectrum = np.abs(fft_result)\n",
        "\n",
        "axes[1, 0].plot(fft_freq[:len(fft_freq) // 2], spectrum[:len(fft_freq) // 2])\n",
        "axes[1, 0].set_title('Frequency of Signal with RR')\n",
        "\n",
        "#plt.tight_layout()\n",
        "plt.show()\n",
        "\n",
        "# use fft to denoise\n",
        "filtered_signal_12 = fft_denoise(signal_RR, threshold = np.max(spectrum) * 0.00000008, show=True)\n",
        "\n",
        "show=True\n",
        "if show:\n",
        "    _, _, _ = my_stft(signal_RR, plot=True, fs=100)\n",
        "    _, _, _ = my_stft(filtered_signal_12, plot=True, fs=100)\n"
      ]
    },
    {
      "cell_type": "markdown",
      "metadata": {
        "jupyter": {
          "outputs_hidden": false
        },
        "pycharm": {
          "name": "#%% md\n"
        },
        "id": "rVZmNWjh63fU"
      },
      "source": [
        "### Adaptive Filter\n",
        "\n",
        "**Reference:** https://schaumont.dyn.wpi.edu/ece4703b20/lecture9.html\n",
        "\n",
        "#### Basic Adaptive Filter\n",
        "An adaptive filter is a filter with non-constant coefficients. The filter coefficients are adjusted based on an criterium which is often defined to optimize the performance of the filter in its ability to estimate an unknown quantity in an input signal.\n",
        "\n",
        "In this lecture, we will limit ourselves to adaptive FIR filters. The basic outline of an adaptive FIR filter is shown in the following figure. The filter accepts an input signal x and produces an output signal y. The FIR coefficients of this filter are adjustable, meaning that at every new sample of x, the coefficients can take on a new value. The new value of filter coefficients is determined using a coefficient update algorithm, which computes an adjustment for each filter coefficient based on an error signal e. The error signal e is typically computed as the difference between the actual output signal y and a desired output signal d.\n",
        "\n",
        "![Basic Adaptive Filter](https://schaumont.dyn.wpi.edu/ece4703b20/_images/adaptive.jpg) <br> <br>\n",
        "The desired output signal d depends on the specific application of the adaptive filter. However, the adaptive algorithm will change the coefficients so as to minimize the mean squared value of the error signal e. That is, given that the filter output is defined by filter coefficients $w(n) = {\\left[w_0(n), w_1(n), ..., w_{N-1}(n)\\right]}^T$. we try to minimize the expected square error: $\\min_{w(n)} E\\left[ e^2(n)\\right]$\n",
        "\n",
        "There are generally four different configurations common for an adaptive filter:\n",
        "1. System Identification\n",
        "2. Noise Cancellation\n",
        "3. Equalization\n",
        "4. Adaptive Prediction"
      ]
    },
    {
      "cell_type": "code",
      "execution_count": null,
      "metadata": {
        "jupyter": {
          "outputs_hidden": false
        },
        "pycharm": {
          "name": "#%%\n"
        },
        "id": "rNvGOHAv63fU"
      },
      "outputs": [],
      "source": [
        "from lib.dsp import sine_wave, my_stft, lms_filter\n",
        "import numpy as np\n",
        "import matplotlib.pyplot as plt\n",
        "\n",
        "\"\"\"\n",
        "We start with a basic illustration of the adaptive filter algorithm. Recall that the purpose of an LMS filter is to filter an input signal x(n) into an output signal y(n). At every sample of x, the filter coefficients can be adjusted in order to make the output signal y(n) more similar to a desired output signal d(n).\n",
        "\n",
        "The input signal is a sine function. The desired signal is a sine function at the same frequency but twice the amplitude. The plot of the Error signal shows that the filter converges in around 600 samples to almost zero. That means that, while observing 600 samples of the input signal, the output converges to the desired signal\n",
        "\"\"\"\n",
        "show = True\n",
        "input = sine_wave(duration=100, sampling_rate=10, frequency=1/8, show=True)\n",
        "desired_signal = 2.5 * input\n",
        "\n",
        "output_signal, error, weight = lms_filter(input, desired_signal, n=1, mu=0.015, show=False)\n",
        "\n",
        "plt.figure(figsize=(8,3))\n",
        "plt.title('Output of the LMS filter')\n",
        "plt.plot(output_signal, label='Output Signal')\n",
        "plt.plot(desired_signal, alpha=0.5, label='Desired Signal')\n",
        "plt.plot(error, label='Error');plt.legend();plt.show()\n",
        "\n",
        "if show:\n",
        "    _, _, _ = my_stft(output_signal, plot=True, fs=10)"
      ]
    },
    {
      "cell_type": "markdown",
      "metadata": {
        "jupyter": {
          "outputs_hidden": false
        },
        "pycharm": {
          "name": "#%% md\n"
        },
        "id": "KLmAim8e63fV"
      },
      "source": [
        "#### Adaptive Filter for System Identification\n",
        "\n",
        "![System Identification](https://schaumont.dyn.wpi.edu/ece4703b20/_images/systemid.jpg) <br> <br>\n",
        "In system identification, we observe an unknown system and compare its output to an adaptive filter. By applying broadband noise to the input, and by minimizing the error signal, the filter coefficients will converge to a set of coefficients that reflect the characteristic of the unknown system. This approximation is best-effort; known the filter coefficients of the adaptive filter does not imply that we can reveal the internal structure of the unknown system. For example, the unknown system could be an IIR filter, while the adaptive filter has an FIR design. Or, the unknown system could include non-linear behavior, while the adaptive filter has an FIR design."
      ]
    },
    {
      "cell_type": "markdown",
      "metadata": {
        "jupyter": {
          "outputs_hidden": false
        },
        "pycharm": {
          "name": "#%% md\n"
        },
        "id": "9VbO6gMx63fV"
      },
      "source": [
        "#### Adaptive Filter for Noise Cancellation\n",
        "\n",
        "![Noise Cancellation](https://schaumont.dyn.wpi.edu/ece4703b20/_images/noisecancellation.jpg)\n",
        "\n",
        "In Noise Cancellation, we are interested in removing a known disturbance n_1 from a signal. The disturbance is affected by the system dynamics H(z) into n_0, so that we are unsure how much the input signal is affected by the disturbance. Using an adaptive filter, we estimate the system dynamics (in a similar fashion as with system identification), and we remove the filtered disturbance from the output signal. The output signal, in the case of noise cancellation, is created out of the error signal, which in this case will closely resemble the input signal x.\n",
        "\n",
        "![Echo Cancellation](https://schaumont.dyn.wpi.edu/ece4703b20/_images/echocancellation.jpg)\n",
        "\n",
        "A well-known application for this setup is echo cancellation in speakerphone design. In this case, the input signal is the speech signal from the local side, and the disturbance is the speech signal from the remote side. The remote speech signal is played back on the local speaker and picked up by the local microphone. The adaptive filter will estimate this local feedback and remote it from the output signal, thereby preventing the return of an echo to the remote side."
      ]
    },
    {
      "cell_type": "code",
      "execution_count": null,
      "metadata": {
        "jupyter": {
          "outputs_hidden": false
        },
        "pycharm": {
          "name": "#%%\n"
        },
        "id": "da9p82HM63fV"
      },
      "outputs": [],
      "source": [
        "from lib.dsp import sine_wave, lms_filter, my_stft\n",
        "import matplotlib.pyplot as plt\n",
        "import numpy as np\n",
        "\n",
        "\"\"\"\n",
        "Example of echo cancellation in speakerphone design.\n",
        "\"\"\"\n",
        "\n",
        "# Speech Signal\n",
        "Speech_signal = sine_wave(duration=100, sampling_rate=10, frequency=1/8, show=False)\n",
        "# Signal from Far End\n",
        "Echo = 0.5 * sine_wave(duration=100, sampling_rate=10, frequency=1/8, phase=200, show=False)\n",
        "# Signal from Far End Feedbacked Through speaker-microphone pickup\n",
        "Noisy_Echo = Echo + np.random.normal(0, 0.1, 100*10)\n",
        "# Speech Signal with Echo\n",
        "Speech_signal_with_Echo = Speech_signal + Noisy_Echo\n",
        "\n",
        "plt.figure(figsize=(8,3));plt.title(\"Speech Signal and Echo Noise\")\n",
        "plt.plot(Speech_signal_with_Echo, label='Speech signal with Echo')\n",
        "plt.plot(Speech_signal, label='Speech Signal')\n",
        "plt.plot(Noisy_Echo, label=\"Noisy Signal\");plt.legend();plt.show()\n",
        "\n",
        "\n",
        "output_signal, error, weight = lms_filter(Echo, Speech_signal_with_Echo, n=1, mu=0.008, show=False)\n",
        "\n",
        "plt.figure(figsize=(8,3))\n",
        "plt.title('Output of the LMS filter')\n",
        "plt.plot(output_signal, label='Output Signal')\n",
        "plt.plot(Noisy_Echo, alpha=0.5, label='Noisy Echo')\n",
        "plt.legend();plt.show()\n",
        "\n",
        "plt.figure(figsize=(8,3));plt.title(\"Removal of Echo Noise\")\n",
        "plt.plot(Speech_signal_with_Echo - output_signal, label='Denoised Speech Signal with Echo')\n",
        "plt.plot(Speech_signal, label='Clean Speech Signal')\n",
        "plt.legend();plt.show()\n",
        "\n",
        "show = True\n",
        "if show:\n",
        "    _, _, _ = my_stft(Speech_signal_with_Echo, plot=True, fs=10)\n",
        "    _, _, _ = my_stft(output_signal, plot=True, fs=10)"
      ]
    },
    {
      "cell_type": "markdown",
      "metadata": {
        "jupyter": {
          "outputs_hidden": false
        },
        "pycharm": {
          "name": "#%% md\n"
        },
        "id": "M5IcNyNn63fW"
      },
      "source": [
        "#### Adaptive Filter for Equalization\n",
        "![Equalization](https://schaumont.dyn.wpi.edu/ece4703b20/_images/equalization.jpg)\n",
        "In equalization, we are using an adaptive filter to remove (linear) distortions from a received signal. This is a common problem in data communictions, when signals are distored by a non-allpass communications channel. The adaptive filter creates an inverse response to the distortion, using a delayed version of the correct input signal x, in order to restore the received signal to its original form.\n",
        "\n",
        "One may wonder how such a delayed version of x can be transmitted, when it’s not possible to transmit the real-time version x. The answer is that this delayed x does not have to be identical to the real-time x. In other words, the equalizer can first go through a training phase, during which the coefficients are adapted in order to match the characteristics of the communications channel. Next, the adaptive filter coefficients are fixed, and the real-time x transmission can start."
      ]
    },
    {
      "cell_type": "markdown",
      "metadata": {
        "jupyter": {
          "outputs_hidden": false
        },
        "pycharm": {
          "name": "#%% md\n"
        },
        "id": "Thewc84D63fW"
      },
      "source": [
        "#### Adaptive Filter for Adaptive Prediction\n",
        "A final configuration for adaptive filters is in adaptive prediction, where an adaptive filter is used to predict the future value of a signal. The adaptive filter coefficients form a prediction, which can be used for signal encoding."
      ]
    },
    {
      "cell_type": "markdown",
      "metadata": {
        "id": "7yReB5EduGzf",
        "jupyter": {
          "outputs_hidden": false
        },
        "pycharm": {
          "name": "#%% md\n"
        }
      },
      "source": [
        "### Kalman Filter\n",
        "\n",
        "A Kalman filter is a mathematical algorithm that uses a series of noisy measurements over time to estimate the true state of a system, providing a more accurate representation of the underlying variables by combining a prediction based on a system model with new measurements, effectively \"filtering out\" noise and uncertainties in the data; it's particularly useful when you can't directly measure the desired variables but have access to related, imperfect measurements.\n",
        "\n",
        "**The filter performs two main operations:**\n",
        "\n",
        "* **Prediction:** Uses the system model to predict the next state based on the previous estimate.\n",
        "\n",
        "* **Update:** Incorporates new measurements to refine the predicted state, weighting the new information based on its reliability\n",
        "\n",
        "Note:  Assumes noise is Gaussian"
      ]
    },
    {
      "cell_type": "markdown",
      "source": [
        "**State equation:** <br>\n",
        "\n",
        "$x_{k+1}=Ax_k+Bu_k+w_k$\n",
        "\n",
        "<br> **Output equation:**\n",
        "\n",
        "$y_k=Cx_k+z_k$\n",
        "\n",
        "<br> **Where:**\n",
        "\n",
        "$A$, $B$, and $C$ are matrices\n",
        "\n",
        "$k$ is the time index\n",
        "\n",
        "$x$ is the state of the system\n",
        "\n",
        "$w$ is the process noise\n",
        "\n",
        "$z$ is the measurement noise"
      ],
      "metadata": {
        "id": "JYE7ZitQqMhV"
      }
    },
    {
      "cell_type": "markdown",
      "source": [
        "**Assumptions:**  \n",
        "\n",
        "$k$, $w_k$, and $z_k$ are independent random variables <br>\n",
        "\n",
        "<br> **Process Noise Covariance:**\n",
        "\n",
        "$S_w=E(w_k W_k^T)$\n",
        "\n",
        "<br> **Measurement Noise Covariance:**\n",
        "\n",
        "$S_z=E(z_k z_k^T)$\n",
        "\n",
        "<br> **Where:**\n",
        "\n",
        "$w_T$ is the transpose of $w$ random noise vector\n",
        "\n",
        "$z_T$ is the transpose of $z$ random noise vector\n",
        "\n",
        "$E(\\cdot)$ is the expected value"
      ],
      "metadata": {
        "id": "A5nlZXkhqrNw"
      }
    },
    {
      "cell_type": "markdown",
      "source": [
        "$K_k=A P_k C^T (C P_K C^T + S_z)^{-1}$\n",
        "\n",
        "$\\hat{x}_{k+1} = (A \\hat{x}_k + B u_k) + K_k (y_{k+1} - C \\hat{x}_k)$\n",
        "\n",
        "$P_{k+1} = A P_k A^T + S_w - A P_k C^T S_z^{-1} C P_k A^T$\n",
        "\n",
        "<br> **Where:**\n",
        "\n",
        "$K$ is the Kalman gain\n",
        "\n",
        "$P$ is the estimation error covariance\n",
        "\n",
        "$\\hat{x}$ is the state estimate.  The first term is the estimate at time $k+1$ and the second term is the *correction* term\n",
        "\n",
        "$-1$ superscript indicates matrix inversion\n",
        "\n",
        "$T$ superscript indicates matrix transposition"
      ],
      "metadata": {
        "id": "EHmPMFBmrN4P"
      }
    },
    {
      "cell_type": "markdown",
      "metadata": {
        "id": "0oAEYEHVuGzf",
        "jupyter": {
          "outputs_hidden": false
        },
        "pycharm": {
          "name": "#%% md\n"
        }
      },
      "source": [
        "Implement an easy one-dimension Kalman Filter to denoise the white noise"
      ]
    },
    {
      "cell_type": "code",
      "execution_count": null,
      "metadata": {
        "id": "ctnptE73uGzg",
        "jupyter": {
          "outputs_hidden": false
        },
        "pycharm": {
          "name": "#%%\n"
        }
      },
      "outputs": [],
      "source": [
        "import numpy as np\n",
        "from lib.dsp import scg_simulate, my_stft, kalman_filter\n",
        "import matplotlib.pyplot as plt\n",
        "\n",
        "signal = scg_simulate()[:1000]\n",
        "\n",
        "x_last, p_last = 0, 0\n",
        "Q, R = 0.1, 0.2\n",
        "\n",
        "# construct data for KF\n",
        "clean_signal = signal * 1e6\n",
        "noise = np.random.rand(1000)-0.5\n",
        "x = clean_signal+noise\n",
        "\n",
        "y = kalman_filter(x, x_last, p_last, Q, R)\n",
        "\n",
        "plt.figure(figsize=(8, 3))\n",
        "plt.plot(clean_signal,color=\"b\", label='Real Signal')\n",
        "plt.plot(x,color=\"g\", label='Measured Signal')\n",
        "plt.plot(y,color=\"r\", label='Filtered Signal')\n",
        "plt.title('Output of Kalman Filter');plt.ylabel('Amplitude');plt.xlabel('Time');plt.legend();plt.show()\n",
        "\n",
        "f, t, Z = my_stft(y, plot=True, fs=100)"
      ]
    },
    {
      "cell_type": "code",
      "execution_count": null,
      "metadata": {
        "id": "dW5yduACuGzg",
        "jupyter": {
          "outputs_hidden": false
        },
        "pycharm": {
          "name": "#%%\n"
        }
      },
      "outputs": [],
      "source": [
        "from lib.dsp import sine_wave, my_stft\n",
        "import numpy as np\n",
        "import matplotlib.pyplot as plt\n",
        "\n",
        "x_last, p_last = 0, 0\n",
        "Q, R = 0.1, 0.5\n",
        "\n",
        "# construct data for KF\n",
        "clean_signal = sine_wave()\n",
        "noise = np.random.rand(1000)-0.5\n",
        "x = clean_signal+noise\n",
        "\n",
        "y = kalman_filter(x, x_last, p_last, Q, R)\n",
        "\n",
        "plt.figure(figsize=(8, 3))\n",
        "plt.plot(clean_signal,color=\"b\", label='Real Signal')\n",
        "plt.plot(x,color=\"g\", label='Measured Signal')\n",
        "plt.plot(y,color=\"r\", label='Filtered Signal')\n",
        "plt.title('Output of Kalman Filter');plt.ylabel('Amplitude');plt.xlabel('Time');plt.legend();plt.show()\n",
        "\n",
        "f, t, Z = my_stft(y, plot=True, fs=100)"
      ]
    },
    {
      "cell_type": "markdown",
      "metadata": {
        "id": "5Q-w2Hm0uGzh",
        "jupyter": {
          "outputs_hidden": false
        },
        "pycharm": {
          "name": "#%% md\n"
        }
      },
      "source": [
        "## Averaging by Dynamic Time Warping\n",
        "\n",
        "Signal Averaging is a signal processing technique that improves the signal-to-noise ratio (SNR) by averaging multiple measurements of a signal.\n",
        "<br><br>\n",
        "\n",
        "**Steps:**\n",
        "\n",
        "* **Multiple Measurements:** The first step in signal averaging is to take multiple samples of the signal. Each sample may have some degree of noise or error added to the true signal, so they are not identical.\n",
        "\n",
        "* **Align the Signals**: If the signal is periodic or repeatable, all the measurements are aligned in time (e.g., using time synchronization or triggering).\n",
        "\n",
        "* **Average the Values:** Once the signals are aligned, their values are averaged point-by-point across all the samples. This is done for each corresponding time or measurement point.  Mathematically, for $N$ measurements, $x_1(t), x_2(t), ..., x_N(t)$ of a signal, the averaged signal $x(t)$ is calculated as:\n",
        "\n",
        "<br>\n",
        "\\begin{align*}\n",
        "  x(t) = (1/N) ∑_{i=1}^N x_i(t)\n",
        "\\end{align*}\n",
        "<br>\n",
        "\n",
        "* **Reduced Noise:** The noise is expected to have a random nature, so when you average over many samples, the noise cancels out, leaving you with a clearer representation of the signal. The more measurements you average, the lower the noise level becomes (in the ideal case), and the clearer the true signal is."
      ]
    },
    {
      "cell_type": "markdown",
      "source": [
        "**Pros:**\n",
        "\n",
        "* **Improved Signal-to-Noise Ratio (SNR):** Signal averaging reduces random noise by averaging it out, which increases the SNR. This makes the underlying signal easier to analyze or measure.\n",
        "\n",
        "* **Enhancing Low-Level Signals:** When dealing with low-amplitude signals that are buried in noise, averaging can make these signals more visible by reducing the noise that tends to mask them.\n",
        "\n",
        "* **Simple and Effective:** Signal averaging is a straightforward and computationally simple method to improve data quality, especially when the signal is repetitive or periodic.\n",
        "\n",
        "**Cons:**\n",
        "\n",
        "* **Non-Stationary Signals:** If the signal changes over time or is non-stationary (i.e., it evolves in an unpredictable way), signal averaging may distort or lose important details. This technique works best for signals that are repetitive or periodic.\n",
        "\n",
        "* **Slow Process:** Signal averaging can be time-consuming because it requires multiple samples to be taken over time, especially if many samples are needed to effectively reduce noise.\n",
        "\n",
        "* **Requires Multiple Measurements:** To achieve meaningful averaging, you need multiple measurements of the same signal under similar conditions. If you only have a single measurement or a small number of measurements, the benefits of averaging are reduced."
      ],
      "metadata": {
        "id": "xjbNpC1P6I4I"
      }
    },
    {
      "cell_type": "markdown",
      "metadata": {
        "id": "DThak0HguGzh",
        "jupyter": {
          "outputs_hidden": false
        },
        "pycharm": {
          "name": "#%% md\n"
        }
      },
      "source": [
        "### Dynamic Time Warping\n",
        "\n",
        "**Dynamic Time Warping (DTW)** is a similarity measure between two temporal sequences, accommodating for variations in their alignment and speed. It finds an optimal warping path by minimizing the accumulated distance between corresponding points.\n",
        "<br><br>\n",
        "\n",
        "Mathematically, given sequences $ A = [a_1, a_2, ..., a_n]$ and $B = [b_1, b_2, ..., b_m]$, DTW constructs a cost matrix $C$ where $C(i, j)$ represents the local distance between $a_i$ and $b_j$.  It then calculates an optimal path from $C(1, 1)$ to $ C(n, m)$ through dynamic programming. DTW is widely used in pattern recognition, speech processing, and signal analysis for aligning time series data.\n",
        "\n",
        "**Concepts:**\n",
        "\n",
        "* **Non-linear Alignment:** DTW can align sequences that have varying speeds. For example, it can compare two sequences where one sequence is \"stretched\" or \"compressed\" relative to the other (e.g., a faster and slower version of the same movement or event).\n",
        "\n",
        "* **Time Warping:** The idea of warping comes from adjusting the time axis in such a way that corresponding points in the two sequences match as well as possible. This is done by considering all possible alignments of the two sequences, even if they are of different lengths.\n",
        "\n",
        "* **Distance Measure:** DTW computes the distance between two time series by considering each point in one series and finding the optimal match (with a possible shift) in the other series. The total distance is the sum of these optimal matches.\n",
        "\n",
        "**Steps:**\n",
        "\n",
        "1. **Cost Matrix:** DTW uses a cost matrix to evaluate the alignment between the two sequences. This matrix measures the \"cost\" of aligning different points from each sequence. It is calculated by comparing each pair of points from the two sequences and computing the difference between them (often squared differences).\n",
        "\n",
        "2. **Recursive Calculation:** The cost matrix is filled recursively, where each cell contains the minimal cumulative distance required to reach that point from the start of the sequences. The cumulative cost is the sum of the cost to reach the current point and the minimum of the previous possible alignments.\n",
        "\n",
        "3. **Optimal Path:** The final DTW distance is obtained by tracing back from the end of the cost matrix to the start. This path represents the optimal alignment between the two sequences.\n",
        "\n",
        "4. **Warping Path:** The warping path describes how the points in one sequence correspond to the points in the other sequence. It allows one sequence to be \"warped\" (or stretched/compressed) to align with the other."
      ]
    },
    {
      "cell_type": "markdown",
      "source": [
        "![dtw.jpg](data:image/jpeg;base64,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)\n",
        "\n",
        "Image from https://rtavenar.github.io/blog/dtw.html"
      ],
      "metadata": {
        "id": "ihwgN3O8zH0F"
      }
    },
    {
      "cell_type": "markdown",
      "source": [
        "**Pros:**\n",
        "\n",
        "* **Handles Temporal Shifts:** DTW is robust to shifts in time. It can align time series even when they are stretched or compressed along the time axis.\n",
        "\n",
        "* **Flexible Similarity Measure:** DTW provides a more flexible and accurate measure of similarity for time series compared to simple methods like Euclidean distance, especially when there is temporal misalignment.\n",
        "\n",
        "* **General Purpose:** DTW can be applied to a wide range of problems involving time series, from speech and audio processing to medical signal analysis.\n",
        "\n",
        "**Cons:**\n",
        "\n",
        "* **Computationally Expensive:** The basic DTW algorithm has a time complexity of\n",
        "$O(n^2)$, where $n$ is the length of the time series. This can be slow for long sequences.\n",
        "\n",
        "* **Overfitting:** If not properly tuned or constrained, DTW can overfit the alignment to the noise in the data, leading to inaccurate comparisons.\n",
        "\n",
        "* **No Consideration for Global Shape:** DTW optimizes local alignment, but this might lead to overemphasis on small local features rather than global patterns in the time series.\n",
        "\n",
        "* **Distance Matrix Size:** Since DTW requires constructing a full $n \\text{ } x \\text{ } n$ distance matrix, it can be memory-intensive for large datasets.\n",
        "\n",
        "\n",
        "\n"
      ],
      "metadata": {
        "id": "tSJ-dpPw7im9"
      }
    },
    {
      "cell_type": "markdown",
      "source": [
        "### Non-Linear Adaptive Averaging Functions\n",
        "\n",
        "The **Non-Linear Adaptive Averaging Function (NLAAF)** is a signal processing technique designed to improve the quality of a signal by adaptively adjusting how averaging is applied based on the characteristics of the signal itself. Unlike simple linear averaging methods (such as moving average filters), which apply the same weight or averaging function to all data points, NLAAF adjusts the averaging process dynamically according to the local behavior or properties of the signal.\n",
        "\n",
        "* The idea behind NLAAF is to use local signal characteristics to determine how much averaging should be applied at each point in the signal. For example, at regions where the signal changes rapidly (edges or transitions), the averaging might be reduced or avoided, so the filter does not blur important features. In regions where the signal is more uniform or contains noise, stronger smoothing or averaging is applied.\n",
        "\n",
        "* The non-linear nature of the filter allows it to better handle complex signals with noise and varying levels of smoothness, making it more adaptable and capable of preserving important features compared to traditional linear filters.\n",
        "\n",
        "**Concepts:**\n",
        "\n",
        "* **Non-Linear:** NLAAF is a non-linear filter, meaning that it doesn't apply a linear weighting to each data point in the signal. Instead, the function may apply a more complex, non-linear operation to smooth the signal while preserving important features like edges or rapid transitions that a linear filter might blur or distort.\n",
        "\n",
        "* **Adaptive:** The term \"adaptive\" means that the filter adjusts itself to the characteristics of the data. For example, it might apply stronger smoothing where the signal is relatively stable and less smoothing where the signal changes rapidly. This is important when dealing with signals that contain both noise and sharp transitions, as it can help preserve the important parts of the signal while reducing noise.\n",
        "\n",
        "* **Averaging Function:** Averaging refers to combining multiple data points in some way to produce a smoothed value. In NLAAF, this function is not fixed or uniform across the entire signal, but changes depending on the local context of the signal.\n",
        "\n",
        "</br>\n",
        "\n",
        "**Note:** There are two NLAAF function in this tutorial.\n",
        "\n",
        "* **NLAAF 1** - Applies DTW to two small windows (pieces) and determines the average of the pieces. These averages are used to build a center piece.\n",
        "\n",
        "* **NLAAF 2** - same as NLAAF 1, except a specified number of pieces greater than 2 are used to build the center piece.\n"
      ],
      "metadata": {
        "id": "_QBC6drByOzK"
      }
    },
    {
      "cell_type": "markdown",
      "source": [
        "###Iterative Constrained Dynamic Time Warping (ICDTW)\n",
        "\n",
        "**Iterative Constrained Dynamic Time Warping (ICDTW)** is an enhanced version of the standard Dynamic Time Warping (DTW) algorithm, designed to address some of the limitations of DTW, especially in terms of computational efficiency and accuracy when comparing time series with similar patterns but differing temporal alignments.\n",
        "\n",
        "**FEATURES:**\n",
        "\n",
        "**Iterative Approach:**\n",
        "\n",
        "* ICDTW modifies the standard DTW algorithm by iteratively refining the alignment between two time series. Instead of computing the DTW distance in a single pass, ICDTW takes an iterative approach, adjusting the alignment progressively.\n",
        "\n",
        "* During each iteration, constraints are applied to limit the warping path and force the algorithm to focus on specific parts of the time series. This helps to improve the accuracy of the alignment by preventing excessive warping in regions where it may not be necessary.\n",
        "\n",
        "**Constrained Path:**\n",
        "\n",
        "* One of the main advantages of ICDTW over standard DTW is that it applies constraints to the warping path. These constraints limit how much the time series can be \"stretched\" or \"compressed\" along the time axis. By doing so, ICDTW restricts the amount of warping to more reasonable bounds, preventing overfitting to noise or small variations that could distort the alignment.\n",
        "\n",
        "* These constraints can be implemented in various ways, such as setting a maximum distance for any warping step or enforcing monotonicity (i.e., the time indices of the two series must progress in the same direction).\n",
        "\n",
        "**Improved Efficiency:**\n",
        "\n",
        "* Standard DTW computes a full $n × m$ distance matrix for two sequences of length $n$ and $m$. This can be computationally expensive, especially for long time series. By applying constraints iteratively, ICDTW reduces the search space for the optimal alignment, thus improving computational efficiency.\n",
        "\n",
        "* The algorithm iterates over multiple passes to refine the alignment progressively, ensuring that only the relevant parts of the time series are aligned at each step.\n",
        "\n",
        "**Refinement:**\n",
        "\n",
        "* In each iteration, ICDTW refines the warping path based on the previously computed alignment. This iterative process leads to an optimal or near-optimal alignment over multiple passes, improving the final alignment accuracy compared to the standard DTW approach."
      ],
      "metadata": {
        "id": "5e2fKSLQ_jRe"
      }
    },
    {
      "cell_type": "markdown",
      "source": [
        "**STEPS:**\n",
        "\n",
        "1. **Initial Alignment:** Start by performing a basic alignment between the two time series using standard DTW.\n",
        "\n",
        "2. **Apply Constraints:** During each iteration, impose constraints that restrict the allowable warping paths between the two time series. These constraints might include things like limiting the range of movement in the warping path or ensuring monotonicity.\n",
        "\n",
        "3. **Refinement:** After applying constraints, refine the alignment by recalculating the DTW distance with the constrained path.\n",
        "\n",
        "4. **Repeat:** The iterative process is repeated until the alignment converges to an optimal or sufficiently accurate solution.\n",
        "\n",
        "**Benefits:**\n",
        "\n",
        "* **Handling Large Variations:** By constraining the warping path and iterating over the alignment, ICDTW can more effectively handle large variations in the time series (e.g., different lengths, tempo variations, or large misalignments) compared to traditional DTW.\n",
        "\n",
        "* **Preserving Important Features:** The application of constraints during the iterative process helps to prevent the alignment from distorting important features in the time series, such as sharp transitions or edges. This is especially useful in time series that contain noise or irregularities.\n",
        "\n",
        "* **Improved Efficiency:** The iterative refinement approach makes ICDTW more computationally efficient, particularly when dealing with long time series, as it limits the warping search space through constraints.\n",
        "\n",
        "* **Flexibility:** ICDTW can be customized with various constraints, making it more adaptable to specific types of time series comparisons. For example, one might enforce temporal locality constraints or restrict the allowable distance for warping at each step."
      ],
      "metadata": {
        "id": "vTXji28QA_7j"
      }
    },
    {
      "cell_type": "markdown",
      "source": [
        "###DTW Barycenter Averaging\n",
        "\n",
        "**DTW Barycenter Averaging (DBA)** is a technique used to compute an average of multiple time series using Dynamic Time Warping (DTW). Unlike traditional methods of averaging time series, which simply compute the mean of corresponding points, DBAs use DTW to align the time series before averaging. This allows for the averaging of time series that may have temporal misalignments, speed variations, or shifts. The primary goal of DBA is to find a central tendency or \"average\" time series that best represents a set of input time series, while accounting for non-linear alignments in the data.\n",
        "\n",
        "**Concepts:**\n",
        "\n",
        "* **Dynamic Time Warping (DTW):**\n",
        "\n",
        "  * DTW is a powerful algorithm used to measure similarity between two time series that may differ in speed or alignment. It computes an optimal match between two time series by warping them non-linearly along the time axis.\n",
        "\n",
        "* **Barycenter:**\n",
        "\n",
        "  * The term \"barycenter\" refers to the center of mass or average of a set of data points. In the context of DBA, the barycenter represents an average time series, which is computed by iteratively aligning and averaging multiple time series.\n",
        "\n",
        "* **Averaging of Time Series**:\n",
        "\n",
        "  * Traditional averaging of time series simply computes the average of each corresponding time point across all series. However, this approach does not work well when time series are not perfectly aligned.\n",
        "\n",
        "  * DTW Barycenter Averaging solves this by aligning the time series first and then computing a pointwise average of the aligned sequences."
      ],
      "metadata": {
        "id": "9FLNbpfRB9Wx"
      }
    },
    {
      "cell_type": "markdown",
      "source": [
        "**How DTW Barycenter Averaging (DBA) Works:**\n",
        "\n",
        "**1. Initialization:**\n",
        "\n",
        "  * The algorithm starts with an initial guess for the barycenter, which can be any of the input time series or some other starting point.\n",
        "\n",
        "**2. Iterative Process:**\n",
        "\n",
        "  * In each iteration, the algorithm performs the following steps:\n",
        "\n",
        "    **1. Alignment using DTW:** For each time series in the dataset, the DTW algorithm is used to align that series with the current barycenter. This ensures that corresponding points in each time series are matched optimally, despite any differences in time or speed.\n",
        "\n",
        "    **2. Averaging:** After aligning the time series, the average of all the aligned time series is computed at each time point, creating a new candidate barycenter.\n",
        "\n",
        "**3. Convergence:**\n",
        "\n",
        "  * The process is repeated iteratively. In each iteration, the barycenter is updated, and the DTW alignment is recomputed. The algorithm converges when the barycenter stops changing significantly between iterations or after a pre-defined number of iterations.\n",
        "\n",
        "**4. Final Barycenter:**\n",
        "\n",
        "  * The final output of the algorithm is a time series that represents the average (or barycenter) of the input time series. This series is aligned in a way that best captures the common underlying pattern of the input sequences."
      ],
      "metadata": {
        "id": "4EtcFcmsCpZn"
      }
    },
    {
      "cell_type": "markdown",
      "source": [
        "**Advantages of DTW Barycenter Averaging:**\n",
        "\n",
        "**1. Handling Temporal Misalignments:**\n",
        "\n",
        "  * DBA excels in scenarios where the input time series are misaligned or have different lengths, which is common in many real-world applications (e.g., speech, motion tracking). By using DTW to align the series first, DBA can compute a meaningful average despite these misalignments.\n",
        "\n",
        "**2. Robustness to Noise:**\n",
        "\n",
        "  * Since DBA aligns the time series before averaging, it tends to be more robust to noise than traditional averaging methods. By aligning the time series, DBA reduces the impact of small fluctuations that may not represent the true underlying patterns.\n",
        "\n",
        "**3. Flexible for Variable Length Time Series:**\n",
        "\n",
        "  * One of the key benefits of DBA is its ability to handle time series of different lengths. Traditional averaging methods require the series to be of equal length, but DBA can work with series of varying lengths by aligning them first.\n",
        "\n",
        "**4. Improved Pattern Recognition:**\n",
        "\n",
        "  * DBA can produce more accurate representations of a group of time series, making it useful for pattern recognition tasks. The barycenter obtained through DTW alignment can better represent the shared characteristics of the input time series."
      ],
      "metadata": {
        "id": "muLy9L1p-JHh"
      }
    },
    {
      "cell_type": "code",
      "execution_count": null,
      "metadata": {
        "id": "yhHURP61uGzh",
        "is_executing": true,
        "jupyter": {
          "outputs_hidden": false
        },
        "pycharm": {
          "name": "#%%\n"
        }
      },
      "outputs": [],
      "source": [
        "#generating synthetic data\n",
        "import numpy as np\n",
        "import matplotlib.pyplot as plt\n",
        "\n",
        "n_series = 15\n",
        "length = 150\n",
        "\n",
        "series = list()\n",
        "padding_length=30\n",
        "indices = range(0, length-padding_length)\n",
        "main_profile_gen = np.array([np.sin(2*np.pi*j/len(indices)) for j in indices])\n",
        "randomizer = lambda j:np.random.normal(j,0.02)\n",
        "randomizer_fun = np.vectorize(randomizer)\n",
        "for i in range(0,n_series):\n",
        "    n_pad_left = np.random.randint(0,padding_length)\n",
        "    #adding zero at the start or at the end to shif the profile\n",
        "    series_i = np.pad(main_profile_gen,(n_pad_left,padding_length-n_pad_left),mode='constant',constant_values=0)\n",
        "    #chop some of the end to prove it can work with multiple lengths\n",
        "    l = np.random.randint(length-20,length+1)\n",
        "    series_i = series_i[:l]\n",
        "    #randomize a bit\n",
        "    series_i = randomizer_fun(series_i)\n",
        "\n",
        "    series.append(series_i)\n",
        "# series = np.array(series)\n",
        "\n",
        "#plotting the synthetic data\n",
        "\n",
        "plt.figure(figsize=(8, 3))\n",
        "for s in series:\n",
        "    plt.plot(range(0,len(s)), s)\n",
        "plt.ylabel('Amplitude');plt.xlabel('Time');plt.show()"
      ]
    },
    {
      "cell_type": "code",
      "execution_count": null,
      "metadata": {
        "id": "LmNfz3zsuGzi",
        "is_executing": true,
        "jupyter": {
          "outputs_hidden": false
        },
        "pycharm": {
          "name": "#%%\n"
        }
      },
      "outputs": [],
      "source": [
        "from lib.dsp import performNLAAF1, performNLAAF2\n",
        "import numpy as np\n",
        "import matplotlib.pyplot as plt\n",
        "\n",
        "n_series = 15\n",
        "length = 150\n",
        "\n",
        "series = list()\n",
        "padding_length=30\n",
        "indices = range(0, length-padding_length)\n",
        "main_profile_gen = np.array([np.sin(2*np.pi*j/len(indices)) for j in indices])\n",
        "randomizer = lambda j:np.random.normal(j,0.02)\n",
        "randomizer_fun = np.vectorize(randomizer)\n",
        "for i in range(0,n_series):\n",
        "    n_pad_left = np.random.randint(0,padding_length)\n",
        "    #adding zero at the start or at the end to shif the profile\n",
        "    series_i = np.pad(main_profile_gen,(n_pad_left,padding_length-n_pad_left),mode='constant',constant_values=0)\n",
        "    #chop some of the end to prove it can work with multiple lengths\n",
        "    l = np.random.randint(length-20,length+1)\n",
        "    series_i = series_i[:l]\n",
        "    #randomize a bit\n",
        "    series_i = randomizer_fun(series_i)\n",
        "\n",
        "    series.append(series_i)\n",
        "\n",
        "# the feature of NLAAF: the length of center cannot be controlled\n",
        "# if we want to get the center of 2 time series A (N points) and B (M points) by NLAAF\n",
        "# the length of center is in the range of [max(N, M), N + M - 1]\n",
        "\n",
        "average_series_NLAAF1 = performNLAAF1(list(series), show=True)\n",
        "average_series_NLAAF2 = performNLAAF2(list(series), show=True)"
      ]
    },
    {
      "cell_type": "code",
      "execution_count": null,
      "metadata": {
        "id": "-eU7QkSiuGzj",
        "is_executing": true,
        "jupyter": {
          "outputs_hidden": false
        },
        "pycharm": {
          "name": "#%%\n"
        }
      },
      "outputs": [],
      "source": [
        "from lib.dsp import performICDTW\n",
        "import numpy as np\n",
        "import matplotlib.pyplot as plt\n",
        "\n",
        "n_series = 15\n",
        "length = 150\n",
        "\n",
        "series = list()\n",
        "padding_length=30\n",
        "indices = range(0, length-padding_length)\n",
        "main_profile_gen = np.array([np.sin(2*np.pi*j/len(indices)) for j in indices])\n",
        "randomizer = lambda j:np.random.normal(j,0.02)\n",
        "randomizer_fun = np.vectorize(randomizer)\n",
        "for i in range(0,n_series):\n",
        "    n_pad_left = np.random.randint(0,padding_length)\n",
        "    #adding zero at the start or at the end to shif the profile\n",
        "    series_i = np.pad(main_profile_gen,(n_pad_left,padding_length-n_pad_left),mode='constant',constant_values=0)\n",
        "    #chop some of the end to prove it can work with multiple lengths\n",
        "    l = np.random.randint(length-20,length+1)\n",
        "    series_i = series_i[:l]\n",
        "    #randomize a bit\n",
        "    series_i = randomizer_fun(series_i)\n",
        "\n",
        "    series.append(series_i)\n",
        "\n",
        "# ICDTW is an iterative approach for time series averaging\n",
        "# with ICDTW we can control the length of center\n",
        "average_series_ICDTW = performICDTW(list(series), show=True)"
      ]
    },
    {
      "cell_type": "code",
      "execution_count": null,
      "metadata": {
        "id": "VlWd66fQuGzk",
        "is_executing": true,
        "jupyter": {
          "outputs_hidden": false
        },
        "pycharm": {
          "name": "#%%\n"
        }
      },
      "outputs": [],
      "source": [
        "from lib.dsp import performDBA\n",
        "import numpy as np\n",
        "import matplotlib.pyplot as plt\n",
        "\n",
        "n_series = 15\n",
        "length = 150\n",
        "\n",
        "series = list()\n",
        "padding_length=30\n",
        "indices = range(0, length-padding_length)\n",
        "main_profile_gen = np.array([np.sin(2*np.pi*j/len(indices)) for j in indices])\n",
        "randomizer = lambda j:np.random.normal(j,0.02)\n",
        "randomizer_fun = np.vectorize(randomizer)\n",
        "for i in range(0,n_series):\n",
        "    n_pad_left = np.random.randint(0,padding_length)\n",
        "    #adding zero at the start or at the end to shif the profile\n",
        "    series_i = np.pad(main_profile_gen,(n_pad_left,padding_length-n_pad_left),mode='constant',constant_values=0)\n",
        "    #chop some of the end to prove it can work with multiple lengths\n",
        "    l = np.random.randint(length-20,length+1)\n",
        "    series_i = series_i[:l]\n",
        "    #randomize a bit\n",
        "    series_i = randomizer_fun(series_i)\n",
        "\n",
        "    series.append(series_i)\n",
        "    print(len(series_i))\n",
        "\n",
        "# DBA is a baseline!\n",
        "# the length of center can also be controlled\n",
        "# an iterative approach\n",
        "average_series_DBA = performDBA(series, show=True)"
      ]
    },
    {
      "cell_type": "code",
      "execution_count": null,
      "metadata": {
        "id": "yVLBcbkquGzk",
        "is_executing": true,
        "jupyter": {
          "outputs_hidden": false
        },
        "pycharm": {
          "name": "#%%\n"
        }
      },
      "outputs": [],
      "source": [
        "from lib.dsp import performSOFTDBA\n",
        "import numpy as np\n",
        "import matplotlib.pyplot as plt\n",
        "\n",
        "n_series = 15\n",
        "length = 150\n",
        "\n",
        "series = list()\n",
        "padding_length=30\n",
        "indices = range(0, length-padding_length)\n",
        "main_profile_gen = np.array([np.sin(2*np.pi*j/len(indices)) for j in indices])\n",
        "randomizer = lambda j:np.random.normal(j,0.02)\n",
        "randomizer_fun = np.vectorize(randomizer)\n",
        "for i in range(0,n_series):\n",
        "    n_pad_left = np.random.randint(0,padding_length)\n",
        "    #adding zero at the start or at the end to shif the profile\n",
        "    series_i = np.pad(main_profile_gen,(n_pad_left,padding_length-n_pad_left),mode='constant',constant_values=0)\n",
        "    #chop some of the end to prove it can work with multiple lengths\n",
        "    l = np.random.randint(length-20,length+1)\n",
        "    series_i = series_i[:l]\n",
        "    #randomize a bit\n",
        "    series_i = randomizer_fun(series_i)\n",
        "    if len(series_i) < 150: #SoftDBA expects entries of same length\n",
        "      pad = 150 - len(series_i)\n",
        "      for p in range(pad):\n",
        "        series_i = np.append(series_i,0)\n",
        "\n",
        "    series.append(series_i)\n",
        "\n",
        "# # convert an un-convex problem into an convex optimization\n",
        "average_series_SoftDBA = performSOFTDBA(list(series), show=True)"
      ]
    },
    {
      "cell_type": "markdown",
      "metadata": {
        "id": "mBUNNJefuGy3",
        "jupyter": {
          "outputs_hidden": false
        },
        "pycharm": {
          "name": "#%% md\n"
        }
      },
      "source": [
        "# Decompose\n"
      ]
    },
    {
      "cell_type": "markdown",
      "metadata": {
        "id": "Zv0FrYDhuGy4",
        "jupyter": {
          "outputs_hidden": false
        },
        "pycharm": {
          "name": "#%% md\n"
        }
      },
      "source": [
        "### 1. **Seasonal Decomposition:**\n",
        "\n",
        "**Seasonal decomposition** is a technique used in time series analysis to break down a time series into its individual components: trend, seasonality, and residual (or noise). This helps to better understand the underlying structure of the data and is often used to detect patterns, forecast future values, and improve the accuracy of predictive models.\n",
        "\n",
        "</br>\n",
        "\n",
        "The primary goal of seasonal decomposition is to separate the time series into components that represent different underlying behaviors.\n",
        "\n",
        "</br>\n",
        "\n",
        "The model can be expressed as $y(t) = T(t) + S(t) + R(t)$, where $T(t)$ is the trend, $S(t)$ is the seasonal component, and $R(t)$ is the residual:\n",
        "\n",
        "* **Trend:** The long-term movement or direction in the data. It represents the general tendency of the data to increase or decrease over time, ignoring short-term fluctuations.\n",
        "\n",
        "* **Seasonality:** The repeating and predictable patterns or cycles that occur at regular intervals, such as daily, weekly, monthly, or yearly. This component captures fluctuations that recur over a fixed period.\n",
        "\n",
        "* **Residual:** The \"leftover\" noise or random fluctuations in the data that can't be explained by the trend or seasonal components. This component represents irregular variations, outliers, or random events.\n",
        "\n"
      ]
    },
    {
      "cell_type": "markdown",
      "source": [
        "**Steps:**\n",
        "\n",
        "**1. Estimating the Trend Component:**\n",
        "\n",
        "  * The trend is estimated by smoothing the original time series data. This can be done using various methods like moving averages, locally weighted regression, or smoothing splines. The goal is to remove the seasonal and residual components, leaving behind the underlying long-term trend.\n",
        "\n",
        "**2. Estimating the Seasonal Component:**\n",
        "\n",
        "  * After extracting the trend, the seasonal component is found by calculating the differences between the original data and the estimated trend. This is typically done by averaging the values that occur at the same time of the year or time period, e.g., averaging monthly sales for each month of the year.\n",
        "\n",
        "**3. Residuals:**\n",
        "\n",
        "  * The residual component is simply what remains after removing the trend and seasonal components. It is calculated by subtracting the trend and seasonal components from the original data. Ideally, this should resemble random noise, with no clear patterns."
      ],
      "metadata": {
        "id": "VGUCD-KTFGes"
      }
    },
    {
      "cell_type": "code",
      "execution_count": null,
      "metadata": {
        "jupyter": {
          "outputs_hidden": false
        },
        "pycharm": {
          "name": "#%%\n"
        },
        "id": "Xksik28G63fb"
      },
      "outputs": [],
      "source": [
        "from lib.dsp import seasonal_decomposition, sine_wave\n",
        "import numpy as np\n",
        "import matplotlib.pyplot as plt\n",
        "\n",
        "x = my_array = np.arange(1000)\n",
        "\n",
        "Trend = 1.5 * np.linspace(0, 10, 1000)\n",
        "plt.plot(x,Trend)\n",
        "plt.title(\"Generated Trend\")\n",
        "\n",
        "Seasonal = sine_wave(duration=10, sampling_rate=100, frequency=0.5, show = True)\n",
        "\n",
        "Residual = np.random.normal(0, 0.5, 10 * 100)\n",
        "plt.plot(x,Residual)\n",
        "plt.title(\"Generated Residual\")\n",
        "\n",
        "\n",
        "signal = Seasonal + Trend + Residual\n",
        "\n",
        "_ = seasonal_decomposition(signal, period=200, show=True)"
      ]
    },
    {
      "cell_type": "markdown",
      "metadata": {
        "id": "NzYloG26uGy4",
        "jupyter": {
          "outputs_hidden": false
        },
        "pycharm": {
          "name": "#%% md\n"
        }
      },
      "source": [
        "### 2. **Empirical Mode Decomposition (EMD):**\n",
        "\n",
        "Empirical Mode Decomposition (EMD) is a data-driven method for analyzing non-linear and non-stationary time series data. It decomposes a time series into a set of intrinsic mode functions (IMFs), which represent different oscillatory modes of the data. These IMFs are derived from the data itself, without relying on a pre-defined basis, making EMD particularly useful for analyzing complex, real-world signals that do not follow simple trends or seasonality.\n",
        "\n",
        "* EMD decomposes a signal into intrinsic mode functions (IMFs) based on local extrema. Each IMF represents a specific oscillatory mode. Mathematically, a signal $x(t)$ is decomposed as $x(t) = \\sum_{i=1}^{n} C_i(t) + R(t)$, where $C_i(t)$ is the $i$-th IMF and $R(t)$ is the residual.\n",
        "\n",
        "</br>\n",
        "\n",
        "**Key Concepts of EMD:**\n",
        "\n",
        "**1. Intrinsic Mode Functions (IMFs):**\n",
        "\n",
        "  * IMFs are components that EMD extracts from the original time series. Each IMF captures a specific oscillatory mode of the signal, with each IMF having:\n",
        "\n",
        "    * **Zero mean:** The average value of the IMF is zero.\n",
        "    \n",
        "    * **Monotonicity of extrema:** The number of zero-crossings and extrema (peaks and valleys) in an IMF must either be equal or differ by at most one.\n",
        "\n",
        "  * These IMFs represent different frequency scales of the signal, from high-frequency oscillations (fine details) to low-frequency trends (general behavior).\n",
        "\n",
        "**2. The Decomposition Process:**\n",
        "\n",
        "  * EMD works by iteratively sifting through the original signal and extracting IMFs one by one. This is done by:\n",
        "\n",
        "    1. Identifying the local maxima and local minima of the signal.\n",
        "\n",
        "    2. Interpolating between the maxima and minima to create an envelope for the signal.\n",
        "\n",
        "    3. Subtracting the envelope from the original signal to obtain a component (the first IMF).\n",
        "\n",
        "    4. The process is repeated on the residual signal until it meets the stopping criterion (i.e., no more IMFs can be extracted).\n",
        "\n",
        "**3. Residual Trend:**\n",
        "\n",
        "  * After extracting all the IMFs, what remains is the residual trend, which is the long-term average of the signal, often referred to as the final component in the decomposition process.\n",
        "\n",
        "**4. Non-Linear and Non-Stationary Data:**\n",
        "\n",
        "  * Unlike traditional methods like Fourier transforms or wavelets, which assume that the signal is stationary (its statistical properties do not change over time), EMD is designed to handle non-stationary and non-linear data. This makes it suitable for a wide range of real-world applications where the underlying signal changes over time."
      ]
    },
    {
      "cell_type": "markdown",
      "source": [
        "**Steps of the EMD Process:**\n",
        "\n",
        "**1. Sifting Process:**\n",
        "\n",
        "  * The signal is first \"sifted\" to extract the high-frequency oscillations (IMFs) using the local maxima and minima. This involves:\n",
        "\n",
        "      1. Identifying the local maxima and minima.\n",
        "\n",
        "      2. Interpolating between the maxima and minima to create upper and lower envelopes.\n",
        "      \n",
        "      3. Subtracting the mean of the upper and lower envelopes from the signal to obtain the IMF.\n",
        "\n",
        "      4. Repeating the process on the residual signal until the stopping criterion is met.\n",
        "\n",
        "**2. Iterative Extraction:**\n",
        "\n",
        "  * This process continues for several iterations. Each iteration extracts an IMF, and what remains after extracting each IMF is a progressively lower-frequency component of the signal. The decomposition stops when the residual signal is a monotonic function (or when other convergence criteria are met).\n",
        "\n",
        "**3. Final Residual:**\n",
        "\n",
        "  * The final residual is often considered the trend of the original time series, which has no oscillatory modes left."
      ],
      "metadata": {
        "id": "Lh_fhGr3Fxbu"
      }
    },
    {
      "cell_type": "markdown",
      "source": [
        "**Pros:**\n",
        "\n",
        "* **Data-Driven:** EMD does not assume a pre-defined model or basis (like Fourier transforms or wavelets), making it highly flexible for complex, real-world signals.\n",
        "\n",
        "* **Adaptability:** It works well for non-stationary, non-linear signals, making it suitable for a wide variety of applications, including those where other methods may struggle.\n",
        "\n",
        "* **No Assumptions:** Unlike methods such as Fourier or wavelet transforms, EMD does not require assumptions about the signal’s behavior or frequency content.\n",
        "\n",
        "* **Multiscale Analysis:** It allows for multiscale decomposition, which helps to capture different frequency components of the signal.\n",
        "\n",
        "**Cons:**\n",
        "\n",
        "* **Mode Mixing:** EMD can sometimes suffer from mode mixing, where different frequency components are incorrectly mixed together in the same IMF. This can occur if the signal is highly irregular or contains sharp discontinuities.\n",
        "\n",
        "* **Sensitivity to Noise:** EMD can be sensitive to noise, especially for signals with small-scale variations.\n",
        "\n",
        "* **Computational Cost:** The iterative nature of the method can be computationally expensive for large datasets."
      ],
      "metadata": {
        "id": "3oilxr3gFzTX"
      }
    },
    {
      "cell_type": "code",
      "execution_count": null,
      "metadata": {
        "jupyter": {
          "outputs_hidden": false
        },
        "pycharm": {
          "name": "#%%\n"
        },
        "id": "G56J0ABB63fc"
      },
      "outputs": [],
      "source": [
        "import numpy as np\n",
        "import matplotlib.pyplot as plt\n",
        "from lib.dsp import emd_decomposition, sine_wave, chirp_wave_linear, chirp_wave_hyperbolic, chirp_wave_exponential\n",
        "\n",
        "duration = 10\n",
        "sampling_rate = 100\n",
        "\n",
        "x = my_array = np.arange(duration*sampling_rate)\n",
        "\n",
        "\"\"\" Generate a Trend\n",
        "Trend = 1.5 * np.linspace(0, duration, duration*sampling_rate)\n",
        "plt.plot(x,Trend)\n",
        "plt.title(\"Generated Trend\")\n",
        "#\"\"\"\n",
        "\n",
        "\n",
        "\"\"\" # Seasonal Signals Only\n",
        "Seasonal_1 = sine_wave(duration=duration, sampling_rate=sampling_rate, amplitude=5, frequency=0.2,show=True)\n",
        "Seasonal_2 = sine_wave(duration=duration, sampling_rate=sampling_rate, amplitude=4, frequency=0.5,show=True)\n",
        "Seasonal_3 = sine_wave(duration=duration, sampling_rate=sampling_rate, amplitude=3, frequency=1.0,show=True)\n",
        "Seasonal_4 = sine_wave(duration=duration, sampling_rate=sampling_rate, amplitude=2, frequency=2.0,show=True)\n",
        "Seasonal_5 = sine_wave(duration=duration, sampling_rate=sampling_rate, amplitude=1, frequency=4.0,show=True)\n",
        "\n",
        "Noise = np.random.normal(0, 0.01, 1000)\n",
        "plt.plot(x,Noise)\n",
        "plt.title(\"Generated Noise\")\n",
        "\n",
        "signal = Seasonal_1 + Seasonal_2 + Seasonal_3 + Seasonal_4 + Seasonal_5 #+ Noise\n",
        "#signal = Seasonal_1 + Seasonal_2 + Seasonal_3 + Seasonal_4 + Trend #+ Noise\n",
        "#\"\"\"\n",
        "\n",
        "#\"\"\" # Non Liniear Signals\n",
        "chirp_linear_ = chirp_wave_linear(f0=0.1, c=0.25, show=True)\n",
        "chirp_hyperbolic_ = chirp_wave_hyperbolic(f0=0.1, f1=2.6, show=True)\n",
        "chirp_exponential_ = chirp_wave_exponential(f0=0.1, k=1.5, show=True)\n",
        "\n",
        "Noise = np.random.normal(0, 0.01, 1000)\n",
        "plt.plot(x,Noise)\n",
        "plt.title(\"Generated Noise\")\n",
        "\n",
        "signal = chirp_linear_ + chirp_hyperbolic_ + chirp_exponential_ #+ Noise\n",
        "#\"\"\"\n",
        "\n",
        "_ = emd_decomposition(signal, show=True)"
      ]
    },
    {
      "cell_type": "markdown",
      "metadata": {
        "id": "6aq5orr6uGy4",
        "jupyter": {
          "outputs_hidden": false
        },
        "pycharm": {
          "name": "#%% md\n"
        }
      },
      "source": [
        "### 3. **Ensemble Empirical Mode Decomposition (EEMD):**\n",
        "\n",
        "\n",
        "**Ensemble Empirical Mode Decomposition (EEMD)** is an improved version of the Empirical Mode Decomposition (EMD) method, designed to overcome some of the limitations of EMD, particularly mode mixing and sensitivity to noise. EEMD combines the strength of EMD for analyzing non-linear and non-stationary signals with a statistical approach to improve the robustness and reliability of the decomposition process."
      ]
    },
    {
      "cell_type": "markdown",
      "source": [
        "EEMD addresses the problems of mode mixing and noise sensitivity by introducing the concept of ensemble averaging. The main idea behind EEMD is to add white noise to the original signal and then perform the standard EMD process on the noisy signal. By repeating this process multiple times with different realizations of white noise, the resulting IMFs are averaged to obtain a more stable and reliable decomposition.\n",
        "\n",
        "**Steps:**\n",
        "\n",
        "**1. Add White Noise:**\n",
        "\n",
        "  * White noise (random noise with a flat spectral density) is added to the original signal. This introduces randomness into the signal, helping to avoid the bias caused by mode mixing and improving the decomposition process.\n",
        "\n",
        "**2. Decompose with EMD:**\n",
        "\n",
        "  * Perform Empirical Mode Decomposition on the noisy signal. This step results in a set of IMFs that are influenced by the added noise.\n",
        "\n",
        "**3. Repeat the Process:**\n",
        "\n",
        "  * The process is repeated several times, each time adding a different realization of white noise to the signal. For each noisy signal, a separate EMD decomposition is performed, resulting in a different set of IMFs.\n",
        "\n",
        "**4. Ensemble Averaging:**\n",
        "\n",
        "  * After completing the decompositions for all white noise realizations, the IMFs from each decomposition are averaged. The averaging process helps to cancel out the effects of the white noise, leaving behind a more accurate representation of the true intrinsic oscillations in the original signal.\n",
        "\n",
        "**5. Final Decomposition:**\n",
        "\n",
        "  * The resulting IMFs, averaged over the ensemble of noisy realizations, form the final set of IMFs that are less influenced by noise and mode mixing."
      ],
      "metadata": {
        "id": "QIXu2fXzILiA"
      }
    },
    {
      "cell_type": "markdown",
      "source": [
        "**Advantages of EEMD over EMD:**\n",
        "\n",
        "**1. Reduced Mode Mixing:**\n",
        "\n",
        "  * By adding white noise and performing the decomposition multiple times, EEMD mitigates the problem of mode mixing that can occur in traditional EMD. The averaging process helps to separate components more clearly into different frequency bands.\n",
        "\n",
        "**2. Noise Robustness:**\n",
        "\n",
        "  * The introduction of white noise in EEMD helps to \"drown out\" the effects of real-world noise, making the decomposition more stable and robust, especially in the presence of noise or irregularities in the data.\n",
        "\n",
        "**3. More Reliable IMFs:**\n",
        "\n",
        "  * The ensemble averaging step leads to more stable and meaningful IMFs, as the noise and instability from individual decompositions are averaged out, resulting in IMFs that better represent the underlying dynamics of the signal.\n",
        "\n",
        "**4. Better Handling of Complex Signals:**\n",
        "\n",
        "  * EEMD is better suited for dealing with complex, non-linear, and non-stationary signals, such as those found in biomedical data, mechanical systems, and financial data, where EMD alone may struggle."
      ],
      "metadata": {
        "id": "rjTtovo4Iv7D"
      }
    },
    {
      "cell_type": "code",
      "execution_count": null,
      "metadata": {
        "jupyter": {
          "outputs_hidden": false
        },
        "pycharm": {
          "name": "#%%\n"
        },
        "id": "se0YBq7I63fc"
      },
      "outputs": [],
      "source": [
        "from lib.dsp import eemd_decomposition, vmd_decomposition, sine_wave, chirp_wave_linear, chirp_wave_hyperbolic, chirp_wave_exponential\n",
        "import matplotlib.pyplot as plt\n",
        "import numpy as np\n",
        "\n",
        "\n",
        "duration = 10\n",
        "sampling_rate = 100\n",
        "\n",
        "x = my_array = np.arange(duration*sampling_rate)\n",
        "\n",
        "\"\"\" Generate a Trend\n",
        "Trend = 1.5 * np.linspace(0, duration, duration*sampling_rate)\n",
        "plt.plot(x,Trend)\n",
        "plt.title(\"Generated Trend\")\n",
        "#\"\"\"\n",
        "\n",
        "\n",
        "#\"\"\" # Seasonal Signals Only\n",
        "Seasonal_1 = sine_wave(duration=duration, sampling_rate=sampling_rate, amplitude=5, frequency=0.2,show=True)\n",
        "Seasonal_2 = sine_wave(duration=duration, sampling_rate=sampling_rate, amplitude=4, frequency=0.5,show=True)\n",
        "Seasonal_3 = sine_wave(duration=duration, sampling_rate=sampling_rate, amplitude=3, frequency=1.0,show=True)\n",
        "Seasonal_4 = sine_wave(duration=duration, sampling_rate=sampling_rate, amplitude=2, frequency=2.0,show=True)\n",
        "Seasonal_5 = sine_wave(duration=duration, sampling_rate=sampling_rate, amplitude=1, frequency=4.0,show=True)\n",
        "\n",
        "Noise = np.random.normal(0, 0.01, 1000)\n",
        "plt.plot(x,Noise)\n",
        "plt.title(\"Generated Noise\")\n",
        "\n",
        "signal = Seasonal_1 + Seasonal_2 + Seasonal_3 + Seasonal_4 + Seasonal_5 #+ Noise\n",
        "#signal = Seasonal_1 + Seasonal_2 + Seasonal_3 + Seasonal_4 + Trend #+ Noise\n",
        "#\"\"\"\n",
        "\n",
        "\"\"\" # Non Liniear Signals\n",
        "chirp_linear_ = chirp_wave_linear(f0=0.1, c=0.25, show=True)\n",
        "chirp_hyperbolic_ = chirp_wave_hyperbolic(f0=0.1, f1=2.6, show=True)\n",
        "chirp_exponential_ = chirp_wave_exponential(f0=0.1, k=1.5, show=True)\n",
        "#Seasonal_1 = sine_wave(duration=duration, sampling_rate=sampling_rate, amplitude=5, frequency=0.2,show=True)\n",
        "#Seasonal_2 = sine_wave(duration=duration, sampling_rate=sampling_rate, amplitude=4, frequency=0.5,show=True)\n",
        "\n",
        "Noise = np.random.normal(0, 0.01, 1000)\n",
        "plt.plot(x,Noise)\n",
        "plt.title(\"Generated Noise\")\n",
        "\n",
        "#signal = chirp_linear_ + Seasonal_1 + Seasonal_2 #+ Noise\n",
        "signal = chirp_linear_ + chirp_hyperbolic_ + chirp_exponential_ #+ Noise\n",
        "#\"\"\"\n",
        "\n",
        "# EEMD default values: noise_width = 0.05, ensemble_size = 100\n",
        "# noise_width is the width of the white noise to add to the signal for ensemble generation\n",
        "# ensemble_size is the number of ensemble trials to perform\n",
        "_ = eemd_decomposition(signal, noise_width=0.05, ensemble_size=100, show=True)"
      ]
    },
    {
      "cell_type": "markdown",
      "metadata": {
        "id": "IbL9eb5EuGy4",
        "jupyter": {
          "outputs_hidden": false
        },
        "pycharm": {
          "name": "#%% md\n"
        }
      },
      "source": [
        "### 4. **Complete Ensemble Empirical Mode Decomposition (CEEMD):**\n",
        "\n",
        "Complete Ensemble Empirical Mode Decomposition (CEEMD) is an advanced method that further improves upon Ensemble Empirical Mode Decomposition (EEMD), addressing some of the remaining issues with noise interference and mode mixing, making it even more robust and effective in decomposing complex, non-linear, and non-stationary time series signals.\n",
        "\n",
        "CEEMD is an enhancement of EEMD that eliminates the residual noise that can still affect the decomposition process. Instead of adding just white noise in each ensemble realization (like in EEMD), CEEMD adds both positive and negative white noise to the signal. This addition of positive and negative noise in each iteration helps to cancel out the noise effects more effectively, resulting in a cleaner decomposition.\n"
      ]
    },
    {
      "cell_type": "markdown",
      "source": [
        "**The steps for CEEMD are the same as EEMD, except for Add Noise:**\n",
        "\n",
        "* Instead of adding just positive white noise (as in EEMD), both positive and negative white noise of equal amplitude are added to the signal. This makes the process more symmetric and helps to cancel out noise artifacts more effectively."
      ],
      "metadata": {
        "id": "la9ed6gpJsso"
      }
    },
    {
      "cell_type": "code",
      "execution_count": null,
      "metadata": {
        "jupyter": {
          "outputs_hidden": false
        },
        "pycharm": {
          "name": "#%%\n"
        },
        "id": "8ofIlobF63fd"
      },
      "outputs": [],
      "source": [
        "from lib.dsp import ceemd_decomposition, sine_wave, chirp_wave_linear, chirp_wave_hyperbolic, chirp_wave_exponential\n",
        "import numpy as np\n",
        "import matplotlib.pyplot as plt\n",
        "\n",
        "duration = 10\n",
        "sampling_rate = 100\n",
        "\n",
        "x = my_array = np.arange(duration*sampling_rate)\n",
        "\n",
        "\"\"\" Generate a Trend\n",
        "Trend = 1.5 * np.linspace(0, duration, duration*sampling_rate)\n",
        "plt.plot(x,Trend)\n",
        "plt.title(\"Generated Trend\")\n",
        "#\"\"\"\n",
        "\n",
        "\n",
        "#\"\"\" # Seasonal Signals Only\n",
        "Seasonal_1 = sine_wave(duration=duration, sampling_rate=sampling_rate, amplitude=5, frequency=0.2,show=True)\n",
        "Seasonal_2 = sine_wave(duration=duration, sampling_rate=sampling_rate, amplitude=4, frequency=0.5,show=True)\n",
        "Seasonal_3 = sine_wave(duration=duration, sampling_rate=sampling_rate, amplitude=3, frequency=1.0,show=True)\n",
        "Seasonal_4 = sine_wave(duration=duration, sampling_rate=sampling_rate, amplitude=2, frequency=2.0,show=True)\n",
        "Seasonal_5 = sine_wave(duration=duration, sampling_rate=sampling_rate, amplitude=1, frequency=4.0,show=True)\n",
        "\n",
        "Noise = np.random.normal(0, 0.01, 1000)\n",
        "plt.plot(x,Noise)\n",
        "plt.title(\"Generated Noise\")\n",
        "\n",
        "signal = Seasonal_1 + Seasonal_2 + Seasonal_3 + Seasonal_4 + Seasonal_5 #+ Noise\n",
        "#signal = Seasonal_1 + Seasonal_2 + Seasonal_3 + Seasonal_4 + Trend #+ Noise\n",
        "#\"\"\"\n",
        "\n",
        "\"\"\" # Non Liniear Signals\n",
        "chirp_linear_ = chirp_wave_linear(f0=0.1, c=0.25, show=True)\n",
        "chirp_hyperbolic_ = chirp_wave_hyperbolic(f0=0.1, f1=2.6, show=True)\n",
        "chirp_exponential_ = chirp_wave_exponential(f0=0.1, k=1.5, show=True)\n",
        "#Seasonal_1 = sine_wave(duration=duration, sampling_rate=sampling_rate, amplitude=5, frequency=0.2,show=True)\n",
        "#Seasonal_2 = sine_wave(duration=duration, sampling_rate=sampling_rate, amplitude=4, frequency=0.5,show=True)\n",
        "\n",
        "Noise = np.random.normal(0, 0.01, 1000)\n",
        "plt.plot(x,Noise)\n",
        "plt.title(\"Generated Noise\")\n",
        "\n",
        "#signal = chirp_linear_ + Seasonal_1 + Seasonal_2 #+ Noise\n",
        "signal = chirp_linear_ + chirp_hyperbolic_ + chirp_exponential_ #+ Noise\n",
        "#\"\"\"\n",
        "\n",
        "# CEEMD\n",
        "_ = ceemd_decomposition(signal, show=True)"
      ]
    },
    {
      "cell_type": "markdown",
      "metadata": {
        "id": "W6jkbxdtuGy4",
        "jupyter": {
          "outputs_hidden": false
        },
        "pycharm": {
          "name": "#%% md\n"
        }
      },
      "source": [
        "### 5. **Variational Mode Decomposition (VMD):**\n",
        "\n",
        "Variational Mode Decomposition (VMD) is a signal processing technique that is used to decompose a complex signal into a set of intrinsic modes or modes of oscillation. It is particularly useful for analyzing non-stationary and non-linear signals, and it has gained popularity as an alternative to methods like Empirical Mode Decomposition (EMD) and its variations (such as CEEMD).\n",
        "\n",
        "</br>\n",
        "\n",
        "VMD decomposes a signal into a set of oscillatory modes with varying frequencies. It minimizes the mode mixing problem by solving a variational optimization problem. The decomposition can be expressed as $x(t) = \\sum_{i=1}^{n} u_i(t) + R(t)$, where $u_i(t)$ are the modes and $R(t)$ is the residual."
      ]
    },
    {
      "cell_type": "markdown",
      "source": [
        "**Concepts:**\n",
        "\n",
        "**1. Intrinsic Mode Functions (IMFs):**\n",
        "\n",
        "  * Similar to EMD, VMD decomposes a signal into intrinsic mode functions (IMFs), which are the individual frequency components that make up the signal. These IMFs correspond to oscillatory modes or frequency bands that are embedded in the signal.\n",
        "\n",
        "**2. Non-Stationary and Non-Linear Signals:**\n",
        "\n",
        "  * VMD is especially useful for analyzing signals that are non-linear (their properties change over time) and non-stationary (their statistical properties vary with time). These types of signals are commonly found in real-world data like seismic signals, biomedical signals (e.g., EEG, ECG), and financial data.\n",
        "\n",
        "**3. Variational Approach:**\n",
        "\n",
        "  * Unlike traditional decomposition techniques (such as EMD), which use iterative sifting processes to extract IMFs, VMD uses a variational optimization approach to directly decompose the signal into modes. This optimization problem is solved by minimizing a cost function that balances the frequency bandwidth of each mode and the residual of the signal.\n",
        "\n",
        "**4. Mode Decomposition:**\n",
        "\n",
        "  * The goal of VMD is to separate a signal into distinct frequency components (modes) without requiring prior knowledge of the signal’s structure. The decomposition is done in a way that each mode is associated with a specific frequency range, and there is minimal overlap between modes."
      ],
      "metadata": {
        "id": "T8WQ_EAmKSWx"
      }
    },
    {
      "cell_type": "markdown",
      "source": [
        "**Steps:**\n",
        "\n",
        "VMD is based on an optimization framework where the objective is to find a set of modes such that their sum approximates the original signal. Here's a step-by-step breakdown of how VMD works:\n",
        "\n",
        "**1. Signal Representation:**\n",
        "\n",
        "  * VMD takes a time-domain signal $x(t)$ and aims to represent it as the **sum** of a set of modes $u_k(t)$, each of which has a specific frequency component. The modes are represented as functions with limited frequency bandwidths.\n",
        "\n",
        "**2. Frequency Localization:**\n",
        "\n",
        "  * Each mode is associated with a center frequency $F_k$, and the objective is to make the **frequency bandwidth** of each mode as narrow as possible. This is done by limiting the frequency range of each mode, which helps in extracting specific frequency components from the signal.\n",
        "\n",
        "**3. Variational Optimization:**\n",
        "\n",
        "VMD solves an optimization problem in the form of a variational principle to find the modes and their associated frequencies. The optimization problem seeks to minimize the following cost function:\n",
        "\n",
        "</br>\n",
        "\n",
        "  $\\frac{min}{u_k(t),f_k} \\sum_{k=1}^k \\left( | \\frac{\\delta}{\\delta t} u_k(t) |^2 + α | f_k - \\hat{f}_k |^2 \\right)$\n",
        "\n",
        "</br>\n",
        "\n",
        "Where:\n",
        "\n",
        "* $u_k(t)$is the $k$-th mode.\n",
        "\n",
        "* $f_k$ is the central frequency of the $k$-th mode.\n",
        "\n",
        "* $\\hat{f}$ is the reference frequency.\n",
        "\n",
        "* $α$ is a regularization parameter that controls the balance between bandwidth and frequency accuracy.\n",
        "\n",
        "* The first term in the cost function is the **bandwidth** of the mode, while the second term penalizes deviations from the desired central frequency.\n",
        "\n",
        "**4. Iterative Update:**\n",
        "\n",
        "The algorithm uses an iterative process to update the modes and their associated frequencies in order to minimize the cost function. This is done by alternating between updating the modes and adjusting the central frequencies until convergence is achieved.\n",
        "\n",
        "**5. Reconstruction:**\n",
        "\n",
        "After obtaining the modes, the original signal can be reconstructed by summing all the extracted modes. The result is a signal representation in terms of different oscillatory components, each with a well-defined frequency range."
      ],
      "metadata": {
        "id": "KH3xN1xbKnsl"
      }
    },
    {
      "cell_type": "markdown",
      "source": [
        "**Pros:**\n",
        "\n",
        "* **Precise Frequency Separation:**\n",
        "\n",
        "  * VMD ensures that the extracted modes correspond to distinct frequency bands, reducing mode mixing compared to traditional methods like EMD.\n",
        "\n",
        "* **Noise Robustness:**\n",
        "\n",
        "  * VMD is more robust to noise and is less sensitive to high-frequency noise than methods like EMD, which can struggle in noisy environments.\n",
        "\n",
        "* **Flexible and Generalizable:**\n",
        "\n",
        "  * VMD works well for a wide range of non-linear and non-stationary signals, making it applicable across many domains like biomedical, financial, and geophysical analysis.\n",
        "\n",
        "**Cons:**\n",
        "\n",
        "* **Parameter Sensitivity:**\n",
        "\n",
        "  * The performance of VMD depends on selecting the right parameters, such as the number of modes $K$, the regularization parameter $α$, and the convergence tolerance. Incorrect parameter settings can lead to poor results.\n",
        "\n",
        "* **Computational Complexity:**\n",
        "\n",
        "  * VMD requires solving an optimization problem for each mode, which can be computationally intensive for large datasets or real-time applications."
      ],
      "metadata": {
        "id": "mOpruS01PLmY"
      }
    },
    {
      "cell_type": "code",
      "execution_count": null,
      "metadata": {
        "id": "NkqAWtSpuGy7",
        "jupyter": {
          "outputs_hidden": false
        },
        "pycharm": {
          "name": "#%%\n"
        }
      },
      "outputs": [],
      "source": [
        "from lib.dsp import vmd_decomposition, sine_wave, chirp_wave_linear, chirp_wave_hyperbolic, chirp_wave_exponential\n",
        "import numpy as np\n",
        "import matplotlib.pyplot as plt\n",
        "\n",
        "duration = 10\n",
        "sampling_rate = 100\n",
        "\n",
        "x = my_array = np.arange(duration*sampling_rate)\n",
        "\n",
        "\n",
        "\"\"\" Generate a Trend\n",
        "Trend = 1.5 * np.linspace(0, duration, duration*sampling_rate)\n",
        "plt.plot(x,Trend)\n",
        "plt.title(\"Generated Trend\")\n",
        "#\"\"\"\n",
        "\n",
        "\n",
        "#\"\"\" # Seasonal Signals Only\n",
        "Seasonal_1 = sine_wave(duration=duration, sampling_rate=sampling_rate, amplitude=5, frequency=0.2,show=True)\n",
        "Seasonal_2 = sine_wave(duration=duration, sampling_rate=sampling_rate, amplitude=4, frequency=0.5,show=True)\n",
        "Seasonal_3 = sine_wave(duration=duration, sampling_rate=sampling_rate, amplitude=3, frequency=1.0,show=True)\n",
        "Seasonal_4 = sine_wave(duration=duration, sampling_rate=sampling_rate, amplitude=2, frequency=2.0,show=True)\n",
        "Seasonal_5 = sine_wave(duration=duration, sampling_rate=sampling_rate, amplitude=1, frequency=4.0,show=True)\n",
        "\n",
        "Noise = np.random.normal(0, 0.01, 1000)\n",
        "plt.plot(x,Noise)\n",
        "plt.title(\"Generated Noise\")\n",
        "\n",
        "signal = Seasonal_1 + Seasonal_2 + Seasonal_3 + Seasonal_4 + Seasonal_5 #+ Noise\n",
        "#signal = Seasonal_1 + Seasonal_2 + Seasonal_3 + Seasonal_4 + Trend #+ Noise\n",
        "#\"\"\"\n",
        "\n",
        "\"\"\" # Non Liniear Signals\n",
        "chirp_linear_ = chirp_wave_linear(f0=0.1, c=0.25, show=True)\n",
        "chirp_hyperbolic_ = chirp_wave_hyperbolic(f0=0.1, f1=2.6, show=True)\n",
        "chirp_exponential_ = chirp_wave_exponential(f0=0.1, k=1.5, show=True)\n",
        "\n",
        "Noise = np.random.normal(0, 0.01, 1000)\n",
        "plt.plot(x,Noise)\n",
        "plt.title(\"Generated Noise\")\n",
        "\n",
        "signal = chirp_linear_ + chirp_hyperbolic_ + chirp_exponential_ #+ Noise\n",
        "#\"\"\"\n",
        "\n",
        "# VMD Default Values: K=5, alpha=2000\n",
        "# K is the number of modes to decompose the signal into\n",
        "# alpha is the moderate bandwidth constraint\n",
        "_ = vmd_decomposition(signal, K=6, alpha=1000, show=True)"
      ]
    },
    {
      "cell_type": "markdown",
      "source": [
        "## **Singular Spectrum Analysis (SSA) and Singular Spectrum Transform (SST)**\n",
        "\n",
        "**Singular Spectrum Analysis (SSA)** and **Singular Spectrum Transform (SST)** are both time series analysis techniques that utilize concepts from **Singular Value Decomposition (SVD)** and matrix factorization. While they share some similarities in their foundational concepts, there are key differences in their implementation, goals, and applications. Let's explore each technique in detail and compare them."
      ],
      "metadata": {
        "id": "T_KLaHszj0tW"
      }
    },
    {
      "cell_type": "markdown",
      "source": [
        "### **Singular Spectrum Analysis (SSA)**\n",
        "\n",
        "**Overview:** Singular Spectrum Analysis (SSA) is a method used to analyze time series data by reconstructing the time series in a higher-dimensional space. SSA focuses on decomposing the time series into a set of additive components, such as trends, oscillations, and noise. The goal is often to extract useful patterns from the data, such as periodic trends, or to denoise the signal.\n",
        "\n",
        "**Steps in SSA:**\n",
        "\n",
        "* **Embedding:** First, the time series is embedded into a trajectory matrix (similar to SST). This involves creating a matrix by sliding a window across the time series, where each row of the matrix corresponds to a segment of the time series.\n",
        "\n",
        "* **Singular Value Decomposition (SVD):** Perform SVD on the trajectory matrix. The decomposition produces singular values and singular vectors. The singular values indicate the importance of each component in explaining the variance of the data.\n",
        "\n",
        "* **Component Extraction:** The singular vectors corresponding to large singular values are assumed to represent meaningful features (like trends or oscillations). The components with smaller singular values are considered noise.\n",
        "\n",
        "* **Reconstruction:** A key feature of SSA is the ability to reconstruct the original signal from a subset of the components (i.e., by keeping the largest singular values or specific singular vectors)."
      ],
      "metadata": {
        "id": "xmvWXQaCkNBL"
      }
    },
    {
      "cell_type": "markdown",
      "metadata": {
        "pycharm": {
          "name": "#%% md\n"
        },
        "id": "YZ9CfCTM63fe"
      },
      "source": [
        "### **SSA Detailed Breakdown**\n",
        "\n",
        "**Source:** https://www.kaggle.com/code/jdarcy/introducing-ssa-for-time-series-decomposition\n",
        "\n",
        "The notation in this section will mostly follow that used in the book, [*Analysis of Time Series Structure: SSA and Related Techniques*](https://www.crcpress.com/Analysis-of-Time-Series-Structure-SSA-and-Related-Techniques/Golyandina-Nekrutkin-Zhigljavsky/p/book/9781584881940) by N. Golyandina, V. Nekrutkin and A. Zhigljavsky—an excellent reference containing more proofs and details about SSA than you could possibly ever need to know. Here, we'll go a step further and develop a Python implementation for SSA. For consistency between the mathematical notation and the code, all matrix and summation indexing with begin at 0 instead of 1.\n",
        "\n",
        "### From Time Series to Trajectory Matrix<a name=\"Section2.1\"></a>\n",
        "The first step of SSA is to map the time series $F$ to a sequence of multi-dimensional lagged vectors. Let an integer $L$ be the **window length**, $2 \\le L \\le N/2$. We form a 'window', given by the subseries $\\{f_i, \\ f_{i+1}, \\ldots , \\ f_{i+L-1}\\}$, for  $i=0,\\ldots,N-L$. We slide this window along the time series, forming a column vector, $X_i$, for each subseries. That is, we have\n",
        "\n",
        "\\begin{align*}\n",
        "X_0 & = (f_0, \\ f_1, \\ f_2,  \\ldots, \\ f_{L-1} )^{\\text{T}} \\\\\n",
        "X_1 & = (f_1, \\ f_2, \\ f_3,  \\ldots, \\ f_L )^{\\text{T}} \\\\\n",
        "X_2 & = (f_2, \\ f_3, \\ f_4,  \\ldots, \\ f_{L+1} )^{\\text{T}} \\\\\n",
        "X_3 & = (f_3, \\ f_4, \\ f_5,  \\ldots, \\ f_{L+2} )^{\\text{T}} \\\\\n",
        "& \\quad \\quad \\quad  \\vdots \\\\\n",
        "X_{N-L} & = (f_{N-L}, \\ f_{N-L+1}, \\ f_{N-L+2}, \\ \\ldots, \\ f_{N-1} )^{\\text{T}}.\n",
        "\\end{align*}\n",
        "\n",
        "These column vectors form the $L$-*trajectory matrix*, $\\mathbf{X}$, of the time series (hereafter just *trajectory matrix*):\n",
        "\n",
        "$$\\mathbf{X} = \\begin{bmatrix}\n",
        "f_0 & f_1 & f_2 & f_3 &\\ldots & f_{N-L} \\\\\n",
        "f_1 & f_2 & f_3 & f_4 &\\ldots & f_{N-L+1} \\\\\n",
        "f_2 & f_3 & f_4 & f_5 &\\ldots & f_{N-L+2} \\\\\n",
        "\\vdots & \\vdots & \\vdots & \\vdots & \\ddots & \\vdots \\\\\n",
        "f_{L-1} & f_{L} & f_{L+1} & f_{L+2} & \\ldots & f_{N-1} \\\\\n",
        "\\end{bmatrix}$$\n",
        "\n",
        "From writing out the matrix above, it is clear that the elements of the *anti-diagonals* (that is, the diagonals running from bottom-left to top-right) are equal. This type of matrix is known as a ***Hankel*** matrix.\n",
        "\n",
        "For our toy time series, I'll set the window length to 70, and defer discussion on how to select an appropriate window length. Let $K = N - L + 1$ represent the number of columns in the trajectory matrix. **We'll refer to the columns of $\\mathbf{X}$ as the $L$-lagged vectors, and the rows as $K$-lagged vectors.**\n",
        "\n",
        "### Decomposing the Trajectory Matrix<a name=\"Section2.2\"></a>\n",
        "The second step is decomposing the trajectory matrix with a [singular-value decomposition (SVD)](https://en.wikipedia.org/wiki/Singular-value_decomposition),\n",
        "\n",
        "$$\\mathbf{X} = \\mathbf{U\\Sigma V}^{\\text{T}}$$\n",
        "where:\n",
        "* $\\mathbf{U}$ is an $L \\times L$ unitary matrix containing the orthonormal set of ***left singular vectors*** of $\\mathbf{X}$ as columns;\n",
        "* $\\mathbf{\\Sigma}$ is an $L \\times K$ rectangular diagonal matrix containing $L$ ***singular values*** of $\\mathbf{X}$, ordered from largest to smallest; and\n",
        "* $\\mathbf{V}$ is a $K \\times K$ unitary matrix containing the orthonormal set of ***right singular vectors*** of $\\mathbf{X}$ as columns.\n",
        "\n",
        "The SVD of the trajectory matrix can be rewritten as\n",
        "\\begin{align*}\n",
        "    \\mathbf{X} & = \\sum_{i=0}^{d-1}\\sigma_i U_i V_i^{\\text{T}} \\\\\n",
        "               & \\equiv \\sum_{i=0}^{d-1}\\mathbf{X}_i\n",
        "\\end{align*}\n",
        "where $\\sigma_i$ is the $i$th singular value, $U_i$ and $V_i$ are vectors representing the $i$th columns of $\\mathbf{U}$ and $\\mathbf{V}$, respectively, $d \\le L$ is the *rank* of the trajectory matrix (which I shall elaborate on shortly), and $\\mathbf{X}_i = \\sigma_i U_i V_i^{\\text{T}}$ is the $i$th ***elementary matrix*** of $\\mathbf{X}$. The collection $\\{U_i, \\sigma_i, V_i\\}$ will be denoted the $i$th ***eigentriple*** of the SVD.\n",
        "\n",
        "To build a picture of what all of this means, let's inspect the $\\mathbf{U}$, $\\mathbf{V}$ and $\\mathbf{\\Sigma}$ matrices in turn.\n",
        "\n",
        "#### The $\\mathbf{U}$ Matrix<a name=\"Section2.2.1\"></a>\n",
        "$\\mathbf{U}$ is an $L \\times L$ matrix whose columns are orthonormal, that is\n",
        "$$\n",
        "    U_i \\cdot U_j = \\left\\{\n",
        "  \\begin{array}{lr}\n",
        "    1 \\ & i = j \\\\\n",
        "    0 \\ & i \\ne j\n",
        "  \\end{array}\n",
        "\\right.\n",
        "$$\n",
        "This means that $\\mathbf{UU}^{\\text{T}} = \\mathbf{U}^{\\text{T}}\\mathbf{U} = \\mathbf{1}$, making $\\mathbf{U}$ a unitary matrix.\n",
        "\n",
        "To elucidate the role that $\\mathbf{U}$ plays in the expansion for $\\mathbf{X}$ above, let $Z_i = \\sigma_i V_i$ be a column vector, so that\n",
        "$$\\mathbf{X} = \\sum_{i=0}^{d-1} U_i Z_i^{\\text{T}}$$\n",
        "and each $L$-lagged column vector, $X_j$, is then given by\n",
        "$$X_j = \\sum_{i=0}^{d-1}z_{j,i}U_i$$\n",
        "where $z_{j,i}$ is the $j$th component of the vector $Z_i$. The expression for $X_j$ suggests that $\\mathcal{U} = \\{U_0,  \n",
        " \\ldots, U_{d-1} \\}$ is a basis set spanning the *column space* of the trajectory matrix, and $z_{j,i}$ is the $i$th coefficient of the lagged vector $X_j$ represented in the basis $\\mathcal{U}$. **In other words, the columns of the $\\mathbf{U}$ matrix form an orthonormal basis set that describes the time subseries $\\left\\{ f_i, \\ldots, f_{i+L-1}\\right\\}_{i=0}^{N-L}$ in the columns of the trajectory matrix.**  \n",
        "\n",
        "#### The $\\mathbf{V}$ Matrix<a name=\"Section2.2.2\"></a>\n",
        "The matrix $\\mathbf{V}$—appearing (by convention) as its transpose in the expression for the SVD of $\\mathbf{X}$—is a $K \\times K$ matrix with orthonormal columns, which, like the $\\mathbf{U}$ matrix, makes it unitary.\n",
        "\n",
        "To interpret the columns of $\\mathbf{V}$ in the SVD of the trajectory matrix, we first note that for any appropriately shaped matrices $\\mathbf{A}$ and $\\mathbf{B}$, $\\left(\\mathbf{AB}\\right)^{\\text{T}} = \\mathbf{B}^{\\text{T}}\\mathbf{A}^{\\text{T}}$. Taking the transpose of $\\mathbf{X}$, we therefore have\n",
        "\\begin{align*}\n",
        "\\mathbf{X}^{\\text{T}} & = \\mathbf{V \\Sigma}^{\\text{T}}\\mathbf{U}^{\\text{T}} \\\\\n",
        "                      & = \\sum_{i=0}^{d-1}V_i Y_i^{\\text{T}}\n",
        "\\end{align*}\n",
        "where we have set $Y_i = \\sigma_i U_i$. Then,\n",
        "$$X^{(\\text{T})}_j = \\sum_{i=0}^{d-1}y_{j,i}V_i$$\n",
        "where $X^{(\\text{T})}_j$ is the $j$th column of $\\mathbf{X}^{\\text{T}}$, and $y_{j,i}$ is the $j$th component of the vector $Y_i$. This expression suggests that the $\\mathcal{V} = \\{V_0, \\ldots, V_{d-1}\\}$ is a basis set spanning the column space of $\\mathbf{X}^{\\text{T}}$, and $y_{j,i}$ is the $i$th coefficient of the lagged vector $X^{(\\text{T})}_j$ represented in the basis $\\mathcal{V}$. Equivalently, $\\mathcal{V}$ is a basis set spanning the *row space* of $\\mathbf{X}$. **That is, the columns of the $\\mathbf{V}$ matrix form an orthonormal basis set that describe the time subseries $\\{ f_i, \\ldots, f_{i+N-L}\\}_{i=0}^{L-1}$ in the rows of the trajectory matrix.**\n",
        "\n",
        "\n",
        "#### The $\\mathbf{\\Sigma}$ Matrix<a name=\"Section2.2.3\"></a>\n",
        "The $\\mathbf{\\Sigma}$ matrix is an $L \\times K$ rectangular diagonal matrix containing the **singular values** of $\\mathbf{X}$. The singular values are ordered from largest to smallest, i.e. $\\sigma_0 \\ge \\sigma_1 \\ge \\ldots \\ge \\sigma_{L-1} \\ge 0$. **We can interpret $\\sigma_i$ as a scaling factor that determines the relative importance of the eigentriple $(U_i, \\sigma_i, V_i)$ in the expansion $\\mathbf{X} = \\sum_{i=0}^{d-1}\\sigma_i U_i V_i^{\\text{T}}$.**\n",
        "\n",
        "The *Frobenius norm* of $\\mathbf{X}$, $\\lvert\\lvert \\mathbf{X} \\rvert\\rvert_{\\text{F}}$, is given by\n",
        "$$\\lvert\\lvert \\mathbf{X} \\rvert\\rvert_{\\text{F}} = \\sqrt{\\sum_{j=0}^{L-1}\\sum_{k=0}^{K-1} \\lvert x_{j,k}\\rvert^2}$$\n",
        "where $x_{j,k}$ denotes the element in the $j$th row and $k$th column of $\\mathbf{X}$.\n",
        "\n",
        "Let's turn our attention to the elementary matrices $\\mathbf{X}_i = \\sigma_i U_i V_i^{\\text{T}}$. Now, for an outer product such as $U_i V_i^{\\text{T}}$, we have  $\\lvert \\lvert U_i V_i^{\\text{T}} \\rvert \\rvert_{\\text{F}} = \\lvert \\lvert U_i \\rvert \\rvert_{\\text{F}} \\lvert \\lvert V_i \\rvert \\rvert_{\\text{F}}$, which is simply equal to 1 due to $U_i$ and $V_i$ being normalised. From this result, it is then clear that $\\lvert\\lvert \\mathbf{X}_i \\rvert\\rvert_{\\text{F}} = \\sigma_i$. It also turns out that\n",
        "$$\\lvert\\lvert \\mathbf{X} \\rvert\\rvert_{\\text{F}}^2 = \\sum_{i=0}^{d-1} \\sigma_i^2$$\n",
        "i.e. **the squared Frobenius norm of the trajectory matrix is equal to the sum of the squared singular values. This suggests that we can take the ratio $\\sigma_i^2 / \\lvert\\lvert \\mathbf{X} \\rvert\\rvert_{\\text{F}}^2$ as a measure of the contribution that the elementary matrix $\\mathbf{X}_i$ makes in the expansion of the trajectory matrix.**\n",
        "\n",
        "Further, if we right-multiply the original SVD of $\\mathbf{X}$ by $\\mathbf{X}^{\\text{T}}$:\n",
        "\\begin{align*}\n",
        "    \\mathbf{XX}^{\\text{T}} & = \\mathbf{U\\Sigma V}^{\\text{T}}\\mathbf{X}^{\\text{T}} \\\\\n",
        "               & = \\mathbf{U\\Sigma V}^{\\text{T}} \\mathbf{V \\Sigma}^{\\text{T}}\\mathbf{U}^{\\text{T}} \\\\\n",
        "               & = \\mathbf{U\\Sigma} \\mathbf{\\Sigma}^{\\text{T}}\\mathbf{U}^{\\text{T}}\n",
        "\\end{align*}\n",
        "Letting the square diagonal matrix $\\mathbf{\\Sigma}^2 = \\mathbf{\\Sigma \\Sigma}^{\\text{T}}$, and multiplying on the right by $\\mathbf{U}$, gives\n",
        "$$(\\mathbf{XX}^{\\text{T}})\\mathbf{U} = \\mathbf{U}\\mathbf{\\Sigma}^2$$\n",
        "which—given that $\\mathbf{\\Sigma}^2$ is a diagonal matrix with elements $\\sigma_i^2$—demonstrates that the columns of $\\mathbf{U}$ are eigenvectors of the matrix $\\mathbf{XX}^{\\text{T}}$, with eigenvalues $\\{\\sigma_0^2, \\ldots , \\sigma_{L-1}^2\\}$. Following a similar argument, multiplying $\\mathbf{X}$ on the left by $\\mathbf{X}^{\\text{T}}$ shows that the columns of $\\mathbf{V}$ are eigenvectors of the matrix $\\mathbf{X}^{\\text{T}}\\mathbf{X}$, also with eigenvalues $\\{\\sigma_0^2, \\ldots , \\sigma_{L-1}^2\\}$.\n",
        "\n",
        "\n",
        "#### The Rank of the Trajectory Matrix<a name=\"Section2.2.4\"></a>\n",
        "We are now equipped to talk about the *rank*, $d$, of the trajectory matrix. The columns of the trajectory matrix are a sequence of $L$-lagged vectors, which span the *trajectory space* of the time series. This space will be at most $L$-dimensional; however, if the columns in $\\mathbf{X}$ are linearly dependent, then the trajectory space will have $d < L$ dimensions. This manifests as one or more zero singular values in $\\mathbf{\\Sigma}$. **The rank of $\\mathbf{X}$ is the maximum value of $i$ such that $\\sigma_i > 0$. Put another way, $d = \\text{rank}\\{\\mathbf{X}\\}$ can be regarded as the instrinsic dimensionality of the time series' trajectory space.**\n",
        "\n",
        "(Note: for noisy real-world time series data, the trajectory space is likely to have $d = L$ dimensions.)\n",
        "\n",
        "It is important to note that each elementary matrix $\\mathbf{X}_i$ has a rank of 1, and that the matrix\n",
        "$$\\mathbf{X}^{(r)} = \\sum_{i=0}^{r} \\mathbf{X}_i$$\n",
        "for $r < d$, is the best rank-$r$ approximation to the trajectory matrix $\\mathbf{X}$, such that $\\lvert\\lvert \\mathbf{X} - \\mathbf{X}^{(r)}\\rvert\\rvert_F$ is minimised. **That is, we can sum the first $r$ elementary matrices to obtain an optimal, lower-dimensional approximation of $\\mathbf{X}$**.\n",
        "\n",
        "#### Putting it all Together<a name=\"Section2.2.5\"></a>\n",
        "Let's quickly recap everything so far: we have mapped a time series $F = \\{f_0, \\ldots, f_{N-1}\\}$ to a collection of multi-dimensional lagged vectors, $X_i = (f_i, f_{i+1}, \\ldots, f_{i+L-1})^{\\text{T}}, i = 0, \\ldots, N-L$, which together comprise the columns of the trajectory matrix $\\mathbf{X}$. We then decomposed this matrix with an SVD; in doing so, we found two orthonormal basis sets, $\\mathcal{U}$ and $\\mathcal{V}$, which span the column- and row-space, respectively, of the trajectory matrix. The SVD of $\\mathbf{X}$ can be written as\n",
        "\\begin{align*}\n",
        "    \\mathbf{X} & = \\sum_{i=0}^{d-1}\\sigma_i U_i V_i^{\\text{T}} \\\\\n",
        "               & \\equiv \\sum_{i=0}^{d-1}\\mathbf{X}_i\n",
        "\\end{align*}\n",
        "where $\\mathbf{X}_i$ is the $i$th elementary matrix of $\\mathbf{X}$, determined by the eigentriple  $\\{U_i, \\sigma_i, V_i\\}$. The $i$th singular value, $\\sigma_i$, determines the relative contribution of $\\mathbf{X}_i$ in the expansion of $\\mathbf{X}$ above. The integer $d \\le L$ is the intrinsic dimensionality of the time series' trajectory space, and we may choose to obtain a lower-dimensional approximation of $\\mathbf{X}$ by summing only the first $r < d$ elementary matrices.\n",
        "\n",
        "Much of what we've covered so far is general to the SVD of *any* matrix, not just the trajectory matrix of a time series. From now on, we are going to focus on reconstructing the components of a time series from its elementary matrices. In practice, the steps involved are quite simple.\n",
        "\n",
        "Enough chat—let's decompose the trajectory matrix and form its elementary matrices:"
      ]
    },
    {
      "cell_type": "code",
      "execution_count": null,
      "metadata": {
        "id": "zsBbpENfuGy8",
        "jupyter": {
          "outputs_hidden": false
        },
        "pycharm": {
          "name": "#%%\n"
        }
      },
      "outputs": [],
      "source": [
        "# Source code of SSA from https://www.kaggle.com/jdarcy/introducing-ssa-for-time-series-decomposition\n",
        "# you can also check this link for details\n",
        "import numpy as np\n",
        "import matplotlib.pyplot as plt\n",
        "from lib.dsp import SSA, scg_simulate, sine_wave\n",
        "\n",
        "duration = 10\n",
        "sample_rate = 100\n",
        "\n",
        "\n",
        "signal = scg_simulate(noise_amplitude=0.5, noise_frequency=[5])[:1000]\n",
        "\n",
        "Trend = 1.5 * np.linspace(0, duration, duration*sample_rate)\n",
        "plt.plot(x,Trend)\n",
        "plt.title(\"Generated Trend\")\n",
        "\n",
        "Seasonal = sine_wave(duration=duration, sampling_rate=sample_rate, amplitude=10, frequency=0.5, show = True)\n",
        "\n",
        "Residual = np.random.normal(0, 0.5, duration*sample_rate)\n",
        "plt.plot(x,Residual)\n",
        "plt.title(\"Generated Residual\")\n",
        "\n",
        "\n",
        "signal = Seasonal + Trend + Residual\n",
        "\n",
        "\"\"\"\n",
        "Seasonal_1 = sine_wave(duration=10, sampling_rate=100, amplitude=5, frequency=0.2,show=True)\n",
        "Seasonal_2 = sine_wave(duration=10, sampling_rate=100, amplitude=4, frequency=0.5,show=True)\n",
        "Seasonal_3 = sine_wave(duration=10, sampling_rate=100, amplitude=3, frequency=1.0,show=True)\n",
        "Seasonal_4 = sine_wave(duration=10, sampling_rate=100, amplitude=2, frequency=2.0,show=True)\n",
        "Seasonal_5 = sine_wave(duration=10, sampling_rate=100, amplitude=1, frequency=4.0,show=True)\n",
        "Noise = np.random.normal(0, 0.1, 1000)\n",
        "plt.plot(x,Noise)\n",
        "plt.title(\"Generated Noise\")\n",
        "\n",
        "#signal = Seasonal_1 + Seasonal_2 + Seasonal_3 + Seasonal_4 + Seasonal_5 + Noise\n",
        "signal = Seasonal_1 + Seasonal_2 + Seasonal_3 + Seasonal_4 + Trend + Noise\n",
        "#\"\"\"\n",
        "\n",
        "\n",
        "plt.figure(figsize=(8, 3))\n",
        "plt.plot(signal)\n",
        "plt.ylabel('Amplitude')\n",
        "plt.xlabel('Time')\n",
        "plt.title('Clean Signal')\n",
        "plt.show()\n",
        "\n",
        "# Apply Singular Spectrum Analysis (SSA) to the selected signal\n",
        "ssa_signal = SSA(signal, 100)\n",
        "\n",
        "# Calculate and store the within-correlation matrix\n",
        "ssa_signal.calc_wcorr()\n",
        "Wcorr_matrix = ssa_signal.Wcorr\n",
        "\n",
        "# Plot the within-correlation matrix\n",
        "ssa_signal.plot_wcorr()\n",
        "plt.title(r\"W-Correlation for Components 0–100\")\n",
        "plt.show()\n",
        "\n",
        "# Create subplots to visualize different components of the signal\n",
        "plt.subplots(3, 1, figsize=(8, 7.5))\n",
        "\n",
        "# Plot the original signal and its trend component\n",
        "plt.subplot(3, 1, 1)\n",
        "# ssa_signal.orig_TS.plot(alpha=0.3)  # Plot original signal with transparency\n",
        "ssa_signal.reconstruct(slice(0, 3)).plot()  # Plot reconstructed trend component\n",
        "plt.title(\"Trend of signal\")\n",
        "\n",
        "# Plot the original signal and its periodic component\n",
        "plt.subplot(3, 1, 2)\n",
        "# ssa_signal.orig_TS.plot(alpha=0.3)\n",
        "ssa_signal.reconstruct(slice(4, 46)).plot()  # Plot reconstructed periodic component\n",
        "plt.title(\"Period of signal\")\n",
        "\n",
        "# Plot the original signal and its noise component\n",
        "plt.subplot(3, 1, 3)\n",
        "# ssa_signal.orig_TS.plot(alpha=0.3)\n",
        "ssa_signal.reconstruct(slice(46, 100)).plot()  # Plot reconstructed noise component\n",
        "plt.title(\"Noise of signal\")\n",
        "\n",
        "# Display the plots\n",
        "plt.show()\n"
      ]
    },
    {
      "cell_type": "markdown",
      "metadata": {
        "id": "nm66epAHuGzx",
        "jupyter": {
          "outputs_hidden": false
        },
        "pycharm": {
          "name": "#%% md\n"
        }
      },
      "source": [
        "### **Singular Spectrum Transform (SST)**\n",
        "\n",
        "**Overview:** Singular Spectrum Transform (SST) is an extension or variation of SSA. SST also involves the creation of a trajectory matrix and performs SVD, but it typically focuses more on transforming the data to extract features and reconstructing it in a manner that emphasizes certain components of the time series. SST is particularly associated with nonlinear transformations of the time series and is often employed for feature extraction or dynamics analysis.\n",
        "\n",
        "**Steps in SST:**\n",
        "\n",
        "* **Trajectory Matrix Construction:** Similar to SSA, SST starts with the creation of a trajectory matrix by embedding the time series using a sliding window approach.\n",
        "\n",
        "* **Singular Value Decomposition (SVD):** SVD is applied to the trajectory matrix to obtain the singular values and singular vectors.\n",
        "\n",
        "* **Feature Extraction:** The singular vectors corresponding to the largest singular values (i.e., the dominant components) are often kept for reconstruction. In SST, the focus might be on emphasizing certain features (such as the largest singular values) or transforming the signal in a way that highlights those features.\n",
        "\n",
        "* **Reconstruction:** SST involves reconstructing the signal by keeping only certain singular vectors and values, often with the intention of emphasizing certain periodic or structural components. This is similar to SSA, but SST might also involve additional transformations or modifications to the components."
      ]
    },
    {
      "cell_type": "code",
      "execution_count": 6,
      "metadata": {
        "id": "GZvTPXlnuGzx",
        "is_executing": true,
        "jupyter": {
          "outputs_hidden": false
        },
        "pycharm": {
          "name": "#%%\n"
        },
        "outputId": "5b6f70af-2205-440a-d232-85a74c89752e",
        "colab": {
          "base_uri": "https://localhost:8080/",
          "height": 798
        }
      },
      "outputs": [
        {
          "output_type": "stream",
          "name": "stdout",
          "text": [
            "Help on function sst in module lib.dsp:\n",
            "\n",
            "sst(signal, win_length)\n",
            "    Description:\n",
            "        It is a change point detection algorithm\n",
            "    Args:\n",
            "        signal: the input signal\n",
            "        win_length: window length of Hankel matrix\n",
            "    Returns:\n",
            "        score: an array measuring the degree of change\n",
            "\n"
          ]
        },
        {
          "output_type": "display_data",
          "data": {
            "text/plain": [
              "<Figure size 800x600 with 2 Axes>"
            ],
            "image/png": "[encoded data removed]"
          },
          "metadata": {}
        }
      ],
      "source": [
        "# SST as Anomaly Detection\n",
        "\n",
        "from lib.dsp import sst\n",
        "import numpy as np\n",
        "import matplotlib.pyplot as plt\n",
        "\n",
        "help(sst)\n",
        "\n",
        "x0 = 1 * np.ones(1000) + np.random.rand(1000) * 1\n",
        "x1 = 3 * np.ones(1000) + np.random.rand(1000) * 2\n",
        "x2 = 5 * np.ones(1000) + np.random.rand(1000) * 1.5\n",
        "signal = np.hstack([x0, x1, x2])\n",
        "signal +=  np.random.rand(signal.size)\n",
        "\n",
        "# Score used for rating changes: Change Point Detection\n",
        "# Rating change from window to window after SST transform\n",
        "score = sst(signal, win_length=50)\n",
        "\n",
        "plt.figure(figsize=(8,6))\n",
        "plt.subplot(2,1,1)\n",
        "plt.title(\"Original signal\")\n",
        "plt.xlabel(\"Time\")\n",
        "plt.ylabel(\"Amplitude\")\n",
        "plt.plot(signal)\n",
        "\n",
        "plt.subplot(2,1,2)\n",
        "plt.title(\"Result of SST\")\n",
        "plt.plot(score)\n",
        "plt.xlabel(\"Time\")\n",
        "plt.ylabel(\"Score of changing\")\n",
        "plt.tight_layout()\n",
        "plt.show()"
      ]
    },
    {
      "cell_type": "markdown",
      "source": [
        "### Key Differences Between SSA and SST:\n",
        "\n",
        "![SSAvSST.jpg](data:image/jpeg;base64,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)"
      ],
      "metadata": {
        "id": "r3lAT47WmuGw"
      }
    },
    {
      "cell_type": "markdown",
      "source": [
        "**Summary of Comparison:**\n",
        "\n",
        "* **SSA** is a more direct method for analyzing and reconstructing time series data by separating important components (trends, oscillations) from noise, with a focus on decomposition and filtering.\n",
        "\n",
        "* **SST**, while similar in terms of using trajectory matrices and SVD, is generally used in more dynamic or complex systems where the goal is not just to filter or decompose but to extract and emphasize specific features of the signal, often using transformations that are more suited to analyzing nonlinear or chaotic behaviors.\n",
        "\n",
        "</br>\n",
        "\n",
        "In short, SSA is more widely used in classical time series analysis for denoising and extracting trends, while SST is often employed in contexts requiring more sophisticated feature extraction or analysis of complex systems."
      ],
      "metadata": {
        "id": "Pf5kOW1Cnci6"
      }
    },
    {
      "cell_type": "markdown",
      "metadata": {
        "id": "Um4UJQyIuGy9",
        "jupyter": {
          "outputs_hidden": false
        },
        "pycharm": {
          "name": "#%% md\n"
        }
      },
      "source": [
        "## Blind Source Separation\n",
        "BSS is a signal processing technique that aims to extract independent source signals from their observed mixtures. Two widely used methods for BSS are Principal Component Analysis (PCA) and Independent Component Analysis (ICA)."
      ]
    },
    {
      "cell_type": "markdown",
      "metadata": {
        "id": "Pf4nNExGuGy9",
        "jupyter": {
          "outputs_hidden": false
        },
        "pycharm": {
          "name": "#%% md\n"
        }
      },
      "source": [
        "\n",
        "#### PCA-Based Blind Source Separation\n",
        "PCA is employed to transform the observed mixed signals into a new set of uncorrelated variables called principal components. In the context of BSS, PCA can be applied to the covariance matrix of the observed signals. The principal components are ordered in terms of their variances, and by selecting a subset of these components, one can achieve a decorrelated representation of the mixed signals. However, PCA does not guarantee independence.\n",
        "\n",
        "$C * v = \\lambda * v$ where $C$ is the covariance matrix, $v$ is an eigenvector, and $\\lambda$ is the corresponding eigenvalue."
      ]
    },
    {
      "cell_type": "markdown",
      "metadata": {
        "id": "aPOoiTFjuGy9",
        "jupyter": {
          "outputs_hidden": false
        },
        "pycharm": {
          "name": "#%% md\n"
        }
      },
      "source": [
        "\n",
        "#### ICA-Based Blind Source Separation\n",
        "ICA takes the process further by aiming to find a linear transformation of the observed signals such that the resulting components are statistically independent. The key assumption is that the sources are statistically independent, which allows ICA to effectively separate them. Mathematically, given a matrix $ $ representing the observed mixtures, ICA seeks a demixing matrix $ W $ such that $ S = WX $, where $ S $ contains the estimated source signals.\n",
        "\n",
        "The optimization problem in ICA is often formulated as maximizing the non-Gaussianity of the estimated sources. One common approach uses negentropy as a measure of non-Gaussianity, leading to objective functions like:\n",
        "\n",
        "$$ J(W) = \\sum_{i=1}^{n}[E\\{G(u_i)\\} - E\\{G(v_i)\\}] $$\n",
        "\n",
        "where $ u_i $ is the i-th estimated source, $ v_i $ is the i-th component of the observed mixtures, $ G(\\cdot) $ is a nonlinear function, and $ E\\{\\cdot\\} $ denotes expectation.\n",
        "\n",
        "In summary, while PCA focuses on decorrelating signals, ICA goes a step further by exploiting the statistical independence of sources, making it a powerful tool for blind source separation in scenarios where source signals are assumed to be statistically independent."
      ]
    },
    {
      "cell_type": "code",
      "source": [
        "from lib.dsp import bss_ica, bss_pca, scg_simulate, sine_wave, square_wave\n",
        "import numpy as np\n",
        "import matplotlib.pyplot as plt\n",
        "\n",
        "x = my_array = np.arange(1000)\n",
        "\n",
        "#\"\"\"\n",
        "s1 = sine_wave(duration=10, sampling_rate=100, amplitude=5, frequency=0.2,show=True)\n",
        "s2 = square_wave(duration=10, sampling_rate=100, amplitude=4, frequency=0.5,show=True)\n",
        "#s3 = sine_wave(duration=10, sampling_rate=100, amplitude=3, frequency=1.0,show=True)\n",
        "Noise = np.random.normal(0, 0.1, 1000)\n",
        "plt.plot(x,Noise)\n",
        "plt.title(\"Generated Noise\")\n",
        "#\"\"\"\n",
        "\n",
        "S = np.c_[s1, s2, Noise]\n",
        "S /= S.std(axis=0)  # Standardize data\n",
        "\n",
        "# Mix data\n",
        "A = np.array([[0.5, 0.2, 0.3],\n",
        "              [0.3, 0.5, 0.2],\n",
        "              [0.2, 0.3, 0.5]])  # Mixing matrix\n",
        "\n",
        "X = np.dot(S, A.T)  # Generate observations\n",
        "\n",
        "S_, A_ = bss_ica(X, 3)\n",
        "H = bss_pca(X, 3)\n",
        "\n",
        "models = [X, S, S_, H]\n",
        "names = ['Observations (mixed signal)', 'True Sources', 'ICA recovered signals', 'PCA recovered signals']\n",
        "colors = ['red', 'steelblue', 'orange']\n",
        "\n",
        "plt.figure(figsize=(8, 9))\n",
        "for ii, (model, name) in enumerate(zip(models, names), 1):\n",
        "    plt.subplot(4, 1, ii)\n",
        "    plt.title(name)\n",
        "    for sig, color in zip(model.T, colors):\n",
        "        plt.plot(sig, color=color)\n",
        "        plt.ylabel('Amplitude')\n",
        "        plt.xlabel('Time')\n",
        "plt.tight_layout();plt.show()"
      ],
      "metadata": {
        "id": "Lu-MEQz7NHz5"
      },
      "execution_count": null,
      "outputs": []
    },
    {
      "cell_type": "code",
      "source": [
        "from lib.dsp import bss_ica, bss_pca, scg_simulate, sine_wave, square_wave\n",
        "import numpy as np\n",
        "import matplotlib.pyplot as plt\n",
        "\n",
        "x = my_array = np.arange(1000)\n",
        "\n",
        "#\"\"\"\n",
        "s1 = square_wave(duration=10, sampling_rate=100, amplitude=4, frequency=0.5,show=True)\n",
        "\n",
        "Noise = np.random.normal(0, 0.025, 1000)\n",
        "plt.plot(x,Noise)\n",
        "plt.title(\"Generated Noise\")\n",
        "#\"\"\"\n",
        "\n",
        "S = np.c_[s1, Noise]\n",
        "S /= S.std(axis=0)  # Standardize data\n",
        "\n",
        "# Mix data\n",
        "A = np.array([[0.6, 0.6],\n",
        "              [0.3, 0.7]])  # Mixing matrix\n",
        "\n",
        "X = np.dot(S, A.T)  # Generate observations\n",
        "\n",
        "S_, A_ = bss_ica(X, 2)\n",
        "H = bss_pca(X, 2)\n",
        "\n",
        "models = [X, S, S_, H]\n",
        "names = ['Observations (mixed signal)', 'True Sources', 'ICA recovered signals', 'PCA recovered signals']\n",
        "colors = ['red', 'steelblue', 'orange']\n",
        "\n",
        "plt.figure(figsize=(8, 9))\n",
        "for ii, (model, name) in enumerate(zip(models, names), 1):\n",
        "    plt.subplot(4, 1, ii)\n",
        "    plt.title(name)\n",
        "    for sig, color in zip(model.T, colors):\n",
        "        plt.plot(sig, color=color)\n",
        "        plt.ylabel('Amplitude')\n",
        "        plt.xlabel('Time')\n",
        "plt.tight_layout();plt.show()"
      ],
      "metadata": {
        "id": "JfZmSDFdipm9"
      },
      "execution_count": null,
      "outputs": []
    },
    {
      "cell_type": "code",
      "execution_count": null,
      "metadata": {
        "id": "h4j_t_DmuGy-",
        "jupyter": {
          "outputs_hidden": false
        },
        "pycharm": {
          "name": "#%%\n"
        }
      },
      "outputs": [],
      "source": [
        "from lib.dsp import bss_ica, bss_pca, scg_simulate\n",
        "import numpy as np\n",
        "import matplotlib.pyplot as plt\n",
        "\n",
        "# We simulate three people lying in bed, and there are three sensors detecting their SCG signals.\n",
        "# For each sensor, it receives a combination of three SCG signals, each with a certain time delay\n",
        "# and attenuation.\n",
        "\n",
        "s1 = scg_simulate(heart_rate=(50, 90))[:1000]\n",
        "s2 = scg_simulate(heart_rate=(50, 120))[:1000]\n",
        "s3 = scg_simulate(heart_rate=(120, 150))[:1000]\n",
        "\n",
        "S = np.c_[s1, s2, s3]\n",
        "print(S.shape)\n",
        "\n",
        "S /= S.std(axis=0)  # Standardize data\n",
        "\n",
        "# Mix data\n",
        "A = np.array([[0.9, 0.8, 1], [0.5, 0.85, 1.0], [0.9, 0.6, 0.8]])  # Mixing matrix\n",
        "X = np.dot(S, A.T)  # Generate observations\n",
        "\n",
        "S_, A_ = bss_ica(X, 3)\n",
        "H = bss_pca(X, 3)\n",
        "\n",
        "models = [X, S, S_, H]\n",
        "names = ['Observations (mixed signal)', 'True Sources', 'ICA recovered signals', 'PCA recovered signals']\n",
        "colors = ['red', 'steelblue', 'orange']\n",
        "\n",
        "plt.figure(figsize=(8, 9))\n",
        "for ii, (model, name) in enumerate(zip(models, names), 1):\n",
        "    plt.subplot(4, 1, ii)\n",
        "    plt.title(name)\n",
        "    for sig, color in zip(model.T, colors):\n",
        "        plt.plot(sig, color=color)\n",
        "        plt.ylabel('Amplitude')\n",
        "        plt.xlabel('Time')\n",
        "plt.tight_layout();plt.show()"
      ]
    },
    {
      "cell_type": "markdown",
      "metadata": {
        "id": "uvJCDQlZuGzk",
        "jupyter": {
          "outputs_hidden": false
        },
        "pycharm": {
          "name": "#%% md\n"
        }
      },
      "source": [
        "# Time Domain"
      ]
    },
    {
      "cell_type": "markdown",
      "metadata": {
        "id": "KlL8BrBXuGzl",
        "jupyter": {
          "outputs_hidden": false
        },
        "pycharm": {
          "name": "#%% md\n"
        }
      },
      "source": [
        "## Template of SCG\n",
        "It is a simple method to get the template of the synthesized scg signal, using cluster and average. The algorithm is as follows:\n",
        "1. Use the middle of peaks to segment the signal.\n",
        "2. Add a new segment to the existing clusters, whose middle has the least RMSE distance with the signal. If there is no existing cluster, use the new segment as the middle of a new cluster. If the least RMSE distance is greater than a threshold, create a new cluster too.\n",
        "3. Continue the former step until all the segments belong to a cluster.\n",
        "4. Use the average of the cluster which has the most segments as the template.\n",
        "\n",
        "Note: It is only suitable for the synthesized scg signal and is a simplified version."
      ]
    },
    {
      "cell_type": "code",
      "execution_count": null,
      "metadata": {
        "id": "ufiwLFB5uGzm",
        "is_executing": true,
        "jupyter": {
          "outputs_hidden": false
        },
        "pycharm": {
          "name": "#%%\n"
        }
      },
      "outputs": [],
      "source": [
        "import numpy as np\n",
        "from matplotlib import pyplot as plt\n",
        "from lib.dsp import get_template, scg_simulate\n",
        "\n",
        "help(get_template)\n",
        "\n",
        "signal = scg_simulate()[:1000]\n",
        "template = get_template(signal)\n",
        "\n",
        "fig, axis = plt.subplots(2,1,figsize=(8,6))\n",
        "axis[0].set_title(\"Orignal signal\")\n",
        "axis[0].set_xlabel(\"Time\")\n",
        "axis[0].set_ylabel(\"Amplitude\")\n",
        "axis[0].plot(signal)\n",
        "\n",
        "axis[1].set_title(\"Template of the input signal\")\n",
        "axis[1].set_xlabel(\"Time\")\n",
        "axis[1].set_ylabel(\"Amplitude\")\n",
        "axis[1].plot(template)\n",
        "\n",
        "plt.tight_layout()\n",
        "plt.show()"
      ]
    },
    {
      "cell_type": "markdown",
      "metadata": {
        "id": "eHJY-2JNuGzo",
        "jupyter": {
          "outputs_hidden": false
        },
        "pycharm": {
          "name": "#%% md\n"
        }
      },
      "source": [
        "## Analytic Signal and Hilbert Transform\n",
        "\n",
        "Fourier Transform of a real-valued signal is complex-symmetric whose negative frequencies are redundant with respect to the positive frequencies. To remove the redundancy, the analytic signal is invented. It is complex-valued but its spectrum will be one-sided (only positive frequencies) that preserved the spectral content of the original real-valued signal. Using an analytic signal instead of the original real-valued signal, is useful in many signal processing applications. For example, in spectral analysis, use of analytic signal in-lieu of the original real-valued signal mitigates estimation biases and eliminates cross-term artifacts due to negative and positive frequency components.\n",
        "\n",
        "In the frequency domain, the analytic signal has only the postive part of the original signal and the magnitude is two times of the orignal postive spectrum. In the time domain, the real part of the analytic signal is the same as the original signal, but it has a imaginary part.\n",
        "$$\n",
        "z(t) = z_{r}(t) + z_{i}(t) = x(t) + z_{i}(t)\n",
        "$$\n",
        "where $z(t)$ denotes the time domain analytic singal, and $x(t)$ denotes the original signal. The subscripts $i$ and $r$ mean the imaginary and real.\n",
        "\n",
        "So what's the imaginary part? Hilbert Transformation can be used to find the imaginary part of the orignal real-valude signal.\n",
        "$$\n",
        "z(t) = z_{r}(t) + z_{i}(t) = x(t) + jHT\\{x(t)\\}\n",
        "$$\n",
        "$$\n",
        "HT\\{x(t)\\} = x(t) * \\frac{1}{\\pi t} \\longleftrightarrow F(f)[-jsgn(f)] = \\begin{cases}-jF(f) & f > 0 \\\\ jF(f) & f< 0 \\end{cases}\n",
        "$$\n",
        "where $j$ is an imaginary unit, $HT\\{\\}$ denotes hilbert transform, $F()$ denotes the spectrum of the original signal, * denotes the convolution, $\\longleftrightarrow$ denotes the mutual conversion of signals between the time domain and the frequency domain, $sgn()$ denotes the sign function, which returns -1 for negative numbers, 0 for zero, and 1 for positive numbers.\n",
        "\n",
        "We can take the hilbert transformation as a filter whose impulse response is $\\frac{1}{\\pi t}$. And the HT\\{x(t)\\} has some properties.\n",
        "1. HT\\{HT\\{x(t)\\}\\} = -x(t)\n",
        "2. HT\\{x(t)\\} has the opposite parity of x(t)\n",
        "3. HT\\{x(t)\\} and x(t) are orthogonal"
      ]
    },
    {
      "cell_type": "code",
      "execution_count": null,
      "metadata": {
        "id": "4p9E2aPguGzp",
        "is_executing": true,
        "jupyter": {
          "outputs_hidden": false
        },
        "pycharm": {
          "name": "#%%\n"
        }
      },
      "outputs": [],
      "source": [
        "import numpy as np\n",
        "from matplotlib import pyplot as plt\n",
        "from lib.dsp import analytic_signal, hilbert_transform, my_fft, scg_simulate\n",
        "\n",
        "help(analytic_signal)\n",
        "help(hilbert_transform)\n",
        "\n",
        "signal = scg_simulate()[:1000]\n",
        "z = analytic_signal(signal)\n",
        "\n",
        "fig, axis = plt.subplots(5,1,figsize=(8,15))\n",
        "axis[0].set_title(\"Orignal real-valude signal\")\n",
        "axis[0].set_xlabel(\"Time\")\n",
        "axis[0].set_ylabel(\"Amplitude\")\n",
        "axis[0].plot(signal)\n",
        "\n",
        "axis[1].set_title(\"Real part of the analytic signal\")\n",
        "axis[1].set_xlabel(\"Time\")\n",
        "axis[1].set_ylabel(\"Amplitude\")\n",
        "axis[1].plot(z.real)\n",
        "\n",
        "axis[2].set_title(\"Hilbert transformation of the orignal signal\")\n",
        "axis[2].set_xlabel(\"Time\")\n",
        "axis[2].set_ylabel(\"Amplitude\")\n",
        "axis[2].plot(hilbert_transform(signal))\n",
        "\n",
        "freq_original, mag_original = my_fft(signal, 100)\n",
        "freq_analytic, mag_analytic = my_fft(z, 100)\n",
        "\n",
        "axis[3].set_title(\"Spectrum of original signal\")\n",
        "axis[3].plot(freq_original, np.abs(mag_original))\n",
        "axis[3].set_xlabel(\"Frequency\")\n",
        "axis[3].set_ylabel(\"Magnitude\")\n",
        "\n",
        "axis[4].set_title(\"Spectrum of analytic signal\")\n",
        "axis[4].plot(freq_analytic, np.abs(mag_analytic))\n",
        "axis[4].set_xlabel(\"Frequency\")\n",
        "axis[4].set_ylabel(\"Magnitude\")\n",
        "\n",
        "plt.tight_layout()\n",
        "plt.show()"
      ]
    },
    {
      "cell_type": "markdown",
      "metadata": {
        "id": "mpFXm-GfuGzr",
        "jupyter": {
          "outputs_hidden": false
        },
        "pycharm": {
          "name": "#%% md\n"
        }
      },
      "source": [
        "## Peak Detection"
      ]
    },
    {
      "cell_type": "markdown",
      "metadata": {
        "id": "7x_yxsuOuGzs",
        "jupyter": {
          "outputs_hidden": false
        },
        "pycharm": {
          "name": "#%% md\n"
        }
      },
      "source": [
        "### Peak of Peak Algorithm\n",
        "Peak detection is a technique used to identify local maxima (peaks) and minima (troughs) within a signal or dataset. Peaks can represent significant features or events within the data, such as spikes, changes in trends, or points of interest in time series data. Peak detection is often used in applications like signal processing, image analysis, biology (e.g., identifying heartbeats or brainwaves), and more.\n",
        "</br>\n",
        "\n",
        "* **Peak:** A data point is considered a peak if it is higher than its immediate neighbors. For instance, in a time series, a peak at time $t$ satisfies:\n",
        "\n",
        "  $x(t) > x(t-1) \\text{ }$ and $\\text{ }x(t) > x(t+1)$\n",
        "\n",
        "  where $x(t)$ is the value of the signal at time $t$ and $t-1$ and $t+1$ are its neighboring values\n",
        "\n",
        "* **Trough:** Similarly, a trough is a local minimum, where:\n",
        "\n",
        "  $x(t) < x(t-1) \\text{ }$ and $\\text{ } x(t) < x(t+1)$\n",
        "\n",
        "* **Local vs. Global Peaks:**\n",
        "\n",
        "  * **Local Peaks:** These are peaks within a small neighborhood of data points.\n",
        "\n",
        "  * **Global Peaks:** These refer to the overall highest values within the entire signal.\n",
        "\n",
        "* **Thresholding:** A peak might only be considered significant if it exceeds a certain threshold value, which helps filter out smaller, less relevant peaks from noisy data.\n",
        "</br>\n",
        "\n",
        "The algorithm first use scipy.signal.find_peaks to detect all the peaks in a signal and perform linear interpolation to obtain an envelope which still preserve the shape of the original signal and the peak location. After getting the envelope, we use scipy.signal.find_peaks to detect the peaks in the envelope and filter the abnormal value to get the time of all peaks.\n",
        "</br>\n",
        "\n",
        "**Usage Scenario:** There are many high frequency noises and the noises don't influence the shape of the original signal.\n",
        "\n"
      ]
    },
    {
      "cell_type": "code",
      "execution_count": null,
      "metadata": {
        "id": "mOQlDcbjuGzt",
        "is_executing": true,
        "jupyter": {
          "outputs_hidden": false
        },
        "pycharm": {
          "name": "#%%\n"
        }
      },
      "outputs": [],
      "source": [
        "from lib.dsp import get_peaks, scg_simulate\n",
        "import numpy as np\n",
        "import matplotlib.pyplot as plt\n",
        "\n",
        "help(get_peaks)\n",
        "\n",
        "signal = scg_simulate()[:1000]\n",
        "peaks = get_peaks(signal)\n",
        "\n",
        "plt.plot(signal, label=\"Original signal\")\n",
        "plt.scatter(peaks,signal[peaks],c=\"red\", label=\"Peak of the signal\")\n",
        "plt.xlabel(\"Time\")\n",
        "plt.ylabel(\"Amplitude\")\n",
        "plt.legend()\n",
        "plt.show()"
      ]
    },
    {
      "cell_type": "markdown",
      "metadata": {
        "id": "dTZp8d3QuGzu",
        "jupyter": {
          "outputs_hidden": false
        },
        "pycharm": {
          "name": "#%% md\n"
        }
      },
      "source": [
        "## Envelope Extraction"
      ]
    },
    {
      "cell_type": "markdown",
      "metadata": {
        "id": "Odeumct3uGzu",
        "jupyter": {
          "outputs_hidden": false
        },
        "pycharm": {
          "name": "#%% md\n"
        }
      },
      "source": [
        "### Envelope from Peaks\n",
        "We can use the first step of peak of peak algorithm as a kind of envelope generation algorithm. We can perform linear interpolation of all peaks to obtain an envelope.\n",
        "\n",
        "Usage Scenario: We only focus on locations of peaks on the envelope."
      ]
    },
    {
      "cell_type": "code",
      "execution_count": null,
      "metadata": {
        "id": "aKOMYy3-uGzu",
        "is_executing": true,
        "jupyter": {
          "outputs_hidden": false
        },
        "pycharm": {
          "name": "#%%\n"
        }
      },
      "outputs": [],
      "source": [
        "from lib.dsp import envelope_from_peaks, scg_simulate\n",
        "import numpy as np\n",
        "import matplotlib.pyplot as plt\n",
        "\n",
        "help(envelope_from_peaks)\n",
        "\n",
        "signal = scg_simulate()[:1000]\n",
        "envelope = envelope_from_peaks(signal)\n",
        "\n",
        "plt.plot(signal,label=\"Original signal\")\n",
        "plt.plot(envelope,c=\"red\", label=\"Envelope of signal\")\n",
        "plt.xlabel(\"Time\")\n",
        "plt.ylabel(\"Amplitude\")\n",
        "plt.legend()\n",
        "plt.show()"
      ]
    },
    {
      "cell_type": "markdown",
      "metadata": {
        "id": "lXW4CRr4uGzv",
        "jupyter": {
          "outputs_hidden": false
        },
        "pycharm": {
          "name": "#%% md\n"
        }
      },
      "source": [
        "### Average Envelope\n",
        "We can also use the average window to get the envelope. The average window will calculate the average value of a region to replace the middle timestamp in the region. The longer the window, the smoother the envelope, but the more serious it will change the shape of the original signal.\n",
        "$$\n",
        "    envelope[i]~=~signal[i-\\frac{window\\_length}{2}]~+~....~+~signal[i]~+~....~+~signal[i+\\frac{window\\_length}{2}]\n",
        "$$\n",
        "\n",
        "Usage Scenario: It is suitable for signals with relatively stable periodicity and slow amplitude variations. This is because the moving average window can eliminate high-frequency noise while preserving the low-frequency characteristics of the signal. However, this envelope will lose the information of peaks' vertical location."
      ]
    },
    {
      "cell_type": "code",
      "execution_count": null,
      "metadata": {
        "id": "HYX6CFOLuGzv",
        "is_executing": true,
        "jupyter": {
          "outputs_hidden": false
        },
        "pycharm": {
          "name": "#%%\n"
        }
      },
      "outputs": [],
      "source": [
        "from lib.dsp import average_envelope, scg_simulate\n",
        "import numpy as np\n",
        "import matplotlib.pyplot as plt\n",
        "\n",
        "help(average_envelope)\n",
        "\n",
        "signal = scg_simulate()[:1000]\n",
        "envelope = average_envelope(signal, 3)\n",
        "\n",
        "plt.plot(signal,label=\"Original signal\")\n",
        "plt.plot(envelope,c=\"red\",label=\"Envelope of signal\")\n",
        "plt.xlabel(\"Time\")\n",
        "plt.ylabel(\"Amplitude\")\n",
        "plt.legend()\n",
        "plt.show()"
      ]
    },
    {
      "cell_type": "markdown",
      "metadata": {
        "id": "45J2FOBnuGzw",
        "jupyter": {
          "outputs_hidden": false
        },
        "pycharm": {
          "name": "#%% md\n"
        }
      },
      "source": [
        "### Envelope and Phase Extraction using Hilbert Transform\n",
        "\n",
        "If a modulated signal is expressed as $x(t) = a(t) cos[ \\phi (t)]$\n",
        "\n",
        "* The instantaneous amplitude or the envelope of the signal is given by $a(t)$\n",
        "\n",
        "* The instantaneous phase is given by  $\\phi(t)$\n",
        "\n",
        "* The instantaneous angular frequency is derived as $\\omega(t) = \\frac{d}{dt} \\phi(t)$\n",
        "\n",
        "* The instantaneous temporal frequency is derived as $f(t) = \\frac{1}{2 \\pi} \\frac{d}{dt} \\phi(t)$\n",
        "\n",
        "\n",
        "</br>\n",
        "\n",
        "Note that the modulated signal is a real-valued signal. We also take note of the fact that amplitude/phase and frequency can be easily computed if the signal is expressed in complex form. So we can use Hilbert transformation to transform the real-valued signal to a complex version.\n",
        "\n",
        "</br>\n",
        "\n",
        "**Analytic Signal:**\n",
        "\n",
        "An **analytic signal** is a complex-valued signal that is derived from a real-valued signal through the Hilbert transform. It provides a convenient way to represent both the original signal and its instantaneous amplitude and phase. The analytic signal is particularly useful in signal processing for analyzing modulated signals, extracting instantaneous frequency, and performing various types of signal demodulation.\n",
        "\n",
        "</br>\n",
        "\n",
        "The analytic signal is:\n",
        "$$\n",
        "z(t) = z_{r}(t) + z_{i}(t) = x(t) + jHT\\{x(t)\\}\n",
        "$$\n",
        "Thus\n",
        "$$\n",
        "a(t) = |z(t)| = \\sqrt{z_r^2(t) + z_i^2(t)}\n",
        "$$\n",
        "$$\n",
        "\\phi(t) = \\angle z(t) = arctan \\left[ \\frac{z_i(t)}{z_r(t)} \\right]\n",
        "$$\n",
        "$$\n",
        "f(t) = \\frac{1}{2 \\pi} \\frac{d}{dt} \\phi(t)\n",
        "$$\n",
        "\n",
        "where $z(t)$ denotes the analytic signal, the subscripts $i$ and $r$ mean the imaginary and real, $j$ is an imaginary unit, and $HT\\{\\}$ denotes hilbert transform.\n",
        "\n",
        "</br>\n",
        "\n",
        "\n",
        "**Usage Scenario:** It is suitable for signals with non-stationary and rapidly varying amplitudes. It is particularly effective for signals with high-frequency components, as it can accurately capture the envelope by estimating the instantaneous amplitude of the signal."
      ]
    },
    {
      "cell_type": "markdown",
      "source": [],
      "metadata": {
        "id": "OX1Vfw3M4UUV"
      }
    },
    {
      "cell_type": "markdown",
      "source": [
        "**Steps:**\n",
        "\n",
        "1. Hilbert Transform: Given a real-valued signal $x(t)$, you first compute its Hilbert transform $\\hat{x}(t)$. This transform produces a signal that is the **quadrature (90-degree phase-shifted)** version of the original signal.\n",
        "</br>\n",
        "\n",
        "2. Construct the Analytic Signal: The analytic signal $z(t)$ is formed by combining the original signal $x(t)$ and the Hilbert transform $\\hat{x}(t)$ into a complex signal:\n",
        "\n",
        "  $z(t)=x(t)+j\\hat{x}(t)$\n",
        "\n",
        "  where $j$ is the imaginary unit.\n",
        "</br>\n",
        "\n",
        "3. Envelope Extraction: The envelope of the original signal\n",
        "$x(t)$ is the magnitude of the analytic signal $z(t)$. This is calculated as:\n",
        "\n",
        "  $Envelope(t) = |z(t)| = \\sqrt{x(t)^2+\\hat{x}(t)^2} $\n",
        "\n",
        "  This envelope provides a smooth curve that represents the signal's varying amplitude."
      ],
      "metadata": {
        "id": "ph7MKaYy2OD0"
      }
    },
    {
      "cell_type": "code",
      "execution_count": null,
      "metadata": {
        "id": "u7jgibLjuGzw",
        "is_executing": true,
        "jupyter": {
          "outputs_hidden": false
        },
        "pycharm": {
          "name": "#%%\n"
        }
      },
      "outputs": [],
      "source": [
        "import numpy as np\n",
        "import matplotlib.pyplot as plt\n",
        "from lib.dsp import inst_amplitude, inst_phase, inst_freq, scg_simulate\n",
        "\n",
        "help(inst_amplitude)\n",
        "help(inst_phase)\n",
        "help(inst_freq)\n",
        "\n",
        "signal = scg_simulate()[:1000]\n",
        "\n",
        "plt.plot(signal,label=\"Original signal\")\n",
        "plt.plot(inst_amplitude(signal),label=\"Envelope of signal\")\n",
        "plt.xlabel(\"Time\")\n",
        "plt.ylabel(\"Amplitude\")\n",
        "plt.legend()\n",
        "plt.show()"
      ]
    },
    {
      "cell_type": "code",
      "source": [
        "import numpy as np\n",
        "import matplotlib.pyplot as plt\n",
        "from sklearn.decomposition import PCA\n",
        "\n",
        "# Create a synthetic time series (e.g., a sinusoidal signal with noise)\n",
        "np.random.seed(0)\n",
        "time = np.linspace(0, 10, 100)\n",
        "signal = np.sin(time) + np.random.normal(0, 0.2, len(time))  # Sinusoidal signal with noise\n",
        "\n",
        "# Step 1: Create the trajectory matrix\n",
        "L = 20  # window size\n",
        "d = 1   # lag\n",
        "X = np.array([signal[i:i+L] for i in range(len(signal) - L)])\n",
        "\n",
        "# Step 2: Perform Singular Value Decomposition (SVD)\n",
        "U, S, Vt = np.linalg.svd(X, full_matrices=False)\n",
        "\n",
        "# Step 3: Reconstruct the signal by keeping the largest singular value\n",
        "reconstructed_signal = U[:, 0] @ S[0]  # Using the first singular value for reconstruction\n",
        "\n",
        "# Step 4: Plot the original and reconstructed signal\n",
        "plt.figure(figsize=(10, 6))\n",
        "plt.plot(time[L:], signal[L:], label=\"Original Signal\")\n",
        "plt.plot(time[L:], reconstructed_signal, label=\"Reconstructed Signal\", linestyle='--')\n",
        "plt.legend()\n",
        "plt.xlabel('Time')\n",
        "plt.ylabel('Amplitude')\n",
        "plt.title('Singular Spectrum Transform - Signal Reconstruction')\n",
        "plt.show()"
      ],
      "metadata": {
        "id": "HUK13R17f2He",
        "outputId": "6e8aeb40-4164-4c11-f0ff-59bab0cada26",
        "colab": {
          "base_uri": "https://localhost:8080/",
          "height": 228
        }
      },
      "execution_count": 7,
      "outputs": [
        {
          "output_type": "error",
          "ename": "ValueError",
          "evalue": "matmul: Input operand 1 does not have enough dimensions (has 0, gufunc core with signature (n?,k),(k,m?)->(n?,m?) requires 1)",
          "traceback": [
            "\u001b[0;31m---------------------------------------------------------------------------\u001b[0m",
            "\u001b[0;31mValueError\u001b[0m                                Traceback (most recent call last)",
            "\u001b[0;32m<ipython-input-7-75fde86f181c>\u001b[0m in \u001b[0;36m<cell line: 0>\u001b[0;34m()\u001b[0m\n\u001b[1;32m     17\u001b[0m \u001b[0;34m\u001b[0m\u001b[0m\n\u001b[1;32m     18\u001b[0m \u001b[0;31m# Step 3: Reconstruct the signal by keeping the largest singular value\u001b[0m\u001b[0;34m\u001b[0m\u001b[0;34m\u001b[0m\u001b[0m\n\u001b[0;32m---> 19\u001b[0;31m \u001b[0mreconstructed_signal\u001b[0m \u001b[0;34m=\u001b[0m \u001b[0mU\u001b[0m\u001b[0;34m[\u001b[0m\u001b[0;34m:\u001b[0m\u001b[0;34m,\u001b[0m \u001b[0;36m0\u001b[0m\u001b[0;34m]\u001b[0m \u001b[0;34m@\u001b[0m \u001b[0mS\u001b[0m\u001b[0;34m[\u001b[0m\u001b[0;36m0\u001b[0m\u001b[0;34m]\u001b[0m  \u001b[0;31m# Using the first singular value for reconstruction\u001b[0m\u001b[0;34m\u001b[0m\u001b[0;34m\u001b[0m\u001b[0m\n\u001b[0m\u001b[1;32m     20\u001b[0m \u001b[0;34m\u001b[0m\u001b[0m\n\u001b[1;32m     21\u001b[0m \u001b[0;31m# Step 4: Plot the original and reconstructed signal\u001b[0m\u001b[0;34m\u001b[0m\u001b[0;34m\u001b[0m\u001b[0m\n",
            "\u001b[0;31mValueError\u001b[0m: matmul: Input operand 1 does not have enough dimensions (has 0, gufunc core with signature (n?,k),(k,m?)->(n?,m?) requires 1)"
          ]
        }
      ]
    },
    {
      "cell_type": "markdown",
      "metadata": {
        "id": "Y8q8VVC4uGzy",
        "jupyter": {
          "outputs_hidden": false
        },
        "pycharm": {
          "name": "#%% md\n"
        }
      },
      "source": [
        "## Time Domain Feature"
      ]
    },
    {
      "cell_type": "markdown",
      "metadata": {
        "id": "whosPAhWuGzy",
        "jupyter": {
          "outputs_hidden": false
        },
        "pycharm": {
          "name": "#%% md\n"
        }
      },
      "source": [
        "### Petrosian Fractal Dimension (PFD)\n",
        "\n",
        "Petrosian Fractal Dimension (PFD) is a method used to measure the complexity of time-series signals, particularly applicable in biomedical signals such as electrocardiograms (ECG). It calculates the fractal dimension of a signal to describe its complexity and irregularity. A higher Petrosian Fractal Dimension value indicates a more complex signal.\n",
        "$$\n",
        "PFD = \\frac{\\log_{10}(N)}{\\log_{10}(N) + \\log_{10}\\left(\\frac{N}{N + 0.4N_{\\text{zc}}}\\right)}\n",
        "$$\n",
        "where $N$ is the length of the signal and $N_{zc}$ is the number of zero crossings in the signal derivative.\n",
        "\n",
        "The example shows that the signal with noise is more complex than the original signal, so that the noisy signal has a bigger PFD than the orignal signal."
      ]
    },
    {
      "cell_type": "code",
      "execution_count": null,
      "metadata": {
        "id": "4xBN61qauGzz",
        "is_executing": true,
        "jupyter": {
          "outputs_hidden": false
        },
        "pycharm": {
          "name": "#%%\n"
        }
      },
      "outputs": [],
      "source": [
        "import numpy as np\n",
        "from lib.dsp import get_template, pfd, average_envelope\n",
        "import matplotlib.pyplot as plt\n",
        "\n",
        "help(pfd)\n",
        "\n",
        "t = np.linspace(0,1,1000)\n",
        "\n",
        "# Generate a signal\n",
        "signal1 = 10 * np.sin(2*np.pi*t)\n",
        "\n",
        "# Add noise to the signal\n",
        "signal2 = 10 * np.sin(2*np.pi*t) + np.random.randn(1000)\n",
        "\n",
        "fig, axis = plt.subplots(2,1,figsize=(8,6))\n",
        "axis[0].plot(signal1)\n",
        "axis[0].set_title(\"Original signal\")\n",
        "axis[0].set_xlabel(\"Time\")\n",
        "axis[0].set_ylabel(\"Amplitude\")\n",
        "\n",
        "axis[1].plot(signal2)\n",
        "axis[1].set_title(\"Original signal with noise\")\n",
        "axis[1].set_xlabel(\"Time\")\n",
        "axis[1].set_ylabel(\"Amplitude\")\n",
        "\n",
        "plt.tight_layout()\n",
        "plt.show()\n",
        "\n",
        "print(\"PFD of original signal: \",pfd(signal1))\n",
        "print(\"PFD of original signal with noise: \", pfd(signal2))"
      ]
    },
    {
      "cell_type": "markdown",
      "metadata": {
        "id": "D7kAqbSEuGzz",
        "jupyter": {
          "outputs_hidden": false
        },
        "pycharm": {
          "name": "#%% md\n"
        }
      },
      "source": [
        "### Skewness and Kurtosis\n",
        "Skewness is a statistical measure that describes the degree of asymmetry of a distribution. It quantifies the extent to which a distribution deviates from symmetry around its mean.\n",
        "$$\n",
        "Skewness = E[(X - μ)^3] / σ^3\n",
        "$$\n",
        "where $E$ is the expected value operator,$X$ is the random variable, $μ$ is the mean of the distribution, $σ$ is the standard deviation of the distribution. A skewness value > 0 means there is more weight in the right tail of the distribution. A skewness value < 0 means there is more weight in the left tail of the distribution.\n",
        "\n",
        "Kurtosis is a statistical measure that describes the \"tailedness\" of a distribution. It measures the thickness of the tails of a distribution relative to the rest of the data.\n",
        "$$\n",
        "Kurtosis = E[(X - μ)^4] / σ^4 - 3\n",
        "$$\n",
        "where $E$ is the expected value operator, $X$ is the random variable, $μ$ is the mean of the distribution, $σ$ is the standard deviation of the distribution. The subtraction of 3 in Fisher's definition adjusts the kurtosis so that the normal distribution has a kurtosis of zero. Positive kurtosis indicates a \"leptokurtic\" distribution with heavier tails and a sharper peak. Negative kurtosis indicates a \"platykurtic\" distribution with lighter tails and a flatter peak.\n",
        "\n",
        "From the example below we can find that if the distribution is left-skewed, the skewness is positive and the more left-skewed, the greater is skewness is. And the skewness of right-skewed distribution is negative. And, the shaper the peak of distribution is, the greater the kurtosis is.\n",
        "\n",
        "Note: the two statistic feature measures the distribution of an array, not the shape of the array itself."
      ]
    },
    {
      "cell_type": "code",
      "execution_count": null,
      "metadata": {
        "id": "26QUr0pBuGz1",
        "is_executing": true,
        "jupyter": {
          "outputs_hidden": false
        },
        "pycharm": {
          "name": "#%%\n"
        }
      },
      "outputs": [],
      "source": [
        "from scipy.stats import kurtosis, skew\n",
        "import numpy as np\n",
        "import matplotlib.pyplot as plt\n",
        "\n",
        "array1 = np.random.gamma(shape=2, scale=1, size=10000)  # Generate a left-skewed distribution\n",
        "array2 = 1-array1  # Generate a right-skewned distribution\n",
        "array3 = np.random.normal(loc=0, scale=0.5, size=10000) # Generate a distribution whose peak is flat\n",
        "array4 = np.random.normal(loc=0, scale=0.5, size=98000) # Generate a distribution whose peak is sharp\n",
        "array4 = np.append(array4,np.zeros(2000))\n",
        "\n",
        "fig, axis = plt.subplots(2,1,figsize=(8,6))\n",
        "fig.suptitle(\"Example of Skewness\")\n",
        "axis[0].hist(array1, bins=70)\n",
        "axis[0].set_title('The left-skewed distribution')\n",
        "axis[0].set_xlabel('Value')\n",
        "axis[0].set_ylabel('Frequency')\n",
        "axis[0].set_xlim(0,7)\n",
        "axis[1].hist(7-array1, bins=70)\n",
        "axis[1].set_title('The right-skewed distribution')\n",
        "axis[1].set_xlabel('Value')\n",
        "axis[1].set_ylabel('Frequency')\n",
        "axis[1].set_xlim(0,7)\n",
        "plt.tight_layout()\n",
        "plt.show()\n",
        "\n",
        "print(\"Skewness of left-skewed distribution is: \", skew(array1))\n",
        "print(\"Skewness of right-skewed distribution is: \", skew(array2))\n",
        "\n",
        "\n",
        "fig, axis = plt.subplots(2,1,figsize=(8,6))\n",
        "fig.suptitle(\"Example of Kurtosis\")\n",
        "axis[0].hist(array3, bins=50)\n",
        "axis[0].set_title('The distribution whose peak is flatter')\n",
        "axis[0].set_xlabel('Value')\n",
        "axis[0].set_ylabel('Frequency')\n",
        "axis[0].set_xlim(-2,2)\n",
        "axis[1].hist(array4, bins=50)\n",
        "axis[1].set_title('The distribution whose peak is sharper')\n",
        "axis[1].set_xlabel('Value')\n",
        "axis[1].set_ylabel('Frequency')\n",
        "axis[1].set_xlim(-2,2)\n",
        "plt.tight_layout()\n",
        "plt.show()\n",
        "\n",
        "print(\"Kurtosis of distribution with flatter peak: \", kurtosis(array3))\n",
        "print(\"Kurtosis of distribution with sharper peak: \", kurtosis(array4))"
      ]
    },
    {
      "cell_type": "markdown",
      "metadata": {
        "id": "B8aGpVZNuGz2",
        "jupyter": {
          "outputs_hidden": false
        },
        "pycharm": {
          "name": "#%% md\n"
        }
      },
      "source": [
        "# Frequency Domain"
      ]
    },
    {
      "cell_type": "markdown",
      "metadata": {
        "id": "O6ekyIiquGz2",
        "jupyter": {
          "outputs_hidden": false
        },
        "pycharm": {
          "name": "#%% md\n"
        }
      },
      "source": [
        "## Fast Fourier Transform (FFT)\n",
        "\n",
        "A fast algorithm to calculate the DFT\n",
        "\n",
        "$$\n",
        "X[k] = \\sum_{n=0}^{N-1}x[n]e^{-j2\\pi kn/N}\n",
        "$$\n",
        "$$\n",
        "x[n] = \\frac{1}{2\\pi}\\sum_{k=0}^{N-1}X[k]e^{j2\\pi kn/N}\n",
        "$$\n",
        "where $X$ denotes the result of FFT which is the spectrum, $x$ denotes the time-domain signal and $j$ is the imaginary unit.\n",
        "\n",
        "**my_fft** function gets the original signal and the sampling rate as input and outputs the frequency and corresponding mag which is a complex number. The length of the frequency is the half of the fs.\n",
        "\n",
        "**my_ifft** function gets the mag of the **my_fft** function as input and outputs the original signal.\n",
        "\n",
        "The basic function of the fft is orthogonal. Why orthogonal is important? Because it can help us determine the cofficient conveniently. We can only multiple the signal and the basic function to get the cofficient of the basic funtion."
      ]
    },
    {
      "cell_type": "code",
      "execution_count": null,
      "metadata": {
        "id": "I_EaUoTuuGz3",
        "is_executing": true,
        "jupyter": {
          "outputs_hidden": false
        },
        "pycharm": {
          "name": "#%%\n"
        }
      },
      "outputs": [],
      "source": [
        "import numpy as np\n",
        "from matplotlib import pyplot as plt\n",
        "from lib.dsp import my_fft, my_ifft, scg_simulate\n",
        "\n",
        "help(my_fft)\n",
        "help(my_ifft)\n",
        "\n",
        "signal = scg_simulate()[:1000]\n",
        "fs = 100\n",
        "\n",
        "freq, mag = my_fft(signal, fs)\n",
        "index = np.argsort(freq)\n",
        "freq = freq[index]\n",
        "mag = mag[index]\n",
        "\n",
        "signal_recovered = my_ifft(mag)\n",
        "\n",
        "fig, axis = plt.subplots(3,1,figsize=(8,9))\n",
        "axis[0].set_title(\"FFT result\")\n",
        "axis[0].set_xlabel(\"Frequency\")\n",
        "axis[0].set_ylabel(\"Magnitude\")\n",
        "axis[0].plot(freq, np.abs(mag))\n",
        "\n",
        "axis[1].set_title(\"Original signal\")\n",
        "axis[1].set_xlabel(\"Time\")\n",
        "axis[1].set_ylabel(\"Amplitude\")\n",
        "axis[1].plot(signal)\n",
        "\n",
        "axis[2].set_title(\"Signal recovered from Spectrum\")\n",
        "axis[2].plot(signal_recovered.real)\n",
        "axis[2].set_xlabel(\"Time\")\n",
        "axis[2].set_ylabel(\"Amplitude\")\n",
        "plt.tight_layout()\n",
        "plt.show()"
      ]
    },
    {
      "cell_type": "markdown",
      "metadata": {
        "id": "fuY0JU9JuGz3",
        "jupyter": {
          "outputs_hidden": false
        },
        "pycharm": {
          "name": "#%% md\n"
        }
      },
      "source": [
        "## Frequency Domain Feature"
      ]
    },
    {
      "cell_type": "markdown",
      "metadata": {
        "id": "f2zzNCd_uGz3",
        "jupyter": {
          "outputs_hidden": false
        },
        "pycharm": {
          "name": "#%% md\n"
        }
      },
      "source": [
        "### Power Spectral Density (PSD)\n",
        "It is a tool used for frequency spectrum analysis to describe how the power of a signal varies with frequency.\n",
        "\n",
        "The PSD represents the distribution of power across different frequencies in a signal, typically measured in power per Hertz (Hz). It can be computed by taking the squared magnitude of the Fourier transform of the signal. Specifically, for a time-domain signal x(t), the Power Spectral Density $S_{xx}(f)$ at frequency $f$ is calculated as:\n",
        "$$\n",
        "S_{xx}(f) = \\lim_{{T \\to \\infty}} \\frac{1}{T} \\left| \\int_{-T/2}^{T/2} x(t) e^{-j 2 \\pi f t} \\,dt \\right|^2\n",
        "$$\n",
        "where $x$ denotes the time-domain signal and $j$ denotes the imaginary unit."
      ]
    },
    {
      "cell_type": "code",
      "execution_count": null,
      "metadata": {
        "id": "xcHa3SyGuGz4",
        "is_executing": true,
        "jupyter": {
          "outputs_hidden": false
        },
        "pycharm": {
          "name": "#%%\n"
        }
      },
      "outputs": [],
      "source": [
        "import numpy as np\n",
        "from lib.dsp import psd, scg_simulate\n",
        "import matplotlib.pyplot as plt\n",
        "\n",
        "help(psd)\n",
        "\n",
        "fs = 100\n",
        "signal = scg_simulate()[:1000]\n",
        "f,p = psd(signal, fs)\n",
        "\n",
        "fig, axis = plt.subplots(2,1,figsize=(8,6))\n",
        "axis[0].set_title(\"Input signal\")\n",
        "axis[0].plot(signal)\n",
        "axis[0].set_xlabel(\"Time\")\n",
        "axis[0].set_ylabel(\"Amplitude\")\n",
        "\n",
        "\n",
        "axis[1].set_title(\"PSD of input signal\")\n",
        "axis[1].plot(f,p)\n",
        "axis[1].set_xlabel(\"Frequency\")\n",
        "axis[1].set_ylabel(\"Power\")\n",
        "plt.tight_layout()\n",
        "plt.show()"
      ]
    },
    {
      "cell_type": "markdown",
      "metadata": {
        "id": "6Ka3zy-JuGz4",
        "jupyter": {
          "outputs_hidden": false
        },
        "pycharm": {
          "name": "#%% md\n"
        }
      },
      "source": [
        "# Time-Frequency domain"
      ]
    },
    {
      "cell_type": "markdown",
      "metadata": {
        "id": "hAyXdgvGuGz5",
        "jupyter": {
          "outputs_hidden": false
        },
        "pycharm": {
          "name": "#%% md\n"
        }
      },
      "source": [
        "## Short Time Fourier Transform (STFT)\n",
        "\n",
        "To get the time information of the signal, we segment the signal and view the signal in the segment as stationary signal. However, when the signal does not complete an integer number of cycles, an issue known as Frequency Leakage may occur which can pose challenges in reconstructing the original signal based on the spectrum. To minimize the impact of Frequency Leakage, the original signal can be multiplied by a window function. After framing, we get many framed segment. Then we do the DFT to get frequency information of each frame. The scale of y axis is frequency. Then we concatenate the spectrum horizontally to get the spectrogram. The spectrogram has both the frequency and time frequency of a signal.\n",
        "\n",
        "The longer the frame, the frequency information is more accurate, the time information is less accurate. The above is what we call heisenberg uncertainty principle.\n",
        "\n",
        "The output of the stft is y-axis (frequency), x-axis (time) and the value of each point (magnitude). The max number of y-axis (frequency) is the half of the fs which is based on the Nyquist sampling princple, but the number of frequency in y-axis is the half of the nperseg. The number of the x-axis depends on the nperseg and the noverlap and the max number of the x-axis is (length of signal / fs). The output Z is complex-valued."
      ]
    },
    {
      "cell_type": "code",
      "execution_count": null,
      "metadata": {
        "id": "AmplvfSwuGz5",
        "is_executing": true,
        "jupyter": {
          "outputs_hidden": false
        },
        "pycharm": {
          "name": "#%%\n"
        }
      },
      "outputs": [],
      "source": [
        "import numpy as np\n",
        "from lib.dsp import my_stft, scg_simulate\n",
        "import matplotlib.pyplot as plt\n",
        "\n",
        "help(my_stft)\n",
        "\n",
        "signal = scg_simulate()[:1000]\n",
        "\n",
        "fs = 100 # sampling frequency\n",
        "window = 'hann' # window type\n",
        "nperseg = 64 # length of frame\n",
        "\n",
        "# STFT\n",
        "f, t, Z = my_stft(signal, fs=fs, window=window, nperseg=nperseg)\n",
        "\n",
        "plt.figure(figsize=(8,6))\n",
        "plt.subplot(2,1,1)\n",
        "plt.title(\"Input siganl\")\n",
        "plt.plot(signal)\n",
        "plt.xlabel(\"Time\")\n",
        "plt.ylabel(\"Amplitude\")\n",
        "\n",
        "plt.subplot(2,1,2)\n",
        "plt.title(\"STFT of input signal\")\n",
        "plt.pcolormesh(t, f, np.abs(Z))\n",
        "plt.xlabel(\"Time/s\")\n",
        "plt.ylabel(\"Frequency\")\n",
        "plt.colorbar(label='Magnitude')\n",
        "\n",
        "plt.tight_layout()\n",
        "plt.show()"
      ]
    },
    {
      "cell_type": "markdown",
      "metadata": {
        "id": "B4K8oK57uGz6",
        "jupyter": {
          "outputs_hidden": false
        },
        "pycharm": {
          "name": "#%% md\n"
        }
      },
      "source": [
        "## Wavelet Analysis\n",
        "\n",
        "STFT has a serious problem, that is we can't get a good time and frequency resolution. The bigger the nperseg, the better the frequency resolution, but the worse time resolution, vice versa. The above problem is caused by the fact that the nperseg is fixed. So we introduce the wavelet analysis which is a MRA method. MRA (multiresolution analysis) is designed to give good time resolution and poor frequency resolution at high frequencies and good frequency resolution and poor time resolution at low frequencies.Generally, the basic function of wavelet transform is orthogonal and normalized (normalized makes the transformed signal have the same energy at every scale)."
      ]
    },
    {
      "cell_type": "markdown",
      "metadata": {
        "id": "Ld81F3MnuGz7",
        "jupyter": {
          "outputs_hidden": false
        },
        "pycharm": {
          "name": "#%% md\n"
        }
      },
      "source": [
        "### Mexican Hat Wavelet\n",
        "\n",
        "It is the second derivative of the Gaussian function.\n",
        "\n",
        "Gaussian function:\n",
        "$$\n",
        "w(t) = \\frac{1}{\\sqrt{2\\pi} \\cdot \\sigma} e^{\\frac{-t^2}{2 \\sigma^2}}\n",
        "$$\n",
        "where $\\sigma$ is the standard deviation and $t$ is time.\n",
        "\n",
        "Second derivative of the Gaussian function:\n",
        "$$\n",
        "\\psi(t) = \\frac{1}{\\sqrt{2 \\pi} \\cdot \\sigma^3} \\left( e^{\\frac{-t^2}{2 \\sigma^2}} \\cdot \\left( \\frac{t^2}{\\sigma^2} - 1 \\right) \\right)\n",
        "$$"
      ]
    },
    {
      "cell_type": "code",
      "execution_count": null,
      "metadata": {
        "id": "--zBSYDLuGz7",
        "is_executing": true,
        "jupyter": {
          "outputs_hidden": false
        },
        "pycharm": {
          "name": "#%%\n"
        }
      },
      "outputs": [],
      "source": [
        "import matplotlib.pyplot as plt\n",
        "from lib.dsp import mexican_hat_wavelet\n",
        "\n",
        "help(mexican_hat_wavelet)\n",
        "\n",
        "sigma = 1\n",
        "length = 50\n",
        "psi = mexican_hat_wavelet(sigma, length)\n",
        "plt.plot(psi)\n",
        "plt.xlabel(\"Time\")\n",
        "plt.ylabel(\"Amplitude\")\n",
        "plt.show()"
      ]
    },
    {
      "cell_type": "markdown",
      "metadata": {
        "id": "wVlZ6bL2uGz8",
        "jupyter": {
          "outputs_hidden": false
        },
        "pycharm": {
          "name": "#%% md\n"
        }
      },
      "source": [
        "### Morlet Wavelet\n",
        "\n",
        "It is defined as follows:\n",
        "$$\n",
        "w(t) = e^{i a t} \\cdot e^{-\\frac{t^2}{2\\sigma}}\n",
        "$$\n",
        "where $t$ is the time variable, $a$ controls the frequency of the sinusoidal oscillation, and $\\sigma$ controls the width of the Gaussian envelope."
      ]
    },
    {
      "cell_type": "code",
      "execution_count": null,
      "metadata": {
        "id": "bB2geIz6uGz9",
        "is_executing": true,
        "jupyter": {
          "outputs_hidden": false
        },
        "pycharm": {
          "name": "#%%\n"
        }
      },
      "outputs": [],
      "source": [
        "import matplotlib.pyplot as plt\n",
        "from lib.dsp import morlet_wavelet\n",
        "\n",
        "help(morlet_wavelet)\n",
        "\n",
        "length = 100\n",
        "sigma = 2\n",
        "a = 5\n",
        "omega = morlet_wavelet(length, sigma, a)\n",
        "plt.plot(omega.real)\n",
        "plt.xlabel(\"Time\")\n",
        "plt.ylabel(\"Amplitude\")\n",
        "plt.show()"
      ]
    },
    {
      "cell_type": "markdown",
      "metadata": {
        "id": "AkHc8w4IuGz9",
        "jupyter": {
          "outputs_hidden": false
        },
        "pycharm": {
          "name": "#%% md\n"
        }
      },
      "source": [
        "### Continuous Wavelet Transform (CWT)\n",
        "\n",
        "In CWT, the signal can be transformed by:\n",
        "\n",
        "$$\n",
        "CWT_x^\\psi(\\tau,s) = \\Psi_x^\\psi(\\tau,s) = \\frac{1}{\\sqrt{|s|}} \\int x(t) \\psi^* \\left( \\frac{t - \\tau}{s} \\right) dt\n",
        "$$\n",
        "\n",
        "where the $\\psi$ denotes the mother wavelet, $\\tau$ denotes the translation of the wavelet, and $s$ denotes the sacle of the wavelet. $\\tau$ and $s$ are all incremented continuously. However, if this transform needs to be computed by a computer, then both parameters are increased by a sufficiently small step size. This corresponds to sampling the time-scale plane."
      ]
    },
    {
      "cell_type": "markdown",
      "metadata": {
        "id": "kdajLBkMuGz-",
        "jupyter": {
          "outputs_hidden": false
        },
        "pycharm": {
          "name": "#%% md\n"
        }
      },
      "source": [
        "### Inverse CWT\n",
        "\n",
        "$$\n",
        "x(t)=\\frac{1}{c_{\\psi}^{2}} \\int_{s} \\int_{\\tau} \\Psi_{x}^{\\psi}(\\tau, s) \\frac{1}{s^{2}} \\psi\\left(\\frac{t-\\tau}{s}\\right) d \\tau d s\n",
        "$$\n",
        "\n",
        "where $c_{\\psi}$ is a constant that depends on the wavelet used and the other symbols are described in above cell. $c_{\\psi}$ can be calculated as follows:\n",
        "$$\n",
        "c_{\\psi}=\\left\\{2 \\pi \\int_{-\\infty}^{\\infty} \\frac{|\\hat{\\psi}(\\xi)|^{2}}{|\\xi|} d \\xi\\right\\}^{1 / 2}\n",
        "$$\n",
        "\n",
        "where $\\hat{\\psi(\\xi)}$ is the FT of $\\psi(t)$"
      ]
    },
    {
      "cell_type": "code",
      "execution_count": null,
      "metadata": {
        "id": "KXmmiXEyuGz-",
        "is_executing": true,
        "jupyter": {
          "outputs_hidden": false
        },
        "pycharm": {
          "name": "#%%\n"
        }
      },
      "outputs": [],
      "source": [
        "from lib.dsp import my_cwt, scg_simulate\n",
        "import numpy as np\n",
        "import matplotlib.pyplot as plt\n",
        "\n",
        "help(my_cwt)\n",
        "\n",
        "fs = 100\n",
        "signal = scg_simulate()[:1000]\n",
        "\n",
        "scales = np.array([2,4,8,16])\n",
        "wavelet = 'morl'\n",
        "coefficients, frequencies = my_cwt(signal, scales, wavelet, fs)\n",
        "\n",
        "plt.figure(figsize=(8,6))\n",
        "plt.subplot(2,1,1)\n",
        "plt.title(\"Input signal\")\n",
        "plt.plot(signal)\n",
        "plt.xlabel(\"Time\")\n",
        "plt.ylabel(\"Amplitude\")\n",
        "\n",
        "plt.subplot(2,1,2)\n",
        "plt.imshow(np.abs(coefficients), aspect='auto', extent=[0, len(signal) / fs, frequencies[-1], frequencies[0]])\n",
        "plt.colorbar(label='Magnitude')\n",
        "plt.title('Continuous Wavelet Transform')\n",
        "plt.xlabel('Time/s')\n",
        "plt.ylabel('Frequency')\n",
        "plt.tight_layout()\n",
        "plt.show()"
      ]
    },
    {
      "cell_type": "markdown",
      "metadata": {
        "id": "9s1H1ih2uGz_",
        "jupyter": {
          "outputs_hidden": false
        },
        "pycharm": {
          "name": "#%% md\n"
        }
      },
      "source": [
        "## Polynomial Chirplet Transform (PCT)\n",
        "PCT is a signal processing technique and a variant of the Chirplet Transform. The Chirplet Transform is a method used to analyze non-stationary modulations in signals, and PCT further introduces polynomial functions to enhance its analytical capabilities.\n",
        "\n",
        "In the Chirplet Transform, \"Chirp\" refers to a signal with a frequency that varies over time, and a \"Chirplet\" is a wavelet associated with a Chirp. PCT introduces polynomial modulation functions, allowing the frequency, phase, and amplitude of Chirplets to vary according to the shape of the polynomial.\n",
        "\n",
        "The core idea of PCT is to use polynomials to describe the nonlinear modulation characteristics of a signal, thereby better capturing the complex structures and non-stationary nature of the signal. This method is effective for analyzing signals where frequency, phase, and amplitude change over time."
      ]
    },
    {
      "cell_type": "markdown",
      "source": [
        "![chirplet.jpg](data:image/jpeg;base64,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)\n",
        "\n",
        "**Sample Chirplet**\n",
        "</br>\n",
        "Image from: https://upload.wikimedia.org/wikipedia/commons/1/1e/Chirplet.jpg\n",
        "\n",
        "\n"
      ],
      "metadata": {
        "id": "6JjEZpJaU-cy"
      }
    },
    {
      "cell_type": "markdown",
      "metadata": {
        "id": "hOBrM6zyS1SK",
        "pycharm": {
          "name": "#%% md\n"
        }
      },
      "source": [
        "### Chirplet Transform\n",
        "\n",
        "The Chirplet Transform of a signal $x(t)$ is often represented as:\n",
        "$$\n",
        "C(a, b, \\omega, \\tau) = \\int_{-\\infty}^{\\infty} x(t) \\psi_{a, b, \\omega, \\tau}^*(t) \\, dt\n",
        "$$\n",
        "where * denotes the complex conjugate and $\\psi_{a, b, \\omega, \\tau}(t)$ is the Chirplet defined as:\n",
        "$$\n",
        "\\psi_{a, b, \\omega, \\tau}(t) = e^{j(\\omega t + \\frac{a}{2}t^2 + b t + \\tau)}\n",
        "$$"
      ]
    },
    {
      "cell_type": "markdown",
      "metadata": {
        "id": "mCF-8-U4S1gW",
        "pycharm": {
          "name": "#%% md\n"
        }
      },
      "source": [
        "### Polynomial Chirplet Transform\n",
        "\n",
        "The Polynomial Chirplet Transform extends the Chirplet Transform by introducing a polynomial modulation. The general form is:\n",
        "$$\n",
        "C(a, b, \\omega, \\tau, P(t)) = \\int_{-\\infty}^{\\infty} x(t) \\psi_{a, b, \\omega, \\tau, P(t)}^*(t) \\, dt\n",
        "$$\n",
        "Here, $P(t)$ is a polynomial function that modulates the Chirplet parameters.\n",
        "$$\n",
        "\\psi_{a, b, \\omega, \\tau, P(t)}(t) = e^{j(\\omega t + \\frac{a}{2}t^2 + b t + \\tau + P(t))}\n",
        "$$"
      ]
    },
    {
      "cell_type": "code",
      "execution_count": null,
      "metadata": {
        "id": "9GlPbCdruGz_",
        "is_executing": true,
        "jupyter": {
          "outputs_hidden": false
        },
        "pycharm": {
          "name": "#%%\n"
        }
      },
      "outputs": [],
      "source": [
        "import numpy as np\n",
        "from lib.dsp import chirplet_transform, scg_simulate\n",
        "import matplotlib.pyplot as plt\n",
        "\n",
        "help(chirplet_transform)\n",
        "\n",
        "signal = scg_simulate()[:1000]\n",
        "ct_matrix = chirplet_transform(signal)\n",
        "\n",
        "plt.figure(figsize=(8,6))\n",
        "plt.subplot(2,1,1)\n",
        "plt.title(\"Input signal\")\n",
        "plt.plot(signal)\n",
        "plt.xlabel(\"Time\")\n",
        "plt.ylabel(\"Amplitude\")\n",
        "\n",
        "plt.subplot(2,1,2)\n",
        "plt.title(\"chirplet transform\")\n",
        "plt.xlabel(\"Time/s\")\n",
        "plt.ylabel(\"Frequency\")\n",
        "plt.imshow(ct_matrix, aspect=\"auto\")\n",
        "plt.colorbar(label=\"Magnitude\")\n",
        "plt.tight_layout()\n",
        "plt.show()"
      ]
    },
    {
      "cell_type": "markdown",
      "metadata": {
        "id": "oiKJrSR2uGz_",
        "jupyter": {
          "outputs_hidden": false
        },
        "pycharm": {
          "name": "#%% md\n"
        }
      },
      "source": [
        "## Wigner Ville Distribution (WVD)\n",
        "\n",
        "\n",
        "WVD is a time-frequency representation method widely used in signal processing and analysis. The primary goal of the Wigner-Ville Distribution is to provide a representation of the instantaneous frequency distribution of a signal. Unlike traditional methods such as Fourier transform and short-time Fourier transform, the Wigner-Ville Distribution offers more detailed information in both time and frequency domains, simultaneously depicting the variations of a signal over time and frequency.\n",
        "\n",
        "The definition of WVD is as follows:\n",
        "$$\n",
        "W_x(t, f) = \\int_{-\\infty}^{\\infty} x\\left(t + \\frac{\\tau}{2}\\right) \\cdot \\overline{x\\left(t - \\frac{\\tau}{2}\\right)} \\cdot e^{-2\\pi i f \\tau} \\,d\\tau\n",
        "$$\n",
        "Here, $W_x(t, f)$ represents the WVD, $x(t)$ is the input signal, $\\overline{x(t)}$ denotes the complex conjugate of $x(t)$, $t$ is time, and $f$ is frequency. The WVD describes the transient characteristics of a signal by computing the autocorrelation of the signal at different time windows.\n",
        "\n",
        "The advantages of WVD include its adaptability to non-stationary signals and its ability to capture the transient features of a signal. However, WVD also has some drawbacks, such as the presence of cross terms that may introduce additional complexity to the analysis."
      ]
    },
    {
      "cell_type": "code",
      "execution_count": null,
      "metadata": {
        "id": "Kr2Yw5zWuGz_",
        "is_executing": true,
        "jupyter": {
          "outputs_hidden": false
        },
        "pycharm": {
          "name": "#%%\n"
        }
      },
      "outputs": [],
      "source": [
        "import numpy as np\n",
        "import matplotlib.pyplot as plt\n",
        "from lib.dsp import my_wvd, scg_simulate\n",
        "\n",
        "help(my_wvd)\n",
        "\n",
        "signal = scg_simulate()[:1000]\n",
        "plt.title(\"Input signal\")\n",
        "plt.plot(signal)\n",
        "plt.xlabel(\"Time\")\n",
        "plt.ylabel(\"Amplitude\")\n",
        "plt.show()\n",
        "\n",
        "matrix, t, f = my_wvd(signal, show=True)"
      ]
    },
    {
      "cell_type": "markdown",
      "metadata": {
        "id": "kIHDNzAtuG0A",
        "jupyter": {
          "outputs_hidden": false
        },
        "pycharm": {
          "name": "#%% md\n"
        }
      },
      "source": [
        "## SynchroSqueezing Transform (SST)\n",
        "\n",
        "SST is a signal processing technique designed to analyze the time-frequency structure in non-stationary and non-linear signals. SST aims to enhance the resolution of signals in the time-frequency domain, particularly when dealing with non-linear and non-stationary conditions.\n",
        "\n",
        "\n",
        "1. **Time-Frequency Localization:** SST seeks to capture the instantaneous frequency information of a signal by localizing it on the time-frequency plane. This allows for a more accurate analysis of the time and frequency characteristics of non-stationary signals.\n",
        "\n",
        "2. **Reassignment Representation:** SST employs a technique known as reassignment representation, redistributing the signal on the time-frequency plane. This helps improve the resolution of local structures in the signal, making it easier to identify and analyze features in the time-frequency domain.\n",
        "\n",
        "3. **Sync Reassignment:** The core idea of SST involves remapping the spectral information of the Fourier transform onto the time-frequency plane, obtaining a more refined and accurate time-frequency analysis of the signal. This sync reassessment allows for better detection of instantaneous frequency changes in the signal.\n"
      ]
    },
    {
      "cell_type": "code",
      "execution_count": null,
      "metadata": {
        "id": "IQdajYAquG0A",
        "is_executing": true,
        "jupyter": {
          "outputs_hidden": false
        },
        "pycharm": {
          "name": "#%%\n"
        }
      },
      "outputs": [],
      "source": [
        "from lib.dsp import sst_stft, scg_simulate\n",
        "import numpy as np\n",
        "import matplotlib.pyplot as plt\n",
        "\n",
        "help(sst_stft)\n",
        "\n",
        "fs = 100\n",
        "signal = scg_simulate()[:1000]\n",
        "Tx, Sx, ssq_freqs, Sfs= sst_stft(signal, window=\"ham\", nperseg = 128, fs = fs)\n",
        "\n",
        "plt.figure(figsize=(8,9))\n",
        "plt.subplot(3,1,1)\n",
        "plt.title(\"Input signal\")\n",
        "plt.plot(signal)\n",
        "plt.xlabel(\"Time\")\n",
        "plt.ylabel(\"Amplitude\")\n",
        "\n",
        "\n",
        "plt.subplot(3,1,2)\n",
        "plt.title(\"STFT of Input signal\")\n",
        "plt.imshow(np.abs(Sx), aspect=\"auto\")\n",
        "plt.xlabel(\"Time\")\n",
        "plt.ylabel(\"Frequency\")\n",
        "plt.colorbar(label=\"Magnitude\")\n",
        "plt.subplot(3,1,3)\n",
        "plt.title(\"Synchrosqueezed STFT of Input signal\")\n",
        "plt.xlabel(\"Time\")\n",
        "plt.ylabel(\"Frequency\")\n",
        "plt.imshow(np.abs(Tx), aspect=\"auto\")\n",
        "plt.colorbar(label=\"Magnitude\")\n",
        "plt.tight_layout()\n",
        "plt.show()"
      ]
    },
    {
      "cell_type": "code",
      "execution_count": null,
      "metadata": {
        "id": "CbRAlwLduG0A",
        "is_executing": true,
        "jupyter": {
          "outputs_hidden": false
        },
        "pycharm": {
          "name": "#%%\n"
        },
        "scrolled": true,
        "collapsed": true
      },
      "outputs": [],
      "source": [
        "from lib.dsp import sst_cwt, scg_simulate\n",
        "import numpy as np\n",
        "import matplotlib.pyplot as plt\n",
        "\n",
        "help(sst_cwt)\n",
        "\n",
        "fs = 100\n",
        "signal = scg_simulate()[:1000]\n",
        "Tx, Wx, ssq_freqs, scale= sst_cwt(signal, wavelet=\"morlet\", scales=\"log\", nv=20, fs = fs,gamma = 3e-7)\n",
        "\n",
        "plt.figure(figsize=(8,9))\n",
        "plt.subplot(3,1,1)\n",
        "plt.title(\"Input signal\")\n",
        "plt.plot(signal)\n",
        "plt.xlabel(\"Time\")\n",
        "plt.ylabel(\"Amplitude\")\n",
        "\n",
        "plt.subplot(3,1,2)\n",
        "plt.imshow(np.abs(Wx), aspect='auto', extent=[0, len(signal) / fs, ssq_freqs[-1], ssq_freqs[0]])\n",
        "plt.colorbar(label='Magnitude')\n",
        "plt.title('Continuous Wavelet Transform')\n",
        "plt.xlabel('Time/s')\n",
        "plt.ylabel('Frequency')\n",
        "\n",
        "plt.subplot(3,1,3)\n",
        "plt.imshow(np.abs(Tx), aspect='auto', extent=[0, len(signal) / fs, ssq_freqs[-1], ssq_freqs[0]])\n",
        "plt.colorbar(label='Magnitude')\n",
        "plt.title('Synchrosqueezed Continuous Wavelet Transform')\n",
        "plt.xlabel('Time/s')\n",
        "plt.ylabel('Frequency')\n",
        "plt.tight_layout()\n",
        "plt.show()"
      ]
    }
  ],
  "metadata": {
    "colab": {
      "provenance": [],
      "toc_visible": true,
      "machine_shape": "hm",
      "gpuType": "A100",
      "include_colab_link": true
    },
    "kernelspec": {
      "name": "python3",
      "display_name": "Python 3"
    },
    "language_info": {
      "codemirror_mode": {
        "name": "ipython",
        "version": 3
      },
      "file_extension": ".py",
      "mimetype": "text/x-python",
      "name": "python",
      "nbconvert_exporter": "python",
      "pygments_lexer": "ipython3",
      "version": "3.8.18"
    }
  },
  "nbformat": 4,
  "nbformat_minor": 0
}